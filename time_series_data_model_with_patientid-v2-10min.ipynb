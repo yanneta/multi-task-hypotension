{
 "cells": [
  {
   "cell_type": "code",
   "execution_count": 1,
   "metadata": {},
   "outputs": [],
   "source": [
    "%reload_ext autoreload\n",
    "%autoreload 2\n",
    "%matplotlib inline\n",
    "import matplotlib\n",
    "import matplotlib.pyplot as plt\n",
    "\n",
    "import numpy as np\n",
    "import pandas as pd\n",
    "\n",
    "from pathlib import Path\n",
    "from sklearn import metrics\n",
    "import random\n",
    "\n",
    "import torch\n",
    "from torch.utils.data import Dataset, DataLoader\n",
    "import torch.optim as optim\n",
    "import torch.nn as nn\n",
    "import torch.nn.functional as F\n",
    "from torchvision import models\n",
    "import torchvision\n",
    "\n",
    "from datetime import datetime\n",
    "from collections import OrderedDict"
   ]
  },
  {
   "cell_type": "code",
   "execution_count": 2,
   "metadata": {},
   "outputs": [],
   "source": [
    "import pickle"
   ]
  },
  {
   "cell_type": "code",
   "execution_count": 3,
   "metadata": {},
   "outputs": [],
   "source": [
    "PATH = Path(\"/data2/yinterian/multi-task-romain\")"
   ]
  },
  {
   "cell_type": "code",
   "execution_count": 4,
   "metadata": {},
   "outputs": [
    {
     "data": {
      "text/plain": [
       "'10min'"
      ]
     },
     "execution_count": 4,
     "metadata": {},
     "output_type": "execute_result"
    }
   ],
   "source": [
    "gap = \"10min\"\n",
    "gap"
   ]
  },
  {
   "cell_type": "code",
   "execution_count": 5,
   "metadata": {},
   "outputs": [],
   "source": [
    "filename = \"data_train_{gap}.pickle\".format(gap=gap)\n",
    "with open(PATH/filename, 'rb') as f:\n",
    "    train = pickle.load(f)"
   ]
  },
  {
   "cell_type": "code",
   "execution_count": 6,
   "metadata": {},
   "outputs": [],
   "source": [
    "filename = \"data_valid_{gap}.pickle\".format(gap=gap)\n",
    "with open(PATH/filename, 'rb') as f:\n",
    "    valid = pickle.load(f)"
   ]
  },
  {
   "cell_type": "code",
   "execution_count": 7,
   "metadata": {},
   "outputs": [
    {
     "data": {
      "text/html": [
       "<div>\n",
       "<style scoped>\n",
       "    .dataframe tbody tr th:only-of-type {\n",
       "        vertical-align: middle;\n",
       "    }\n",
       "\n",
       "    .dataframe tbody tr th {\n",
       "        vertical-align: top;\n",
       "    }\n",
       "\n",
       "    .dataframe thead th {\n",
       "        text-align: right;\n",
       "    }\n",
       "</style>\n",
       "<table border=\"1\" class=\"dataframe\">\n",
       "  <thead>\n",
       "    <tr style=\"text-align: right;\">\n",
       "      <th></th>\n",
       "      <th>subject_id</th>\n",
       "      <th>key</th>\n",
       "      <th>gender</th>\n",
       "      <th>age</th>\n",
       "      <th>sapsii</th>\n",
       "      <th>sofa</th>\n",
       "      <th>care_unit</th>\n",
       "      <th>amine</th>\n",
       "      <th>sedation</th>\n",
       "      <th>ventilation</th>\n",
       "      <th>prediction_mean_HR</th>\n",
       "      <th>prediction_mean_MAP</th>\n",
       "      <th>series</th>\n",
       "      <th>group</th>\n",
       "    </tr>\n",
       "  </thead>\n",
       "  <tbody>\n",
       "    <tr>\n",
       "      <th>0</th>\n",
       "      <td>10013</td>\n",
       "      <td>10013_16</td>\n",
       "      <td>1</td>\n",
       "      <td>87</td>\n",
       "      <td>49</td>\n",
       "      <td>7</td>\n",
       "      <td>3</td>\n",
       "      <td>1</td>\n",
       "      <td>0</td>\n",
       "      <td>1</td>\n",
       "      <td>95.44</td>\n",
       "      <td>55.88</td>\n",
       "      <td>[[99.9, 94.2, 107.3, 36.2, 56.7], [107.2, 94.8...</td>\n",
       "      <td>0</td>\n",
       "    </tr>\n",
       "    <tr>\n",
       "      <th>1</th>\n",
       "      <td>10013</td>\n",
       "      <td>10013_17</td>\n",
       "      <td>1</td>\n",
       "      <td>87</td>\n",
       "      <td>49</td>\n",
       "      <td>7</td>\n",
       "      <td>3</td>\n",
       "      <td>1</td>\n",
       "      <td>0</td>\n",
       "      <td>1</td>\n",
       "      <td>83.92</td>\n",
       "      <td>70.28</td>\n",
       "      <td>[[96.0, 92.0, 106.2, 35.2, 55.9], [101.9, 92.7...</td>\n",
       "      <td>0</td>\n",
       "    </tr>\n",
       "    <tr>\n",
       "      <th>2</th>\n",
       "      <td>10013</td>\n",
       "      <td>10013_18</td>\n",
       "      <td>1</td>\n",
       "      <td>87</td>\n",
       "      <td>49</td>\n",
       "      <td>7</td>\n",
       "      <td>3</td>\n",
       "      <td>1</td>\n",
       "      <td>0</td>\n",
       "      <td>1</td>\n",
       "      <td>100.14</td>\n",
       "      <td>65.08</td>\n",
       "      <td>[[0.0, 94.7, 128.5, 43.5, 69.9], [0.0, 94.7, 1...</td>\n",
       "      <td>0</td>\n",
       "    </tr>\n",
       "    <tr>\n",
       "      <th>3</th>\n",
       "      <td>10013</td>\n",
       "      <td>10013_21</td>\n",
       "      <td>1</td>\n",
       "      <td>87</td>\n",
       "      <td>49</td>\n",
       "      <td>7</td>\n",
       "      <td>3</td>\n",
       "      <td>1</td>\n",
       "      <td>0</td>\n",
       "      <td>1</td>\n",
       "      <td>102.86</td>\n",
       "      <td>70.6</td>\n",
       "      <td>[[99.3, 92.0, 126.3, 50.5, 75.6], [100.6, 91.7...</td>\n",
       "      <td>0</td>\n",
       "    </tr>\n",
       "    <tr>\n",
       "      <th>4</th>\n",
       "      <td>10013</td>\n",
       "      <td>10013_22</td>\n",
       "      <td>1</td>\n",
       "      <td>87</td>\n",
       "      <td>49</td>\n",
       "      <td>7</td>\n",
       "      <td>3</td>\n",
       "      <td>1</td>\n",
       "      <td>0</td>\n",
       "      <td>1</td>\n",
       "      <td>109.3</td>\n",
       "      <td>61.86</td>\n",
       "      <td>[[100.7, 93.9, 113.0, 41.6, 66.6], [100.1, 94....</td>\n",
       "      <td>0</td>\n",
       "    </tr>\n",
       "  </tbody>\n",
       "</table>\n",
       "</div>"
      ],
      "text/plain": [
       "  subject_id       key gender age sapsii sofa care_unit amine sedation  \\\n",
       "0      10013  10013_16      1  87     49    7         3     1        0   \n",
       "1      10013  10013_17      1  87     49    7         3     1        0   \n",
       "2      10013  10013_18      1  87     49    7         3     1        0   \n",
       "3      10013  10013_21      1  87     49    7         3     1        0   \n",
       "4      10013  10013_22      1  87     49    7         3     1        0   \n",
       "\n",
       "  ventilation prediction_mean_HR prediction_mean_MAP  \\\n",
       "0           1              95.44               55.88   \n",
       "1           1              83.92               70.28   \n",
       "2           1             100.14               65.08   \n",
       "3           1             102.86                70.6   \n",
       "4           1              109.3               61.86   \n",
       "\n",
       "                                              series  group  \n",
       "0  [[99.9, 94.2, 107.3, 36.2, 56.7], [107.2, 94.8...      0  \n",
       "1  [[96.0, 92.0, 106.2, 35.2, 55.9], [101.9, 92.7...      0  \n",
       "2  [[0.0, 94.7, 128.5, 43.5, 69.9], [0.0, 94.7, 1...      0  \n",
       "3  [[99.3, 92.0, 126.3, 50.5, 75.6], [100.6, 91.7...      0  \n",
       "4  [[100.7, 93.9, 113.0, 41.6, 66.6], [100.1, 94....      0  "
      ]
     },
     "execution_count": 7,
     "metadata": {},
     "output_type": "execute_result"
    }
   ],
   "source": [
    "train.head()"
   ]
  },
  {
   "cell_type": "code",
   "execution_count": 8,
   "metadata": {},
   "outputs": [
    {
     "data": {
      "text/html": [
       "<div>\n",
       "<style scoped>\n",
       "    .dataframe tbody tr th:only-of-type {\n",
       "        vertical-align: middle;\n",
       "    }\n",
       "\n",
       "    .dataframe tbody tr th {\n",
       "        vertical-align: top;\n",
       "    }\n",
       "\n",
       "    .dataframe thead th {\n",
       "        text-align: right;\n",
       "    }\n",
       "</style>\n",
       "<table border=\"1\" class=\"dataframe\">\n",
       "  <thead>\n",
       "    <tr style=\"text-align: right;\">\n",
       "      <th></th>\n",
       "      <th>subject_id</th>\n",
       "      <th>key</th>\n",
       "      <th>gender</th>\n",
       "      <th>age</th>\n",
       "      <th>sapsii</th>\n",
       "      <th>sofa</th>\n",
       "      <th>care_unit</th>\n",
       "      <th>amine</th>\n",
       "      <th>sedation</th>\n",
       "      <th>ventilation</th>\n",
       "      <th>prediction_mean_HR</th>\n",
       "      <th>prediction_mean_MAP</th>\n",
       "      <th>series</th>\n",
       "      <th>group</th>\n",
       "    </tr>\n",
       "  </thead>\n",
       "  <tbody>\n",
       "    <tr>\n",
       "      <th>1154</th>\n",
       "      <td>11018</td>\n",
       "      <td>11018_26</td>\n",
       "      <td>0</td>\n",
       "      <td>67</td>\n",
       "      <td>47</td>\n",
       "      <td>1</td>\n",
       "      <td>1</td>\n",
       "      <td>0</td>\n",
       "      <td>0</td>\n",
       "      <td>0</td>\n",
       "      <td>74.3533</td>\n",
       "      <td>71.8733</td>\n",
       "      <td>[[79.0, 97.0, 99.0, 60.0, 71.0], [79.0, 97.0, ...</td>\n",
       "      <td>1</td>\n",
       "    </tr>\n",
       "    <tr>\n",
       "      <th>1155</th>\n",
       "      <td>11018</td>\n",
       "      <td>11018_28</td>\n",
       "      <td>0</td>\n",
       "      <td>67</td>\n",
       "      <td>47</td>\n",
       "      <td>1</td>\n",
       "      <td>1</td>\n",
       "      <td>0</td>\n",
       "      <td>0</td>\n",
       "      <td>0</td>\n",
       "      <td>81.33</td>\n",
       "      <td>78.9333</td>\n",
       "      <td>[[77.0, 97.0, 103.0, 62.0, 75.0], [76.0, 96.0,...</td>\n",
       "      <td>1</td>\n",
       "    </tr>\n",
       "    <tr>\n",
       "      <th>1156</th>\n",
       "      <td>11018</td>\n",
       "      <td>11018_29</td>\n",
       "      <td>0</td>\n",
       "      <td>67</td>\n",
       "      <td>47</td>\n",
       "      <td>1</td>\n",
       "      <td>1</td>\n",
       "      <td>0</td>\n",
       "      <td>0</td>\n",
       "      <td>0</td>\n",
       "      <td>81.2033</td>\n",
       "      <td>79.9233</td>\n",
       "      <td>[[83.0, 95.0, 111.0, 65.0, 80.0], [84.0, 95.0,...</td>\n",
       "      <td>1</td>\n",
       "    </tr>\n",
       "    <tr>\n",
       "      <th>1157</th>\n",
       "      <td>11018</td>\n",
       "      <td>11018_30</td>\n",
       "      <td>0</td>\n",
       "      <td>67</td>\n",
       "      <td>47</td>\n",
       "      <td>1</td>\n",
       "      <td>1</td>\n",
       "      <td>0</td>\n",
       "      <td>0</td>\n",
       "      <td>0</td>\n",
       "      <td>81.3867</td>\n",
       "      <td>83.5367</td>\n",
       "      <td>[[81.0, 95.0, 114.0, 65.0, 81.0], [81.0, 94.0,...</td>\n",
       "      <td>1</td>\n",
       "    </tr>\n",
       "    <tr>\n",
       "      <th>1158</th>\n",
       "      <td>11018</td>\n",
       "      <td>11018_31</td>\n",
       "      <td>0</td>\n",
       "      <td>67</td>\n",
       "      <td>47</td>\n",
       "      <td>1</td>\n",
       "      <td>1</td>\n",
       "      <td>0</td>\n",
       "      <td>0</td>\n",
       "      <td>0</td>\n",
       "      <td>78.67</td>\n",
       "      <td>84.5967</td>\n",
       "      <td>[[84.0, 95.0, 114.0, 67.0, 81.0], [81.0, 94.0,...</td>\n",
       "      <td>1</td>\n",
       "    </tr>\n",
       "  </tbody>\n",
       "</table>\n",
       "</div>"
      ],
      "text/plain": [
       "     subject_id       key gender age sapsii sofa care_unit amine sedation  \\\n",
       "1154      11018  11018_26      0  67     47    1         1     0        0   \n",
       "1155      11018  11018_28      0  67     47    1         1     0        0   \n",
       "1156      11018  11018_29      0  67     47    1         1     0        0   \n",
       "1157      11018  11018_30      0  67     47    1         1     0        0   \n",
       "1158      11018  11018_31      0  67     47    1         1     0        0   \n",
       "\n",
       "     ventilation prediction_mean_HR prediction_mean_MAP  \\\n",
       "1154           0            74.3533             71.8733   \n",
       "1155           0              81.33             78.9333   \n",
       "1156           0            81.2033             79.9233   \n",
       "1157           0            81.3867             83.5367   \n",
       "1158           0              78.67             84.5967   \n",
       "\n",
       "                                                 series  group  \n",
       "1154  [[79.0, 97.0, 99.0, 60.0, 71.0], [79.0, 97.0, ...      1  \n",
       "1155  [[77.0, 97.0, 103.0, 62.0, 75.0], [76.0, 96.0,...      1  \n",
       "1156  [[83.0, 95.0, 111.0, 65.0, 80.0], [84.0, 95.0,...      1  \n",
       "1157  [[81.0, 95.0, 114.0, 65.0, 81.0], [81.0, 94.0,...      1  \n",
       "1158  [[84.0, 95.0, 114.0, 67.0, 81.0], [81.0, 94.0,...      1  "
      ]
     },
     "execution_count": 8,
     "metadata": {},
     "output_type": "execute_result"
    }
   ],
   "source": [
    "valid.head()"
   ]
  },
  {
   "cell_type": "code",
   "execution_count": 9,
   "metadata": {},
   "outputs": [
    {
     "data": {
      "text/plain": [
       "((50255, 14), (5926, 14))"
      ]
     },
     "execution_count": 9,
     "metadata": {},
     "output_type": "execute_result"
    }
   ],
   "source": [
    "train.shape, valid.shape"
   ]
  },
  {
   "cell_type": "code",
   "execution_count": 10,
   "metadata": {},
   "outputs": [],
   "source": [
    "subject_id_list = np.sort(np.unique(train.subject_id.values))\n",
    "id2index = {v: k+1 for k,v in enumerate(subject_id_list)}\n",
    "num_subjects = len(subject_id_list)"
   ]
  },
  {
   "cell_type": "code",
   "execution_count": 11,
   "metadata": {},
   "outputs": [
    {
     "data": {
      "text/plain": [
       "2203"
      ]
     },
     "execution_count": 11,
     "metadata": {},
     "output_type": "execute_result"
    }
   ],
   "source": [
    "num_subjects"
   ]
  },
  {
   "cell_type": "markdown",
   "metadata": {},
   "source": [
    "## Dataset"
   ]
  },
  {
   "cell_type": "code",
   "execution_count": 12,
   "metadata": {},
   "outputs": [],
   "source": [
    "def get_mean_std_series(train):\n",
    "    ss = np.concatenate(train.series.values)\n",
    "    ss = ss.reshape(-1,5)\n",
    "    return ss.mean(axis=0), ss.std(axis=0)"
   ]
  },
  {
   "cell_type": "code",
   "execution_count": 13,
   "metadata": {},
   "outputs": [],
   "source": [
    "def get_mean_std_static(train):\n",
    "    res = {}\n",
    "    for name in [\"age\", \"sapsii\", \"sofa\"]:\n",
    "        values = train[name].values\n",
    "        res[name] = (values.mean(), values.std())\n",
    "    res[\"series\"] = get_mean_std_series(train)\n",
    "    return res"
   ]
  },
  {
   "cell_type": "code",
   "execution_count": 14,
   "metadata": {},
   "outputs": [
    {
     "data": {
      "text/plain": [
       "{'age': (64, 15.057877220725963),\n",
       " 'sapsii': (33, 14.224363336863284),\n",
       " 'sofa': (4, 3.7706540212497375),\n",
       " 'series': (array([ 83.2305084 ,  93.6846448 , 120.9199471 ,  58.75308973,\n",
       "          78.5877452 ]),\n",
       "  array([16.09288223, 17.43347146, 21.26444372, 12.27698671, 14.32744073]))}"
      ]
     },
     "execution_count": 14,
     "metadata": {},
     "output_type": "execute_result"
    }
   ],
   "source": [
    "norm_dict = get_mean_std_static(train)\n",
    "norm_dict "
   ]
  },
  {
   "cell_type": "code",
   "execution_count": 15,
   "metadata": {},
   "outputs": [
    {
     "data": {
      "text/plain": [
       "{1: 0, 2: 1, 3: 2, 5: 3, 6: 4}"
      ]
     },
     "execution_count": 15,
     "metadata": {},
     "output_type": "execute_result"
    }
   ],
   "source": [
    "care2id = {v:k for k,v in enumerate(np.unique(train.care_unit.values))}\n",
    "care2id "
   ]
  },
  {
   "cell_type": "code",
   "execution_count": 16,
   "metadata": {},
   "outputs": [],
   "source": [
    "class MultiTask(Dataset):\n",
    "    def __init__(self, df, norm_dict, id2index, care2id,  k=20, train=True):\n",
    "        \"\"\"\n",
    "        Args:\n",
    "            df: dataframe with data\n",
    "            norm_dict: mean and std of all variables to normalize\n",
    "            \n",
    "        \"\"\"\n",
    "        self.norm_dict = norm_dict\n",
    "        self.df = df\n",
    "        self.df[\"care_unit\"] = self.df[\"care_unit\"].apply(lambda x: care2id[x])\n",
    "        self.names = [\"age\", \"sapsii\", \"sofa\"] ## needs normalization\n",
    "        self.names_binary = [\"gender\", \"amine\", \"sedation\", \"ventilation\"]\n",
    "        self.id2index = id2index\n",
    "        self.train = train\n",
    "        self.df_sample = self.pick_a_sample(k)\n",
    "            \n",
    "    def pick_a_sample(self, k=20):\n",
    "        \"\"\" Picks sample with the same number of observations per patient\"\"\"\n",
    "        if not self.train: # fix seed for validation and test\n",
    "            np.random.seed(3)\n",
    "        sample = self.df.groupby(\"subject_id\", group_keys=False).apply(lambda x: x.sample(k, replace=True))\n",
    "        sample = sample.copy()\n",
    "        if self.train:\n",
    "            self.subject_index = [self.id2index[subject_id] for subject_id in sample.subject_id.values]\n",
    "            self.random = np.random.choice(2, sample.shape[0], p=[0.1, 0.9])\n",
    "            self.subject_index = self.subject_index*self.random\n",
    "        return sample\n",
    "\n",
    "    def __getitem__(self, index):\n",
    "        row = self.df_sample.iloc[index,:]\n",
    "        x_series = (row.series - self.norm_dict[\"series\"][0])/self.norm_dict[\"series\"][1]\n",
    "        x_cont = [(row[name]-self.norm_dict[name][0])/self.norm_dict[name][1] for name in self.names]\n",
    "        x_binary = [row[name] for name in self.names_binary]\n",
    "        subject_index = 0\n",
    "        if self.train:\n",
    "            subject_index = self.subject_index[index]\n",
    "        x_cat = np.array([row[\"care_unit\"], subject_index])\n",
    "        x_cont = np.array(x_cont + x_binary)\n",
    "        return x_series, x_cont, x_cat, row[\"prediction_mean_HR\"], row[\"prediction_mean_MAP\"]\n",
    "\n",
    "    def __len__(self):\n",
    "        return self.df_sample.shape[0]"
   ]
  },
  {
   "cell_type": "code",
   "execution_count": 17,
   "metadata": {},
   "outputs": [],
   "source": [
    "train_ds = MultiTask(train, norm_dict, id2index, care2id)\n",
    "valid_ds = MultiTask(valid, norm_dict, id2index, care2id, train=False)"
   ]
  },
  {
   "cell_type": "markdown",
   "metadata": {},
   "source": [
    "## Model"
   ]
  },
  {
   "cell_type": "code",
   "execution_count": 18,
   "metadata": {},
   "outputs": [],
   "source": [
    "def save_model(m, p): torch.save(m.state_dict(), p)\n",
    "    \n",
    "def load_model(m, p): m.load_state_dict(torch.load(p))"
   ]
  },
  {
   "cell_type": "code",
   "execution_count": 19,
   "metadata": {},
   "outputs": [],
   "source": [
    "class EventModel1(nn.Module):\n",
    "    def __init__(self, hidden_size=100, num_units=5):\n",
    "        super(EventModel1, self).__init__()\n",
    "        self.embedding1 = nn.Embedding(num_units, 1)\n",
    "        self.embedding2 = nn.Embedding(num_subjects+1, 5)\n",
    "        self.gru = nn.GRU(5, hidden_size, batch_first=True)\n",
    "        self.num = hidden_size + 10 + 1 + 5\n",
    "        self.linear1 = nn.Linear(7, 10)\n",
    "        self.out1 = nn.Linear(self.num, 1)\n",
    "        self.out2 = nn.Linear(self.num, 1)\n",
    "        self.bn1 = nn.BatchNorm1d(10)\n",
    "\n",
    "    def forward(self, x_series, x_cont, x_cat):\n",
    "        _, ht = self.gru(x_series)\n",
    "        x_cat_1 = self.embedding1(x_cat[:,0])\n",
    "        x_cat_2 = self.embedding2(x_cat[:,1])\n",
    "        x_cont = self.bn1(F.relu(self.linear1(x_cont))) \n",
    "        x = torch.cat((ht[-1], x_cat_1, x_cat_2, x_cont), 1)\n",
    "        return self.out1(x), self.out2(x)"
   ]
  },
  {
   "cell_type": "code",
   "execution_count": 20,
   "metadata": {},
   "outputs": [],
   "source": [
    "def val_metrics(model, valid_dl):\n",
    "    model.eval()\n",
    "    total = 0\n",
    "    sum_loss = 0\n",
    "    y_hat1 = []\n",
    "    ys1 = []\n",
    "    y_hat2 = []\n",
    "    ys2 = []\n",
    "    for x_series, x_cont, x_cat, y1, y2 in valid_dl:\n",
    "        batch = y1.shape[0]\n",
    "        x_series = x_series.float().cuda()\n",
    "        x_cont = x_cont.float().cuda()\n",
    "        x_cat = x_cat.long().cuda()\n",
    "        y1 = y1.float().cuda()\n",
    "        y2 = y2.float().cuda()\n",
    "        out1, out2 = model(x_series, x_cont, x_cat)\n",
    "        mse_loss1 = F.mse_loss(out1, y1.unsqueeze(-1))\n",
    "        mse_loss2 = F.mse_loss(out2, y2.unsqueeze(-1))\n",
    "        loss = mse_loss1 + mse_loss2\n",
    "        sum_loss += batch*(loss.item())\n",
    "        total += batch\n",
    "        y_hat1.append(out1.view(-1).detach().cpu().numpy())\n",
    "        ys1.append(y1.view(-1).cpu().numpy())\n",
    "        y_hat2.append(out2.view(-1).detach().cpu().numpy())\n",
    "        ys2.append(y2.view(-1).cpu().numpy())\n",
    "    \n",
    "    y_hat1 = np.concatenate(y_hat1)\n",
    "    y_hat2 = np.concatenate(y_hat2)\n",
    "    ys1 = np.concatenate(ys1)\n",
    "    ys2 = np.concatenate(ys2)\n",
    "    r2_1 = metrics.r2_score(ys1, y_hat1)\n",
    "    r2_2 = metrics.r2_score(ys2, y_hat2)\n",
    "    return sum_loss/total, r2_1, r2_2"
   ]
  },
  {
   "cell_type": "code",
   "execution_count": 21,
   "metadata": {},
   "outputs": [],
   "source": [
    "def train_epochs(model, train_ds, optimizer, filename, lr=1e-3, epochs = 30):\n",
    "    prev_val_r2 = 0\n",
    "    for i in range(epochs):\n",
    "        sum_loss1 = 0\n",
    "        sum_loss2 = 0\n",
    "        total = 0\n",
    "        train_ds.pick_a_sample()\n",
    "        train_dl = DataLoader(train_ds, batch_size=5000, shuffle=True)\n",
    "        for x_series, x_cont, x_cat, y1, y2 in train_dl:\n",
    "            model.train()\n",
    "            x_series = x_series.float().cuda()\n",
    "            x_cont = x_cont.float().cuda()\n",
    "            x_cat = x_cat.long().cuda()\n",
    "            y1 = y1.float().cuda()\n",
    "            y2 = y2.float().cuda()\n",
    "            out1, out2 = model(x_series, x_cont, x_cat)\n",
    "            mse_loss1 = F.mse_loss(out1, y1.unsqueeze(-1))\n",
    "            mse_loss2 = F.mse_loss(out2, y2.unsqueeze(-1))\n",
    "            loss = mse_loss1 + mse_loss2\n",
    "            sum_loss1 += len(y1) * mse_loss1.item()\n",
    "            sum_loss2 += len(y1) * mse_loss2.item()\n",
    "            total += len(y1)\n",
    "            optimizer.zero_grad()\n",
    "            loss.backward()\n",
    "            optimizer.step()\n",
    "        if i % 1 == 0:\n",
    "            val_loss, val_r2_1, val_r2_2 = val_metrics(model, valid_dl)\n",
    "            print(\"\\tTrain loss: {:.3f} {:.3f} valid loss: {:.3f} valid r2 hr {:.3f} valid r2 map {:.3f}\".format(\n",
    "                sum_loss1/total, sum_loss2/total, val_loss, val_r2_1, val_r2_2))\n",
    "            \n",
    "        if val_r2_1 > prev_val_r2:\n",
    "            prev_val_r2 = val_r2_1\n",
    "            if val_r2_1 > 0.7:\n",
    "                path = \"{0}/models/{1}_r2_{2:.0f}_{3:.0f}.pth\".format(PATH, filename, 100*val_r2_1, 100*val_r2_2) \n",
    "                save_model(model, path)\n",
    "                print(path)"
   ]
  },
  {
   "cell_type": "code",
   "execution_count": 22,
   "metadata": {},
   "outputs": [],
   "source": [
    "batch_size = 5000\n",
    "train_dl = DataLoader(train_ds, batch_size=batch_size, shuffle=True)\n",
    "valid_dl = DataLoader(valid_ds, batch_size=batch_size)"
   ]
  },
  {
   "cell_type": "code",
   "execution_count": 23,
   "metadata": {},
   "outputs": [],
   "source": [
    "model = EventModel1().cuda()"
   ]
  },
  {
   "cell_type": "code",
   "execution_count": 24,
   "metadata": {},
   "outputs": [
    {
     "data": {
      "text/plain": [
       "(13664.217160247093, -27.74101666565972, -32.3480004374181)"
      ]
     },
     "execution_count": 24,
     "metadata": {},
     "output_type": "execute_result"
    }
   ],
   "source": [
    "val_metrics(model, valid_dl)"
   ]
  },
  {
   "cell_type": "code",
   "execution_count": 26,
   "metadata": {},
   "outputs": [
    {
     "name": "stdout",
     "output_type": "stream",
     "text": [
      "\tTrain loss: 5257.596 4627.143 valid loss: 4987.779 valid r2 hr -9.900 valid r2 map -10.614\n",
      "\tTrain loss: 1231.941 953.961 valid loss: 388.307 valid r2 hr 0.025 valid r2 map 0.268\n",
      "\tTrain loss: 297.098 236.715 valid loss: 602.937 valid r2 hr -0.388 valid r2 map -0.308\n",
      "\tTrain loss: 250.009 149.822 valid loss: 210.197 valid r2 hr 0.469 valid r2 map 0.608\n",
      "\tTrain loss: 93.002 75.020 valid loss: 196.575 valid r2 hr 0.546 valid r2 map 0.575\n",
      "\tTrain loss: 76.180 67.106 valid loss: 131.563 valid r2 hr 0.716 valid r2 map 0.689\n",
      "/data2/yinterian/multi-task-romain/models/model1_10min_r2_72_69.pth\n",
      "\tTrain loss: 46.535 51.468 valid loss: 123.143 valid r2 hr 0.751 valid r2 map 0.686\n",
      "/data2/yinterian/multi-task-romain/models/model1_10min_r2_75_69.pth\n",
      "\tTrain loss: 41.598 47.691 valid loss: 105.935 valid r2 hr 0.784 valid r2 map 0.732\n",
      "/data2/yinterian/multi-task-romain/models/model1_10min_r2_78_73.pth\n",
      "\tTrain loss: 34.333 42.388 valid loss: 99.711 valid r2 hr 0.794 valid r2 map 0.751\n",
      "/data2/yinterian/multi-task-romain/models/model1_10min_r2_79_75.pth\n",
      "\tTrain loss: 30.296 38.279 valid loss: 95.210 valid r2 hr 0.799 valid r2 map 0.769\n",
      "/data2/yinterian/multi-task-romain/models/model1_10min_r2_80_77.pth\n",
      "\tTrain loss: 29.164 34.881 valid loss: 91.631 valid r2 hr 0.807 valid r2 map 0.777\n",
      "/data2/yinterian/multi-task-romain/models/model1_10min_r2_81_78.pth\n",
      "\tTrain loss: 25.633 32.315 valid loss: 86.392 valid r2 hr 0.815 valid r2 map 0.793\n",
      "/data2/yinterian/multi-task-romain/models/model1_10min_r2_82_79.pth\n",
      "\tTrain loss: 24.155 30.063 valid loss: 82.415 valid r2 hr 0.825 valid r2 map 0.801\n",
      "/data2/yinterian/multi-task-romain/models/model1_10min_r2_83_80.pth\n",
      "\tTrain loss: 22.474 28.597 valid loss: 79.622 valid r2 hr 0.832 valid r2 map 0.807\n",
      "/data2/yinterian/multi-task-romain/models/model1_10min_r2_83_81.pth\n",
      "\tTrain loss: 21.379 27.141 valid loss: 77.634 valid r2 hr 0.832 valid r2 map 0.817\n"
     ]
    }
   ],
   "source": [
    "# 0s in training\n",
    "model = EventModel1().cuda()\n",
    "optimizer = torch.optim.Adam(model.parameters(), lr=0.05, weight_decay=1e-5)\n",
    "train_epochs(model, train_ds, optimizer, filename=\"model1_10min\", epochs=15)"
   ]
  },
  {
   "cell_type": "code",
   "execution_count": 27,
   "metadata": {},
   "outputs": [
    {
     "name": "stdout",
     "output_type": "stream",
     "text": [
      "\tTrain loss: 23.851 28.294 valid loss: 69.254 valid r2 hr 0.857 valid r2 map 0.828\n",
      "/data2/yinterian/multi-task-romain/models/model1_10min_r2_86_83.pth\n",
      "\tTrain loss: 18.989 23.281 valid loss: 56.891 valid r2 hr 0.879 valid r2 map 0.863\n",
      "/data2/yinterian/multi-task-romain/models/model1_10min_r2_88_86.pth\n",
      "\tTrain loss: 16.302 20.497 valid loss: 51.211 valid r2 hr 0.890 valid r2 map 0.879\n",
      "/data2/yinterian/multi-task-romain/models/model1_10min_r2_89_88.pth\n",
      "\tTrain loss: 14.481 18.664 valid loss: 44.283 valid r2 hr 0.906 valid r2 map 0.893\n",
      "/data2/yinterian/multi-task-romain/models/model1_10min_r2_91_89.pth\n",
      "\tTrain loss: 13.124 16.968 valid loss: 40.372 valid r2 hr 0.916 valid r2 map 0.900\n",
      "/data2/yinterian/multi-task-romain/models/model1_10min_r2_92_90.pth\n",
      "\tTrain loss: 11.987 16.059 valid loss: 36.176 valid r2 hr 0.926 valid r2 map 0.909\n",
      "/data2/yinterian/multi-task-romain/models/model1_10min_r2_93_91.pth\n",
      "\tTrain loss: 11.197 15.295 valid loss: 32.899 valid r2 hr 0.935 valid r2 map 0.914\n",
      "/data2/yinterian/multi-task-romain/models/model1_10min_r2_93_91.pth\n",
      "\tTrain loss: 10.279 14.736 valid loss: 31.968 valid r2 hr 0.938 valid r2 map 0.915\n",
      "/data2/yinterian/multi-task-romain/models/model1_10min_r2_94_91.pth\n",
      "\tTrain loss: 10.465 15.070 valid loss: 32.590 valid r2 hr 0.940 valid r2 map 0.909\n",
      "/data2/yinterian/multi-task-romain/models/model1_10min_r2_94_91.pth\n",
      "\tTrain loss: 10.217 15.271 valid loss: 31.834 valid r2 hr 0.941 valid r2 map 0.911\n",
      "/data2/yinterian/multi-task-romain/models/model1_10min_r2_94_91.pth\n",
      "\tTrain loss: 9.895 14.478 valid loss: 29.930 valid r2 hr 0.945 valid r2 map 0.916\n",
      "/data2/yinterian/multi-task-romain/models/model1_10min_r2_95_92.pth\n",
      "\tTrain loss: 9.561 13.997 valid loss: 29.486 valid r2 hr 0.945 valid r2 map 0.918\n",
      "\tTrain loss: 9.396 13.767 valid loss: 28.673 valid r2 hr 0.949 valid r2 map 0.918\n",
      "/data2/yinterian/multi-task-romain/models/model1_10min_r2_95_92.pth\n",
      "\tTrain loss: 9.617 13.979 valid loss: 29.411 valid r2 hr 0.947 valid r2 map 0.916\n",
      "\tTrain loss: 10.067 14.496 valid loss: 28.353 valid r2 hr 0.948 valid r2 map 0.920\n",
      "\tTrain loss: 9.321 13.787 valid loss: 27.614 valid r2 hr 0.950 valid r2 map 0.921\n",
      "/data2/yinterian/multi-task-romain/models/model1_10min_r2_95_92.pth\n",
      "\tTrain loss: 8.814 13.472 valid loss: 27.128 valid r2 hr 0.953 valid r2 map 0.920\n",
      "/data2/yinterian/multi-task-romain/models/model1_10min_r2_95_92.pth\n",
      "\tTrain loss: 8.583 13.060 valid loss: 26.314 valid r2 hr 0.955 valid r2 map 0.922\n",
      "/data2/yinterian/multi-task-romain/models/model1_10min_r2_95_92.pth\n",
      "\tTrain loss: 8.255 12.821 valid loss: 26.003 valid r2 hr 0.955 valid r2 map 0.924\n",
      "/data2/yinterian/multi-task-romain/models/model1_10min_r2_95_92.pth\n",
      "\tTrain loss: 8.148 12.623 valid loss: 25.568 valid r2 hr 0.956 valid r2 map 0.924\n",
      "/data2/yinterian/multi-task-romain/models/model1_10min_r2_96_92.pth\n"
     ]
    }
   ],
   "source": [
    "optimizer = torch.optim.Adam(model.parameters(), lr=0.03, weight_decay=1e-5)\n",
    "train_epochs(model, train_ds, optimizer, filename=\"model1_10min\", epochs=20)"
   ]
  },
  {
   "cell_type": "markdown",
   "metadata": {},
   "source": [
    "### Model 2"
   ]
  },
  {
   "cell_type": "code",
   "execution_count": 28,
   "metadata": {},
   "outputs": [],
   "source": [
    "class EventModel2(nn.Module):\n",
    "    def __init__(self, hidden_size=100):\n",
    "        super(EventModel2, self).__init__()\n",
    "        self.embedding1 = nn.Embedding(5, 1)\n",
    "        self.embedding2 = nn.Embedding(num_subjects+1, 5)\n",
    "        self.gru = nn.GRU(5, hidden_size, batch_first=True)\n",
    "        self.num = hidden_size + 1 + 5 + 7\n",
    "        self.linear1 = nn.Linear(self.num, self.num)\n",
    "        self.out1 = nn.Linear(self.num, 1)\n",
    "        self.out2 = nn.Linear(self.num, 1)\n",
    "        self.bn1 = nn.BatchNorm1d(self.num)\n",
    "        \n",
    "    def forward(self, x_series, x_cont, x_cat):\n",
    "        _, ht = self.gru(x_series)\n",
    "        x_cat_1 = self.embedding1(x_cat[:,0])\n",
    "        x_cat_2 = self.embedding2(x_cat[:,1])\n",
    "        x = torch.cat((ht[-1], x_cat_1, x_cat_2, x_cont), 1)\n",
    "        x = self.bn1(F.relu(self.linear1(x)))\n",
    "        return self.out1(x), self.out2(x)"
   ]
  },
  {
   "cell_type": "code",
   "execution_count": 29,
   "metadata": {},
   "outputs": [
    {
     "name": "stdout",
     "output_type": "stream",
     "text": [
      "\tTrain loss: 6335.327 5667.724 valid loss: 7564.138 valid r2 hr -14.477 valid r2 map -18.054\n",
      "\tTrain loss: 2097.908 1891.322 valid loss: 75.502 valid r2 hr 0.857 valid r2 map 0.794\n",
      "/data2/yinterian/multi-task-romain/models/model2_10min_r2_86_79.pth\n",
      "\tTrain loss: 467.389 459.560 valid loss: 757.694 valid r2 hr -0.259 valid r2 map -1.307\n",
      "\tTrain loss: 118.740 116.557 valid loss: 249.179 valid r2 hr 0.449 valid r2 map 0.428\n",
      "\tTrain loss: 127.543 134.345 valid loss: 36.813 valid r2 hr 0.937 valid r2 map 0.890\n",
      "/data2/yinterian/multi-task-romain/models/model2_10min_r2_94_89.pth\n",
      "\tTrain loss: 27.074 35.689 valid loss: 100.116 valid r2 hr 0.816 valid r2 map 0.719\n",
      "\tTrain loss: 18.161 23.768 valid loss: 40.769 valid r2 hr 0.930 valid r2 map 0.879\n",
      "\tTrain loss: 13.778 19.059 valid loss: 22.881 valid r2 hr 0.971 valid r2 map 0.918\n",
      "/data2/yinterian/multi-task-romain/models/model2_10min_r2_97_92.pth\n",
      "\tTrain loss: 8.783 12.925 valid loss: 23.490 valid r2 hr 0.969 valid r2 map 0.918\n",
      "\tTrain loss: 7.388 11.429 valid loss: 23.883 valid r2 hr 0.969 valid r2 map 0.916\n",
      "\tTrain loss: 7.062 10.947 valid loss: 23.553 valid r2 hr 0.968 valid r2 map 0.918\n",
      "\tTrain loss: 6.780 10.428 valid loss: 22.012 valid r2 hr 0.972 valid r2 map 0.922\n",
      "/data2/yinterian/multi-task-romain/models/model2_10min_r2_97_92.pth\n",
      "\tTrain loss: 6.382 10.035 valid loss: 23.759 valid r2 hr 0.965 valid r2 map 0.921\n",
      "\tTrain loss: 6.397 10.019 valid loss: 22.578 valid r2 hr 0.972 valid r2 map 0.919\n",
      "/data2/yinterian/multi-task-romain/models/model2_10min_r2_97_92.pth\n",
      "\tTrain loss: 6.218 9.618 valid loss: 24.532 valid r2 hr 0.968 valid r2 map 0.913\n"
     ]
    }
   ],
   "source": [
    "model = EventModel2().cuda()\n",
    "optimizer = torch.optim.Adam(model.parameters(), lr=0.05, weight_decay=1e-5)\n",
    "train_epochs(model, train_ds, optimizer, filename=\"model2_10min\", epochs=15)"
   ]
  },
  {
   "cell_type": "code",
   "execution_count": 30,
   "metadata": {},
   "outputs": [
    {
     "name": "stdout",
     "output_type": "stream",
     "text": [
      "\tTrain loss: 23.997 26.460 valid loss: 81.560 valid r2 hr 0.905 valid r2 map 0.696\n",
      "/data2/yinterian/multi-task-romain/models/model2_10min_r2_90_70.pth\n",
      "\tTrain loss: 11.843 16.211 valid loss: 29.989 valid r2 hr 0.956 valid r2 map 0.901\n",
      "/data2/yinterian/multi-task-romain/models/model2_10min_r2_96_90.pth\n",
      "\tTrain loss: 8.449 11.783 valid loss: 23.853 valid r2 hr 0.969 valid r2 map 0.915\n",
      "/data2/yinterian/multi-task-romain/models/model2_10min_r2_97_92.pth\n",
      "\tTrain loss: 6.685 10.764 valid loss: 23.307 valid r2 hr 0.970 valid r2 map 0.917\n",
      "/data2/yinterian/multi-task-romain/models/model2_10min_r2_97_92.pth\n",
      "\tTrain loss: 6.508 10.311 valid loss: 22.168 valid r2 hr 0.971 valid r2 map 0.922\n",
      "/data2/yinterian/multi-task-romain/models/model2_10min_r2_97_92.pth\n",
      "\tTrain loss: 6.174 9.923 valid loss: 22.249 valid r2 hr 0.971 valid r2 map 0.921\n",
      "/data2/yinterian/multi-task-romain/models/model2_10min_r2_97_92.pth\n",
      "\tTrain loss: 5.902 9.547 valid loss: 22.306 valid r2 hr 0.970 valid r2 map 0.922\n",
      "\tTrain loss: 5.968 9.305 valid loss: 22.720 valid r2 hr 0.969 valid r2 map 0.921\n",
      "\tTrain loss: 5.798 9.151 valid loss: 22.035 valid r2 hr 0.973 valid r2 map 0.920\n",
      "/data2/yinterian/multi-task-romain/models/model2_10min_r2_97_92.pth\n",
      "\tTrain loss: 6.003 9.415 valid loss: 22.832 valid r2 hr 0.971 valid r2 map 0.918\n",
      "\tTrain loss: 5.948 9.523 valid loss: 24.055 valid r2 hr 0.969 valid r2 map 0.915\n",
      "\tTrain loss: 5.848 9.113 valid loss: 22.579 valid r2 hr 0.972 valid r2 map 0.918\n",
      "\tTrain loss: 5.560 8.838 valid loss: 22.253 valid r2 hr 0.972 valid r2 map 0.920\n",
      "\tTrain loss: 5.507 8.855 valid loss: 22.653 valid r2 hr 0.972 valid r2 map 0.917\n",
      "\tTrain loss: 5.540 8.472 valid loss: 24.132 valid r2 hr 0.968 valid r2 map 0.915\n",
      "\tTrain loss: 5.653 8.467 valid loss: 23.251 valid r2 hr 0.971 valid r2 map 0.916\n",
      "\tTrain loss: 5.450 8.384 valid loss: 22.454 valid r2 hr 0.973 valid r2 map 0.918\n",
      "/data2/yinterian/multi-task-romain/models/model2_10min_r2_97_92.pth\n",
      "\tTrain loss: 5.344 8.309 valid loss: 23.882 valid r2 hr 0.970 valid r2 map 0.915\n",
      "\tTrain loss: 5.356 7.922 valid loss: 22.974 valid r2 hr 0.971 valid r2 map 0.918\n",
      "\tTrain loss: 5.145 7.919 valid loss: 23.083 valid r2 hr 0.973 valid r2 map 0.914\n",
      "/data2/yinterian/multi-task-romain/models/model2_10min_r2_97_91.pth\n"
     ]
    }
   ],
   "source": [
    "optimizer = torch.optim.Adam(model.parameters(), lr=0.03, weight_decay=1e-5)\n",
    "train_epochs(model, train_ds, optimizer, filename=\"model2_10min\", epochs=20)"
   ]
  },
  {
   "cell_type": "code",
   "execution_count": 31,
   "metadata": {},
   "outputs": [
    {
     "name": "stdout",
     "output_type": "stream",
     "text": [
      "\tTrain loss: 5.169 7.845 valid loss: 23.169 valid r2 hr 0.972 valid r2 map 0.916\n",
      "/data2/yinterian/multi-task-romain/models/model2_10min_r2_97_92.pth\n",
      "\tTrain loss: 5.128 7.793 valid loss: 23.329 valid r2 hr 0.971 valid r2 map 0.915\n",
      "\tTrain loss: 5.181 7.575 valid loss: 22.683 valid r2 hr 0.974 valid r2 map 0.916\n",
      "/data2/yinterian/multi-task-romain/models/model2_10min_r2_97_92.pth\n",
      "\tTrain loss: 5.155 7.513 valid loss: 23.417 valid r2 hr 0.972 valid r2 map 0.914\n",
      "\tTrain loss: 4.976 7.409 valid loss: 23.713 valid r2 hr 0.971 valid r2 map 0.913\n",
      "\tTrain loss: 5.014 7.494 valid loss: 22.754 valid r2 hr 0.972 valid r2 map 0.917\n",
      "\tTrain loss: 4.952 7.523 valid loss: 24.576 valid r2 hr 0.971 valid r2 map 0.909\n",
      "\tTrain loss: 5.060 7.462 valid loss: 23.616 valid r2 hr 0.972 valid r2 map 0.913\n",
      "\tTrain loss: 5.107 7.560 valid loss: 23.788 valid r2 hr 0.971 valid r2 map 0.913\n",
      "\tTrain loss: 5.515 7.653 valid loss: 23.850 valid r2 hr 0.966 valid r2 map 0.919\n"
     ]
    }
   ],
   "source": [
    "train_epochs(model, train_ds, optimizer, filename=\"model2_10min\", epochs=10)"
   ]
  },
  {
   "cell_type": "markdown",
   "metadata": {},
   "source": [
    "## Model 3"
   ]
  },
  {
   "cell_type": "code",
   "execution_count": 25,
   "metadata": {},
   "outputs": [],
   "source": [
    "class EventModel3(nn.Module):\n",
    "    def __init__(self, hidden_size=100, num2=50):\n",
    "        super(EventModel3, self).__init__()\n",
    "        self.embedding1 = nn.Embedding(5, 1)\n",
    "        self.embedding2 = nn.Embedding(num_subjects+1, 5)\n",
    "        self.gru = nn.GRU(5, hidden_size, batch_first=True)\n",
    "        self.num1 = hidden_size + 1 + 5 + 7\n",
    "        self.num2 = num2\n",
    "        self.linear1 = nn.Linear(self.num1, self.num2)\n",
    "        self.linear2 = nn.Linear(self.num2, self.num2)\n",
    "        self.out1 = nn.Linear(self.num2, 1)\n",
    "        self.out2 = nn.Linear(self.num2, 1)\n",
    "        self.bn1 = nn.BatchNorm1d(self.num2)\n",
    "        self.bn2 = nn.BatchNorm1d(self.num2)\n",
    "        \n",
    "    def forward(self, x_series, x_cont, x_cat):\n",
    "        _, ht = self.gru(x_series)\n",
    "        x_cat_1 = self.embedding1(x_cat[:,0])\n",
    "        x_cat_2 = self.embedding2(x_cat[:,1])\n",
    "        x = torch.cat((ht[-1], x_cat_1, x_cat_2, x_cont), 1)\n",
    "        x = self.bn1(F.relu(self.linear1(x)))\n",
    "        x = self.bn2(F.relu(self.linear2(x)))\n",
    "        return self.out1(x), self.out2(x)"
   ]
  },
  {
   "cell_type": "code",
   "execution_count": 26,
   "metadata": {},
   "outputs": [
    {
     "name": "stdout",
     "output_type": "stream",
     "text": [
      "\tTrain loss: 6900.162 6100.769 valid loss: 12150.911 valid r2 hr -22.746 valid r2 map -31.134\n",
      "\tTrain loss: 5750.591 5068.362 valid loss: 7035.059 valid r2 hr -12.039 valid r2 map -18.575\n",
      "\tTrain loss: 3621.682 3089.900 valid loss: 3340.879 valid r2 hr -5.583 valid r2 map -7.761\n",
      "\tTrain loss: 1214.414 926.356 valid loss: 247.116 valid r2 hr 0.346 valid r2 map 0.581\n",
      "\tTrain loss: 81.374 72.419 valid loss: 325.350 valid r2 hr 0.476 valid r2 map -0.013\n",
      "\tTrain loss: 153.194 195.323 valid loss: 255.640 valid r2 hr 0.482 valid r2 map 0.349\n",
      "\tTrain loss: 50.132 47.554 valid loss: 31.231 valid r2 hr 0.954 valid r2 map 0.897\n",
      "/data2/yinterian/multi-task-romain/models/model3_10min_r2_95_90.pth\n",
      "\tTrain loss: 15.863 28.936 valid loss: 64.268 valid r2 hr 0.874 valid r2 map 0.830\n",
      "\tTrain loss: 15.530 24.040 valid loss: 23.048 valid r2 hr 0.971 valid r2 map 0.917\n",
      "/data2/yinterian/multi-task-romain/models/model3_10min_r2_97_92.pth\n",
      "\tTrain loss: 7.975 12.546 valid loss: 27.687 valid r2 hr 0.962 valid r2 map 0.905\n",
      "\tTrain loss: 7.725 12.455 valid loss: 21.183 valid r2 hr 0.972 valid r2 map 0.925\n",
      "/data2/yinterian/multi-task-romain/models/model3_10min_r2_97_93.pth\n",
      "\tTrain loss: 6.779 10.536 valid loss: 21.366 valid r2 hr 0.971 valid r2 map 0.926\n",
      "\tTrain loss: 6.756 10.340 valid loss: 23.027 valid r2 hr 0.967 valid r2 map 0.922\n",
      "\tTrain loss: 6.605 9.904 valid loss: 21.537 valid r2 hr 0.972 valid r2 map 0.923\n",
      "\tTrain loss: 6.029 9.534 valid loss: 21.019 valid r2 hr 0.973 valid r2 map 0.925\n",
      "/data2/yinterian/multi-task-romain/models/model3_10min_r2_97_92.pth\n"
     ]
    }
   ],
   "source": [
    "model = EventModel3().cuda()\n",
    "optimizer = torch.optim.Adam(model.parameters(), lr=0.03, weight_decay=1e-5)\n",
    "train_epochs(model, train_ds, optimizer, filename=\"model3_10min\", epochs=15)"
   ]
  },
  {
   "cell_type": "code",
   "execution_count": 27,
   "metadata": {},
   "outputs": [
    {
     "name": "stdout",
     "output_type": "stream",
     "text": [
      "\tTrain loss: 17.047 18.838 valid loss: 52.256 valid r2 hr 0.932 valid r2 map 0.815\n",
      "/data2/yinterian/multi-task-romain/models/model3_10min_r2_93_81.pth\n",
      "\tTrain loss: 9.098 12.728 valid loss: 38.706 valid r2 hr 0.913 valid r2 map 0.913\n",
      "\tTrain loss: 7.334 10.874 valid loss: 30.361 valid r2 hr 0.946 valid r2 map 0.913\n",
      "/data2/yinterian/multi-task-romain/models/model3_10min_r2_95_91.pth\n",
      "\tTrain loss: 6.737 10.088 valid loss: 20.322 valid r2 hr 0.975 valid r2 map 0.927\n",
      "/data2/yinterian/multi-task-romain/models/model3_10min_r2_97_93.pth\n",
      "\tTrain loss: 6.314 9.748 valid loss: 19.998 valid r2 hr 0.974 valid r2 map 0.929\n",
      "\tTrain loss: 6.122 9.563 valid loss: 20.002 valid r2 hr 0.975 valid r2 map 0.928\n",
      "/data2/yinterian/multi-task-romain/models/model3_10min_r2_97_93.pth\n",
      "\tTrain loss: 5.929 9.393 valid loss: 20.980 valid r2 hr 0.972 valid r2 map 0.927\n",
      "\tTrain loss: 5.752 9.011 valid loss: 19.570 valid r2 hr 0.976 valid r2 map 0.929\n",
      "/data2/yinterian/multi-task-romain/models/model3_10min_r2_98_93.pth\n",
      "\tTrain loss: 5.774 8.898 valid loss: 20.073 valid r2 hr 0.975 valid r2 map 0.928\n",
      "\tTrain loss: 5.767 8.834 valid loss: 19.908 valid r2 hr 0.975 valid r2 map 0.928\n",
      "\tTrain loss: 5.663 8.817 valid loss: 19.278 valid r2 hr 0.976 valid r2 map 0.931\n",
      "\tTrain loss: 5.536 8.728 valid loss: 20.023 valid r2 hr 0.975 valid r2 map 0.927\n",
      "\tTrain loss: 5.413 8.693 valid loss: 19.718 valid r2 hr 0.974 valid r2 map 0.930\n",
      "\tTrain loss: 5.379 8.603 valid loss: 19.701 valid r2 hr 0.975 valid r2 map 0.929\n",
      "\tTrain loss: 5.323 8.427 valid loss: 20.106 valid r2 hr 0.975 valid r2 map 0.927\n"
     ]
    }
   ],
   "source": [
    "optimizer = torch.optim.Adam(model.parameters(), lr=0.02, weight_decay=1e-5)\n",
    "train_epochs(model, train_ds, optimizer, filename=\"model3_10min\", epochs=15)"
   ]
  },
  {
   "cell_type": "markdown",
   "metadata": {},
   "source": [
    "## Calibration plot"
   ]
  },
  {
   "cell_type": "code",
   "execution_count": 28,
   "metadata": {},
   "outputs": [],
   "source": [
    "path = PATH/\"models/model3_10min_r2_98_93.pth\"\n",
    "model = EventModel3().cuda()\n",
    "load_model(model, path)"
   ]
  },
  {
   "cell_type": "code",
   "execution_count": 29,
   "metadata": {},
   "outputs": [],
   "source": [
    "# external data\n",
    "filename = \"data_validation_10min.pickle\"\n",
    "with open(PATH/filename, 'rb') as f:\n",
    "    test_ext = pickle.load(f)"
   ]
  },
  {
   "cell_type": "code",
   "execution_count": 30,
   "metadata": {},
   "outputs": [
    {
     "name": "stdout",
     "output_type": "stream",
     "text": [
      "data_test_10min.pickle\n"
     ]
    }
   ],
   "source": [
    "filename = \"data_test_{gap}.pickle\".format(gap=gap)\n",
    "with open(PATH/filename, 'rb') as f:\n",
    "    test = pickle.load(f)\n",
    "print(filename)"
   ]
  },
  {
   "cell_type": "code",
   "execution_count": 31,
   "metadata": {},
   "outputs": [
    {
     "data": {
      "text/plain": [
       "((7002, 14), 3627, 702)"
      ]
     },
     "execution_count": 31,
     "metadata": {},
     "output_type": "execute_result"
    }
   ],
   "source": [
    "test_ds = MultiTask(test, norm_dict, id2index, care2id, k=13, train=False)\n",
    "test_ext_ds = MultiTask(test_ext, norm_dict, id2index, care2id, k=13, train=False)\n",
    "test.shape, len(test_ds), len(test_ext_ds)"
   ]
  },
  {
   "cell_type": "code",
   "execution_count": 34,
   "metadata": {},
   "outputs": [],
   "source": [
    "test_dl = DataLoader(test_ds, batch_size=len(test_ds))\n",
    "test_ext_dl = DataLoader(test_ext_ds, batch_size=len(test_ext_ds))"
   ]
  },
  {
   "cell_type": "code",
   "execution_count": 35,
   "metadata": {},
   "outputs": [
    {
     "data": {
      "text/plain": [
       "(17.702816009521484, 0.9748178666085353, 0.9384027564277532)"
      ]
     },
     "execution_count": 35,
     "metadata": {},
     "output_type": "execute_result"
    }
   ],
   "source": [
    "val_metrics(model, test_dl)"
   ]
  },
  {
   "cell_type": "code",
   "execution_count": 36,
   "metadata": {},
   "outputs": [
    {
     "data": {
      "text/plain": [
       "(83.73110961914062, 0.9020272898705173, 0.8502321559485337)"
      ]
     },
     "execution_count": 36,
     "metadata": {},
     "output_type": "execute_result"
    }
   ],
   "source": [
    "val_metrics(model, test_ext_dl)"
   ]
  },
  {
   "cell_type": "code",
   "execution_count": 39,
   "metadata": {},
   "outputs": [],
   "source": [
    "def predict_one_batch(model, dl):\n",
    "    for x_series, x_cont, x_cat, y1, y2 in dl:\n",
    "        x_series = x_series.float().cuda()\n",
    "        x_cont = x_cont.float().cuda()\n",
    "        x_cat = x_cat.long().cuda()\n",
    "        y1 = y1.float().cuda()\n",
    "        y2 = y2.float().cuda()\n",
    "        out1, out2 = model(x_series, x_cont, x_cat)\n",
    "    return out1.detach().cpu().numpy(), out2.detach().cpu().numpy(), y1.detach().cpu().numpy(), y2.detach().cpu().numpy()"
   ]
  },
  {
   "cell_type": "code",
   "execution_count": 40,
   "metadata": {},
   "outputs": [],
   "source": [
    "out1, out2, y1, y2 = predict_one_batch(model, test_dl)"
   ]
  },
  {
   "cell_type": "code",
   "execution_count": 41,
   "metadata": {},
   "outputs": [
    {
     "data": {
      "image/png": "[encoded data removed]",
      "text/plain": [
       "<Figure size 432x288 with 1 Axes>"
      ]
     },
     "metadata": {
      "needs_background": "light"
     },
     "output_type": "display_data"
    }
   ],
   "source": [
    "x = np.linspace(30, 140, 1000)\n",
    "plt.plot(out1, y1, 'bo', ms=5)\n",
    "plt.xlabel(\"Predicted\")\n",
    "plt.ylabel(\"Actual\")\n",
    "plt.title(\"mean_HR on test\")\n",
    "plt.plot(x, x, '-g')\n",
    "plt.show()"
   ]
  },
  {
   "cell_type": "code",
   "execution_count": 42,
   "metadata": {},
   "outputs": [
    {
     "data": {
      "image/png": "[encoded data removed]",
      "text/plain": [
       "<Figure size 432x288 with 1 Axes>"
      ]
     },
     "metadata": {
      "needs_background": "light"
     },
     "output_type": "display_data"
    }
   ],
   "source": [
    "x = np.linspace(40, 140, 1000)\n",
    "plt.plot(out2, y2, 'bo', ms=5)\n",
    "plt.xlabel(\"Predicted\")\n",
    "plt.ylabel(\"Actual\")\n",
    "plt.title(\"mean_MAP on test\")\n",
    "plt.plot(x, x, '-g')\n",
    "plt.show()"
   ]
  },
  {
   "cell_type": "code",
   "execution_count": null,
   "metadata": {},
   "outputs": [],
   "source": []
  }
 ],
 "metadata": {
  "kernelspec": {
   "display_name": "Python 3",
   "language": "python",
   "name": "python3"
  },
  "language_info": {
   "codemirror_mode": {
    "name": "ipython",
    "version": 3
   },
   "file_extension": ".py",
   "mimetype": "text/x-python",
   "name": "python",
   "nbconvert_exporter": "python",
   "pygments_lexer": "ipython3",
   "version": "3.7.6"
  }
 },
 "nbformat": 4,
 "nbformat_minor": 2
}
