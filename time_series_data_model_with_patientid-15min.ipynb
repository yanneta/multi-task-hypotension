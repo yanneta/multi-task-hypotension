{
 "cells": [
  {
   "cell_type": "code",
   "execution_count": 10,
   "metadata": {},
   "outputs": [],
   "source": [
    "%reload_ext autoreload\n",
    "%autoreload 2\n",
    "%matplotlib inline\n",
    "\n",
    "from utils import *\n",
    "\n",
    "import matplotlib\n",
    "import matplotlib.pyplot as plt\n",
    "\n",
    "import pandas as pd\n",
    "\n",
    "from datetime import datetime\n",
    "from collections import OrderedDict"
   ]
  },
  {
   "cell_type": "code",
   "execution_count": 2,
   "metadata": {},
   "outputs": [],
   "source": [
    "PATH = Path(\"/data2/yinterian/multi-task-romain\")"
   ]
  },
  {
   "cell_type": "code",
   "execution_count": 3,
   "metadata": {},
   "outputs": [],
   "source": [
    "train, valid = get_data_gap(PATH, gap=\"15min\")"
   ]
  },
  {
   "cell_type": "code",
   "execution_count": 4,
   "metadata": {},
   "outputs": [
    {
     "data": {
      "text/plain": [
       "((36219, 17), (4000, 17))"
      ]
     },
     "execution_count": 4,
     "metadata": {},
     "output_type": "execute_result"
    }
   ],
   "source": [
    "train.shape, valid.shape"
   ]
  },
  {
   "cell_type": "code",
   "execution_count": 13,
   "metadata": {},
   "outputs": [],
   "source": [
    "norm_dict, care2id, id2index, num_subjects = stats_dict(train)"
   ]
  },
  {
   "cell_type": "code",
   "execution_count": 14,
   "metadata": {},
   "outputs": [],
   "source": [
    "train_ds = MultiTask(train, norm_dict, id2index, care2id)\n",
    "valid_ds = MultiTask(valid, norm_dict, id2index, care2id, train=False)"
   ]
  },
  {
   "cell_type": "code",
   "execution_count": 15,
   "metadata": {},
   "outputs": [],
   "source": [
    "batch_size = 5000\n",
    "train_dl = DataLoader(train_ds, batch_size=batch_size, shuffle=True)\n",
    "valid_dl = DataLoader(valid_ds, batch_size=batch_size)"
   ]
  },
  {
   "cell_type": "code",
   "execution_count": 20,
   "metadata": {},
   "outputs": [],
   "source": [
    "def multiple_runs(num_subjects, single, basename=\"model_15min\", n=10):\n",
    "    best_score = 0\n",
    "    for i in range(n):\n",
    "        model = EventModel(num_subjects, single=single).cuda()\n",
    "        optimizer = torch.optim.Adam(model.parameters(), lr=0.04, weight_decay=1e-5)\n",
    "        score = train_epochs(model, train_ds, valid_dl, optimizer, filename=basename, epochs=15, C=10)\n",
    "        if score > best_score:\n",
    "            best_score = score\n",
    "        update_optimizer(optimizer, lr=0.02)\n",
    "        score = train_epochs(model, train_ds, valid_dl, optimizer, filename=basename, epochs=25, C=10)\n",
    "        if score > best_score:\n",
    "            best_score = score\n",
    "    return best_score    "
   ]
  },
  {
   "cell_type": "code",
   "execution_count": null,
   "metadata": {},
   "outputs": [
    {
     "name": "stdout",
     "output_type": "stream",
     "text": [
      "\tTrain loss: 7117.427 6043.509 map valid loss: 9653.976 valid r2 hr -42.736 valid r2 map -60.497\n",
      "\tTrain loss: 6290.207 4994.721 map valid loss: 3573.435 valid r2 hr -20.723 valid r2 map -21.763\n",
      "\tTrain loss: 4292.257 3074.083 map valid loss: 1190.125 valid r2 hr -8.548 valid r2 map -6.581\n",
      "\tTrain loss: 1754.260 904.642 map valid loss: 72.616 valid r2 hr -1.390 valid r2 map 0.537\n",
      "\tTrain loss: 369.494 81.292 map valid loss: 322.290 valid r2 hr -0.563 valid r2 map -1.053\n",
      "\tTrain loss: 423.439 331.805 map valid loss: 213.431 valid r2 hr -0.751 valid r2 map -0.360\n",
      "\tTrain loss: 315.726 94.351 map valid loss: 32.276 valid r2 hr 0.033 valid r2 map 0.794\n",
      "/data2/yinterian/multi-task-romain/models/model_15min_r2_3_79.pth\n",
      "\tTrain loss: 238.805 45.051 map valid loss: 80.302 valid r2 hr 0.004 valid r2 map 0.488\n",
      "\tTrain loss: 193.991 61.471 map valid loss: 34.998 valid r2 hr 0.540 valid r2 map 0.777\n",
      "\tTrain loss: 110.897 25.795 map valid loss: 30.680 valid r2 hr 0.668 valid r2 map 0.805\n",
      "/data2/yinterian/multi-task-romain/models/model_15min_r2_67_80.pth\n",
      "\tTrain loss: 63.745 26.400 map valid loss: 27.266 valid r2 hr 0.737 valid r2 map 0.826\n",
      "/data2/yinterian/multi-task-romain/models/model_15min_r2_74_83.pth\n",
      "\tTrain loss: 38.906 24.076 map valid loss: 25.559 valid r2 hr 0.842 valid r2 map 0.837\n",
      "/data2/yinterian/multi-task-romain/models/model_15min_r2_84_84.pth\n",
      "\tTrain loss: 27.329 19.949 map valid loss: 26.494 valid r2 hr 0.850 valid r2 map 0.831\n",
      "\tTrain loss: 26.013 19.662 map valid loss: 23.364 valid r2 hr 0.857 valid r2 map 0.851\n",
      "/data2/yinterian/multi-task-romain/models/model_15min_r2_86_85.pth\n",
      "\tTrain loss: 22.693 19.259 map valid loss: 24.740 valid r2 hr 0.885 valid r2 map 0.842\n",
      "\tTrain loss: 22.895 19.175 map valid loss: 24.385 valid r2 hr 0.896 valid r2 map 0.845\n",
      "/data2/yinterian/multi-task-romain/models/model_15min_r2_90_84.pth\n",
      "\tTrain loss: 20.031 18.501 map valid loss: 23.922 valid r2 hr 0.886 valid r2 map 0.848\n",
      "/data2/yinterian/multi-task-romain/models/model_15min_r2_89_85.pth\n",
      "\tTrain loss: 20.709 17.715 map valid loss: 24.153 valid r2 hr 0.907 valid r2 map 0.846\n",
      "\tTrain loss: 18.927 17.305 map valid loss: 24.328 valid r2 hr 0.905 valid r2 map 0.845\n",
      "\tTrain loss: 17.885 17.837 map valid loss: 23.897 valid r2 hr 0.913 valid r2 map 0.848\n",
      "/data2/yinterian/multi-task-romain/models/model_15min_r2_91_85.pth\n",
      "\tTrain loss: 17.572 16.908 map valid loss: 23.895 valid r2 hr 0.906 valid r2 map 0.848\n",
      "/data2/yinterian/multi-task-romain/models/model_15min_r2_91_85.pth\n",
      "\tTrain loss: 17.395 17.001 map valid loss: 23.932 valid r2 hr 0.914 valid r2 map 0.848\n",
      "\tTrain loss: 16.862 16.696 map valid loss: 23.782 valid r2 hr 0.910 valid r2 map 0.849\n",
      "/data2/yinterian/multi-task-romain/models/model_15min_r2_91_85.pth\n",
      "\tTrain loss: 19.402 16.999 map valid loss: 23.978 valid r2 hr 0.918 valid r2 map 0.847\n",
      "\tTrain loss: 17.203 16.454 map valid loss: 24.846 valid r2 hr 0.910 valid r2 map 0.842\n",
      "\tTrain loss: 16.357 15.893 map valid loss: 24.760 valid r2 hr 0.906 valid r2 map 0.842\n",
      "\tTrain loss: 17.137 16.381 map valid loss: 24.225 valid r2 hr 0.916 valid r2 map 0.846\n",
      "\tTrain loss: 16.619 16.482 map valid loss: 23.611 valid r2 hr 0.916 valid r2 map 0.850\n",
      "/data2/yinterian/multi-task-romain/models/model_15min_r2_92_85.pth\n",
      "\tTrain loss: 16.065 16.036 map valid loss: 23.733 valid r2 hr 0.915 valid r2 map 0.849\n",
      "\tTrain loss: 15.579 16.415 map valid loss: 24.569 valid r2 hr 0.914 valid r2 map 0.843\n",
      "\tTrain loss: 16.378 16.537 map valid loss: 23.990 valid r2 hr 0.904 valid r2 map 0.847\n",
      "\tTrain loss: 16.350 16.010 map valid loss: 24.483 valid r2 hr 0.917 valid r2 map 0.844\n",
      "\tTrain loss: 16.506 15.500 map valid loss: 25.139 valid r2 hr 0.912 valid r2 map 0.840\n",
      "\tTrain loss: 15.864 16.037 map valid loss: 24.777 valid r2 hr 0.909 valid r2 map 0.842\n",
      "\tTrain loss: 16.915 15.887 map valid loss: 24.533 valid r2 hr 0.914 valid r2 map 0.844\n",
      "\tTrain loss: 15.890 16.008 map valid loss: 24.073 valid r2 hr 0.914 valid r2 map 0.847\n",
      "\tTrain loss: 16.238 16.459 map valid loss: 24.129 valid r2 hr 0.914 valid r2 map 0.846\n",
      "\tTrain loss: 16.863 15.655 map valid loss: 24.912 valid r2 hr 0.914 valid r2 map 0.841\n",
      "\tTrain loss: 16.296 15.408 map valid loss: 25.633 valid r2 hr 0.915 valid r2 map 0.837\n",
      "\tTrain loss: 16.053 15.489 map valid loss: 24.497 valid r2 hr 0.914 valid r2 map 0.844\n",
      "\tTrain loss: 7109.894 6066.899 map valid loss: 12204.759 valid r2 hr -44.049 valid r2 map -76.745\n",
      "\tTrain loss: 6373.364 5077.138 map valid loss: 8590.880 valid r2 hr -36.236 valid r2 map -53.725\n",
      "\tTrain loss: 4583.365 3269.221 map valid loss: 2346.350 valid r2 hr -13.161 valid r2 map -13.946\n",
      "\tTrain loss: 1951.257 1014.765 map valid loss: 69.870 valid r2 hr -0.999 valid r2 map 0.555\n",
      "\tTrain loss: 386.967 87.336 map valid loss: 343.428 valid r2 hr -0.841 valid r2 map -1.188\n",
      "\tTrain loss: 442.163 340.734 map valid loss: 243.419 valid r2 hr -1.031 valid r2 map -0.551\n",
      "\tTrain loss: 318.214 104.842 map valid loss: 29.241 valid r2 hr -0.038 valid r2 map 0.814\n",
      "/data2/yinterian/multi-task-romain/models/model_15min_r2_-4_81.pth\n",
      "\tTrain loss: 229.261 46.290 map valid loss: 106.410 valid r2 hr -0.222 valid r2 map 0.322\n",
      "\tTrain loss: 195.871 64.455 map valid loss: 33.436 valid r2 hr 0.492 valid r2 map 0.787\n",
      "\tTrain loss: 123.444 27.004 map valid loss: 29.322 valid r2 hr 0.662 valid r2 map 0.813\n",
      "\tTrain loss: 84.519 28.261 map valid loss: 25.080 valid r2 hr 0.689 valid r2 map 0.840\n",
      "/data2/yinterian/multi-task-romain/models/model_15min_r2_69_84.pth\n",
      "\tTrain loss: 54.964 23.606 map valid loss: 25.558 valid r2 hr 0.704 valid r2 map 0.837\n",
      "\tTrain loss: 36.072 20.520 map valid loss: 28.125 valid r2 hr 0.626 valid r2 map 0.821\n",
      "\tTrain loss: 30.259 20.249 map valid loss: 28.973 valid r2 hr 0.712 valid r2 map 0.815\n",
      "\tTrain loss: 25.267 18.834 map valid loss: 24.736 valid r2 hr 0.581 valid r2 map 0.842\n",
      "/data2/yinterian/multi-task-romain/models/model_15min_r2_58_84.pth\n",
      "\tTrain loss: 23.404 18.986 map valid loss: 24.726 valid r2 hr 0.769 valid r2 map 0.842\n",
      "/data2/yinterian/multi-task-romain/models/model_15min_r2_77_84.pth\n",
      "\tTrain loss: 23.718 18.742 map valid loss: 23.776 valid r2 hr 0.885 valid r2 map 0.849\n",
      "/data2/yinterian/multi-task-romain/models/model_15min_r2_88_85.pth\n",
      "\tTrain loss: 22.254 18.403 map valid loss: 23.949 valid r2 hr 0.910 valid r2 map 0.847\n",
      "\tTrain loss: 20.627 18.435 map valid loss: 24.096 valid r2 hr 0.904 valid r2 map 0.847\n",
      "\tTrain loss: 19.873 18.518 map valid loss: 23.169 valid r2 hr 0.911 valid r2 map 0.852\n",
      "/data2/yinterian/multi-task-romain/models/model_15min_r2_91_85.pth\n",
      "\tTrain loss: 19.683 17.621 map valid loss: 23.115 valid r2 hr 0.900 valid r2 map 0.853\n",
      "/data2/yinterian/multi-task-romain/models/model_15min_r2_90_85.pth\n",
      "\tTrain loss: 18.543 17.358 map valid loss: 23.982 valid r2 hr 0.905 valid r2 map 0.847\n",
      "\tTrain loss: 18.892 17.615 map valid loss: 23.738 valid r2 hr 0.912 valid r2 map 0.849\n",
      "\tTrain loss: 17.025 16.870 map valid loss: 25.004 valid r2 hr 0.916 valid r2 map 0.841\n",
      "\tTrain loss: 16.138 17.066 map valid loss: 24.500 valid r2 hr 0.900 valid r2 map 0.844\n",
      "\tTrain loss: 16.250 17.051 map valid loss: 23.698 valid r2 hr 0.913 valid r2 map 0.849\n",
      "\tTrain loss: 16.960 16.347 map valid loss: 24.482 valid r2 hr 0.913 valid r2 map 0.844\n",
      "\tTrain loss: 16.238 16.075 map valid loss: 23.996 valid r2 hr 0.914 valid r2 map 0.847\n",
      "\tTrain loss: 15.544 16.574 map valid loss: 24.740 valid r2 hr 0.916 valid r2 map 0.842\n",
      "\tTrain loss: 15.933 16.422 map valid loss: 23.639 valid r2 hr 0.917 valid r2 map 0.849\n",
      "\tTrain loss: 14.398 16.041 map valid loss: 23.855 valid r2 hr 0.909 valid r2 map 0.848\n",
      "\tTrain loss: 15.983 15.807 map valid loss: 24.393 valid r2 hr 0.909 valid r2 map 0.845\n",
      "\tTrain loss: 15.348 16.654 map valid loss: 24.472 valid r2 hr 0.910 valid r2 map 0.844\n",
      "\tTrain loss: 15.341 15.844 map valid loss: 25.178 valid r2 hr 0.919 valid r2 map 0.840\n",
      "\tTrain loss: 14.953 15.210 map valid loss: 24.508 valid r2 hr 0.916 valid r2 map 0.844\n",
      "\tTrain loss: 14.234 15.954 map valid loss: 24.596 valid r2 hr 0.916 valid r2 map 0.843\n",
      "\tTrain loss: 14.990 15.752 map valid loss: 24.615 valid r2 hr 0.911 valid r2 map 0.843\n"
     ]
    }
   ],
   "source": [
    "multiple_runs(num_subjects, single=False, basename=\"model_15min\", n=10)"
   ]
  },
  {
   "cell_type": "markdown",
   "metadata": {},
   "source": [
    "## Single model"
   ]
  },
  {
   "cell_type": "code",
   "execution_count": null,
   "metadata": {},
   "outputs": [],
   "source": [
    "def multiple_runs_single(num_subjects, single, basename=\"model_15min\", n=10):\n",
    "    best_score = 0\n",
    "    for i in range(n):\n",
    "        model = EventModel(num_subjects, single=single).cuda()\n",
    "        optimizer = torch.optim.Adam(model.parameters(), lr=0.04, weight_decay=1e-5)\n",
    "        score = train_epochs_map(model, train_ds, valid_dl, optimizer, filename=basename, epochs=15)\n",
    "        if score > best_score:\n",
    "            best_score = score\n",
    "        update_optimizer(optimizer, lr=0.02)\n",
    "        score = train_epochs_map(model, train_ds, valid_dl, optimizer, filename=basename, epochs=25)\n",
    "        if score > best_score:\n",
    "            best_score = score\n",
    "    return best_score "
   ]
  },
  {
   "cell_type": "code",
   "execution_count": null,
   "metadata": {},
   "outputs": [],
   "source": [
    "multiple_runs_single(num_subjects, True, basename=\"model_single_15min\", n=10)"
   ]
  }
 ],
 "metadata": {
  "kernelspec": {
   "display_name": "Python 3",
   "language": "python",
   "name": "python3"
  },
  "language_info": {
   "codemirror_mode": {
    "name": "ipython",
    "version": 3
   },
   "file_extension": ".py",
   "mimetype": "text/x-python",
   "name": "python",
   "nbconvert_exporter": "python",
   "pygments_lexer": "ipython3",
   "version": "3.7.6"
  },
  "toc": {
   "base_numbering": 1,
   "nav_menu": {},
   "number_sections": true,
   "sideBar": true,
   "skip_h1_title": false,
   "title_cell": "Table of Contents",
   "title_sidebar": "Contents",
   "toc_cell": false,
   "toc_position": {},
   "toc_section_display": true,
   "toc_window_display": false
  }
 },
 "nbformat": 4,
 "nbformat_minor": 2
}
