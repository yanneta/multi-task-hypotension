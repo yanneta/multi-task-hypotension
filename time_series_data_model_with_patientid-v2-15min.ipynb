{
 "cells": [
  {
   "cell_type": "code",
   "execution_count": 1,
   "metadata": {},
   "outputs": [],
   "source": [
    "%reload_ext autoreload\n",
    "%autoreload 2\n",
    "%matplotlib inline\n",
    "import matplotlib\n",
    "import matplotlib.pyplot as plt\n",
    "\n",
    "import numpy as np\n",
    "import pandas as pd\n",
    "\n",
    "from pathlib import Path\n",
    "from sklearn import metrics\n",
    "import random\n",
    "\n",
    "import torch\n",
    "from torch.utils.data import Dataset, DataLoader\n",
    "import torch.optim as optim\n",
    "import torch.nn as nn\n",
    "import torch.nn.functional as F\n",
    "from torchvision import models\n",
    "import torchvision\n",
    "\n",
    "from datetime import datetime\n",
    "from collections import OrderedDict"
   ]
  },
  {
   "cell_type": "code",
   "execution_count": 2,
   "metadata": {},
   "outputs": [],
   "source": [
    "import pickle"
   ]
  },
  {
   "cell_type": "code",
   "execution_count": 3,
   "metadata": {},
   "outputs": [],
   "source": [
    "PATH = Path(\"/data2/yinterian/multi-task-romain\")"
   ]
  },
  {
   "cell_type": "code",
   "execution_count": 4,
   "metadata": {},
   "outputs": [
    {
     "data": {
      "text/plain": [
       "'15min'"
      ]
     },
     "execution_count": 4,
     "metadata": {},
     "output_type": "execute_result"
    }
   ],
   "source": [
    "gap = \"15min\"\n",
    "gap"
   ]
  },
  {
   "cell_type": "code",
   "execution_count": 5,
   "metadata": {},
   "outputs": [],
   "source": [
    "filename = \"data_train_{gap}.pickle\".format(gap=gap)\n",
    "with open(PATH/filename, 'rb') as f:\n",
    "    train = pickle.load(f)"
   ]
  },
  {
   "cell_type": "code",
   "execution_count": 6,
   "metadata": {},
   "outputs": [],
   "source": [
    "filename = \"data_valid_{gap}.pickle\".format(gap=gap)\n",
    "with open(PATH/filename, 'rb') as f:\n",
    "    valid = pickle.load(f)"
   ]
  },
  {
   "cell_type": "code",
   "execution_count": 7,
   "metadata": {},
   "outputs": [
    {
     "data": {
      "text/html": [
       "<div>\n",
       "<style scoped>\n",
       "    .dataframe tbody tr th:only-of-type {\n",
       "        vertical-align: middle;\n",
       "    }\n",
       "\n",
       "    .dataframe tbody tr th {\n",
       "        vertical-align: top;\n",
       "    }\n",
       "\n",
       "    .dataframe thead th {\n",
       "        text-align: right;\n",
       "    }\n",
       "</style>\n",
       "<table border=\"1\" class=\"dataframe\">\n",
       "  <thead>\n",
       "    <tr style=\"text-align: right;\">\n",
       "      <th></th>\n",
       "      <th>subject_id</th>\n",
       "      <th>key</th>\n",
       "      <th>gender</th>\n",
       "      <th>age</th>\n",
       "      <th>sapsii</th>\n",
       "      <th>sofa</th>\n",
       "      <th>care_unit</th>\n",
       "      <th>amine</th>\n",
       "      <th>sedation</th>\n",
       "      <th>ventilation</th>\n",
       "      <th>prediction_mean_HR</th>\n",
       "      <th>prediction_mean_MAP</th>\n",
       "      <th>series</th>\n",
       "      <th>group</th>\n",
       "    </tr>\n",
       "  </thead>\n",
       "  <tbody>\n",
       "    <tr>\n",
       "      <th>0</th>\n",
       "      <td>10013</td>\n",
       "      <td>10013_15</td>\n",
       "      <td>1</td>\n",
       "      <td>87</td>\n",
       "      <td>49</td>\n",
       "      <td>7</td>\n",
       "      <td>3</td>\n",
       "      <td>1</td>\n",
       "      <td>0</td>\n",
       "      <td>1</td>\n",
       "      <td>104.56</td>\n",
       "      <td>64.26</td>\n",
       "      <td>[[95.8, 93.0, 103.8, 34.8, 54.8], [99.2, 93.9,...</td>\n",
       "      <td>0</td>\n",
       "    </tr>\n",
       "    <tr>\n",
       "      <th>1</th>\n",
       "      <td>10013</td>\n",
       "      <td>10013_16</td>\n",
       "      <td>1</td>\n",
       "      <td>87</td>\n",
       "      <td>49</td>\n",
       "      <td>7</td>\n",
       "      <td>3</td>\n",
       "      <td>1</td>\n",
       "      <td>0</td>\n",
       "      <td>1</td>\n",
       "      <td>102.08</td>\n",
       "      <td>68.28</td>\n",
       "      <td>[[106.7, 95.3, 115.4, 41.5, 65.0], [107.4, 95....</td>\n",
       "      <td>0</td>\n",
       "    </tr>\n",
       "    <tr>\n",
       "      <th>2</th>\n",
       "      <td>10013</td>\n",
       "      <td>10013_19</td>\n",
       "      <td>1</td>\n",
       "      <td>87</td>\n",
       "      <td>49</td>\n",
       "      <td>7</td>\n",
       "      <td>3</td>\n",
       "      <td>1</td>\n",
       "      <td>0</td>\n",
       "      <td>1</td>\n",
       "      <td>100.22</td>\n",
       "      <td>65.62</td>\n",
       "      <td>[[95.4, 92.0, 133.3, 56.1, 83.0], [98.2, 91.9,...</td>\n",
       "      <td>0</td>\n",
       "    </tr>\n",
       "    <tr>\n",
       "      <th>3</th>\n",
       "      <td>10013</td>\n",
       "      <td>10013_20</td>\n",
       "      <td>1</td>\n",
       "      <td>87</td>\n",
       "      <td>49</td>\n",
       "      <td>7</td>\n",
       "      <td>3</td>\n",
       "      <td>1</td>\n",
       "      <td>0</td>\n",
       "      <td>1</td>\n",
       "      <td>106.44</td>\n",
       "      <td>57.74</td>\n",
       "      <td>[[100.0, 94.6, 108.4, 39.0, 63.1], [102.3, 94....</td>\n",
       "      <td>0</td>\n",
       "    </tr>\n",
       "    <tr>\n",
       "      <th>4</th>\n",
       "      <td>10013</td>\n",
       "      <td>10013_22</td>\n",
       "      <td>1</td>\n",
       "      <td>87</td>\n",
       "      <td>49</td>\n",
       "      <td>7</td>\n",
       "      <td>3</td>\n",
       "      <td>1</td>\n",
       "      <td>0</td>\n",
       "      <td>1</td>\n",
       "      <td>93.88</td>\n",
       "      <td>56.74</td>\n",
       "      <td>[[99.8, 91.6, 89.9, 37.7, 57.0], [99.3, 91.1, ...</td>\n",
       "      <td>0</td>\n",
       "    </tr>\n",
       "  </tbody>\n",
       "</table>\n",
       "</div>"
      ],
      "text/plain": [
       "  subject_id       key gender age sapsii sofa care_unit amine sedation  \\\n",
       "0      10013  10013_15      1  87     49    7         3     1        0   \n",
       "1      10013  10013_16      1  87     49    7         3     1        0   \n",
       "2      10013  10013_19      1  87     49    7         3     1        0   \n",
       "3      10013  10013_20      1  87     49    7         3     1        0   \n",
       "4      10013  10013_22      1  87     49    7         3     1        0   \n",
       "\n",
       "  ventilation prediction_mean_HR prediction_mean_MAP  \\\n",
       "0           1             104.56               64.26   \n",
       "1           1             102.08               68.28   \n",
       "2           1             100.22               65.62   \n",
       "3           1             106.44               57.74   \n",
       "4           1              93.88               56.74   \n",
       "\n",
       "                                              series  group  \n",
       "0  [[95.8, 93.0, 103.8, 34.8, 54.8], [99.2, 93.9,...      0  \n",
       "1  [[106.7, 95.3, 115.4, 41.5, 65.0], [107.4, 95....      0  \n",
       "2  [[95.4, 92.0, 133.3, 56.1, 83.0], [98.2, 91.9,...      0  \n",
       "3  [[100.0, 94.6, 108.4, 39.0, 63.1], [102.3, 94....      0  \n",
       "4  [[99.8, 91.6, 89.9, 37.7, 57.0], [99.3, 91.1, ...      0  "
      ]
     },
     "execution_count": 7,
     "metadata": {},
     "output_type": "execute_result"
    }
   ],
   "source": [
    "train.head()"
   ]
  },
  {
   "cell_type": "code",
   "execution_count": 8,
   "metadata": {},
   "outputs": [
    {
     "data": {
      "text/html": [
       "<div>\n",
       "<style scoped>\n",
       "    .dataframe tbody tr th:only-of-type {\n",
       "        vertical-align: middle;\n",
       "    }\n",
       "\n",
       "    .dataframe tbody tr th {\n",
       "        vertical-align: top;\n",
       "    }\n",
       "\n",
       "    .dataframe thead th {\n",
       "        text-align: right;\n",
       "    }\n",
       "</style>\n",
       "<table border=\"1\" class=\"dataframe\">\n",
       "  <thead>\n",
       "    <tr style=\"text-align: right;\">\n",
       "      <th></th>\n",
       "      <th>subject_id</th>\n",
       "      <th>key</th>\n",
       "      <th>gender</th>\n",
       "      <th>age</th>\n",
       "      <th>sapsii</th>\n",
       "      <th>sofa</th>\n",
       "      <th>care_unit</th>\n",
       "      <th>amine</th>\n",
       "      <th>sedation</th>\n",
       "      <th>ventilation</th>\n",
       "      <th>prediction_mean_HR</th>\n",
       "      <th>prediction_mean_MAP</th>\n",
       "      <th>series</th>\n",
       "      <th>group</th>\n",
       "    </tr>\n",
       "  </thead>\n",
       "  <tbody>\n",
       "    <tr>\n",
       "      <th>1000</th>\n",
       "      <td>11018</td>\n",
       "      <td>11018_23</td>\n",
       "      <td>0</td>\n",
       "      <td>67</td>\n",
       "      <td>47</td>\n",
       "      <td>1</td>\n",
       "      <td>1</td>\n",
       "      <td>0</td>\n",
       "      <td>0</td>\n",
       "      <td>0</td>\n",
       "      <td>76.04</td>\n",
       "      <td>69.9867</td>\n",
       "      <td>[[79.0, 96.0, 98.0, 60.0, 71.0], [80.0, 95.0, ...</td>\n",
       "      <td>1</td>\n",
       "    </tr>\n",
       "    <tr>\n",
       "      <th>1001</th>\n",
       "      <td>11018</td>\n",
       "      <td>11018_24</td>\n",
       "      <td>0</td>\n",
       "      <td>67</td>\n",
       "      <td>47</td>\n",
       "      <td>1</td>\n",
       "      <td>1</td>\n",
       "      <td>0</td>\n",
       "      <td>0</td>\n",
       "      <td>0</td>\n",
       "      <td>75.24</td>\n",
       "      <td>74.6167</td>\n",
       "      <td>[[77.0, 97.0, 99.0, 59.0, 72.0], [75.0, 97.0, ...</td>\n",
       "      <td>1</td>\n",
       "    </tr>\n",
       "    <tr>\n",
       "      <th>1002</th>\n",
       "      <td>11018</td>\n",
       "      <td>11018_26</td>\n",
       "      <td>0</td>\n",
       "      <td>67</td>\n",
       "      <td>47</td>\n",
       "      <td>1</td>\n",
       "      <td>1</td>\n",
       "      <td>0</td>\n",
       "      <td>0</td>\n",
       "      <td>0</td>\n",
       "      <td>81.42</td>\n",
       "      <td>80.19</td>\n",
       "      <td>[[81.0, 96.0, 109.0, 66.0, 80.0], [80.0, 96.0,...</td>\n",
       "      <td>1</td>\n",
       "    </tr>\n",
       "    <tr>\n",
       "      <th>1003</th>\n",
       "      <td>11018</td>\n",
       "      <td>11018_27</td>\n",
       "      <td>0</td>\n",
       "      <td>67</td>\n",
       "      <td>47</td>\n",
       "      <td>1</td>\n",
       "      <td>1</td>\n",
       "      <td>0</td>\n",
       "      <td>0</td>\n",
       "      <td>0</td>\n",
       "      <td>81.3867</td>\n",
       "      <td>83.5367</td>\n",
       "      <td>[[80.0, 94.0, 113.0, 65.0, 80.0], [83.0, 94.0,...</td>\n",
       "      <td>1</td>\n",
       "    </tr>\n",
       "    <tr>\n",
       "      <th>1004</th>\n",
       "      <td>11018</td>\n",
       "      <td>11018_28</td>\n",
       "      <td>0</td>\n",
       "      <td>67</td>\n",
       "      <td>47</td>\n",
       "      <td>1</td>\n",
       "      <td>1</td>\n",
       "      <td>0</td>\n",
       "      <td>0</td>\n",
       "      <td>0</td>\n",
       "      <td>79.7367</td>\n",
       "      <td>82.6133</td>\n",
       "      <td>[[84.0, 95.0, 114.0, 67.0, 81.0], [81.0, 94.0,...</td>\n",
       "      <td>1</td>\n",
       "    </tr>\n",
       "  </tbody>\n",
       "</table>\n",
       "</div>"
      ],
      "text/plain": [
       "     subject_id       key gender age sapsii sofa care_unit amine sedation  \\\n",
       "1000      11018  11018_23      0  67     47    1         1     0        0   \n",
       "1001      11018  11018_24      0  67     47    1         1     0        0   \n",
       "1002      11018  11018_26      0  67     47    1         1     0        0   \n",
       "1003      11018  11018_27      0  67     47    1         1     0        0   \n",
       "1004      11018  11018_28      0  67     47    1         1     0        0   \n",
       "\n",
       "     ventilation prediction_mean_HR prediction_mean_MAP  \\\n",
       "1000           0              76.04             69.9867   \n",
       "1001           0              75.24             74.6167   \n",
       "1002           0              81.42               80.19   \n",
       "1003           0            81.3867             83.5367   \n",
       "1004           0            79.7367             82.6133   \n",
       "\n",
       "                                                 series  group  \n",
       "1000  [[79.0, 96.0, 98.0, 60.0, 71.0], [80.0, 95.0, ...      1  \n",
       "1001  [[77.0, 97.0, 99.0, 59.0, 72.0], [75.0, 97.0, ...      1  \n",
       "1002  [[81.0, 96.0, 109.0, 66.0, 80.0], [80.0, 96.0,...      1  \n",
       "1003  [[80.0, 94.0, 113.0, 65.0, 80.0], [83.0, 94.0,...      1  \n",
       "1004  [[84.0, 95.0, 114.0, 67.0, 81.0], [81.0, 94.0,...      1  "
      ]
     },
     "execution_count": 8,
     "metadata": {},
     "output_type": "execute_result"
    }
   ],
   "source": [
    "valid.head()"
   ]
  },
  {
   "cell_type": "code",
   "execution_count": 9,
   "metadata": {},
   "outputs": [
    {
     "data": {
      "text/plain": [
       "((42830, 14), (5069, 14))"
      ]
     },
     "execution_count": 9,
     "metadata": {},
     "output_type": "execute_result"
    }
   ],
   "source": [
    "train.shape, valid.shape"
   ]
  },
  {
   "cell_type": "code",
   "execution_count": 10,
   "metadata": {},
   "outputs": [],
   "source": [
    "subject_id_list = np.sort(np.unique(train.subject_id.values))\n",
    "id2index = {v: k+1 for k,v in enumerate(subject_id_list)}\n",
    "num_subjects = len(subject_id_list)"
   ]
  },
  {
   "cell_type": "code",
   "execution_count": 11,
   "metadata": {},
   "outputs": [
    {
     "data": {
      "text/plain": [
       "2170"
      ]
     },
     "execution_count": 11,
     "metadata": {},
     "output_type": "execute_result"
    }
   ],
   "source": [
    "num_subjects"
   ]
  },
  {
   "cell_type": "markdown",
   "metadata": {},
   "source": [
    "## Dataset"
   ]
  },
  {
   "cell_type": "code",
   "execution_count": 12,
   "metadata": {},
   "outputs": [],
   "source": [
    "def get_mean_std_series(train):\n",
    "    ss = np.concatenate(train.series.values)\n",
    "    ss = ss.reshape(-1,5)\n",
    "    return ss.mean(axis=0), ss.std(axis=0)"
   ]
  },
  {
   "cell_type": "code",
   "execution_count": 13,
   "metadata": {},
   "outputs": [],
   "source": [
    "def get_mean_std_static(train):\n",
    "    res = {}\n",
    "    for name in [\"age\", \"sapsii\", \"sofa\"]:\n",
    "        values = train[name].values\n",
    "        res[name] = (values.mean(), values.std())\n",
    "    res[\"series\"] = get_mean_std_series(train)\n",
    "    return res"
   ]
  },
  {
   "cell_type": "code",
   "execution_count": 14,
   "metadata": {},
   "outputs": [
    {
     "data": {
      "text/plain": [
       "{'age': (64, 15.087455295966063),\n",
       " 'sapsii': (33, 14.265492481117855),\n",
       " 'sofa': (4, 3.7831641172054082),\n",
       " 'series': (array([ 83.19453341,  93.64397046, 121.07613603,  58.73969887,\n",
       "          78.6694367 ]),\n",
       "  array([16.08727268, 17.53684697, 21.3399693 , 12.26982071, 14.36323955]))}"
      ]
     },
     "execution_count": 14,
     "metadata": {},
     "output_type": "execute_result"
    }
   ],
   "source": [
    "norm_dict = get_mean_std_static(train)\n",
    "norm_dict "
   ]
  },
  {
   "cell_type": "code",
   "execution_count": 15,
   "metadata": {},
   "outputs": [
    {
     "data": {
      "text/plain": [
       "{1: 0, 2: 1, 3: 2, 5: 3, 6: 4}"
      ]
     },
     "execution_count": 15,
     "metadata": {},
     "output_type": "execute_result"
    }
   ],
   "source": [
    "care2id = {v:k for k,v in enumerate(np.unique(train.care_unit.values))}\n",
    "care2id "
   ]
  },
  {
   "cell_type": "code",
   "execution_count": 41,
   "metadata": {},
   "outputs": [],
   "source": [
    "class MultiTask(Dataset):\n",
    "    def __init__(self, df, norm_dict, id2index, care2id,  k=20, train=True):\n",
    "        \"\"\"\n",
    "        Args:\n",
    "            df: dataframe with data\n",
    "            norm_dict: mean and std of all variables to normalize\n",
    "            \n",
    "        \"\"\"\n",
    "        self.norm_dict = norm_dict\n",
    "        self.df = df\n",
    "        self.df[\"care_unit\"] = self.df[\"care_unit\"].apply(lambda x: care2id[x])\n",
    "        self.names = [\"age\", \"sapsii\", \"sofa\"] ## needs normalization\n",
    "        self.names_binary = [\"gender\", \"amine\", \"sedation\", \"ventilation\"]\n",
    "        self.id2index = id2index\n",
    "        self.train = train\n",
    "        self.df_sample = self.pick_a_sample(k)\n",
    "            \n",
    "    def pick_a_sample(self, k=20):\n",
    "        \"\"\" Picks sample with the same number of observations per patient\"\"\"\n",
    "        #if not self.train: # fix seed for validation and test\n",
    "        #    np.random.seed(3)\n",
    "        sample = self.df.groupby(\"subject_id\", group_keys=False).apply(lambda x: x.sample(k, replace=True))\n",
    "        sample = sample.copy()\n",
    "        if self.train:\n",
    "            self.subject_index = [self.id2index[subject_id] for subject_id in sample.subject_id.values]\n",
    "            self.random = np.random.choice(2, sample.shape[0], p=[0.1, 0.9])\n",
    "            self.subject_index = self.subject_index*self.random\n",
    "        return sample\n",
    "\n",
    "    def __getitem__(self, index):\n",
    "        row = self.df_sample.iloc[index,:]\n",
    "        x_series = (row.series - self.norm_dict[\"series\"][0])/self.norm_dict[\"series\"][1]\n",
    "        x_cont = [(row[name]-self.norm_dict[name][0])/self.norm_dict[name][1] for name in self.names]\n",
    "        x_binary = [row[name] for name in self.names_binary]\n",
    "        subject_index = 0\n",
    "        if self.train:\n",
    "            subject_index = self.subject_index[index]\n",
    "        x_cat = np.array([row[\"care_unit\"], subject_index])\n",
    "        x_cont = np.array(x_cont + x_binary)\n",
    "        return x_series, x_cont, x_cat, row[\"prediction_mean_HR\"], row[\"prediction_mean_MAP\"]\n",
    "\n",
    "    def __len__(self):\n",
    "        return self.df_sample.shape[0]"
   ]
  },
  {
   "cell_type": "code",
   "execution_count": 17,
   "metadata": {},
   "outputs": [],
   "source": [
    "train_ds = MultiTask(train, norm_dict, id2index, care2id)\n",
    "valid_ds = MultiTask(valid, norm_dict, id2index, care2id, train=False)"
   ]
  },
  {
   "cell_type": "code",
   "execution_count": 18,
   "metadata": {},
   "outputs": [],
   "source": [
    "x1, x2, x3, y1, y2 = train_ds[12]"
   ]
  },
  {
   "cell_type": "code",
   "execution_count": 19,
   "metadata": {},
   "outputs": [
    {
     "data": {
      "text/plain": [
       "array([1, 1])"
      ]
     },
     "execution_count": 19,
     "metadata": {},
     "output_type": "execute_result"
    }
   ],
   "source": [
    "x3"
   ]
  },
  {
   "cell_type": "code",
   "execution_count": 20,
   "metadata": {},
   "outputs": [
    {
     "data": {
      "text/plain": [
       "256"
      ]
     },
     "execution_count": 20,
     "metadata": {},
     "output_type": "execute_result"
    }
   ],
   "source": [
    "id2index[10320]"
   ]
  },
  {
   "cell_type": "code",
   "execution_count": 21,
   "metadata": {},
   "outputs": [],
   "source": [
    "batch_size = 30\n",
    "train_dl = DataLoader(train_ds, batch_size=batch_size, shuffle=True)\n",
    "valid_dl = DataLoader(valid_ds, batch_size=batch_size)"
   ]
  },
  {
   "cell_type": "code",
   "execution_count": 22,
   "metadata": {},
   "outputs": [],
   "source": [
    "x_series, x_cont, x_cat, y1, y2 = next(iter(train_dl))"
   ]
  },
  {
   "cell_type": "code",
   "execution_count": 23,
   "metadata": {},
   "outputs": [],
   "source": [
    "x_series = x_series.cuda()"
   ]
  },
  {
   "cell_type": "code",
   "execution_count": 24,
   "metadata": {},
   "outputs": [
    {
     "data": {
      "text/plain": [
       "torch.Size([30, 30, 5])"
      ]
     },
     "execution_count": 24,
     "metadata": {},
     "output_type": "execute_result"
    }
   ],
   "source": [
    "x_series.shape"
   ]
  },
  {
   "cell_type": "code",
   "execution_count": 25,
   "metadata": {},
   "outputs": [
    {
     "data": {
      "text/plain": [
       "torch.Size([30, 7])"
      ]
     },
     "execution_count": 25,
     "metadata": {},
     "output_type": "execute_result"
    }
   ],
   "source": [
    "x_cont.shape"
   ]
  },
  {
   "cell_type": "code",
   "execution_count": 26,
   "metadata": {},
   "outputs": [
    {
     "data": {
      "text/plain": [
       "tensor([ 65.7072,  81.4600,  87.9800,  92.0600, 100.5808,  94.4268,  65.3700,\n",
       "         96.0000, 104.3668,  83.9398,  79.2033, 102.2298,  97.8898,  76.0967,\n",
       "         90.8400, 114.3667,  82.1900,  76.6370,  70.6333,  82.4036,  53.7267,\n",
       "         86.8800,   0.0000,  70.5032,  89.4868,  72.0633,  73.7033,  60.0000,\n",
       "        110.1500,  77.2400])"
      ]
     },
     "execution_count": 26,
     "metadata": {},
     "output_type": "execute_result"
    }
   ],
   "source": [
    "y1"
   ]
  },
  {
   "cell_type": "code",
   "execution_count": 27,
   "metadata": {},
   "outputs": [
    {
     "data": {
      "text/plain": [
       "tensor([ 99.2276, 115.2200,  76.0200, 133.0000,  66.2254,  91.8836,  77.0000,\n",
       "         88.3400,  67.8270,  77.7462,  76.0000,  90.8640,  63.3972,  84.0000,\n",
       "        101.0000,  97.0000,  66.0000,  57.5242,  71.5333,  68.0034,  63.0000,\n",
       "        102.5200,  70.3800,  63.9898, 119.3696, 100.6667,  91.2367,  70.1933,\n",
       "         88.2433,  76.9800])"
      ]
     },
     "execution_count": 27,
     "metadata": {},
     "output_type": "execute_result"
    }
   ],
   "source": [
    "y2"
   ]
  },
  {
   "cell_type": "code",
   "execution_count": 28,
   "metadata": {},
   "outputs": [
    {
     "data": {
      "text/plain": [
       "torch.Size([30, 2])"
      ]
     },
     "execution_count": 28,
     "metadata": {},
     "output_type": "execute_result"
    }
   ],
   "source": [
    "x_cat.shape"
   ]
  },
  {
   "cell_type": "markdown",
   "metadata": {},
   "source": [
    "## Model"
   ]
  },
  {
   "cell_type": "code",
   "execution_count": 29,
   "metadata": {},
   "outputs": [],
   "source": [
    "def save_model(m, p): torch.save(m.state_dict(), p)\n",
    "    \n",
    "def load_model(m, p): m.load_state_dict(torch.load(p))"
   ]
  },
  {
   "cell_type": "code",
   "execution_count": 30,
   "metadata": {},
   "outputs": [],
   "source": [
    "class EventModel1(nn.Module):\n",
    "    def __init__(self, hidden_size=100):\n",
    "        super(EventModel1, self).__init__()\n",
    "        self.embedding1 = nn.Embedding(5, 1)\n",
    "        self.embedding2 = nn.Embedding(num_subjects+1, 5)\n",
    "        self.gru = nn.GRU(5, hidden_size, batch_first=True)\n",
    "        self.num = hidden_size + 10 + 1 + 5\n",
    "        self.linear1 = nn.Linear(7, 10)\n",
    "        self.out1 = nn.Linear(self.num, 1)\n",
    "        self.out2 = nn.Linear(self.num, 1)\n",
    "        self.bn1 = nn.BatchNorm1d(10)\n",
    "\n",
    "    def forward(self, x_series, x_cont, x_cat):\n",
    "        _, ht = self.gru(x_series)\n",
    "        x_cat_1 = self.embedding1(x_cat[:,0])\n",
    "        x_cat_2 = self.embedding2(x_cat[:,1])\n",
    "        x_cont = self.bn1(F.relu(self.linear1(x_cont))) \n",
    "        x = torch.cat((ht[-1], x_cat_1, x_cat_2, x_cont), 1)\n",
    "        return self.out1(x), self.out2(x)"
   ]
  },
  {
   "cell_type": "code",
   "execution_count": 31,
   "metadata": {},
   "outputs": [],
   "source": [
    "def val_metrics(model, valid_dl):\n",
    "    model.eval()\n",
    "    total = 0\n",
    "    sum_loss = 0\n",
    "    y_hat1 = []\n",
    "    ys1 = []\n",
    "    y_hat2 = []\n",
    "    ys2 = []\n",
    "    for x_series, x_cont, x_cat, y1, y2 in valid_dl:\n",
    "        batch = y1.shape[0]\n",
    "        x_series = x_series.float().cuda()\n",
    "        x_cont = x_cont.float().cuda()\n",
    "        x_cat = x_cat.long().cuda()\n",
    "        y1 = y1.float().cuda()\n",
    "        y2 = y2.float().cuda()\n",
    "        out1, out2 = model(x_series, x_cont, x_cat)\n",
    "        mse_loss1 = F.mse_loss(out1, y1.unsqueeze(-1))\n",
    "        mse_loss2 = F.mse_loss(out2, y2.unsqueeze(-1))\n",
    "        loss = mse_loss1 + mse_loss2\n",
    "        sum_loss += batch*(loss.item())\n",
    "        total += batch\n",
    "        y_hat1.append(out1.view(-1).detach().cpu().numpy())\n",
    "        ys1.append(y1.view(-1).cpu().numpy())\n",
    "        y_hat2.append(out2.view(-1).detach().cpu().numpy())\n",
    "        ys2.append(y2.view(-1).cpu().numpy())\n",
    "    \n",
    "    y_hat1 = np.concatenate(y_hat1)\n",
    "    y_hat2 = np.concatenate(y_hat2)\n",
    "    ys1 = np.concatenate(ys1)\n",
    "    ys2 = np.concatenate(ys2)\n",
    "    r2_1 = metrics.r2_score(ys1, y_hat1)\n",
    "    r2_2 = metrics.r2_score(ys2, y_hat2)\n",
    "    return sum_loss/total, r2_1, r2_2"
   ]
  },
  {
   "cell_type": "code",
   "execution_count": 32,
   "metadata": {},
   "outputs": [],
   "source": [
    "def train_epochs(model, train_ds, optimizer, filename, lr=1e-3, epochs = 30):\n",
    "    prev_val_r2 = 0\n",
    "    for i in range(epochs):\n",
    "        sum_loss1 = 0\n",
    "        sum_loss2 = 0\n",
    "        total = 0\n",
    "        train_ds.pick_a_sample()\n",
    "        train_dl = DataLoader(train_ds, batch_size=5000, shuffle=True)\n",
    "        for x_series, x_cont, x_cat, y1, y2 in train_dl:\n",
    "            model.train()\n",
    "            x_series = x_series.float().cuda()\n",
    "            x_cont = x_cont.float().cuda()\n",
    "            x_cat = x_cat.long().cuda()\n",
    "            y1 = y1.float().cuda()\n",
    "            y2 = y2.float().cuda()\n",
    "            out1, out2 = model(x_series, x_cont, x_cat)\n",
    "            mse_loss1 = F.mse_loss(out1, y1.unsqueeze(-1))\n",
    "            mse_loss2 = F.mse_loss(out2, y2.unsqueeze(-1))\n",
    "            loss = mse_loss1 + mse_loss2\n",
    "            sum_loss1 += len(y1) * mse_loss1.item()\n",
    "            sum_loss2 += len(y1) * mse_loss2.item()\n",
    "            total += len(y1)\n",
    "            optimizer.zero_grad()\n",
    "            loss.backward()\n",
    "            optimizer.step()\n",
    "        if i % 1 == 0:\n",
    "            val_loss, val_r2_1, val_r2_2 = val_metrics(model, valid_dl)\n",
    "            print(\"\\tTrain loss: {:.3f} {:.3f} valid loss: {:.3f} valid r2 hr {:.3f} valid r2 map {:.3f}\".format(\n",
    "                sum_loss1/total, sum_loss2/total, val_loss, val_r2_1, val_r2_2))\n",
    "            \n",
    "        if val_r2_1 > prev_val_r2:\n",
    "            prev_val_r2 = val_r2_1\n",
    "            if val_r2_1 > 0.7:\n",
    "                path = \"{0}/models/{1}_r2_{2:.0f}_{3:.0f}.pth\".format(PATH, filename, 100*val_r2_1, 100*val_r2_2) \n",
    "                save_model(model, path)\n",
    "                print(path)"
   ]
  },
  {
   "cell_type": "code",
   "execution_count": 33,
   "metadata": {},
   "outputs": [],
   "source": [
    "batch_size = 5000\n",
    "train_dl = DataLoader(train_ds, batch_size=batch_size, shuffle=True)\n",
    "valid_dl = DataLoader(valid_ds, batch_size=batch_size)"
   ]
  },
  {
   "cell_type": "code",
   "execution_count": 34,
   "metadata": {},
   "outputs": [],
   "source": [
    "model = EventModel1().cuda()"
   ]
  },
  {
   "cell_type": "code",
   "execution_count": 35,
   "metadata": {},
   "outputs": [
    {
     "data": {
      "text/plain": [
       "(13702.715812683105, -26.224443227188655, -30.354568292723446)"
      ]
     },
     "execution_count": 35,
     "metadata": {},
     "output_type": "execute_result"
    }
   ],
   "source": [
    "val_metrics(model, valid_dl)"
   ]
  },
  {
   "cell_type": "code",
   "execution_count": 36,
   "metadata": {},
   "outputs": [
    {
     "name": "stdout",
     "output_type": "stream",
     "text": [
      "\tTrain loss: 5147.211 4469.503 valid loss: 4327.131 valid r2 hr -8.136 valid r2 map -8.168\n",
      "\tTrain loss: 1242.111 943.046 valid loss: 402.417 valid r2 hr 0.155 valid r2 map 0.142\n",
      "\tTrain loss: 242.910 232.833 valid loss: 881.007 valid r2 hr -0.657 valid r2 map -1.143\n",
      "\tTrain loss: 212.862 158.328 valid loss: 248.976 valid r2 hr 0.433 valid r2 map 0.529\n",
      "\tTrain loss: 79.515 62.906 valid loss: 222.345 valid r2 hr 0.547 valid r2 map 0.506\n",
      "\tTrain loss: 73.210 73.685 valid loss: 124.243 valid r2 hr 0.758 valid r2 map 0.709\n",
      "/data2/yinterian/multi-task-romain/models/model1_15min_r2_76_71.pth\n",
      "\tTrain loss: 43.107 48.549 valid loss: 116.986 valid r2 hr 0.793 valid r2 map 0.697\n",
      "/data2/yinterian/multi-task-romain/models/model1_15min_r2_79_70.pth\n",
      "\tTrain loss: 36.361 43.455 valid loss: 107.935 valid r2 hr 0.798 valid r2 map 0.737\n",
      "/data2/yinterian/multi-task-romain/models/model1_15min_r2_80_74.pth\n",
      "\tTrain loss: 32.285 38.191 valid loss: 96.258 valid r2 hr 0.816 valid r2 map 0.770\n",
      "/data2/yinterian/multi-task-romain/models/model1_15min_r2_82_77.pth\n",
      "\tTrain loss: 29.251 34.687 valid loss: 91.316 valid r2 hr 0.826 valid r2 map 0.781\n",
      "/data2/yinterian/multi-task-romain/models/model1_15min_r2_83_78.pth\n",
      "\tTrain loss: 26.728 32.306 valid loss: 86.567 valid r2 hr 0.836 valid r2 map 0.791\n",
      "/data2/yinterian/multi-task-romain/models/model1_15min_r2_84_79.pth\n",
      "\tTrain loss: 24.539 30.070 valid loss: 81.670 valid r2 hr 0.845 valid r2 map 0.804\n",
      "/data2/yinterian/multi-task-romain/models/model1_15min_r2_84_80.pth\n",
      "\tTrain loss: 22.886 28.051 valid loss: 77.346 valid r2 hr 0.853 valid r2 map 0.814\n",
      "/data2/yinterian/multi-task-romain/models/model1_15min_r2_85_81.pth\n",
      "\tTrain loss: 21.473 26.276 valid loss: 73.759 valid r2 hr 0.857 valid r2 map 0.826\n",
      "/data2/yinterian/multi-task-romain/models/model1_15min_r2_86_83.pth\n",
      "\tTrain loss: 20.562 25.139 valid loss: 70.862 valid r2 hr 0.863 valid r2 map 0.833\n",
      "/data2/yinterian/multi-task-romain/models/model1_15min_r2_86_83.pth\n"
     ]
    }
   ],
   "source": [
    "# 0s in training\n",
    "model = EventModel1().cuda()\n",
    "optimizer = torch.optim.Adam(model.parameters(), lr=0.05, weight_decay=1e-5)\n",
    "train_epochs(model, train_ds, optimizer, filename=\"model1_15min\", epochs=15)"
   ]
  },
  {
   "cell_type": "code",
   "execution_count": 37,
   "metadata": {},
   "outputs": [
    {
     "name": "stdout",
     "output_type": "stream",
     "text": [
      "\tTrain loss: 22.978 26.384 valid loss: 66.983 valid r2 hr 0.875 valid r2 map 0.836\n",
      "/data2/yinterian/multi-task-romain/models/model1_15min_r2_87_84.pth\n",
      "\tTrain loss: 19.653 22.775 valid loss: 58.882 valid r2 hr 0.887 valid r2 map 0.860\n",
      "/data2/yinterian/multi-task-romain/models/model1_15min_r2_89_86.pth\n",
      "\tTrain loss: 16.301 20.550 valid loss: 54.326 valid r2 hr 0.894 valid r2 map 0.873\n",
      "/data2/yinterian/multi-task-romain/models/model1_15min_r2_89_87.pth\n",
      "\tTrain loss: 15.020 19.343 valid loss: 51.617 valid r2 hr 0.900 valid r2 map 0.878\n",
      "/data2/yinterian/multi-task-romain/models/model1_15min_r2_90_88.pth\n",
      "\tTrain loss: 14.016 18.302 valid loss: 46.860 valid r2 hr 0.916 valid r2 map 0.881\n",
      "/data2/yinterian/multi-task-romain/models/model1_15min_r2_92_88.pth\n",
      "\tTrain loss: 13.170 17.528 valid loss: 44.110 valid r2 hr 0.921 valid r2 map 0.887\n",
      "/data2/yinterian/multi-task-romain/models/model1_15min_r2_92_89.pth\n",
      "\tTrain loss: 12.372 16.931 valid loss: 40.295 valid r2 hr 0.928 valid r2 map 0.897\n",
      "/data2/yinterian/multi-task-romain/models/model1_15min_r2_93_90.pth\n",
      "\tTrain loss: 12.090 16.331 valid loss: 38.394 valid r2 hr 0.935 valid r2 map 0.897\n",
      "/data2/yinterian/multi-task-romain/models/model1_15min_r2_93_90.pth\n",
      "\tTrain loss: 11.387 16.063 valid loss: 37.429 valid r2 hr 0.937 valid r2 map 0.899\n",
      "/data2/yinterian/multi-task-romain/models/model1_15min_r2_94_90.pth\n",
      "\tTrain loss: 11.021 15.682 valid loss: 36.254 valid r2 hr 0.938 valid r2 map 0.904\n",
      "/data2/yinterian/multi-task-romain/models/model1_15min_r2_94_90.pth\n",
      "\tTrain loss: 10.621 15.329 valid loss: 35.677 valid r2 hr 0.941 valid r2 map 0.902\n",
      "/data2/yinterian/multi-task-romain/models/model1_15min_r2_94_90.pth\n",
      "\tTrain loss: 10.240 15.101 valid loss: 34.627 valid r2 hr 0.943 valid r2 map 0.904\n",
      "/data2/yinterian/multi-task-romain/models/model1_15min_r2_94_90.pth\n",
      "\tTrain loss: 9.944 14.858 valid loss: 32.932 valid r2 hr 0.946 valid r2 map 0.909\n",
      "/data2/yinterian/multi-task-romain/models/model1_15min_r2_95_91.pth\n",
      "\tTrain loss: 9.750 14.743 valid loss: 33.756 valid r2 hr 0.945 valid r2 map 0.906\n",
      "\tTrain loss: 9.444 14.367 valid loss: 31.636 valid r2 hr 0.950 valid r2 map 0.911\n",
      "/data2/yinterian/multi-task-romain/models/model1_15min_r2_95_91.pth\n",
      "\tTrain loss: 9.185 14.169 valid loss: 31.159 valid r2 hr 0.950 valid r2 map 0.913\n",
      "/data2/yinterian/multi-task-romain/models/model1_15min_r2_95_91.pth\n",
      "\tTrain loss: 8.962 13.980 valid loss: 32.255 valid r2 hr 0.947 valid r2 map 0.911\n",
      "\tTrain loss: 8.717 13.973 valid loss: 31.689 valid r2 hr 0.949 valid r2 map 0.911\n",
      "\tTrain loss: 8.559 14.025 valid loss: 30.845 valid r2 hr 0.951 valid r2 map 0.912\n",
      "/data2/yinterian/multi-task-romain/models/model1_15min_r2_95_91.pth\n",
      "\tTrain loss: 8.414 13.768 valid loss: 30.535 valid r2 hr 0.950 valid r2 map 0.915\n"
     ]
    }
   ],
   "source": [
    "optimizer = torch.optim.Adam(model.parameters(), lr=0.03, weight_decay=1e-5)\n",
    "train_epochs(model, train_ds, optimizer,filename=\"model1_15min\", epochs=20)"
   ]
  },
  {
   "cell_type": "markdown",
   "metadata": {},
   "source": [
    "### Model 2"
   ]
  },
  {
   "cell_type": "code",
   "execution_count": 34,
   "metadata": {},
   "outputs": [],
   "source": [
    "class EventModel2(nn.Module):\n",
    "    def __init__(self, hidden_size=100):\n",
    "        super(EventModel2, self).__init__()\n",
    "        self.embedding1 = nn.Embedding(5, 1)\n",
    "        self.embedding2 = nn.Embedding(num_subjects+1, 5)\n",
    "        self.gru = nn.GRU(5, hidden_size, batch_first=True)\n",
    "        self.num = hidden_size + 1 + 5 + 7\n",
    "        self.linear1 = nn.Linear(self.num, self.num)\n",
    "        self.out1 = nn.Linear(self.num, 1)\n",
    "        self.out2 = nn.Linear(self.num, 1)\n",
    "        self.bn1 = nn.BatchNorm1d(self.num)\n",
    "        \n",
    "    def forward(self, x_series, x_cont, x_cat):\n",
    "        _, ht = self.gru(x_series)\n",
    "        x_cat_1 = self.embedding1(x_cat[:,0])\n",
    "        x_cat_2 = self.embedding2(x_cat[:,1])\n",
    "        x = torch.cat((ht[-1], x_cat_1, x_cat_2, x_cont), 1)\n",
    "        x = self.bn1(F.relu(self.linear1(x)))\n",
    "        return self.out1(x), self.out2(x)"
   ]
  },
  {
   "cell_type": "code",
   "execution_count": 39,
   "metadata": {},
   "outputs": [
    {
     "name": "stdout",
     "output_type": "stream",
     "text": [
      "\tTrain loss: 6406.079 5683.248 valid loss: 8049.597 valid r2 hr -13.825 valid r2 map -19.008\n",
      "\tTrain loss: 2291.474 1969.416 valid loss: 57.089 valid r2 hr 0.888 valid r2 map 0.868\n",
      "/data2/yinterian/multi-task-romain/models/model2_15min_r2_89_87.pth\n",
      "\tTrain loss: 431.779 471.704 valid loss: 761.228 valid r2 hr -0.583 valid r2 map -0.646\n",
      "\tTrain loss: 132.599 128.370 valid loss: 342.583 valid r2 hr 0.333 valid r2 map 0.197\n",
      "\tTrain loss: 121.809 147.005 valid loss: 55.071 valid r2 hr 0.899 valid r2 map 0.863\n",
      "/data2/yinterian/multi-task-romain/models/model2_15min_r2_90_86.pth\n",
      "\tTrain loss: 25.389 37.603 valid loss: 95.667 valid r2 hr 0.844 valid r2 map 0.735\n",
      "\tTrain loss: 17.196 25.743 valid loss: 44.227 valid r2 hr 0.922 valid r2 map 0.885\n",
      "/data2/yinterian/multi-task-romain/models/model2_15min_r2_92_89.pth\n",
      "\tTrain loss: 14.124 21.635 valid loss: 26.741 valid r2 hr 0.957 valid r2 map 0.925\n",
      "/data2/yinterian/multi-task-romain/models/model2_15min_r2_96_93.pth\n",
      "\tTrain loss: 9.132 14.682 valid loss: 28.339 valid r2 hr 0.959 valid r2 map 0.914\n",
      "/data2/yinterian/multi-task-romain/models/model2_15min_r2_96_91.pth\n",
      "\tTrain loss: 7.438 12.856 valid loss: 28.165 valid r2 hr 0.955 valid r2 map 0.921\n",
      "\tTrain loss: 7.214 12.376 valid loss: 25.372 valid r2 hr 0.961 valid r2 map 0.927\n",
      "/data2/yinterian/multi-task-romain/models/model2_15min_r2_96_93.pth\n",
      "\tTrain loss: 6.896 12.035 valid loss: 25.154 valid r2 hr 0.960 valid r2 map 0.929\n",
      "\tTrain loss: 6.521 11.418 valid loss: 25.387 valid r2 hr 0.960 valid r2 map 0.928\n",
      "\tTrain loss: 6.639 11.245 valid loss: 26.803 valid r2 hr 0.959 valid r2 map 0.923\n",
      "\tTrain loss: 6.733 11.185 valid loss: 25.197 valid r2 hr 0.960 valid r2 map 0.928\n"
     ]
    }
   ],
   "source": [
    "model = EventModel2().cuda()\n",
    "optimizer = torch.optim.Adam(model.parameters(), lr=0.05, weight_decay=1e-5)\n",
    "train_epochs(model, train_ds, optimizer, filename=\"model2_15min\", epochs=15)"
   ]
  },
  {
   "cell_type": "code",
   "execution_count": 40,
   "metadata": {},
   "outputs": [
    {
     "name": "stdout",
     "output_type": "stream",
     "text": [
      "\tTrain loss: 16.815 18.684 valid loss: 42.275 valid r2 hr 0.949 valid r2 map 0.858\n",
      "/data2/yinterian/multi-task-romain/models/model2_15min_r2_95_86.pth\n",
      "\tTrain loss: 8.694 15.332 valid loss: 30.782 valid r2 hr 0.946 valid r2 map 0.920\n",
      "\tTrain loss: 8.606 12.245 valid loss: 29.091 valid r2 hr 0.955 valid r2 map 0.916\n",
      "/data2/yinterian/multi-task-romain/models/model2_15min_r2_95_92.pth\n",
      "\tTrain loss: 7.255 12.442 valid loss: 24.624 valid r2 hr 0.963 valid r2 map 0.927\n",
      "/data2/yinterian/multi-task-romain/models/model2_15min_r2_96_93.pth\n",
      "\tTrain loss: 6.726 11.079 valid loss: 25.286 valid r2 hr 0.959 valid r2 map 0.930\n",
      "\tTrain loss: 6.320 10.896 valid loss: 24.686 valid r2 hr 0.962 valid r2 map 0.929\n",
      "\tTrain loss: 6.122 10.456 valid loss: 25.791 valid r2 hr 0.959 valid r2 map 0.927\n",
      "\tTrain loss: 5.901 10.330 valid loss: 27.880 valid r2 hr 0.958 valid r2 map 0.918\n",
      "\tTrain loss: 5.957 10.204 valid loss: 26.228 valid r2 hr 0.958 valid r2 map 0.926\n",
      "\tTrain loss: 5.914 9.936 valid loss: 26.652 valid r2 hr 0.956 valid r2 map 0.927\n",
      "\tTrain loss: 5.731 9.916 valid loss: 24.595 valid r2 hr 0.962 valid r2 map 0.929\n",
      "\tTrain loss: 5.562 9.622 valid loss: 25.833 valid r2 hr 0.961 valid r2 map 0.925\n",
      "\tTrain loss: 5.821 9.582 valid loss: 27.290 valid r2 hr 0.957 valid r2 map 0.922\n",
      "\tTrain loss: 5.810 10.115 valid loss: 24.725 valid r2 hr 0.962 valid r2 map 0.929\n",
      "\tTrain loss: 5.936 9.617 valid loss: 25.317 valid r2 hr 0.963 valid r2 map 0.924\n",
      "\tTrain loss: 5.423 9.317 valid loss: 26.087 valid r2 hr 0.958 valid r2 map 0.927\n",
      "\tTrain loss: 5.357 9.340 valid loss: 26.077 valid r2 hr 0.960 valid r2 map 0.925\n",
      "\tTrain loss: 5.338 9.238 valid loss: 25.576 valid r2 hr 0.961 valid r2 map 0.925\n",
      "\tTrain loss: 5.209 8.777 valid loss: 25.605 valid r2 hr 0.961 valid r2 map 0.925\n",
      "\tTrain loss: 5.500 8.649 valid loss: 24.718 valid r2 hr 0.963 valid r2 map 0.927\n"
     ]
    }
   ],
   "source": [
    "optimizer = torch.optim.Adam(model.parameters(), lr=0.03, weight_decay=1e-5)\n",
    "train_epochs(model, train_ds, optimizer, filename=\"model2_15min\", epochs=20)"
   ]
  },
  {
   "cell_type": "code",
   "execution_count": 41,
   "metadata": {},
   "outputs": [
    {
     "name": "stdout",
     "output_type": "stream",
     "text": [
      "\tTrain loss: 5.117 8.697 valid loss: 26.142 valid r2 hr 0.960 valid r2 map 0.924\n",
      "/data2/yinterian/multi-task-romain/models/model2_15min_r2_96_92.pth\n",
      "\tTrain loss: 5.102 8.361 valid loss: 25.926 valid r2 hr 0.959 valid r2 map 0.927\n",
      "\tTrain loss: 4.968 8.548 valid loss: 26.112 valid r2 hr 0.960 valid r2 map 0.923\n",
      "/data2/yinterian/multi-task-romain/models/model2_15min_r2_96_92.pth\n",
      "\tTrain loss: 5.185 8.565 valid loss: 26.056 valid r2 hr 0.959 valid r2 map 0.925\n",
      "\tTrain loss: 5.161 8.585 valid loss: 25.925 valid r2 hr 0.961 valid r2 map 0.924\n",
      "/data2/yinterian/multi-task-romain/models/model2_15min_r2_96_92.pth\n",
      "\tTrain loss: 5.182 8.493 valid loss: 27.345 valid r2 hr 0.957 valid r2 map 0.922\n",
      "\tTrain loss: 5.078 8.408 valid loss: 28.232 valid r2 hr 0.955 valid r2 map 0.920\n",
      "\tTrain loss: 5.189 8.421 valid loss: 28.074 valid r2 hr 0.958 valid r2 map 0.918\n",
      "\tTrain loss: 5.078 9.002 valid loss: 29.231 valid r2 hr 0.951 valid r2 map 0.921\n",
      "\tTrain loss: 5.967 8.298 valid loss: 27.588 valid r2 hr 0.957 valid r2 map 0.920\n"
     ]
    }
   ],
   "source": [
    "train_epochs(model, train_ds, optimizer, filename=\"model2_15min\", epochs=10)"
   ]
  },
  {
   "cell_type": "markdown",
   "metadata": {},
   "source": [
    "## Model 3"
   ]
  },
  {
   "cell_type": "code",
   "execution_count": 35,
   "metadata": {},
   "outputs": [],
   "source": [
    "class EventModel3(nn.Module):\n",
    "    def __init__(self, hidden_size=100, num2=50):\n",
    "        super(EventModel3, self).__init__()\n",
    "        self.embedding1 = nn.Embedding(5, 1)\n",
    "        self.embedding2 = nn.Embedding(num_subjects+1, 5)\n",
    "        self.gru = nn.GRU(5, hidden_size, batch_first=True)\n",
    "        self.num1 = hidden_size + 1 + 5 + 7\n",
    "        self.num2 = num2\n",
    "        self.linear1 = nn.Linear(self.num1, self.num2)\n",
    "        self.linear2 = nn.Linear(self.num2, self.num2)\n",
    "        self.out1 = nn.Linear(self.num2, 1)\n",
    "        self.out2 = nn.Linear(self.num2, 1)\n",
    "        self.bn1 = nn.BatchNorm1d(self.num2)\n",
    "        self.bn2 = nn.BatchNorm1d(self.num2)\n",
    "        \n",
    "    def forward(self, x_series, x_cont, x_cat):\n",
    "        _, ht = self.gru(x_series)\n",
    "        x_cat_1 = self.embedding1(x_cat[:,0])\n",
    "        x_cat_2 = self.embedding2(x_cat[:,1])\n",
    "        x = torch.cat((ht[-1], x_cat_1, x_cat_2, x_cont), 1)\n",
    "        x = self.bn1(F.relu(self.linear1(x)))\n",
    "        x = self.bn2(F.relu(self.linear2(x)))\n",
    "        return self.out1(x), self.out2(x)"
   ]
  },
  {
   "cell_type": "code",
   "execution_count": 36,
   "metadata": {},
   "outputs": [
    {
     "name": "stdout",
     "output_type": "stream",
     "text": [
      "\tTrain loss: 6939.767 6061.714 valid loss: 13909.457 valid r2 hr -26.317 valid r2 map -31.261\n",
      "\tTrain loss: 5868.543 5051.960 valid loss: 10484.724 valid r2 hr -19.222 valid r2 map -23.820\n",
      "\tTrain loss: 3802.749 3096.937 valid loss: 5152.333 valid r2 hr -9.432 valid r2 map -10.524\n",
      "\tTrain loss: 1358.387 934.411 valid loss: 790.362 valid r2 hr -0.867 valid r2 map -0.404\n",
      "\tTrain loss: 101.827 78.315 valid loss: 123.710 valid r2 hr 0.884 valid r2 map 0.541\n",
      "/data2/yinterian/multi-task-romain/models/model3_15min_r2_88_54.pth\n",
      "\tTrain loss: 143.782 215.524 valid loss: 107.941 valid r2 hr 0.780 valid r2 map 0.761\n",
      "\tTrain loss: 55.578 55.037 valid loss: 41.271 valid r2 hr 0.948 valid r2 map 0.865\n",
      "/data2/yinterian/multi-task-romain/models/model3_15min_r2_95_86.pth\n",
      "\tTrain loss: 17.016 33.910 valid loss: 57.225 valid r2 hr 0.936 valid r2 map 0.801\n",
      "\tTrain loss: 17.140 29.650 valid loss: 27.988 valid r2 hr 0.962 valid r2 map 0.912\n",
      "/data2/yinterian/multi-task-romain/models/model3_15min_r2_96_91.pth\n",
      "\tTrain loss: 10.299 15.662 valid loss: 26.346 valid r2 hr 0.962 valid r2 map 0.920\n",
      "\tTrain loss: 10.274 15.725 valid loss: 24.141 valid r2 hr 0.964 valid r2 map 0.928\n",
      "/data2/yinterian/multi-task-romain/models/model3_15min_r2_96_93.pth\n",
      "\tTrain loss: 8.712 13.220 valid loss: 25.148 valid r2 hr 0.962 valid r2 map 0.926\n",
      "\tTrain loss: 8.375 12.496 valid loss: 24.652 valid r2 hr 0.963 valid r2 map 0.928\n",
      "\tTrain loss: 8.004 11.966 valid loss: 25.773 valid r2 hr 0.963 valid r2 map 0.921\n",
      "\tTrain loss: 8.115 11.972 valid loss: 25.829 valid r2 hr 0.960 valid r2 map 0.925\n"
     ]
    }
   ],
   "source": [
    "model = EventModel3().cuda()\n",
    "optimizer = torch.optim.Adam(model.parameters(), lr=0.03, weight_decay=1e-5)\n",
    "train_epochs(model, train_ds, optimizer, filename=\"model3_15min\", epochs=15)"
   ]
  },
  {
   "cell_type": "code",
   "execution_count": 37,
   "metadata": {},
   "outputs": [
    {
     "name": "stdout",
     "output_type": "stream",
     "text": [
      "\tTrain loss: 21.235 29.317 valid loss: 72.964 valid r2 hr 0.893 valid r2 map 0.781\n",
      "/data2/yinterian/multi-task-romain/models/model3_15min_r2_89_78.pth\n",
      "\tTrain loss: 13.453 16.173 valid loss: 29.405 valid r2 hr 0.953 valid r2 map 0.917\n",
      "/data2/yinterian/multi-task-romain/models/model3_15min_r2_95_92.pth\n",
      "\tTrain loss: 9.729 13.507 valid loss: 30.239 valid r2 hr 0.950 valid r2 map 0.917\n",
      "\tTrain loss: 8.335 12.529 valid loss: 27.038 valid r2 hr 0.956 valid r2 map 0.925\n",
      "/data2/yinterian/multi-task-romain/models/model3_15min_r2_96_92.pth\n",
      "\tTrain loss: 7.949 11.789 valid loss: 25.519 valid r2 hr 0.961 valid r2 map 0.926\n",
      "/data2/yinterian/multi-task-romain/models/model3_15min_r2_96_93.pth\n",
      "\tTrain loss: 7.502 11.587 valid loss: 25.209 valid r2 hr 0.961 valid r2 map 0.928\n",
      "/data2/yinterian/multi-task-romain/models/model3_15min_r2_96_93.pth\n",
      "\tTrain loss: 7.433 11.413 valid loss: 24.209 valid r2 hr 0.964 valid r2 map 0.929\n",
      "/data2/yinterian/multi-task-romain/models/model3_15min_r2_96_93.pth\n",
      "\tTrain loss: 7.328 11.184 valid loss: 24.885 valid r2 hr 0.963 valid r2 map 0.926\n",
      "\tTrain loss: 6.991 10.997 valid loss: 24.376 valid r2 hr 0.963 valid r2 map 0.929\n",
      "\tTrain loss: 6.727 10.803 valid loss: 25.435 valid r2 hr 0.961 valid r2 map 0.926\n",
      "\tTrain loss: 6.886 10.602 valid loss: 24.522 valid r2 hr 0.963 valid r2 map 0.928\n",
      "\tTrain loss: 6.737 10.652 valid loss: 24.389 valid r2 hr 0.963 valid r2 map 0.929\n",
      "\tTrain loss: 6.623 10.503 valid loss: 26.280 valid r2 hr 0.961 valid r2 map 0.922\n",
      "\tTrain loss: 6.612 10.416 valid loss: 24.926 valid r2 hr 0.961 valid r2 map 0.928\n",
      "\tTrain loss: 6.566 10.254 valid loss: 26.328 valid r2 hr 0.958 valid r2 map 0.926\n"
     ]
    }
   ],
   "source": [
    "optimizer = torch.optim.Adam(model.parameters(), lr=0.02, weight_decay=1e-5)\n",
    "train_epochs(model, train_ds, optimizer, filename=\"model3_15min\", epochs=15)"
   ]
  },
  {
   "cell_type": "code",
   "execution_count": null,
   "metadata": {},
   "outputs": [],
   "source": [
    "train_epochs(model, train_ds, optimizer, filename=\"model3_15min\", epochs=10)"
   ]
  },
  {
   "cell_type": "markdown",
   "metadata": {},
   "source": [
    "## Calibration plot"
   ]
  },
  {
   "cell_type": "code",
   "execution_count": 38,
   "metadata": {},
   "outputs": [],
   "source": [
    "path = PATH/\"models/model3_15min_r2_96_93.pth\"\n",
    "model = EventModel3().cuda()\n",
    "load_model(model, path)"
   ]
  },
  {
   "cell_type": "code",
   "execution_count": 39,
   "metadata": {},
   "outputs": [
    {
     "name": "stdout",
     "output_type": "stream",
     "text": [
      "data_test_15min.pickle\n"
     ]
    }
   ],
   "source": [
    "filename = \"data_test_{gap}.pickle\".format(gap=gap)\n",
    "with open(PATH/filename, 'rb') as f:\n",
    "    test = pickle.load(f)\n",
    "print(filename)"
   ]
  },
  {
   "cell_type": "code",
   "execution_count": 42,
   "metadata": {},
   "outputs": [],
   "source": [
    "filename = \"data_validation_15min.pickle\"\n",
    "with open(PATH/filename, 'rb') as f:\n",
    "    test_ext = pickle.load(f)"
   ]
  },
  {
   "cell_type": "code",
   "execution_count": 48,
   "metadata": {},
   "outputs": [],
   "source": [
    "def get_r2_with_ci(model, df, n=1000):\n",
    "    losses = []\n",
    "    r2_1s = []\n",
    "    r2_2s = []\n",
    "    for i in range(n):\n",
    "        test_ext_ds = MultiTask(df.copy(), norm_dict, id2index, care2id, k=13, train=False)\n",
    "        test_ext_dl = DataLoader(test_ext_ds, batch_size=len(test_ext_ds))\n",
    "        loss, r2_1, r2_2 = val_metrics(model, test_ext_dl)\n",
    "        losses.append(loss)\n",
    "        r2_1s.append(r2_1)\n",
    "        r2_2s.append(r2_2)\n",
    "    return losses, r2_1s, r2_2s"
   ]
  },
  {
   "cell_type": "code",
   "execution_count": 49,
   "metadata": {},
   "outputs": [],
   "source": [
    "losses, r2_1s, r2_2s = get_r2_with_ci(model, test_ext, n=1000)"
   ]
  },
  {
   "cell_type": "code",
   "execution_count": 50,
   "metadata": {},
   "outputs": [
    {
     "data": {
      "text/plain": [
       "array([0.82691159, 0.86409349, 0.89705216])"
      ]
     },
     "execution_count": 50,
     "metadata": {},
     "output_type": "execute_result"
    }
   ],
   "source": [
    "np.quantile(r2_1s, [0.025, 0.5, 0.975])"
   ]
  },
  {
   "cell_type": "code",
   "execution_count": 51,
   "metadata": {},
   "outputs": [
    {
     "data": {
      "text/plain": [
       "array([0.74127086, 0.78132711, 0.81442605])"
      ]
     },
     "execution_count": 51,
     "metadata": {},
     "output_type": "execute_result"
    }
   ],
   "source": [
    "np.quantile(r2_2s, [0.025, 0.5, 0.975])"
   ]
  },
  {
   "cell_type": "code",
   "execution_count": 30,
   "metadata": {},
   "outputs": [
    {
     "data": {
      "text/plain": [
       "((5933, 14), 3653, 702)"
      ]
     },
     "execution_count": 30,
     "metadata": {},
     "output_type": "execute_result"
    }
   ],
   "source": [
    "test_ds = MultiTask(test, norm_dict, id2index, care2id, k=13, train=False)\n",
    "test_ext_ds = MultiTask(test_ext, norm_dict, id2index, care2id, k=13, train=False)\n",
    "test.shape, len(test_ds), len(test_ext_ds)"
   ]
  },
  {
   "cell_type": "code",
   "execution_count": 31,
   "metadata": {},
   "outputs": [],
   "source": [
    "test_dl = DataLoader(test_ds, batch_size=len(test_ds))\n",
    "test_ext_dl = DataLoader(test_ext_ds, batch_size=len(test_ext_ds))"
   ]
  },
  {
   "cell_type": "code",
   "execution_count": 32,
   "metadata": {},
   "outputs": [
    {
     "data": {
      "text/plain": [
       "(27.37799072265625, 0.9603187310327905, 0.9098139709340607)"
      ]
     },
     "execution_count": 32,
     "metadata": {},
     "output_type": "execute_result"
    }
   ],
   "source": [
    "val_metrics(model, test_dl)"
   ]
  },
  {
   "cell_type": "code",
   "execution_count": 33,
   "metadata": {},
   "outputs": [
    {
     "data": {
      "text/plain": [
       "(134.791015625, 0.8647366877955893, 0.7349273043686342)"
      ]
     },
     "execution_count": 33,
     "metadata": {},
     "output_type": "execute_result"
    }
   ],
   "source": [
    "val_metrics(model, test_ext_dl)"
   ]
  },
  {
   "cell_type": "code",
   "execution_count": 56,
   "metadata": {},
   "outputs": [],
   "source": [
    "def predict_one_batch(model, dl):\n",
    "    for x_series, x_cont, x_cat, y1, y2 in dl:\n",
    "        x_series = x_series.float().cuda()\n",
    "        x_cont = x_cont.float().cuda()\n",
    "        x_cat = x_cat.long().cuda()\n",
    "        y1 = y1.float().cuda()\n",
    "        y2 = y2.float().cuda()\n",
    "        out1, out2 = model(x_series, x_cont, x_cat)\n",
    "    return out1.detach().cpu().numpy(), out2.detach().cpu().numpy(), y1.detach().cpu().numpy(), y2.detach().cpu().numpy()"
   ]
  },
  {
   "cell_type": "code",
   "execution_count": 57,
   "metadata": {},
   "outputs": [],
   "source": [
    "out1, out2, y1, y2 = predict_one_batch(model, test_dl)"
   ]
  },
  {
   "cell_type": "code",
   "execution_count": 58,
   "metadata": {},
   "outputs": [
    {
     "data": {
      "image/png": "[encoded data removed]",
      "text/plain": [
       "<Figure size 432x288 with 1 Axes>"
      ]
     },
     "metadata": {
      "needs_background": "light"
     },
     "output_type": "display_data"
    }
   ],
   "source": [
    "x = np.linspace(40, 145, 1000)\n",
    "plt.plot(out1, y1, 'bo', ms=5)\n",
    "plt.xlabel(\"Predicted\")\n",
    "plt.ylabel(\"Actual\")\n",
    "plt.title(\"mean_HR on test\")\n",
    "plt.plot(x, x, '-g')\n",
    "plt.show()"
   ]
  },
  {
   "cell_type": "code",
   "execution_count": 59,
   "metadata": {},
   "outputs": [
    {
     "data": {
      "image/png": "[encoded data removed]",
      "text/plain": [
       "<Figure size 432x288 with 1 Axes>"
      ]
     },
     "metadata": {
      "needs_background": "light"
     },
     "output_type": "display_data"
    }
   ],
   "source": [
    "x = np.linspace(40, 130, 1000)\n",
    "plt.plot(out2, y2, 'bo', ms=5)\n",
    "plt.xlabel(\"Predicted\")\n",
    "plt.ylabel(\"Actual\")\n",
    "plt.title(\"mean_MAP on test\")\n",
    "plt.plot(x, x, '-g')\n",
    "plt.show()"
   ]
  },
  {
   "cell_type": "code",
   "execution_count": null,
   "metadata": {},
   "outputs": [],
   "source": []
  }
 ],
 "metadata": {
  "kernelspec": {
   "display_name": "Python 3",
   "language": "python",
   "name": "python3"
  },
  "language_info": {
   "codemirror_mode": {
    "name": "ipython",
    "version": 3
   },
   "file_extension": ".py",
   "mimetype": "text/x-python",
   "name": "python",
   "nbconvert_exporter": "python",
   "pygments_lexer": "ipython3",
   "version": "3.7.6"
  }
 },
 "nbformat": 4,
 "nbformat_minor": 2
}
