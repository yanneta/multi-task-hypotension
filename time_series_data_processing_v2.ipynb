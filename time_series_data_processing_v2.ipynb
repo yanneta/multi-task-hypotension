{
 "cells": [
  {
   "cell_type": "code",
   "execution_count": 1,
   "metadata": {},
   "outputs": [],
   "source": [
    "%reload_ext autoreload\n",
    "%autoreload 2\n",
    "%matplotlib inline\n",
    "import matplotlib\n",
    "import matplotlib.pyplot as plt\n",
    "\n",
    "import numpy as np\n",
    "import pandas as pd\n",
    "\n",
    "from pathlib import Path\n",
    "from sklearn import metrics\n",
    "import random\n",
    "\n",
    "import torch\n",
    "from torch.utils.data import Dataset, DataLoader\n",
    "import torch.optim as optim\n",
    "import torch.nn as nn\n",
    "import torch.nn.functional as F\n",
    "\n",
    "from datetime import datetime\n",
    "import cv2\n",
    "from collections import OrderedDict\n",
    "\n",
    "from tqdm import tqdm\n",
    "from joblib import Parallel"
   ]
  },
  {
   "cell_type": "code",
   "execution_count": 2,
   "metadata": {},
   "outputs": [],
   "source": [
    "import pickle"
   ]
  },
  {
   "cell_type": "code",
   "execution_count": 3,
   "metadata": {},
   "outputs": [],
   "source": [
    "PATH = Path(\"/data2/yinterian/multi-task-romain\")"
   ]
  },
  {
   "cell_type": "code",
   "execution_count": 4,
   "metadata": {},
   "outputs": [],
   "source": [
    "filename = \"train_val_test_split.pickle\""
   ]
  },
  {
   "cell_type": "code",
   "execution_count": 5,
   "metadata": {},
   "outputs": [],
   "source": [
    "def get_train_val_test_plit():\n",
    "    filename = \"data_modelisation_5min_gap.csv\"\n",
    "    data = pd.read_csv(PATH/\"data-jan-2019\"/filename)\n",
    "    np.random.seed(3)\n",
    "    patients_ids = np.sort(data.subject_id.unique())\n",
    "    group = np.random.choice(3, len(patients_ids ), p=[0.8, 0.1, 0.1])\n",
    "    train_val_test_split = pd.DataFrame({\"subject_id\": patients_ids, \"group\": group})\n",
    "    return train_val_test_split\n",
    "\n",
    "#train_val_test_split = get_train_val_test_plit()\n",
    "#with open(PATH/filename, 'wb') as f:\n",
    "#    pickle.dump(train_val_test_split, f)"
   ]
  },
  {
   "cell_type": "code",
   "execution_count": 6,
   "metadata": {},
   "outputs": [],
   "source": [
    "def process_periods(df, index):\n",
    "    time_cols = [\"hr\", \"spo2\", \"abp_sys\", \"abp_dias\", \"abp_mean\"]\n",
    "    static_cols = [\"subject_id\", \"key\", \"gender\", \"age\", \"sapsii\", \"sofa\", \"care_unit\", \"amine\", \"sedation\",\\\n",
    "                   \"ventilation\"]\n",
    "    y_cols = [\"prediction_mean_HR\", \"prediction_mean_MAP\"]\n",
    "    static_df = df.loc[:, static_cols + y_cols].iloc[0]\n",
    "    time_df = df.loc[:, time_cols]\n",
    "    time_series = [time_df.iloc[i,].values for i in range(time_df.shape[0])]\n",
    "    static_df[\"series\"] = time_series\n",
    "    return static_df.copy().to_frame(index).T"
   ]
  },
  {
   "cell_type": "code",
   "execution_count": 7,
   "metadata": {},
   "outputs": [],
   "source": [
    "def process_whole_list(obs):\n",
    "    list_df = []\n",
    "    obs_periods = np.unique(obs.key.values)\n",
    "    for i in tqdm(range(len(obs_periods))):\n",
    "        key = obs_periods[i]\n",
    "        period = obs[obs[\"key\"] == key]\n",
    "        line = process_periods(period, i)\n",
    "        list_df.append(line)\n",
    "    return list_df"
   ]
  },
  {
   "cell_type": "code",
   "execution_count": 8,
   "metadata": {},
   "outputs": [],
   "source": [
    "def create_dataset(gap):\n",
    "    filename = \"data_modelisation_\" + gap + \"_gap.csv\"\n",
    "    data = pd.read_csv(PATH/\"data-jan-2019\"/filename)\n",
    "    print(filename, data.shape)\n",
    "    data = data[data[\"window\"] == \"obs\"]\n",
    "    print(data.shape)\n",
    "    list_obs = process_whole_list(data)\n",
    "    data_df = pd.concat(list_obs)\n",
    "    filename = \"data_df_{gap}.pickle\".format(gap=gap)\n",
    "    print(filename)\n",
    "    with open(PATH/filename, 'wb') as f:\n",
    "        pickle.dump(data_df, f)"
   ]
  },
  {
   "cell_type": "code",
   "execution_count": 10,
   "metadata": {},
   "outputs": [],
   "source": [
    "#create_dataset(\"5min\")"
   ]
  },
  {
   "cell_type": "code",
   "execution_count": 11,
   "metadata": {},
   "outputs": [],
   "source": [
    "#create_dataset(\"10min\")"
   ]
  },
  {
   "cell_type": "code",
   "execution_count": 12,
   "metadata": {},
   "outputs": [],
   "source": [
    "#create_dataset(\"15min\")"
   ]
  },
  {
   "cell_type": "markdown",
   "metadata": {},
   "source": [
    "## Split datasets"
   ]
  },
  {
   "cell_type": "code",
   "execution_count": 9,
   "metadata": {},
   "outputs": [
    {
     "data": {
      "text/html": [
       "<div>\n",
       "<style scoped>\n",
       "    .dataframe tbody tr th:only-of-type {\n",
       "        vertical-align: middle;\n",
       "    }\n",
       "\n",
       "    .dataframe tbody tr th {\n",
       "        vertical-align: top;\n",
       "    }\n",
       "\n",
       "    .dataframe thead th {\n",
       "        text-align: right;\n",
       "    }\n",
       "</style>\n",
       "<table border=\"1\" class=\"dataframe\">\n",
       "  <thead>\n",
       "    <tr style=\"text-align: right;\">\n",
       "      <th></th>\n",
       "      <th>subject_id</th>\n",
       "      <th>group</th>\n",
       "    </tr>\n",
       "  </thead>\n",
       "  <tbody>\n",
       "    <tr>\n",
       "      <th>0</th>\n",
       "      <td>20</td>\n",
       "      <td>0</td>\n",
       "    </tr>\n",
       "    <tr>\n",
       "      <th>1</th>\n",
       "      <td>107</td>\n",
       "      <td>0</td>\n",
       "    </tr>\n",
       "    <tr>\n",
       "      <th>2</th>\n",
       "      <td>138</td>\n",
       "      <td>0</td>\n",
       "    </tr>\n",
       "    <tr>\n",
       "      <th>3</th>\n",
       "      <td>208</td>\n",
       "      <td>0</td>\n",
       "    </tr>\n",
       "    <tr>\n",
       "      <th>4</th>\n",
       "      <td>217</td>\n",
       "      <td>1</td>\n",
       "    </tr>\n",
       "  </tbody>\n",
       "</table>\n",
       "</div>"
      ],
      "text/plain": [
       "   subject_id  group\n",
       "0          20      0\n",
       "1         107      0\n",
       "2         138      0\n",
       "3         208      0\n",
       "4         217      1"
      ]
     },
     "execution_count": 9,
     "metadata": {},
     "output_type": "execute_result"
    }
   ],
   "source": [
    "filename = \"train_val_test_split.pickle\"\n",
    "with open(PATH/filename, 'rb') as f:\n",
    "    train_val_test_split = pickle.load(f)\n",
    "train_val_test_split.head()"
   ]
  },
  {
   "cell_type": "code",
   "execution_count": 10,
   "metadata": {},
   "outputs": [],
   "source": [
    "def split_datasets(gap):\n",
    "    filename = \"data_df_{gap}.pickle\".format(gap=gap)\n",
    "    with open(PATH/filename, 'rb') as f:\n",
    "        data_df = pickle.load(f)\n",
    "    print(filename, data_df.shape)\n",
    "    df_with_split = data_df.merge(train_val_test_split, left_on=\"subject_id\", right_on=\"subject_id\")\n",
    "    #care2id = {v:k for k,v in enumerate(np.unique(df_with_split.care_unit.values))}\n",
    "    #df_with_split[\"care_unit\"] = df_with_split[\"care_unit\"].apply(lambda x: care2id[x])\n",
    "    train = df_with_split.loc[df_with_split[\"group\"] == 0]\n",
    "    valid = df_with_split.loc[df_with_split[\"group\"] == 1]\n",
    "    test = df_with_split.loc[df_with_split[\"group\"] == 2]\n",
    "    print(train.shape, valid.shape, test.shape)\n",
    "    filename = \"data_train_{gap}.pickle\".format(gap=gap)\n",
    "    with open(PATH/filename, 'wb') as f:\n",
    "        pickle.dump(train, f)\n",
    "    filename = \"data_valid_{gap}.pickle\".format(gap=gap)\n",
    "    with open(PATH/filename, 'wb') as f:\n",
    "        pickle.dump(valid, f)\n",
    "    filename = \"data_test_{gap}.pickle\".format(gap=gap)\n",
    "    with open(PATH/filename, 'wb') as f:\n",
    "        pickle.dump(test, f)"
   ]
  },
  {
   "cell_type": "code",
   "execution_count": 11,
   "metadata": {},
   "outputs": [
    {
     "name": "stdout",
     "output_type": "stream",
     "text": [
      "data_df_5min.pickle (75061, 13)\n",
      "(59742, 14) (7086, 14) (8233, 14)\n"
     ]
    }
   ],
   "source": [
    "split_datasets(\"5min\")"
   ]
  },
  {
   "cell_type": "code",
   "execution_count": 12,
   "metadata": {},
   "outputs": [
    {
     "name": "stdout",
     "output_type": "stream",
     "text": [
      "data_df_10min.pickle (67239, 13)\n",
      "(50255, 14) (5926, 14) (7002, 14)\n"
     ]
    }
   ],
   "source": [
    "split_datasets(\"10min\")"
   ]
  },
  {
   "cell_type": "code",
   "execution_count": 13,
   "metadata": {},
   "outputs": [
    {
     "name": "stdout",
     "output_type": "stream",
     "text": [
      "data_df_15min.pickle (57434, 13)\n",
      "(42830, 14) (5069, 14) (5933, 14)\n"
     ]
    }
   ],
   "source": [
    "split_datasets(\"15min\")"
   ]
  },
  {
   "cell_type": "markdown",
   "metadata": {},
   "source": [
    "## Looking at the data"
   ]
  },
  {
   "cell_type": "code",
   "execution_count": 20,
   "metadata": {},
   "outputs": [
    {
     "name": "stdout",
     "output_type": "stream",
     "text": [
      "data_modelisation_5min_gap.csv (3002440, 22)\n"
     ]
    },
    {
     "data": {
      "text/plain": [
       "(3002440, 22)"
      ]
     },
     "execution_count": 20,
     "metadata": {},
     "output_type": "execute_result"
    }
   ],
   "source": [
    "gap = \"5min\"\n",
    "filename = \"data_modelisation_\" + gap + \"_gap.csv\"\n",
    "data = pd.read_csv(PATH/\"data-jan-2019\"/filename)\n",
    "print(filename, data.shape)\n",
    "data.shape"
   ]
  },
  {
   "cell_type": "code",
   "execution_count": 21,
   "metadata": {},
   "outputs": [],
   "source": [
    "data_20 = data[data[\"subject_id\"] == 20]"
   ]
  },
  {
   "cell_type": "code",
   "execution_count": 22,
   "metadata": {},
   "outputs": [
    {
     "data": {
      "text/html": [
       "<div>\n",
       "<style scoped>\n",
       "    .dataframe tbody tr th:only-of-type {\n",
       "        vertical-align: middle;\n",
       "    }\n",
       "\n",
       "    .dataframe tbody tr th {\n",
       "        vertical-align: top;\n",
       "    }\n",
       "\n",
       "    .dataframe thead th {\n",
       "        text-align: right;\n",
       "    }\n",
       "</style>\n",
       "<table border=\"1\" class=\"dataframe\">\n",
       "  <thead>\n",
       "    <tr style=\"text-align: right;\">\n",
       "      <th></th>\n",
       "      <th>subject_id</th>\n",
       "      <th>key</th>\n",
       "      <th>gender</th>\n",
       "      <th>age</th>\n",
       "      <th>sapsii</th>\n",
       "      <th>sofa</th>\n",
       "      <th>care_unit</th>\n",
       "      <th>amine</th>\n",
       "      <th>sedation</th>\n",
       "      <th>ventilation</th>\n",
       "      <th>...</th>\n",
       "      <th>time_and_date</th>\n",
       "      <th>hr</th>\n",
       "      <th>spo2</th>\n",
       "      <th>abp_sys</th>\n",
       "      <th>abp_dias</th>\n",
       "      <th>abp_mean</th>\n",
       "      <th>observation_mean_MAP</th>\n",
       "      <th>prediction_mean_MAP</th>\n",
       "      <th>observation_mean_HR</th>\n",
       "      <th>prediction_mean_HR</th>\n",
       "    </tr>\n",
       "  </thead>\n",
       "  <tbody>\n",
       "    <tr>\n",
       "      <th>0</th>\n",
       "      <td>20</td>\n",
       "      <td>20_2</td>\n",
       "      <td>1</td>\n",
       "      <td>76</td>\n",
       "      <td>22</td>\n",
       "      <td>1</td>\n",
       "      <td>2</td>\n",
       "      <td>0</td>\n",
       "      <td>0</td>\n",
       "      <td>1</td>\n",
       "      <td>...</td>\n",
       "      <td>2183-04-28 18:27:59</td>\n",
       "      <td>80.0</td>\n",
       "      <td>96.3</td>\n",
       "      <td>125.9</td>\n",
       "      <td>59.2</td>\n",
       "      <td>77.3</td>\n",
       "      <td>75.81</td>\n",
       "      <td>66.34</td>\n",
       "      <td>80.026667</td>\n",
       "      <td>80.0</td>\n",
       "    </tr>\n",
       "    <tr>\n",
       "      <th>1</th>\n",
       "      <td>20</td>\n",
       "      <td>20_2</td>\n",
       "      <td>1</td>\n",
       "      <td>76</td>\n",
       "      <td>22</td>\n",
       "      <td>1</td>\n",
       "      <td>2</td>\n",
       "      <td>0</td>\n",
       "      <td>0</td>\n",
       "      <td>1</td>\n",
       "      <td>...</td>\n",
       "      <td>2183-04-28 18:28:59</td>\n",
       "      <td>80.8</td>\n",
       "      <td>95.9</td>\n",
       "      <td>122.6</td>\n",
       "      <td>57.6</td>\n",
       "      <td>75.1</td>\n",
       "      <td>75.81</td>\n",
       "      <td>66.34</td>\n",
       "      <td>80.026667</td>\n",
       "      <td>80.0</td>\n",
       "    </tr>\n",
       "    <tr>\n",
       "      <th>2</th>\n",
       "      <td>20</td>\n",
       "      <td>20_2</td>\n",
       "      <td>1</td>\n",
       "      <td>76</td>\n",
       "      <td>22</td>\n",
       "      <td>1</td>\n",
       "      <td>2</td>\n",
       "      <td>0</td>\n",
       "      <td>0</td>\n",
       "      <td>1</td>\n",
       "      <td>...</td>\n",
       "      <td>2183-04-28 18:29:59</td>\n",
       "      <td>80.0</td>\n",
       "      <td>96.0</td>\n",
       "      <td>119.6</td>\n",
       "      <td>56.4</td>\n",
       "      <td>73.2</td>\n",
       "      <td>75.81</td>\n",
       "      <td>66.34</td>\n",
       "      <td>80.026667</td>\n",
       "      <td>80.0</td>\n",
       "    </tr>\n",
       "    <tr>\n",
       "      <th>3</th>\n",
       "      <td>20</td>\n",
       "      <td>20_2</td>\n",
       "      <td>1</td>\n",
       "      <td>76</td>\n",
       "      <td>22</td>\n",
       "      <td>1</td>\n",
       "      <td>2</td>\n",
       "      <td>0</td>\n",
       "      <td>0</td>\n",
       "      <td>1</td>\n",
       "      <td>...</td>\n",
       "      <td>2183-04-28 18:30:59</td>\n",
       "      <td>80.0</td>\n",
       "      <td>95.1</td>\n",
       "      <td>118.6</td>\n",
       "      <td>56.3</td>\n",
       "      <td>72.8</td>\n",
       "      <td>75.81</td>\n",
       "      <td>66.34</td>\n",
       "      <td>80.026667</td>\n",
       "      <td>80.0</td>\n",
       "    </tr>\n",
       "    <tr>\n",
       "      <th>4</th>\n",
       "      <td>20</td>\n",
       "      <td>20_2</td>\n",
       "      <td>1</td>\n",
       "      <td>76</td>\n",
       "      <td>22</td>\n",
       "      <td>1</td>\n",
       "      <td>2</td>\n",
       "      <td>0</td>\n",
       "      <td>0</td>\n",
       "      <td>1</td>\n",
       "      <td>...</td>\n",
       "      <td>2183-04-28 18:31:59</td>\n",
       "      <td>80.0</td>\n",
       "      <td>95.0</td>\n",
       "      <td>119.0</td>\n",
       "      <td>56.4</td>\n",
       "      <td>73.0</td>\n",
       "      <td>75.81</td>\n",
       "      <td>66.34</td>\n",
       "      <td>80.026667</td>\n",
       "      <td>80.0</td>\n",
       "    </tr>\n",
       "    <tr>\n",
       "      <th>...</th>\n",
       "      <td>...</td>\n",
       "      <td>...</td>\n",
       "      <td>...</td>\n",
       "      <td>...</td>\n",
       "      <td>...</td>\n",
       "      <td>...</td>\n",
       "      <td>...</td>\n",
       "      <td>...</td>\n",
       "      <td>...</td>\n",
       "      <td>...</td>\n",
       "      <td>...</td>\n",
       "      <td>...</td>\n",
       "      <td>...</td>\n",
       "      <td>...</td>\n",
       "      <td>...</td>\n",
       "      <td>...</td>\n",
       "      <td>...</td>\n",
       "      <td>...</td>\n",
       "      <td>...</td>\n",
       "      <td>...</td>\n",
       "      <td>...</td>\n",
       "    </tr>\n",
       "    <tr>\n",
       "      <th>515</th>\n",
       "      <td>20</td>\n",
       "      <td>20_20</td>\n",
       "      <td>1</td>\n",
       "      <td>76</td>\n",
       "      <td>22</td>\n",
       "      <td>1</td>\n",
       "      <td>2</td>\n",
       "      <td>0</td>\n",
       "      <td>0</td>\n",
       "      <td>1</td>\n",
       "      <td>...</td>\n",
       "      <td>2183-04-29 07:02:59</td>\n",
       "      <td>80.0</td>\n",
       "      <td>96.0</td>\n",
       "      <td>135.9</td>\n",
       "      <td>52.0</td>\n",
       "      <td>74.7</td>\n",
       "      <td>76.25</td>\n",
       "      <td>74.10</td>\n",
       "      <td>80.003333</td>\n",
       "      <td>80.0</td>\n",
       "    </tr>\n",
       "    <tr>\n",
       "      <th>516</th>\n",
       "      <td>20</td>\n",
       "      <td>20_20</td>\n",
       "      <td>1</td>\n",
       "      <td>76</td>\n",
       "      <td>22</td>\n",
       "      <td>1</td>\n",
       "      <td>2</td>\n",
       "      <td>0</td>\n",
       "      <td>0</td>\n",
       "      <td>1</td>\n",
       "      <td>...</td>\n",
       "      <td>2183-04-29 07:03:59</td>\n",
       "      <td>80.0</td>\n",
       "      <td>96.6</td>\n",
       "      <td>133.7</td>\n",
       "      <td>51.6</td>\n",
       "      <td>73.9</td>\n",
       "      <td>76.25</td>\n",
       "      <td>74.10</td>\n",
       "      <td>80.003333</td>\n",
       "      <td>80.0</td>\n",
       "    </tr>\n",
       "    <tr>\n",
       "      <th>517</th>\n",
       "      <td>20</td>\n",
       "      <td>20_20</td>\n",
       "      <td>1</td>\n",
       "      <td>76</td>\n",
       "      <td>22</td>\n",
       "      <td>1</td>\n",
       "      <td>2</td>\n",
       "      <td>0</td>\n",
       "      <td>0</td>\n",
       "      <td>1</td>\n",
       "      <td>...</td>\n",
       "      <td>2183-04-29 07:04:59</td>\n",
       "      <td>80.0</td>\n",
       "      <td>96.8</td>\n",
       "      <td>136.7</td>\n",
       "      <td>52.6</td>\n",
       "      <td>75.6</td>\n",
       "      <td>76.25</td>\n",
       "      <td>74.10</td>\n",
       "      <td>80.003333</td>\n",
       "      <td>80.0</td>\n",
       "    </tr>\n",
       "    <tr>\n",
       "      <th>518</th>\n",
       "      <td>20</td>\n",
       "      <td>20_20</td>\n",
       "      <td>1</td>\n",
       "      <td>76</td>\n",
       "      <td>22</td>\n",
       "      <td>1</td>\n",
       "      <td>2</td>\n",
       "      <td>0</td>\n",
       "      <td>0</td>\n",
       "      <td>1</td>\n",
       "      <td>...</td>\n",
       "      <td>2183-04-29 07:05:59</td>\n",
       "      <td>80.0</td>\n",
       "      <td>96.2</td>\n",
       "      <td>136.9</td>\n",
       "      <td>52.8</td>\n",
       "      <td>75.9</td>\n",
       "      <td>76.25</td>\n",
       "      <td>74.10</td>\n",
       "      <td>80.003333</td>\n",
       "      <td>80.0</td>\n",
       "    </tr>\n",
       "    <tr>\n",
       "      <th>519</th>\n",
       "      <td>20</td>\n",
       "      <td>20_20</td>\n",
       "      <td>1</td>\n",
       "      <td>76</td>\n",
       "      <td>22</td>\n",
       "      <td>1</td>\n",
       "      <td>2</td>\n",
       "      <td>0</td>\n",
       "      <td>0</td>\n",
       "      <td>1</td>\n",
       "      <td>...</td>\n",
       "      <td>2183-04-29 07:06:59</td>\n",
       "      <td>80.0</td>\n",
       "      <td>96.0</td>\n",
       "      <td>127.0</td>\n",
       "      <td>49.6</td>\n",
       "      <td>70.4</td>\n",
       "      <td>76.25</td>\n",
       "      <td>74.10</td>\n",
       "      <td>80.003333</td>\n",
       "      <td>80.0</td>\n",
       "    </tr>\n",
       "  </tbody>\n",
       "</table>\n",
       "<p>520 rows × 22 columns</p>\n",
       "</div>"
      ],
      "text/plain": [
       "     subject_id    key  gender  age  sapsii  sofa  care_unit  amine  sedation  \\\n",
       "0            20   20_2       1   76      22     1          2      0         0   \n",
       "1            20   20_2       1   76      22     1          2      0         0   \n",
       "2            20   20_2       1   76      22     1          2      0         0   \n",
       "3            20   20_2       1   76      22     1          2      0         0   \n",
       "4            20   20_2       1   76      22     1          2      0         0   \n",
       "..          ...    ...     ...  ...     ...   ...        ...    ...       ...   \n",
       "515          20  20_20       1   76      22     1          2      0         0   \n",
       "516          20  20_20       1   76      22     1          2      0         0   \n",
       "517          20  20_20       1   76      22     1          2      0         0   \n",
       "518          20  20_20       1   76      22     1          2      0         0   \n",
       "519          20  20_20       1   76      22     1          2      0         0   \n",
       "\n",
       "     ventilation  ...        time_and_date    hr  spo2  abp_sys  abp_dias  \\\n",
       "0              1  ...  2183-04-28 18:27:59  80.0  96.3    125.9      59.2   \n",
       "1              1  ...  2183-04-28 18:28:59  80.8  95.9    122.6      57.6   \n",
       "2              1  ...  2183-04-28 18:29:59  80.0  96.0    119.6      56.4   \n",
       "3              1  ...  2183-04-28 18:30:59  80.0  95.1    118.6      56.3   \n",
       "4              1  ...  2183-04-28 18:31:59  80.0  95.0    119.0      56.4   \n",
       "..           ...  ...                  ...   ...   ...      ...       ...   \n",
       "515            1  ...  2183-04-29 07:02:59  80.0  96.0    135.9      52.0   \n",
       "516            1  ...  2183-04-29 07:03:59  80.0  96.6    133.7      51.6   \n",
       "517            1  ...  2183-04-29 07:04:59  80.0  96.8    136.7      52.6   \n",
       "518            1  ...  2183-04-29 07:05:59  80.0  96.2    136.9      52.8   \n",
       "519            1  ...  2183-04-29 07:06:59  80.0  96.0    127.0      49.6   \n",
       "\n",
       "     abp_mean  observation_mean_MAP  prediction_mean_MAP  observation_mean_HR  \\\n",
       "0        77.3                 75.81                66.34            80.026667   \n",
       "1        75.1                 75.81                66.34            80.026667   \n",
       "2        73.2                 75.81                66.34            80.026667   \n",
       "3        72.8                 75.81                66.34            80.026667   \n",
       "4        73.0                 75.81                66.34            80.026667   \n",
       "..        ...                   ...                  ...                  ...   \n",
       "515      74.7                 76.25                74.10            80.003333   \n",
       "516      73.9                 76.25                74.10            80.003333   \n",
       "517      75.6                 76.25                74.10            80.003333   \n",
       "518      75.9                 76.25                74.10            80.003333   \n",
       "519      70.4                 76.25                74.10            80.003333   \n",
       "\n",
       "     prediction_mean_HR  \n",
       "0                  80.0  \n",
       "1                  80.0  \n",
       "2                  80.0  \n",
       "3                  80.0  \n",
       "4                  80.0  \n",
       "..                  ...  \n",
       "515                80.0  \n",
       "516                80.0  \n",
       "517                80.0  \n",
       "518                80.0  \n",
       "519                80.0  \n",
       "\n",
       "[520 rows x 22 columns]"
      ]
     },
     "execution_count": 22,
     "metadata": {},
     "output_type": "execute_result"
    }
   ],
   "source": [
    "data_20"
   ]
  },
  {
   "cell_type": "code",
   "execution_count": 24,
   "metadata": {},
   "outputs": [
    {
     "data": {
      "text/plain": [
       "(520, 22)"
      ]
     },
     "execution_count": 24,
     "metadata": {},
     "output_type": "execute_result"
    }
   ],
   "source": [
    "data_20.shape"
   ]
  },
  {
   "cell_type": "code",
   "execution_count": 26,
   "metadata": {},
   "outputs": [
    {
     "data": {
      "text/plain": [
       "array(['20_10', '20_11', '20_12', '20_15', '20_16', '20_17', '20_18',\n",
       "       '20_19', '20_2', '20_20', '20_5', '20_7', '20_9'], dtype=object)"
      ]
     },
     "execution_count": 26,
     "metadata": {},
     "output_type": "execute_result"
    }
   ],
   "source": [
    "np.unique(data_20.key.values)"
   ]
  },
  {
   "cell_type": "code",
   "execution_count": 28,
   "metadata": {},
   "outputs": [
    {
     "data": {
      "text/plain": [
       "array(['gap', 'obs', 'pred'], dtype=object)"
      ]
     },
     "execution_count": 28,
     "metadata": {},
     "output_type": "execute_result"
    }
   ],
   "source": [
    "np.unique(data_20.window)"
   ]
  },
  {
   "cell_type": "code",
   "execution_count": 23,
   "metadata": {},
   "outputs": [
    {
     "data": {
      "text/plain": [
       "Index(['subject_id', 'key', 'gender', 'age', 'sapsii', 'sofa', 'care_unit',\n",
       "       'amine', 'sedation', 'ventilation', 'periode', 'window',\n",
       "       'time_and_date', 'hr', 'spo2', 'abp_sys', 'abp_dias', 'abp_mean',\n",
       "       'observation_mean_MAP', 'prediction_mean_MAP', 'observation_mean_HR',\n",
       "       'prediction_mean_HR'],\n",
       "      dtype='object')"
      ]
     },
     "execution_count": 23,
     "metadata": {},
     "output_type": "execute_result"
    }
   ],
   "source": [
    "data_20.columns"
   ]
  },
  {
   "cell_type": "code",
   "execution_count": 18,
   "metadata": {},
   "outputs": [
    {
     "data": {
      "text/plain": [
       "(2251830, 22)"
      ]
     },
     "execution_count": 18,
     "metadata": {},
     "output_type": "execute_result"
    }
   ],
   "source": [
    "data = data[data[\"window\"] == \"obs\"]\n",
    "data.shape"
   ]
  },
  {
   "cell_type": "code",
   "execution_count": 19,
   "metadata": {},
   "outputs": [
    {
     "data": {
      "text/plain": [
       "0.25"
      ]
     },
     "execution_count": 19,
     "metadata": {},
     "output_type": "execute_result"
    }
   ],
   "source": [
    "(3002440 - 2251830)/3002440"
   ]
  },
  {
   "cell_type": "code",
   "execution_count": 16,
   "metadata": {},
   "outputs": [
    {
     "data": {
      "text/html": [
       "<div>\n",
       "<style scoped>\n",
       "    .dataframe tbody tr th:only-of-type {\n",
       "        vertical-align: middle;\n",
       "    }\n",
       "\n",
       "    .dataframe tbody tr th {\n",
       "        vertical-align: top;\n",
       "    }\n",
       "\n",
       "    .dataframe thead th {\n",
       "        text-align: right;\n",
       "    }\n",
       "</style>\n",
       "<table border=\"1\" class=\"dataframe\">\n",
       "  <thead>\n",
       "    <tr style=\"text-align: right;\">\n",
       "      <th></th>\n",
       "      <th>subject_id</th>\n",
       "      <th>key</th>\n",
       "      <th>gender</th>\n",
       "      <th>age</th>\n",
       "      <th>sapsii</th>\n",
       "      <th>sofa</th>\n",
       "      <th>care_unit</th>\n",
       "      <th>amine</th>\n",
       "      <th>sedation</th>\n",
       "      <th>ventilation</th>\n",
       "      <th>...</th>\n",
       "      <th>time_and_date</th>\n",
       "      <th>hr</th>\n",
       "      <th>spo2</th>\n",
       "      <th>abp_sys</th>\n",
       "      <th>abp_dias</th>\n",
       "      <th>abp_mean</th>\n",
       "      <th>observation_mean_MAP</th>\n",
       "      <th>prediction_mean_MAP</th>\n",
       "      <th>observation_mean_HR</th>\n",
       "      <th>prediction_mean_HR</th>\n",
       "    </tr>\n",
       "  </thead>\n",
       "  <tbody>\n",
       "    <tr>\n",
       "      <th>0</th>\n",
       "      <td>20</td>\n",
       "      <td>20_2</td>\n",
       "      <td>1</td>\n",
       "      <td>76</td>\n",
       "      <td>22</td>\n",
       "      <td>1</td>\n",
       "      <td>2</td>\n",
       "      <td>0</td>\n",
       "      <td>0</td>\n",
       "      <td>1</td>\n",
       "      <td>...</td>\n",
       "      <td>2183-04-28 18:27:59</td>\n",
       "      <td>80.0</td>\n",
       "      <td>96.3</td>\n",
       "      <td>125.9</td>\n",
       "      <td>59.2</td>\n",
       "      <td>77.3</td>\n",
       "      <td>75.81</td>\n",
       "      <td>66.34</td>\n",
       "      <td>80.026667</td>\n",
       "      <td>80.0</td>\n",
       "    </tr>\n",
       "    <tr>\n",
       "      <th>1</th>\n",
       "      <td>20</td>\n",
       "      <td>20_2</td>\n",
       "      <td>1</td>\n",
       "      <td>76</td>\n",
       "      <td>22</td>\n",
       "      <td>1</td>\n",
       "      <td>2</td>\n",
       "      <td>0</td>\n",
       "      <td>0</td>\n",
       "      <td>1</td>\n",
       "      <td>...</td>\n",
       "      <td>2183-04-28 18:28:59</td>\n",
       "      <td>80.8</td>\n",
       "      <td>95.9</td>\n",
       "      <td>122.6</td>\n",
       "      <td>57.6</td>\n",
       "      <td>75.1</td>\n",
       "      <td>75.81</td>\n",
       "      <td>66.34</td>\n",
       "      <td>80.026667</td>\n",
       "      <td>80.0</td>\n",
       "    </tr>\n",
       "    <tr>\n",
       "      <th>2</th>\n",
       "      <td>20</td>\n",
       "      <td>20_2</td>\n",
       "      <td>1</td>\n",
       "      <td>76</td>\n",
       "      <td>22</td>\n",
       "      <td>1</td>\n",
       "      <td>2</td>\n",
       "      <td>0</td>\n",
       "      <td>0</td>\n",
       "      <td>1</td>\n",
       "      <td>...</td>\n",
       "      <td>2183-04-28 18:29:59</td>\n",
       "      <td>80.0</td>\n",
       "      <td>96.0</td>\n",
       "      <td>119.6</td>\n",
       "      <td>56.4</td>\n",
       "      <td>73.2</td>\n",
       "      <td>75.81</td>\n",
       "      <td>66.34</td>\n",
       "      <td>80.026667</td>\n",
       "      <td>80.0</td>\n",
       "    </tr>\n",
       "    <tr>\n",
       "      <th>3</th>\n",
       "      <td>20</td>\n",
       "      <td>20_2</td>\n",
       "      <td>1</td>\n",
       "      <td>76</td>\n",
       "      <td>22</td>\n",
       "      <td>1</td>\n",
       "      <td>2</td>\n",
       "      <td>0</td>\n",
       "      <td>0</td>\n",
       "      <td>1</td>\n",
       "      <td>...</td>\n",
       "      <td>2183-04-28 18:30:59</td>\n",
       "      <td>80.0</td>\n",
       "      <td>95.1</td>\n",
       "      <td>118.6</td>\n",
       "      <td>56.3</td>\n",
       "      <td>72.8</td>\n",
       "      <td>75.81</td>\n",
       "      <td>66.34</td>\n",
       "      <td>80.026667</td>\n",
       "      <td>80.0</td>\n",
       "    </tr>\n",
       "    <tr>\n",
       "      <th>4</th>\n",
       "      <td>20</td>\n",
       "      <td>20_2</td>\n",
       "      <td>1</td>\n",
       "      <td>76</td>\n",
       "      <td>22</td>\n",
       "      <td>1</td>\n",
       "      <td>2</td>\n",
       "      <td>0</td>\n",
       "      <td>0</td>\n",
       "      <td>1</td>\n",
       "      <td>...</td>\n",
       "      <td>2183-04-28 18:31:59</td>\n",
       "      <td>80.0</td>\n",
       "      <td>95.0</td>\n",
       "      <td>119.0</td>\n",
       "      <td>56.4</td>\n",
       "      <td>73.0</td>\n",
       "      <td>75.81</td>\n",
       "      <td>66.34</td>\n",
       "      <td>80.026667</td>\n",
       "      <td>80.0</td>\n",
       "    </tr>\n",
       "  </tbody>\n",
       "</table>\n",
       "<p>5 rows × 22 columns</p>\n",
       "</div>"
      ],
      "text/plain": [
       "   subject_id   key  gender  age  sapsii  sofa  care_unit  amine  sedation  \\\n",
       "0          20  20_2       1   76      22     1          2      0         0   \n",
       "1          20  20_2       1   76      22     1          2      0         0   \n",
       "2          20  20_2       1   76      22     1          2      0         0   \n",
       "3          20  20_2       1   76      22     1          2      0         0   \n",
       "4          20  20_2       1   76      22     1          2      0         0   \n",
       "\n",
       "   ventilation  ...        time_and_date    hr  spo2  abp_sys  abp_dias  \\\n",
       "0            1  ...  2183-04-28 18:27:59  80.0  96.3    125.9      59.2   \n",
       "1            1  ...  2183-04-28 18:28:59  80.8  95.9    122.6      57.6   \n",
       "2            1  ...  2183-04-28 18:29:59  80.0  96.0    119.6      56.4   \n",
       "3            1  ...  2183-04-28 18:30:59  80.0  95.1    118.6      56.3   \n",
       "4            1  ...  2183-04-28 18:31:59  80.0  95.0    119.0      56.4   \n",
       "\n",
       "   abp_mean  observation_mean_MAP  prediction_mean_MAP  observation_mean_HR  \\\n",
       "0      77.3                 75.81                66.34            80.026667   \n",
       "1      75.1                 75.81                66.34            80.026667   \n",
       "2      73.2                 75.81                66.34            80.026667   \n",
       "3      72.8                 75.81                66.34            80.026667   \n",
       "4      73.0                 75.81                66.34            80.026667   \n",
       "\n",
       "   prediction_mean_HR  \n",
       "0                80.0  \n",
       "1                80.0  \n",
       "2                80.0  \n",
       "3                80.0  \n",
       "4                80.0  \n",
       "\n",
       "[5 rows x 22 columns]"
      ]
     },
     "execution_count": 16,
     "metadata": {},
     "output_type": "execute_result"
    }
   ],
   "source": [
    "data.head()"
   ]
  },
  {
   "cell_type": "code",
   "execution_count": null,
   "metadata": {},
   "outputs": [],
   "source": []
  }
 ],
 "metadata": {
  "kernelspec": {
   "display_name": "Python 3",
   "language": "python",
   "name": "python3"
  },
  "language_info": {
   "codemirror_mode": {
    "name": "ipython",
    "version": 3
   },
   "file_extension": ".py",
   "mimetype": "text/x-python",
   "name": "python",
   "nbconvert_exporter": "python",
   "pygments_lexer": "ipython3",
   "version": "3.7.6"
  }
 },
 "nbformat": 4,
 "nbformat_minor": 2
}
