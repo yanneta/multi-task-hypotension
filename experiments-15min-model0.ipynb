{
 "cells": [
  {
   "cell_type": "code",
   "execution_count": 1,
   "metadata": {},
   "outputs": [],
   "source": [
    "%reload_ext autoreload\n",
    "%autoreload 2\n",
    "%matplotlib inline\n",
    "\n",
    "from utils import *\n",
    "\n",
    "import matplotlib\n",
    "import matplotlib.pyplot as plt\n",
    "\n",
    "import pandas as pd\n",
    "\n",
    "from datetime import datetime\n",
    "from collections import OrderedDict"
   ]
  },
  {
   "cell_type": "code",
   "execution_count": 2,
   "metadata": {},
   "outputs": [],
   "source": [
    "PATH = Path(\"/data2/yinterian/multi-task-romain\")"
   ]
  },
  {
   "cell_type": "code",
   "execution_count": 3,
   "metadata": {},
   "outputs": [],
   "source": [
    "train, valid = get_data_gap(PATH, gap=\"15min\")"
   ]
  },
  {
   "cell_type": "code",
   "execution_count": 4,
   "metadata": {},
   "outputs": [
    {
     "data": {
      "text/plain": [
       "((36219, 17), (4000, 17))"
      ]
     },
     "execution_count": 4,
     "metadata": {},
     "output_type": "execute_result"
    }
   ],
   "source": [
    "train.shape, valid.shape"
   ]
  },
  {
   "cell_type": "code",
   "execution_count": 5,
   "metadata": {},
   "outputs": [],
   "source": [
    "norm_dict, care2id, id2index, num_subjects = stats_dict(train)"
   ]
  },
  {
   "cell_type": "code",
   "execution_count": 6,
   "metadata": {},
   "outputs": [],
   "source": [
    "train_ds = MultiTask(train, norm_dict, id2index, care2id)\n",
    "valid_ds = MultiTask(valid, norm_dict, id2index, care2id, train=False)"
   ]
  },
  {
   "cell_type": "code",
   "execution_count": 7,
   "metadata": {},
   "outputs": [],
   "source": [
    "batch_size = 5000\n",
    "train_dl = DataLoader(train_ds, batch_size=batch_size, shuffle=True)\n",
    "valid_dl = DataLoader(valid_ds, batch_size=batch_size)"
   ]
  },
  {
   "cell_type": "code",
   "execution_count": 8,
   "metadata": {},
   "outputs": [],
   "source": [
    "def multiple_runs(num_subjects, C, basename=\"model0_15min\", n=10):\n",
    "    best_score = 0\n",
    "    for i in range(n):\n",
    "        model = EventModel0(num_subjects).cuda()\n",
    "        optimizer = torch.optim.Adam(model.parameters(), lr=0.04, weight_decay=1e-5)\n",
    "        best_score = train_epochs(model, train_ds, valid_dl, optimizer, basename, best_score, epochs=30, C=C)\n",
    "    return best_score    "
   ]
  },
  {
   "cell_type": "code",
   "execution_count": 10,
   "metadata": {},
   "outputs": [
    {
     "data": {
      "application/vnd.jupyter.widget-view+json": {
       "model_id": "8b56a1f103404f52b37cf05d45cff450",
       "version_major": 2,
       "version_minor": 0
      },
      "text/plain": [
       "HBox(children=(FloatProgress(value=0.0, max=210.0), HTML(value='')))"
      ]
     },
     "metadata": {},
     "output_type": "display_data"
    },
    {
     "name": "stdout",
     "output_type": "stream",
     "text": [
      "\tTrain loss: 7145.815 6098.900 map valid loss: 14085.336 valid r2 hr -41.880 valid r2 map -88.725\n",
      "\tTrain loss: 6483.186 5112.966 map valid loss: 6428.426 valid r2 hr -31.703 valid r2 map -39.950\n",
      "\tTrain loss: 4671.948 3206.349 map valid loss: 2352.421 valid r2 hr -14.797 valid r2 map -13.985\n",
      "\tTrain loss: 2106.213 1020.180 map valid loss: 326.319 valid r2 hr -3.891 valid r2 map -1.079\n",
      "\tTrain loss: 473.113 82.241 map valid loss: 203.111 valid r2 hr -0.416 valid r2 map -0.294\n",
      "\tTrain loss: 417.386 330.461 map valid loss: 160.259 valid r2 hr -0.627 valid r2 map -0.021\n",
      "\tTrain loss: 356.833 103.712 map valid loss: 33.537 valid r2 hr -0.222 valid r2 map 0.786\n",
      "/data2/yinterian/multi-task-romain/models/model0_15min_r2_-22_79.pth\n",
      "\tTrain loss: 286.891 41.672 map valid loss: 95.908 valid r2 hr -0.223 valid r2 map 0.389\n",
      "\tTrain loss: 285.749 62.002 map valid loss: 48.553 valid r2 hr -0.080 valid r2 map 0.691\n",
      "\tTrain loss: 246.762 24.729 map valid loss: 24.725 valid r2 hr 0.034 valid r2 map 0.843\n",
      "/data2/yinterian/multi-task-romain/models/model0_15min_r2_3_84.pth\n",
      "\tTrain loss: 230.172 25.476 map valid loss: 28.492 valid r2 hr 0.210 valid r2 map 0.819\n",
      "\tTrain loss: 181.666 23.036 map valid loss: 29.028 valid r2 hr 0.483 valid r2 map 0.815\n",
      "\tTrain loss: 136.477 20.176 map valid loss: 28.009 valid r2 hr 0.580 valid r2 map 0.822\n",
      "\tTrain loss: 90.849 20.708 map valid loss: 24.824 valid r2 hr 0.689 valid r2 map 0.842\n",
      "\tTrain loss: 57.854 19.069 map valid loss: 26.538 valid r2 hr 0.800 valid r2 map 0.831\n",
      "\tTrain loss: 38.543 19.619 map valid loss: 24.636 valid r2 hr 0.831 valid r2 map 0.843\n",
      "/data2/yinterian/multi-task-romain/models/model0_15min_r2_83_84.pth\n",
      "\tTrain loss: 32.466 18.721 map valid loss: 25.800 valid r2 hr 0.879 valid r2 map 0.836\n",
      "\tTrain loss: 28.237 18.258 map valid loss: 25.945 valid r2 hr 0.895 valid r2 map 0.835\n",
      "\tTrain loss: 25.300 17.730 map valid loss: 25.831 valid r2 hr 0.894 valid r2 map 0.835\n",
      "\tTrain loss: 24.367 17.478 map valid loss: 24.528 valid r2 hr 0.866 valid r2 map 0.844\n",
      "/data2/yinterian/multi-task-romain/models/model0_15min_r2_87_84.pth\n",
      "\tTrain loss: 24.450 17.520 map valid loss: 24.622 valid r2 hr 0.895 valid r2 map 0.843\n",
      "\tTrain loss: 22.516 17.173 map valid loss: 25.679 valid r2 hr 0.882 valid r2 map 0.836\n",
      "\tTrain loss: 22.210 16.828 map valid loss: 26.235 valid r2 hr 0.892 valid r2 map 0.833\n",
      "\tTrain loss: 22.189 16.540 map valid loss: 25.141 valid r2 hr 0.903 valid r2 map 0.840\n",
      "\tTrain loss: 21.111 17.301 map valid loss: 25.509 valid r2 hr 0.895 valid r2 map 0.838\n",
      "\tTrain loss: 20.056 16.344 map valid loss: 26.990 valid r2 hr 0.891 valid r2 map 0.828\n",
      "\tTrain loss: 20.353 16.465 map valid loss: 24.945 valid r2 hr 0.899 valid r2 map 0.841\n",
      "\tTrain loss: 20.370 16.093 map valid loss: 25.465 valid r2 hr 0.873 valid r2 map 0.838\n",
      "\tTrain loss: 20.056 16.309 map valid loss: 25.719 valid r2 hr 0.895 valid r2 map 0.836\n",
      "\tTrain loss: 19.342 15.597 map valid loss: 25.592 valid r2 hr 0.901 valid r2 map 0.837\n"
     ]
    },
    {
     "data": {
      "application/vnd.jupyter.widget-view+json": {
       "model_id": "7823dab117f043f9b967c4ddd94f8472",
       "version_major": 2,
       "version_minor": 0
      },
      "text/plain": [
       "HBox(children=(FloatProgress(value=0.0, max=210.0), HTML(value='')))"
      ]
     },
     "metadata": {},
     "output_type": "display_data"
    },
    {
     "name": "stdout",
     "output_type": "stream",
     "text": [
      "\tTrain loss: 7120.788 6069.217 map valid loss: 11362.057 valid r2 hr -47.470 valid r2 map -71.377\n",
      "\tTrain loss: 6392.288 5088.776 map valid loss: 5380.672 valid r2 hr -27.743 valid r2 map -33.275\n",
      "\tTrain loss: 4440.382 3195.365 map valid loss: 669.886 valid r2 hr -5.003 valid r2 map -3.267\n",
      "\tTrain loss: 1808.634 972.590 map valid loss: 69.347 valid r2 hr -0.547 valid r2 map 0.558\n",
      "\tTrain loss: 401.738 80.842 map valid loss: 480.815 valid r2 hr -1.295 valid r2 map -2.063\n",
      "\tTrain loss: 474.334 329.192 map valid loss: 245.993 valid r2 hr -1.159 valid r2 map -0.567\n",
      "\tTrain loss: 357.383 98.444 map valid loss: 30.243 valid r2 hr -0.221 valid r2 map 0.807\n",
      "\tTrain loss: 309.318 44.797 map valid loss: 91.772 valid r2 hr -0.348 valid r2 map 0.415\n",
      "\tTrain loss: 315.329 62.078 map valid loss: 43.653 valid r2 hr -0.131 valid r2 map 0.722\n",
      "\tTrain loss: 270.979 25.511 map valid loss: 33.602 valid r2 hr -0.081 valid r2 map 0.786\n",
      "\tTrain loss: 255.165 27.427 map valid loss: 34.567 valid r2 hr -0.043 valid r2 map 0.780\n",
      "\tTrain loss: 236.487 24.030 map valid loss: 25.736 valid r2 hr 0.098 valid r2 map 0.836\n",
      "\tTrain loss: 191.839 21.295 map valid loss: 35.816 valid r2 hr 0.273 valid r2 map 0.772\n",
      "\tTrain loss: 141.818 22.136 map valid loss: 36.323 valid r2 hr 0.419 valid r2 map 0.769\n",
      "\tTrain loss: 103.580 19.999 map valid loss: 26.570 valid r2 hr 0.611 valid r2 map 0.831\n",
      "\tTrain loss: 81.121 20.828 map valid loss: 25.584 valid r2 hr 0.695 valid r2 map 0.837\n",
      "\tTrain loss: 57.944 19.536 map valid loss: 37.972 valid r2 hr 0.802 valid r2 map 0.758\n",
      "\tTrain loss: 44.352 20.502 map valid loss: 36.466 valid r2 hr 0.831 valid r2 map 0.768\n",
      "\tTrain loss: 37.705 19.476 map valid loss: 33.564 valid r2 hr 0.831 valid r2 map 0.786\n",
      "\tTrain loss: 34.117 20.650 map valid loss: 35.102 valid r2 hr 0.692 valid r2 map 0.776\n",
      "\tTrain loss: 37.887 22.558 map valid loss: 79.151 valid r2 hr 0.792 valid r2 map 0.496\n",
      "\tTrain loss: 29.398 21.786 map valid loss: 41.654 valid r2 hr 0.844 valid r2 map 0.735\n",
      "\tTrain loss: 26.935 19.784 map valid loss: 42.096 valid r2 hr 0.881 valid r2 map 0.732\n",
      "\tTrain loss: 25.886 18.875 map valid loss: 32.725 valid r2 hr 0.877 valid r2 map 0.792\n",
      "\tTrain loss: 25.069 18.778 map valid loss: 26.783 valid r2 hr 0.868 valid r2 map 0.829\n",
      "\tTrain loss: 23.434 18.513 map valid loss: 24.663 valid r2 hr 0.899 valid r2 map 0.843\n",
      "\tTrain loss: 21.709 18.156 map valid loss: 26.482 valid r2 hr 0.890 valid r2 map 0.831\n",
      "\tTrain loss: 22.664 18.276 map valid loss: 25.267 valid r2 hr 0.904 valid r2 map 0.839\n",
      "\tTrain loss: 22.041 17.661 map valid loss: 25.638 valid r2 hr 0.902 valid r2 map 0.837\n",
      "\tTrain loss: 20.290 17.506 map valid loss: 25.853 valid r2 hr 0.900 valid r2 map 0.835\n"
     ]
    },
    {
     "data": {
      "application/vnd.jupyter.widget-view+json": {
       "model_id": "3b97533ebd5a41b4afec942c211b8621",
       "version_major": 2,
       "version_minor": 0
      },
      "text/plain": [
       "HBox(children=(FloatProgress(value=0.0, max=210.0), HTML(value='')))"
      ]
     },
     "metadata": {},
     "output_type": "display_data"
    },
    {
     "name": "stdout",
     "output_type": "stream",
     "text": [
      "\tTrain loss: 7170.833 6101.789 map valid loss: 12200.718 valid r2 hr -48.414 valid r2 map -76.719\n",
      "\tTrain loss: 6474.230 5187.589 map valid loss: 8344.521 valid r2 hr -40.953 valid r2 map -52.155\n",
      "\tTrain loss: 4672.418 3368.248 map valid loss: 2730.092 valid r2 hr -17.003 valid r2 map -16.391\n",
      "\tTrain loss: 2082.016 1136.961 map valid loss: 484.408 valid r2 hr -4.549 valid r2 map -2.086\n",
      "\tTrain loss: 450.884 87.307 map valid loss: 199.535 valid r2 hr -0.491 valid r2 map -0.271\n",
      "\tTrain loss: 438.453 329.479 map valid loss: 140.754 valid r2 hr -0.606 valid r2 map 0.103\n",
      "\tTrain loss: 366.641 117.105 map valid loss: 27.218 valid r2 hr -0.282 valid r2 map 0.827\n",
      "\tTrain loss: 297.164 39.185 map valid loss: 80.034 valid r2 hr -0.301 valid r2 map 0.490\n",
      "\tTrain loss: 306.501 63.177 map valid loss: 35.349 valid r2 hr -0.102 valid r2 map 0.775\n",
      "\tTrain loss: 247.634 27.969 map valid loss: 28.452 valid r2 hr 0.068 valid r2 map 0.819\n",
      "\tTrain loss: 219.778 27.143 map valid loss: 43.163 valid r2 hr 0.133 valid r2 map 0.725\n",
      "\tTrain loss: 174.541 24.681 map valid loss: 27.817 valid r2 hr 0.386 valid r2 map 0.823\n",
      "\tTrain loss: 137.602 20.549 map valid loss: 31.112 valid r2 hr 0.495 valid r2 map 0.802\n",
      "\tTrain loss: 105.545 21.639 map valid loss: 28.288 valid r2 hr 0.604 valid r2 map 0.820\n",
      "\tTrain loss: 82.108 20.649 map valid loss: 29.879 valid r2 hr 0.650 valid r2 map 0.810\n",
      "\tTrain loss: 62.179 19.723 map valid loss: 26.822 valid r2 hr 0.681 valid r2 map 0.829\n",
      "\tTrain loss: 51.382 19.577 map valid loss: 26.063 valid r2 hr 0.698 valid r2 map 0.834\n",
      "\tTrain loss: 40.479 19.435 map valid loss: 27.061 valid r2 hr 0.654 valid r2 map 0.828\n",
      "\tTrain loss: 36.366 19.096 map valid loss: 26.478 valid r2 hr 0.732 valid r2 map 0.831\n",
      "\tTrain loss: 32.651 18.143 map valid loss: 25.707 valid r2 hr 0.715 valid r2 map 0.836\n",
      "\tTrain loss: 30.114 18.020 map valid loss: 25.176 valid r2 hr 0.813 valid r2 map 0.840\n",
      "\tTrain loss: 29.033 17.627 map valid loss: 25.102 valid r2 hr 0.789 valid r2 map 0.840\n",
      "\tTrain loss: 27.671 17.586 map valid loss: 25.792 valid r2 hr 0.840 valid r2 map 0.836\n",
      "\tTrain loss: 26.856 18.100 map valid loss: 27.348 valid r2 hr 0.826 valid r2 map 0.826\n",
      "\tTrain loss: 25.100 17.965 map valid loss: 26.937 valid r2 hr 0.876 valid r2 map 0.828\n",
      "\tTrain loss: 30.078 18.421 map valid loss: 25.396 valid r2 hr 0.892 valid r2 map 0.838\n",
      "\tTrain loss: 28.110 17.358 map valid loss: 25.515 valid r2 hr 0.831 valid r2 map 0.837\n",
      "\tTrain loss: 25.402 17.305 map valid loss: 26.763 valid r2 hr 0.854 valid r2 map 0.830\n",
      "\tTrain loss: 24.481 16.709 map valid loss: 25.438 valid r2 hr 0.871 valid r2 map 0.838\n",
      "\tTrain loss: 24.152 16.756 map valid loss: 24.807 valid r2 hr 0.894 valid r2 map 0.842\n"
     ]
    },
    {
     "data": {
      "application/vnd.jupyter.widget-view+json": {
       "model_id": "8caf2daa67c44c0ba0879fd7e306a60f",
       "version_major": 2,
       "version_minor": 0
      },
      "text/plain": [
       "HBox(children=(FloatProgress(value=0.0, max=210.0), HTML(value='')))"
      ]
     },
     "metadata": {},
     "output_type": "display_data"
    },
    {
     "name": "stdout",
     "output_type": "stream",
     "text": [
      "\tTrain loss: 7139.238 6101.276 map valid loss: 7798.243 valid r2 hr -32.280 valid r2 map -48.675\n",
      "\tTrain loss: 6410.236 5173.305 map valid loss: 2831.745 valid r2 hr -17.994 valid r2 map -17.038\n",
      "\tTrain loss: 4547.206 3297.533 map valid loss: 1413.624 valid r2 hr -9.486 valid r2 map -8.005\n",
      "\tTrain loss: 1961.660 1069.166 map valid loss: 101.724 valid r2 hr -1.293 valid r2 map 0.352\n",
      "\tTrain loss: 423.662 79.415 map valid loss: 331.699 valid r2 hr -0.731 valid r2 map -1.113\n",
      "\tTrain loss: 457.113 328.013 map valid loss: 245.767 valid r2 hr -0.988 valid r2 map -0.566\n",
      "\tTrain loss: 358.800 109.008 map valid loss: 26.208 valid r2 hr -0.137 valid r2 map 0.833\n",
      "\tTrain loss: 285.028 39.764 map valid loss: 77.928 valid r2 hr -0.180 valid r2 map 0.504\n",
      "\tTrain loss: 283.588 62.279 map valid loss: 34.631 valid r2 hr -0.037 valid r2 map 0.779\n",
      "\tTrain loss: 242.678 25.779 map valid loss: 25.175 valid r2 hr 0.009 valid r2 map 0.840\n",
      "\tTrain loss: 236.855 25.913 map valid loss: 28.072 valid r2 hr 0.079 valid r2 map 0.821\n",
      "\tTrain loss: 205.637 22.667 map valid loss: 27.638 valid r2 hr 0.217 valid r2 map 0.824\n",
      "\tTrain loss: 154.476 19.876 map valid loss: 29.454 valid r2 hr 0.410 valid r2 map 0.812\n",
      "\tTrain loss: 100.688 21.142 map valid loss: 26.334 valid r2 hr 0.706 valid r2 map 0.832\n",
      "\tTrain loss: 56.156 19.898 map valid loss: 28.401 valid r2 hr 0.825 valid r2 map 0.819\n",
      "\tTrain loss: 33.713 20.188 map valid loss: 25.907 valid r2 hr 0.785 valid r2 map 0.835\n",
      "\tTrain loss: 27.603 19.589 map valid loss: 24.650 valid r2 hr 0.830 valid r2 map 0.843\n",
      "\tTrain loss: 26.176 18.507 map valid loss: 25.343 valid r2 hr 0.883 valid r2 map 0.839\n",
      "\tTrain loss: 24.193 18.440 map valid loss: 26.655 valid r2 hr 0.864 valid r2 map 0.830\n",
      "\tTrain loss: 22.443 17.678 map valid loss: 27.233 valid r2 hr 0.896 valid r2 map 0.827\n",
      "\tTrain loss: 21.421 18.304 map valid loss: 27.111 valid r2 hr 0.886 valid r2 map 0.827\n",
      "\tTrain loss: 21.559 17.577 map valid loss: 25.288 valid r2 hr 0.897 valid r2 map 0.839\n",
      "\tTrain loss: 20.355 18.070 map valid loss: 24.596 valid r2 hr 0.900 valid r2 map 0.843\n",
      "\tTrain loss: 19.231 18.016 map valid loss: 25.206 valid r2 hr 0.894 valid r2 map 0.839\n",
      "\tTrain loss: 19.330 16.918 map valid loss: 25.292 valid r2 hr 0.905 valid r2 map 0.839\n",
      "\tTrain loss: 19.068 17.057 map valid loss: 25.163 valid r2 hr 0.905 valid r2 map 0.840\n",
      "\tTrain loss: 19.050 16.981 map valid loss: 28.242 valid r2 hr 0.896 valid r2 map 0.820\n",
      "\tTrain loss: 20.236 17.560 map valid loss: 25.611 valid r2 hr 0.906 valid r2 map 0.837\n",
      "\tTrain loss: 18.644 17.212 map valid loss: 25.280 valid r2 hr 0.891 valid r2 map 0.839\n",
      "\tTrain loss: 18.720 16.889 map valid loss: 27.903 valid r2 hr 0.882 valid r2 map 0.822\n"
     ]
    },
    {
     "data": {
      "application/vnd.jupyter.widget-view+json": {
       "model_id": "5ad0e52904944f90b9b70e3da1e79954",
       "version_major": 2,
       "version_minor": 0
      },
      "text/plain": [
       "HBox(children=(FloatProgress(value=0.0, max=210.0), HTML(value='')))"
      ]
     },
     "metadata": {},
     "output_type": "display_data"
    },
    {
     "name": "stdout",
     "output_type": "stream",
     "text": [
      "\tTrain loss: 7148.971 6026.732 map valid loss: 7014.121 valid r2 hr -33.189 valid r2 map -43.680\n",
      "\tTrain loss: 6381.934 4984.060 map valid loss: 3582.192 valid r2 hr -21.214 valid r2 map -21.819\n",
      "\tTrain loss: 4399.995 3046.795 map valid loss: 1072.253 valid r2 hr -8.322 valid r2 map -5.830\n",
      "\tTrain loss: 1837.735 869.132 map valid loss: 83.777 valid r2 hr -1.544 valid r2 map 0.466\n",
      "\tTrain loss: 394.947 87.161 map valid loss: 375.694 valid r2 hr -0.669 valid r2 map -1.393\n",
      "\tTrain loss: 439.723 328.730 map valid loss: 188.818 valid r2 hr -0.728 valid r2 map -0.203\n",
      "\tTrain loss: 346.789 87.437 map valid loss: 31.356 valid r2 hr -0.136 valid r2 map 0.800\n",
      "\tTrain loss: 300.644 43.870 map valid loss: 67.685 valid r2 hr -0.201 valid r2 map 0.569\n",
      "\tTrain loss: 289.576 60.672 map valid loss: 33.381 valid r2 hr -0.069 valid r2 map 0.787\n",
      "\tTrain loss: 242.404 22.819 map valid loss: 29.427 valid r2 hr 0.163 valid r2 map 0.813\n",
      "\tTrain loss: 190.859 27.238 map valid loss: 30.324 valid r2 hr 0.324 valid r2 map 0.807\n",
      "\tTrain loss: 130.427 24.131 map valid loss: 26.214 valid r2 hr 0.509 valid r2 map 0.833\n",
      "\tTrain loss: 96.279 21.163 map valid loss: 30.578 valid r2 hr 0.624 valid r2 map 0.805\n",
      "\tTrain loss: 67.256 21.085 map valid loss: 25.595 valid r2 hr 0.756 valid r2 map 0.837\n",
      "\tTrain loss: 45.796 19.798 map valid loss: 27.237 valid r2 hr 0.798 valid r2 map 0.826\n",
      "\tTrain loss: 30.766 19.041 map valid loss: 28.366 valid r2 hr 0.873 valid r2 map 0.819\n",
      "\tTrain loss: 23.817 18.377 map valid loss: 27.753 valid r2 hr 0.882 valid r2 map 0.823\n",
      "\tTrain loss: 22.539 17.744 map valid loss: 23.942 valid r2 hr 0.894 valid r2 map 0.847\n",
      "/data2/yinterian/multi-task-romain/models/model0_15min_r2_89_85.pth\n",
      "\tTrain loss: 21.636 17.030 map valid loss: 26.613 valid r2 hr 0.886 valid r2 map 0.830\n",
      "\tTrain loss: 20.381 17.785 map valid loss: 25.647 valid r2 hr 0.903 valid r2 map 0.837\n",
      "\tTrain loss: 20.016 17.064 map valid loss: 25.483 valid r2 hr 0.904 valid r2 map 0.838\n",
      "\tTrain loss: 18.643 16.898 map valid loss: 26.924 valid r2 hr 0.904 valid r2 map 0.828\n",
      "\tTrain loss: 18.730 16.979 map valid loss: 25.987 valid r2 hr 0.907 valid r2 map 0.834\n",
      "\tTrain loss: 17.904 16.774 map valid loss: 25.743 valid r2 hr 0.890 valid r2 map 0.836\n",
      "\tTrain loss: 19.736 15.945 map valid loss: 28.940 valid r2 hr 0.901 valid r2 map 0.816\n",
      "\tTrain loss: 19.948 16.931 map valid loss: 25.286 valid r2 hr 0.911 valid r2 map 0.839\n",
      "\tTrain loss: 16.799 16.589 map valid loss: 27.470 valid r2 hr 0.909 valid r2 map 0.825\n",
      "\tTrain loss: 17.684 16.055 map valid loss: 27.067 valid r2 hr 0.905 valid r2 map 0.828\n",
      "\tTrain loss: 17.918 16.296 map valid loss: 25.510 valid r2 hr 0.906 valid r2 map 0.838\n",
      "\tTrain loss: 18.019 16.026 map valid loss: 25.060 valid r2 hr 0.907 valid r2 map 0.840\n"
     ]
    },
    {
     "data": {
      "application/vnd.jupyter.widget-view+json": {
       "model_id": "8d5b527600dc4d9188e83dd9d8c8020a",
       "version_major": 2,
       "version_minor": 0
      },
      "text/plain": [
       "HBox(children=(FloatProgress(value=0.0, max=210.0), HTML(value='')))"
      ]
     },
     "metadata": {},
     "output_type": "display_data"
    },
    {
     "name": "stdout",
     "output_type": "stream",
     "text": [
      "\tTrain loss: 7107.045 6109.527 map valid loss: 9236.922 valid r2 hr -45.955 valid r2 map -57.840\n",
      "\tTrain loss: 6403.820 5202.082 map valid loss: 8174.631 valid r2 hr -40.418 valid r2 map -51.073\n",
      "\tTrain loss: 4585.312 3444.122 map valid loss: 2709.461 valid r2 hr -14.572 valid r2 map -16.259\n",
      "\tTrain loss: 1964.606 1219.550 map valid loss: 354.503 valid r2 hr -2.912 valid r2 map -1.258\n",
      "\tTrain loss: 412.925 89.345 map valid loss: 152.972 valid r2 hr -0.438 valid r2 map 0.026\n",
      "\tTrain loss: 461.447 316.982 map valid loss: 209.334 valid r2 hr -0.809 valid r2 map -0.333\n",
      "\tTrain loss: 352.269 125.486 map valid loss: 27.310 valid r2 hr -0.131 valid r2 map 0.826\n",
      "\tTrain loss: 271.334 36.901 map valid loss: 67.892 valid r2 hr -0.221 valid r2 map 0.568\n",
      "\tTrain loss: 286.865 62.758 map valid loss: 35.371 valid r2 hr -0.043 valid r2 map 0.775\n",
      "\tTrain loss: 245.639 26.127 map valid loss: 26.111 valid r2 hr 0.031 valid r2 map 0.834\n",
      "\tTrain loss: 233.121 25.254 map valid loss: 39.596 valid r2 hr -0.015 valid r2 map 0.748\n",
      "\tTrain loss: 195.239 23.982 map valid loss: 26.160 valid r2 hr 0.224 valid r2 map 0.833\n",
      "\tTrain loss: 147.373 20.370 map valid loss: 28.002 valid r2 hr 0.427 valid r2 map 0.822\n",
      "\tTrain loss: 104.500 20.924 map valid loss: 26.339 valid r2 hr 0.630 valid r2 map 0.832\n",
      "\tTrain loss: 63.497 19.529 map valid loss: 29.718 valid r2 hr 0.758 valid r2 map 0.811\n",
      "\tTrain loss: 44.654 20.458 map valid loss: 26.298 valid r2 hr 0.787 valid r2 map 0.832\n",
      "\tTrain loss: 32.916 19.404 map valid loss: 24.714 valid r2 hr 0.542 valid r2 map 0.843\n",
      "\tTrain loss: 29.750 19.890 map valid loss: 29.201 valid r2 hr 0.759 valid r2 map 0.814\n",
      "\tTrain loss: 25.415 18.946 map valid loss: 26.628 valid r2 hr 0.872 valid r2 map 0.830\n",
      "\tTrain loss: 23.350 18.791 map valid loss: 27.025 valid r2 hr 0.874 valid r2 map 0.828\n",
      "\tTrain loss: 23.004 19.004 map valid loss: 24.659 valid r2 hr 0.900 valid r2 map 0.843\n",
      "\tTrain loss: 21.747 18.030 map valid loss: 24.316 valid r2 hr 0.909 valid r2 map 0.845\n",
      "\tTrain loss: 21.013 17.518 map valid loss: 24.896 valid r2 hr 0.909 valid r2 map 0.841\n",
      "\tTrain loss: 21.494 17.771 map valid loss: 26.438 valid r2 hr 0.893 valid r2 map 0.832\n",
      "\tTrain loss: 21.445 18.082 map valid loss: 28.162 valid r2 hr 0.895 valid r2 map 0.821\n",
      "\tTrain loss: 19.626 18.070 map valid loss: 27.912 valid r2 hr 0.889 valid r2 map 0.822\n",
      "\tTrain loss: 19.148 17.380 map valid loss: 25.610 valid r2 hr 0.908 valid r2 map 0.837\n",
      "\tTrain loss: 18.867 17.209 map valid loss: 25.757 valid r2 hr 0.914 valid r2 map 0.836\n",
      "\tTrain loss: 18.401 16.684 map valid loss: 26.937 valid r2 hr 0.881 valid r2 map 0.828\n",
      "\tTrain loss: 19.244 17.276 map valid loss: 26.009 valid r2 hr 0.909 valid r2 map 0.834\n"
     ]
    },
    {
     "data": {
      "application/vnd.jupyter.widget-view+json": {
       "model_id": "19f4dc259fdf47668c73b09ea90c481b",
       "version_major": 2,
       "version_minor": 0
      },
      "text/plain": [
       "HBox(children=(FloatProgress(value=0.0, max=210.0), HTML(value='')))"
      ]
     },
     "metadata": {},
     "output_type": "display_data"
    },
    {
     "name": "stdout",
     "output_type": "stream",
     "text": [
      "\tTrain loss: 7109.175 6089.758 map valid loss: 3987.484 valid r2 hr -23.240 valid r2 map -24.401\n",
      "\tTrain loss: 6421.596 5101.633 map valid loss: 3111.290 valid r2 hr -18.924 valid r2 map -18.819\n",
      "\tTrain loss: 4479.343 3190.150 map valid loss: 1155.615 valid r2 hr -8.632 valid r2 map -6.361\n",
      "\tTrain loss: 1945.174 989.417 map valid loss: 65.822 valid r2 hr -1.501 valid r2 map 0.581\n",
      "\tTrain loss: 433.753 81.016 map valid loss: 454.148 valid r2 hr -1.174 valid r2 map -1.893\n",
      "\tTrain loss: 441.030 325.763 map valid loss: 210.963 valid r2 hr -0.987 valid r2 map -0.344\n",
      "\tTrain loss: 374.119 101.266 map valid loss: 27.710 valid r2 hr -0.314 valid r2 map 0.823\n",
      "\tTrain loss: 300.718 43.766 map valid loss: 87.274 valid r2 hr -0.417 valid r2 map 0.444\n",
      "\tTrain loss: 319.652 61.396 map valid loss: 36.958 valid r2 hr -0.149 valid r2 map 0.765\n",
      "\tTrain loss: 273.752 24.126 map valid loss: 31.446 valid r2 hr -0.121 valid r2 map 0.800\n",
      "\tTrain loss: 259.201 26.907 map valid loss: 28.520 valid r2 hr -0.058 valid r2 map 0.818\n",
      "\tTrain loss: 253.998 22.074 map valid loss: 24.386 valid r2 hr -0.036 valid r2 map 0.845\n",
      "\tTrain loss: 249.962 19.368 map valid loss: 24.903 valid r2 hr -0.029 valid r2 map 0.841\n",
      "\tTrain loss: 247.214 19.453 map valid loss: 25.068 valid r2 hr 0.023 valid r2 map 0.840\n",
      "\tTrain loss: 233.204 18.364 map valid loss: 24.356 valid r2 hr 0.030 valid r2 map 0.845\n",
      "\tTrain loss: 218.131 19.119 map valid loss: 24.737 valid r2 hr 0.137 valid r2 map 0.842\n",
      "\tTrain loss: 180.580 19.284 map valid loss: 27.008 valid r2 hr 0.326 valid r2 map 0.828\n",
      "\tTrain loss: 146.507 19.056 map valid loss: 26.330 valid r2 hr 0.542 valid r2 map 0.832\n",
      "\tTrain loss: 105.331 18.029 map valid loss: 28.089 valid r2 hr 0.679 valid r2 map 0.821\n",
      "\tTrain loss: 71.060 19.921 map valid loss: 31.530 valid r2 hr 0.725 valid r2 map 0.799\n",
      "\tTrain loss: 46.773 19.221 map valid loss: 28.404 valid r2 hr 0.686 valid r2 map 0.819\n",
      "\tTrain loss: 39.324 18.309 map valid loss: 32.731 valid r2 hr 0.702 valid r2 map 0.791\n",
      "\tTrain loss: 33.697 17.469 map valid loss: 29.311 valid r2 hr 0.709 valid r2 map 0.813\n",
      "\tTrain loss: 31.670 17.297 map valid loss: 25.763 valid r2 hr 0.851 valid r2 map 0.836\n",
      "\tTrain loss: 27.358 16.880 map valid loss: 24.548 valid r2 hr 0.871 valid r2 map 0.844\n",
      "\tTrain loss: 25.042 16.643 map valid loss: 27.726 valid r2 hr 0.869 valid r2 map 0.823\n",
      "\tTrain loss: 25.642 17.073 map valid loss: 24.470 valid r2 hr 0.867 valid r2 map 0.844\n",
      "\tTrain loss: 24.342 17.271 map valid loss: 26.468 valid r2 hr 0.885 valid r2 map 0.831\n",
      "\tTrain loss: 22.833 16.281 map valid loss: 25.964 valid r2 hr 0.875 valid r2 map 0.835\n",
      "\tTrain loss: 24.101 16.482 map valid loss: 30.811 valid r2 hr 0.880 valid r2 map 0.804\n"
     ]
    },
    {
     "data": {
      "application/vnd.jupyter.widget-view+json": {
       "model_id": "741b4e3a16bd4fcea5a2af1b9798c07b",
       "version_major": 2,
       "version_minor": 0
      },
      "text/plain": [
       "HBox(children=(FloatProgress(value=0.0, max=210.0), HTML(value='')))"
      ]
     },
     "metadata": {},
     "output_type": "display_data"
    },
    {
     "name": "stdout",
     "output_type": "stream",
     "text": [
      "\tTrain loss: 7120.562 6060.625 map valid loss: 7858.377 valid r2 hr -36.713 valid r2 map -49.058\n",
      "\tTrain loss: 6315.783 5030.086 map valid loss: 3633.587 valid r2 hr -21.474 valid r2 map -22.146\n",
      "\tTrain loss: 4341.389 3106.887 map valid loss: 1098.554 valid r2 hr -8.138 valid r2 map -5.998\n",
      "\tTrain loss: 1778.910 934.693 map valid loss: 43.163 valid r2 hr -0.991 valid r2 map 0.725\n",
      "\tTrain loss: 407.062 79.200 map valid loss: 406.179 valid r2 hr -1.110 valid r2 map -1.587\n",
      "\tTrain loss: 462.827 330.923 map valid loss: 204.757 valid r2 hr -0.959 valid r2 map -0.304\n",
      "\tTrain loss: 351.398 94.815 map valid loss: 25.921 valid r2 hr -0.138 valid r2 map 0.835\n",
      "\tTrain loss: 281.089 42.375 map valid loss: 95.890 valid r2 hr -0.300 valid r2 map 0.389\n",
      "\tTrain loss: 286.837 60.194 map valid loss: 36.924 valid r2 hr 0.000 valid r2 map 0.765\n",
      "\tTrain loss: 202.232 23.561 map valid loss: 23.415 valid r2 hr 0.318 valid r2 map 0.851\n",
      "/data2/yinterian/multi-task-romain/models/model0_15min_r2_32_85.pth\n",
      "\tTrain loss: 142.754 25.891 map valid loss: 30.051 valid r2 hr 0.614 valid r2 map 0.809\n",
      "\tTrain loss: 88.278 23.035 map valid loss: 25.742 valid r2 hr 0.718 valid r2 map 0.836\n",
      "\tTrain loss: 52.664 19.138 map valid loss: 28.088 valid r2 hr 0.797 valid r2 map 0.821\n",
      "\tTrain loss: 35.458 20.202 map valid loss: 24.952 valid r2 hr 0.638 valid r2 map 0.841\n",
      "\tTrain loss: 28.456 18.349 map valid loss: 24.303 valid r2 hr 0.794 valid r2 map 0.845\n",
      "\tTrain loss: 27.203 18.133 map valid loss: 26.764 valid r2 hr 0.790 valid r2 map 0.830\n",
      "\tTrain loss: 23.111 18.167 map valid loss: 25.444 valid r2 hr 0.877 valid r2 map 0.838\n",
      "\tTrain loss: 21.730 16.930 map valid loss: 25.177 valid r2 hr 0.890 valid r2 map 0.840\n",
      "\tTrain loss: 20.502 17.573 map valid loss: 27.603 valid r2 hr 0.899 valid r2 map 0.824\n",
      "\tTrain loss: 20.490 17.452 map valid loss: 26.204 valid r2 hr 0.882 valid r2 map 0.833\n",
      "\tTrain loss: 20.314 17.229 map valid loss: 24.177 valid r2 hr 0.902 valid r2 map 0.846\n",
      "\tTrain loss: 20.644 16.779 map valid loss: 25.920 valid r2 hr 0.903 valid r2 map 0.835\n",
      "\tTrain loss: 20.533 16.213 map valid loss: 26.553 valid r2 hr 0.872 valid r2 map 0.831\n",
      "\tTrain loss: 18.938 16.791 map valid loss: 29.803 valid r2 hr 0.898 valid r2 map 0.810\n",
      "\tTrain loss: 18.975 16.227 map valid loss: 26.690 valid r2 hr 0.910 valid r2 map 0.830\n",
      "\tTrain loss: 18.593 16.277 map valid loss: 25.785 valid r2 hr 0.901 valid r2 map 0.836\n",
      "\tTrain loss: 19.318 16.161 map valid loss: 24.813 valid r2 hr 0.913 valid r2 map 0.842\n",
      "\tTrain loss: 18.751 16.089 map valid loss: 26.490 valid r2 hr 0.885 valid r2 map 0.831\n",
      "\tTrain loss: 18.276 15.629 map valid loss: 24.789 valid r2 hr 0.910 valid r2 map 0.842\n",
      "\tTrain loss: 19.624 16.251 map valid loss: 24.907 valid r2 hr 0.908 valid r2 map 0.841\n"
     ]
    },
    {
     "data": {
      "application/vnd.jupyter.widget-view+json": {
       "model_id": "4cc5f72a16d54f55ac84ec05ce2a5a18",
       "version_major": 2,
       "version_minor": 0
      },
      "text/plain": [
       "HBox(children=(FloatProgress(value=0.0, max=210.0), HTML(value='')))"
      ]
     },
     "metadata": {},
     "output_type": "display_data"
    },
    {
     "name": "stdout",
     "output_type": "stream",
     "text": [
      "\tTrain loss: 7114.899 6090.002 map valid loss: 5809.898 valid r2 hr -29.529 valid r2 map -36.009\n",
      "\tTrain loss: 6397.145 5147.568 map valid loss: 2555.289 valid r2 hr -16.934 valid r2 map -15.277\n",
      "\tTrain loss: 4442.142 3241.271 map valid loss: 1001.394 valid r2 hr -7.291 valid r2 map -5.379\n",
      "\tTrain loss: 1933.766 1051.225 map valid loss: 36.368 valid r2 hr -0.858 valid r2 map 0.768\n",
      "\tTrain loss: 447.815 84.183 map valid loss: 575.701 valid r2 hr -1.479 valid r2 map -2.667\n",
      "\tTrain loss: 458.037 333.523 map valid loss: 241.599 valid r2 hr -0.989 valid r2 map -0.539\n",
      "\tTrain loss: 356.985 112.547 map valid loss: 28.842 valid r2 hr -0.177 valid r2 map 0.816\n",
      "\tTrain loss: 287.704 42.292 map valid loss: 87.351 valid r2 hr -0.258 valid r2 map 0.444\n",
      "\tTrain loss: 308.653 63.690 map valid loss: 41.217 valid r2 hr -0.079 valid r2 map 0.737\n",
      "\tTrain loss: 258.003 27.406 map valid loss: 25.561 valid r2 hr -0.011 valid r2 map 0.837\n",
      "\tTrain loss: 244.590 27.009 map valid loss: 27.217 valid r2 hr 0.105 valid r2 map 0.827\n",
      "\tTrain loss: 211.866 24.764 map valid loss: 27.885 valid r2 hr 0.202 valid r2 map 0.822\n",
      "\tTrain loss: 182.340 21.474 map valid loss: 38.226 valid r2 hr 0.215 valid r2 map 0.756\n",
      "\tTrain loss: 165.797 21.562 map valid loss: 26.267 valid r2 hr 0.352 valid r2 map 0.833\n",
      "\tTrain loss: 146.697 21.075 map valid loss: 27.943 valid r2 hr 0.456 valid r2 map 0.822\n",
      "\tTrain loss: 133.094 20.918 map valid loss: 27.992 valid r2 hr 0.559 valid r2 map 0.822\n",
      "\tTrain loss: 109.187 19.797 map valid loss: 25.940 valid r2 hr 0.604 valid r2 map 0.835\n",
      "\tTrain loss: 92.235 19.399 map valid loss: 26.925 valid r2 hr 0.653 valid r2 map 0.828\n",
      "\tTrain loss: 81.340 19.515 map valid loss: 26.863 valid r2 hr 0.685 valid r2 map 0.829\n",
      "\tTrain loss: 73.765 19.294 map valid loss: 26.323 valid r2 hr 0.730 valid r2 map 0.832\n",
      "\tTrain loss: 58.023 18.662 map valid loss: 26.417 valid r2 hr 0.721 valid r2 map 0.832\n",
      "\tTrain loss: 49.638 19.102 map valid loss: 26.570 valid r2 hr 0.768 valid r2 map 0.831\n",
      "\tTrain loss: 40.844 18.365 map valid loss: 27.058 valid r2 hr 0.771 valid r2 map 0.828\n",
      "\tTrain loss: 35.369 18.753 map valid loss: 29.058 valid r2 hr 0.759 valid r2 map 0.815\n",
      "\tTrain loss: 29.967 17.669 map valid loss: 24.441 valid r2 hr 0.843 valid r2 map 0.844\n",
      "\tTrain loss: 26.798 17.590 map valid loss: 25.903 valid r2 hr 0.848 valid r2 map 0.835\n",
      "\tTrain loss: 25.425 17.306 map valid loss: 25.843 valid r2 hr 0.841 valid r2 map 0.835\n",
      "\tTrain loss: 25.033 17.572 map valid loss: 26.255 valid r2 hr 0.873 valid r2 map 0.833\n",
      "\tTrain loss: 23.446 17.612 map valid loss: 25.819 valid r2 hr 0.886 valid r2 map 0.836\n",
      "\tTrain loss: 22.382 16.054 map valid loss: 26.543 valid r2 hr 0.879 valid r2 map 0.831\n"
     ]
    },
    {
     "data": {
      "application/vnd.jupyter.widget-view+json": {
       "model_id": "17efdeed89aa4531b7cda59dc820dfc5",
       "version_major": 2,
       "version_minor": 0
      },
      "text/plain": [
       "HBox(children=(FloatProgress(value=0.0, max=210.0), HTML(value='')))"
      ]
     },
     "metadata": {},
     "output_type": "display_data"
    },
    {
     "name": "stdout",
     "output_type": "stream",
     "text": [
      "\tTrain loss: 7154.634 6066.696 map valid loss: 20524.062 valid r2 hr -61.705 valid r2 map -129.740\n",
      "\tTrain loss: 6400.938 4992.749 map valid loss: 7205.281 valid r2 hr -33.884 valid r2 map -44.898\n",
      "\tTrain loss: 4433.489 3038.566 map valid loss: 1556.529 valid r2 hr -10.709 valid r2 map -8.915\n",
      "\tTrain loss: 1848.540 870.018 map valid loss: 54.144 valid r2 hr -1.290 valid r2 map 0.655\n",
      "\tTrain loss: 401.098 89.054 map valid loss: 237.815 valid r2 hr -0.402 valid r2 map -0.515\n",
      "\tTrain loss: 438.319 330.668 map valid loss: 173.293 valid r2 hr -0.626 valid r2 map -0.104\n",
      "\tTrain loss: 340.241 86.981 map valid loss: 38.175 valid r2 hr -0.251 valid r2 map 0.757\n",
      "\tTrain loss: 313.420 44.922 map valid loss: 92.305 valid r2 hr -0.395 valid r2 map 0.412\n",
      "\tTrain loss: 309.861 57.633 map valid loss: 33.014 valid r2 hr -0.155 valid r2 map 0.790\n",
      "\tTrain loss: 270.921 23.830 map valid loss: 26.874 valid r2 hr -0.154 valid r2 map 0.829\n",
      "\tTrain loss: 261.756 26.439 map valid loss: 29.062 valid r2 hr -0.025 valid r2 map 0.815\n",
      "\tTrain loss: 240.239 22.476 map valid loss: 24.497 valid r2 hr 0.026 valid r2 map 0.844\n",
      "\tTrain loss: 199.030 20.061 map valid loss: 43.619 valid r2 hr 0.095 valid r2 map 0.722\n",
      "\tTrain loss: 154.397 20.358 map valid loss: 24.664 valid r2 hr 0.449 valid r2 map 0.843\n",
      "\tTrain loss: 114.100 19.653 map valid loss: 25.635 valid r2 hr 0.612 valid r2 map 0.837\n",
      "\tTrain loss: 89.263 20.300 map valid loss: 25.522 valid r2 hr 0.688 valid r2 map 0.837\n",
      "\tTrain loss: 63.362 19.508 map valid loss: 26.789 valid r2 hr 0.769 valid r2 map 0.829\n",
      "\tTrain loss: 42.265 19.803 map valid loss: 25.278 valid r2 hr 0.815 valid r2 map 0.839\n",
      "\tTrain loss: 32.498 19.036 map valid loss: 29.371 valid r2 hr 0.834 valid r2 map 0.813\n",
      "\tTrain loss: 25.248 18.418 map valid loss: 25.424 valid r2 hr 0.880 valid r2 map 0.838\n",
      "\tTrain loss: 24.337 18.191 map valid loss: 27.917 valid r2 hr 0.870 valid r2 map 0.822\n",
      "\tTrain loss: 24.316 18.321 map valid loss: 25.964 valid r2 hr 0.875 valid r2 map 0.835\n",
      "\tTrain loss: 23.791 17.884 map valid loss: 26.675 valid r2 hr 0.882 valid r2 map 0.830\n",
      "\tTrain loss: 20.418 17.328 map valid loss: 27.877 valid r2 hr 0.864 valid r2 map 0.822\n",
      "\tTrain loss: 24.996 18.003 map valid loss: 28.380 valid r2 hr 0.879 valid r2 map 0.819\n",
      "\tTrain loss: 21.063 17.650 map valid loss: 28.530 valid r2 hr 0.897 valid r2 map 0.818\n",
      "\tTrain loss: 19.721 17.692 map valid loss: 24.481 valid r2 hr 0.910 valid r2 map 0.844\n",
      "\tTrain loss: 19.464 17.295 map valid loss: 24.663 valid r2 hr 0.908 valid r2 map 0.843\n",
      "\tTrain loss: 18.472 17.054 map valid loss: 25.076 valid r2 hr 0.911 valid r2 map 0.840\n",
      "\tTrain loss: 18.718 16.892 map valid loss: 25.062 valid r2 hr 0.903 valid r2 map 0.840\n"
     ]
    },
    {
     "data": {
      "text/plain": [
       "0.8508458609786032"
      ]
     },
     "execution_count": 10,
     "metadata": {},
     "output_type": "execute_result"
    }
   ],
   "source": [
    "multiple_runs(num_subjects, C=1/15, basename=\"model0_15min\", n=10)"
   ]
  },
  {
   "cell_type": "markdown",
   "metadata": {},
   "source": [
    "## Single model"
   ]
  },
  {
   "cell_type": "code",
   "execution_count": 9,
   "metadata": {},
   "outputs": [
    {
     "data": {
      "application/vnd.jupyter.widget-view+json": {
       "model_id": "cce37601eaee435f870b8fdaa69f7eee",
       "version_major": 2,
       "version_minor": 0
      },
      "text/plain": [
       "HBox(children=(FloatProgress(value=0.0, max=210.0), HTML(value='')))"
      ]
     },
     "metadata": {},
     "output_type": "display_data"
    },
    {
     "name": "stdout",
     "output_type": "stream",
     "text": [
      "\tTrain loss: 0.000 6045.656 map valid loss: 6734.605 valid r2 hr 0.000 valid r2 map -41.900\n",
      "\tTrain loss: 0.000 5046.132 map valid loss: 5172.881 valid r2 hr 0.000 valid r2 map -31.952\n",
      "\tTrain loss: 0.000 3197.870 map valid loss: 1635.479 valid r2 hr 0.000 valid r2 map -9.418\n",
      "\tTrain loss: 0.000 956.628 map valid loss: 32.273 valid r2 hr 0.000 valid r2 map 0.794\n",
      "/data2/yinterian/multi-task-romain/models/model0_single_15min_r2_0_79.pth\n",
      "\tTrain loss: 0.000 88.424 map valid loss: 379.928 valid r2 hr 0.000 valid r2 map -1.420\n",
      "\tTrain loss: 0.000 307.260 map valid loss: 214.054 valid r2 hr 0.000 valid r2 map -0.364\n",
      "\tTrain loss: 0.000 81.138 map valid loss: 23.614 valid r2 hr 0.000 valid r2 map 0.850\n",
      "/data2/yinterian/multi-task-romain/models/model0_single_15min_r2_0_85.pth\n",
      "\tTrain loss: 0.000 43.588 map valid loss: 55.325 valid r2 hr 0.000 valid r2 map 0.648\n",
      "\tTrain loss: 0.000 56.558 map valid loss: 28.684 valid r2 hr 0.000 valid r2 map 0.817\n",
      "\tTrain loss: 0.000 20.887 map valid loss: 32.297 valid r2 hr 0.000 valid r2 map 0.794\n",
      "\tTrain loss: 0.000 25.646 map valid loss: 29.336 valid r2 hr 0.000 valid r2 map 0.813\n",
      "\tTrain loss: 0.000 20.342 map valid loss: 24.322 valid r2 hr 0.000 valid r2 map 0.845\n",
      "\tTrain loss: 0.000 18.938 map valid loss: 24.224 valid r2 hr 0.000 valid r2 map 0.846\n",
      "\tTrain loss: 0.000 18.133 map valid loss: 24.773 valid r2 hr 0.000 valid r2 map 0.842\n",
      "\tTrain loss: 0.000 17.116 map valid loss: 24.888 valid r2 hr 0.000 valid r2 map 0.841\n",
      "\tTrain loss: 0.000 17.752 map valid loss: 23.866 valid r2 hr 0.000 valid r2 map 0.848\n",
      "\tTrain loss: 0.000 16.793 map valid loss: 24.048 valid r2 hr 0.000 valid r2 map 0.847\n",
      "\tTrain loss: 0.000 17.208 map valid loss: 24.183 valid r2 hr 0.000 valid r2 map 0.846\n",
      "\tTrain loss: 0.000 16.791 map valid loss: 24.963 valid r2 hr 0.000 valid r2 map 0.841\n",
      "\tTrain loss: 0.000 16.426 map valid loss: 25.042 valid r2 hr 0.000 valid r2 map 0.840\n",
      "\tTrain loss: 0.000 15.931 map valid loss: 24.712 valid r2 hr 0.000 valid r2 map 0.843\n",
      "\tTrain loss: 0.000 15.878 map valid loss: 23.870 valid r2 hr 0.000 valid r2 map 0.848\n",
      "\tTrain loss: 0.000 16.211 map valid loss: 24.723 valid r2 hr 0.000 valid r2 map 0.843\n",
      "\tTrain loss: 0.000 15.359 map valid loss: 24.629 valid r2 hr 0.000 valid r2 map 0.843\n",
      "\tTrain loss: 0.000 15.702 map valid loss: 25.065 valid r2 hr 0.000 valid r2 map 0.840\n",
      "\tTrain loss: 0.000 15.681 map valid loss: 24.209 valid r2 hr 0.000 valid r2 map 0.846\n",
      "\tTrain loss: 0.000 16.147 map valid loss: 25.974 valid r2 hr 0.000 valid r2 map 0.835\n",
      "\tTrain loss: 0.000 15.868 map valid loss: 29.216 valid r2 hr 0.000 valid r2 map 0.814\n",
      "\tTrain loss: 0.000 15.276 map valid loss: 25.270 valid r2 hr 0.000 valid r2 map 0.839\n",
      "\tTrain loss: 0.000 15.400 map valid loss: 24.440 valid r2 hr 0.000 valid r2 map 0.844\n"
     ]
    },
    {
     "data": {
      "application/vnd.jupyter.widget-view+json": {
       "model_id": "8bbb227ff13e4538b5e8ef1376f1e332",
       "version_major": 2,
       "version_minor": 0
      },
      "text/plain": [
       "HBox(children=(FloatProgress(value=0.0, max=210.0), HTML(value='')))"
      ]
     },
     "metadata": {},
     "output_type": "display_data"
    },
    {
     "name": "stdout",
     "output_type": "stream",
     "text": [
      "\tTrain loss: 0.000 6065.963 map valid loss: 10193.146 valid r2 hr 0.000 valid r2 map -63.931\n",
      "\tTrain loss: 0.000 5113.198 map valid loss: 8501.146 valid r2 hr 0.000 valid r2 map -53.153\n",
      "\tTrain loss: 0.000 3336.843 map valid loss: 2899.464 valid r2 hr 0.000 valid r2 map -17.470\n",
      "\tTrain loss: 0.000 1087.773 map valid loss: 106.556 valid r2 hr 0.000 valid r2 map 0.321\n",
      "\tTrain loss: 0.000 85.496 map valid loss: 307.814 valid r2 hr 0.000 valid r2 map -0.961\n",
      "\tTrain loss: 0.000 313.518 map valid loss: 163.361 valid r2 hr 0.000 valid r2 map -0.041\n",
      "\tTrain loss: 0.000 96.187 map valid loss: 26.966 valid r2 hr 0.000 valid r2 map 0.828\n",
      "\tTrain loss: 0.000 41.387 map valid loss: 101.351 valid r2 hr 0.000 valid r2 map 0.354\n",
      "\tTrain loss: 0.000 57.437 map valid loss: 34.693 valid r2 hr 0.000 valid r2 map 0.779\n",
      "\tTrain loss: 0.000 23.746 map valid loss: 28.450 valid r2 hr 0.000 valid r2 map 0.819\n",
      "\tTrain loss: 0.000 24.300 map valid loss: 27.975 valid r2 hr 0.000 valid r2 map 0.822\n",
      "\tTrain loss: 0.000 21.284 map valid loss: 23.647 valid r2 hr 0.000 valid r2 map 0.849\n",
      "\tTrain loss: 0.000 17.735 map valid loss: 25.036 valid r2 hr 0.000 valid r2 map 0.841\n",
      "\tTrain loss: 0.000 18.417 map valid loss: 23.373 valid r2 hr 0.000 valid r2 map 0.851\n",
      "/data2/yinterian/multi-task-romain/models/model0_single_15min_r2_0_85.pth\n",
      "\tTrain loss: 0.000 16.848 map valid loss: 24.142 valid r2 hr 0.000 valid r2 map 0.846\n",
      "\tTrain loss: 0.000 16.697 map valid loss: 24.401 valid r2 hr 0.000 valid r2 map 0.845\n",
      "\tTrain loss: 0.000 16.080 map valid loss: 23.973 valid r2 hr 0.000 valid r2 map 0.847\n",
      "\tTrain loss: 0.000 16.702 map valid loss: 26.761 valid r2 hr 0.000 valid r2 map 0.830\n",
      "\tTrain loss: 0.000 15.835 map valid loss: 23.925 valid r2 hr 0.000 valid r2 map 0.848\n",
      "\tTrain loss: 0.000 16.726 map valid loss: 23.907 valid r2 hr 0.000 valid r2 map 0.848\n",
      "\tTrain loss: 0.000 16.044 map valid loss: 23.665 valid r2 hr 0.000 valid r2 map 0.849\n",
      "\tTrain loss: 0.000 15.750 map valid loss: 24.687 valid r2 hr 0.000 valid r2 map 0.843\n",
      "\tTrain loss: 0.000 16.317 map valid loss: 25.830 valid r2 hr 0.000 valid r2 map 0.835\n",
      "\tTrain loss: 0.000 16.268 map valid loss: 28.307 valid r2 hr 0.000 valid r2 map 0.820\n",
      "\tTrain loss: 0.000 15.998 map valid loss: 24.157 valid r2 hr 0.000 valid r2 map 0.846\n",
      "\tTrain loss: 0.000 16.079 map valid loss: 23.463 valid r2 hr 0.000 valid r2 map 0.851\n",
      "\tTrain loss: 0.000 15.322 map valid loss: 24.031 valid r2 hr 0.000 valid r2 map 0.847\n",
      "\tTrain loss: 0.000 14.816 map valid loss: 23.597 valid r2 hr 0.000 valid r2 map 0.850\n",
      "\tTrain loss: 0.000 15.311 map valid loss: 24.082 valid r2 hr 0.000 valid r2 map 0.847\n",
      "\tTrain loss: 0.000 15.136 map valid loss: 25.300 valid r2 hr 0.000 valid r2 map 0.839\n"
     ]
    },
    {
     "data": {
      "application/vnd.jupyter.widget-view+json": {
       "model_id": "1b686d8590d04fec89d8b20c81d2e4be",
       "version_major": 2,
       "version_minor": 0
      },
      "text/plain": [
       "HBox(children=(FloatProgress(value=0.0, max=210.0), HTML(value='')))"
      ]
     },
     "metadata": {},
     "output_type": "display_data"
    },
    {
     "name": "stdout",
     "output_type": "stream",
     "text": [
      "\tTrain loss: 0.000 6071.739 map valid loss: 5637.095 valid r2 hr 0.000 valid r2 map -34.909\n",
      "\tTrain loss: 0.000 5119.486 map valid loss: 3433.937 valid r2 hr 0.000 valid r2 map -20.874\n",
      "\tTrain loss: 0.000 3334.048 map valid loss: 857.395 valid r2 hr 0.000 valid r2 map -4.462\n",
      "\tTrain loss: 0.000 1072.405 map valid loss: 90.687 valid r2 hr 0.000 valid r2 map 0.422\n",
      "\tTrain loss: 0.000 85.001 map valid loss: 542.407 valid r2 hr 0.000 valid r2 map -2.455\n",
      "\tTrain loss: 0.000 311.079 map valid loss: 264.646 valid r2 hr 0.000 valid r2 map -0.686\n",
      "\tTrain loss: 0.000 86.981 map valid loss: 29.297 valid r2 hr 0.000 valid r2 map 0.813\n",
      "\tTrain loss: 0.000 43.205 map valid loss: 76.176 valid r2 hr 0.000 valid r2 map 0.515\n",
      "\tTrain loss: 0.000 58.433 map valid loss: 43.448 valid r2 hr 0.000 valid r2 map 0.723\n",
      "\tTrain loss: 0.000 21.574 map valid loss: 41.584 valid r2 hr 0.000 valid r2 map 0.735\n",
      "\tTrain loss: 0.000 25.595 map valid loss: 31.282 valid r2 hr 0.000 valid r2 map 0.801\n",
      "\tTrain loss: 0.000 19.853 map valid loss: 23.728 valid r2 hr 0.000 valid r2 map 0.849\n",
      "\tTrain loss: 0.000 18.120 map valid loss: 25.832 valid r2 hr 0.000 valid r2 map 0.835\n",
      "\tTrain loss: 0.000 17.655 map valid loss: 24.182 valid r2 hr 0.000 valid r2 map 0.846\n",
      "\tTrain loss: 0.000 16.256 map valid loss: 27.289 valid r2 hr 0.000 valid r2 map 0.826\n",
      "\tTrain loss: 0.000 17.648 map valid loss: 25.826 valid r2 hr 0.000 valid r2 map 0.835\n",
      "\tTrain loss: 0.000 16.540 map valid loss: 24.324 valid r2 hr 0.000 valid r2 map 0.845\n",
      "\tTrain loss: 0.000 16.038 map valid loss: 24.683 valid r2 hr 0.000 valid r2 map 0.843\n",
      "\tTrain loss: 0.000 16.660 map valid loss: 24.414 valid r2 hr 0.000 valid r2 map 0.844\n",
      "\tTrain loss: 0.000 16.373 map valid loss: 25.612 valid r2 hr 0.000 valid r2 map 0.837\n",
      "\tTrain loss: 0.000 15.996 map valid loss: 25.043 valid r2 hr 0.000 valid r2 map 0.840\n",
      "\tTrain loss: 0.000 15.478 map valid loss: 25.092 valid r2 hr 0.000 valid r2 map 0.840\n",
      "\tTrain loss: 0.000 15.659 map valid loss: 24.134 valid r2 hr 0.000 valid r2 map 0.846\n",
      "\tTrain loss: 0.000 15.247 map valid loss: 26.940 valid r2 hr 0.000 valid r2 map 0.828\n",
      "\tTrain loss: 0.000 15.796 map valid loss: 25.014 valid r2 hr 0.000 valid r2 map 0.841\n",
      "\tTrain loss: 0.000 15.906 map valid loss: 28.207 valid r2 hr 0.000 valid r2 map 0.820\n",
      "\tTrain loss: 0.000 15.719 map valid loss: 25.563 valid r2 hr 0.000 valid r2 map 0.837\n",
      "\tTrain loss: 0.000 15.604 map valid loss: 24.942 valid r2 hr 0.000 valid r2 map 0.841\n",
      "\tTrain loss: 0.000 14.732 map valid loss: 24.221 valid r2 hr 0.000 valid r2 map 0.846\n",
      "\tTrain loss: 0.000 14.860 map valid loss: 24.465 valid r2 hr 0.000 valid r2 map 0.844\n"
     ]
    },
    {
     "data": {
      "application/vnd.jupyter.widget-view+json": {
       "model_id": "4ce4f408bd1c474d99774e8f9f00b94f",
       "version_major": 2,
       "version_minor": 0
      },
      "text/plain": [
       "HBox(children=(FloatProgress(value=0.0, max=210.0), HTML(value='')))"
      ]
     },
     "metadata": {},
     "output_type": "display_data"
    },
    {
     "name": "stdout",
     "output_type": "stream",
     "text": [
      "\tTrain loss: 0.000 6070.695 map valid loss: 7616.964 valid r2 hr 0.000 valid r2 map -47.521\n",
      "\tTrain loss: 0.000 5116.490 map valid loss: 4625.978 valid r2 hr 0.000 valid r2 map -28.468\n",
      "\tTrain loss: 0.000 3277.338 map valid loss: 1009.440 valid r2 hr 0.000 valid r2 map -5.430\n",
      "\tTrain loss: 0.000 1073.339 map valid loss: 51.719 valid r2 hr 0.000 valid r2 map 0.671\n",
      "\tTrain loss: 0.000 75.258 map valid loss: 333.124 valid r2 hr 0.000 valid r2 map -1.122\n",
      "\tTrain loss: 0.000 314.599 map valid loss: 258.004 valid r2 hr 0.000 valid r2 map -0.644\n",
      "\tTrain loss: 0.000 104.805 map valid loss: 24.315 valid r2 hr 0.000 valid r2 map 0.845\n",
      "\tTrain loss: 0.000 36.700 map valid loss: 63.245 valid r2 hr 0.000 valid r2 map 0.597\n",
      "\tTrain loss: 0.000 60.829 map valid loss: 38.440 valid r2 hr 0.000 valid r2 map 0.755\n",
      "\tTrain loss: 0.000 23.253 map valid loss: 26.406 valid r2 hr 0.000 valid r2 map 0.832\n",
      "\tTrain loss: 0.000 23.703 map valid loss: 36.239 valid r2 hr 0.000 valid r2 map 0.769\n",
      "\tTrain loss: 0.000 21.866 map valid loss: 23.149 valid r2 hr 0.000 valid r2 map 0.853\n",
      "/data2/yinterian/multi-task-romain/models/model0_single_15min_r2_0_85.pth\n",
      "\tTrain loss: 0.000 18.681 map valid loss: 24.099 valid r2 hr 0.000 valid r2 map 0.846\n",
      "\tTrain loss: 0.000 18.258 map valid loss: 24.984 valid r2 hr 0.000 valid r2 map 0.841\n",
      "\tTrain loss: 0.000 17.151 map valid loss: 25.180 valid r2 hr 0.000 valid r2 map 0.840\n",
      "\tTrain loss: 0.000 17.714 map valid loss: 25.863 valid r2 hr 0.000 valid r2 map 0.835\n",
      "\tTrain loss: 0.000 17.052 map valid loss: 23.948 valid r2 hr 0.000 valid r2 map 0.847\n",
      "\tTrain loss: 0.000 16.882 map valid loss: 24.182 valid r2 hr 0.000 valid r2 map 0.846\n",
      "\tTrain loss: 0.000 16.582 map valid loss: 23.743 valid r2 hr 0.000 valid r2 map 0.849\n",
      "\tTrain loss: 0.000 15.655 map valid loss: 24.574 valid r2 hr 0.000 valid r2 map 0.843\n",
      "\tTrain loss: 0.000 16.537 map valid loss: 25.954 valid r2 hr 0.000 valid r2 map 0.835\n",
      "\tTrain loss: 0.000 15.515 map valid loss: 25.610 valid r2 hr 0.000 valid r2 map 0.837\n",
      "\tTrain loss: 0.000 15.425 map valid loss: 24.213 valid r2 hr 0.000 valid r2 map 0.846\n",
      "\tTrain loss: 0.000 15.104 map valid loss: 23.819 valid r2 hr 0.000 valid r2 map 0.848\n",
      "\tTrain loss: 0.000 15.546 map valid loss: 24.727 valid r2 hr 0.000 valid r2 map 0.842\n",
      "\tTrain loss: 0.000 15.482 map valid loss: 26.264 valid r2 hr 0.000 valid r2 map 0.833\n",
      "\tTrain loss: 0.000 15.527 map valid loss: 24.415 valid r2 hr 0.000 valid r2 map 0.844\n",
      "\tTrain loss: 0.000 15.554 map valid loss: 25.359 valid r2 hr 0.000 valid r2 map 0.838\n",
      "\tTrain loss: 0.000 15.555 map valid loss: 25.047 valid r2 hr 0.000 valid r2 map 0.840\n",
      "\tTrain loss: 0.000 15.494 map valid loss: 26.093 valid r2 hr 0.000 valid r2 map 0.834\n"
     ]
    },
    {
     "data": {
      "application/vnd.jupyter.widget-view+json": {
       "model_id": "d211ac2c686c4b3db7adf852ddd277cf",
       "version_major": 2,
       "version_minor": 0
      },
      "text/plain": [
       "HBox(children=(FloatProgress(value=0.0, max=210.0), HTML(value='')))"
      ]
     },
     "metadata": {},
     "output_type": "display_data"
    },
    {
     "name": "stdout",
     "output_type": "stream",
     "text": [
      "\tTrain loss: 0.000 6021.727 map valid loss: 11874.159 valid r2 hr 0.000 valid r2 map -74.639\n",
      "\tTrain loss: 0.000 4996.897 map valid loss: 7658.159 valid r2 hr 0.000 valid r2 map -47.783\n",
      "\tTrain loss: 0.000 3122.910 map valid loss: 1667.133 valid r2 hr 0.000 valid r2 map -9.620\n",
      "\tTrain loss: 0.000 883.603 map valid loss: 29.657 valid r2 hr 0.000 valid r2 map 0.811\n",
      "\tTrain loss: 0.000 88.756 map valid loss: 330.644 valid r2 hr 0.000 valid r2 map -1.106\n",
      "\tTrain loss: 0.000 308.694 map valid loss: 94.782 valid r2 hr 0.000 valid r2 map 0.396\n",
      "\tTrain loss: 0.000 72.845 map valid loss: 45.060 valid r2 hr 0.000 valid r2 map 0.713\n",
      "\tTrain loss: 0.000 48.905 map valid loss: 90.294 valid r2 hr 0.000 valid r2 map 0.425\n",
      "\tTrain loss: 0.000 52.742 map valid loss: 33.240 valid r2 hr 0.000 valid r2 map 0.788\n",
      "\tTrain loss: 0.000 20.966 map valid loss: 31.526 valid r2 hr 0.000 valid r2 map 0.799\n",
      "\tTrain loss: 0.000 25.103 map valid loss: 32.576 valid r2 hr 0.000 valid r2 map 0.792\n",
      "\tTrain loss: 0.000 18.891 map valid loss: 24.659 valid r2 hr 0.000 valid r2 map 0.843\n",
      "\tTrain loss: 0.000 17.675 map valid loss: 26.622 valid r2 hr 0.000 valid r2 map 0.830\n",
      "\tTrain loss: 0.000 17.716 map valid loss: 24.480 valid r2 hr 0.000 valid r2 map 0.844\n",
      "\tTrain loss: 0.000 16.858 map valid loss: 25.126 valid r2 hr 0.000 valid r2 map 0.840\n",
      "\tTrain loss: 0.000 16.816 map valid loss: 25.628 valid r2 hr 0.000 valid r2 map 0.837\n",
      "\tTrain loss: 0.000 17.157 map valid loss: 25.176 valid r2 hr 0.000 valid r2 map 0.840\n",
      "\tTrain loss: 0.000 16.267 map valid loss: 25.282 valid r2 hr 0.000 valid r2 map 0.839\n",
      "\tTrain loss: 0.000 16.057 map valid loss: 25.898 valid r2 hr 0.000 valid r2 map 0.835\n",
      "\tTrain loss: 0.000 15.464 map valid loss: 25.181 valid r2 hr 0.000 valid r2 map 0.840\n",
      "\tTrain loss: 0.000 15.376 map valid loss: 24.110 valid r2 hr 0.000 valid r2 map 0.846\n",
      "\tTrain loss: 0.000 15.380 map valid loss: 24.472 valid r2 hr 0.000 valid r2 map 0.844\n",
      "\tTrain loss: 0.000 14.901 map valid loss: 24.189 valid r2 hr 0.000 valid r2 map 0.846\n",
      "\tTrain loss: 0.000 14.912 map valid loss: 25.562 valid r2 hr 0.000 valid r2 map 0.837\n",
      "\tTrain loss: 0.000 15.487 map valid loss: 25.037 valid r2 hr 0.000 valid r2 map 0.841\n",
      "\tTrain loss: 0.000 15.321 map valid loss: 25.263 valid r2 hr 0.000 valid r2 map 0.839\n",
      "\tTrain loss: 0.000 13.981 map valid loss: 24.788 valid r2 hr 0.000 valid r2 map 0.842\n",
      "\tTrain loss: 0.000 14.685 map valid loss: 25.572 valid r2 hr 0.000 valid r2 map 0.837\n",
      "\tTrain loss: 0.000 14.478 map valid loss: 24.744 valid r2 hr 0.000 valid r2 map 0.842\n",
      "\tTrain loss: 0.000 14.297 map valid loss: 24.519 valid r2 hr 0.000 valid r2 map 0.844\n"
     ]
    },
    {
     "data": {
      "application/vnd.jupyter.widget-view+json": {
       "model_id": "1f9e7a328c6242ddb74a50279fc9545c",
       "version_major": 2,
       "version_minor": 0
      },
      "text/plain": [
       "HBox(children=(FloatProgress(value=0.0, max=210.0), HTML(value='')))"
      ]
     },
     "metadata": {},
     "output_type": "display_data"
    },
    {
     "name": "stdout",
     "output_type": "stream",
     "text": [
      "\tTrain loss: 0.000 6033.881 map valid loss: 14168.022 valid r2 hr 0.000 valid r2 map -89.251\n",
      "\tTrain loss: 0.000 5010.058 map valid loss: 7769.923 valid r2 hr 0.000 valid r2 map -48.495\n",
      "\tTrain loss: 0.000 3103.728 map valid loss: 1061.459 valid r2 hr 0.000 valid r2 map -5.762\n",
      "\tTrain loss: 0.000 885.082 map valid loss: 63.268 valid r2 hr 0.000 valid r2 map 0.597\n",
      "\tTrain loss: 0.000 80.331 map valid loss: 310.860 valid r2 hr 0.000 valid r2 map -0.980\n",
      "\tTrain loss: 0.000 307.401 map valid loss: 164.037 valid r2 hr 0.000 valid r2 map -0.045\n",
      "\tTrain loss: 0.000 77.087 map valid loss: 33.854 valid r2 hr 0.000 valid r2 map 0.784\n",
      "\tTrain loss: 0.000 45.926 map valid loss: 76.093 valid r2 hr 0.000 valid r2 map 0.515\n",
      "\tTrain loss: 0.000 55.441 map valid loss: 30.651 valid r2 hr 0.000 valid r2 map 0.805\n",
      "\tTrain loss: 0.000 21.452 map valid loss: 31.582 valid r2 hr 0.000 valid r2 map 0.799\n",
      "\tTrain loss: 0.000 25.311 map valid loss: 28.694 valid r2 hr 0.000 valid r2 map 0.817\n",
      "\tTrain loss: 0.000 19.630 map valid loss: 24.125 valid r2 hr 0.000 valid r2 map 0.846\n",
      "\tTrain loss: 0.000 19.313 map valid loss: 26.757 valid r2 hr 0.000 valid r2 map 0.830\n",
      "\tTrain loss: 0.000 18.885 map valid loss: 25.324 valid r2 hr 0.000 valid r2 map 0.839\n",
      "\tTrain loss: 0.000 17.747 map valid loss: 26.052 valid r2 hr 0.000 valid r2 map 0.834\n",
      "\tTrain loss: 0.000 17.896 map valid loss: 26.142 valid r2 hr 0.000 valid r2 map 0.833\n",
      "\tTrain loss: 0.000 17.036 map valid loss: 24.523 valid r2 hr 0.000 valid r2 map 0.844\n",
      "\tTrain loss: 0.000 16.652 map valid loss: 24.943 valid r2 hr 0.000 valid r2 map 0.841\n",
      "\tTrain loss: 0.000 16.468 map valid loss: 25.427 valid r2 hr 0.000 valid r2 map 0.838\n",
      "\tTrain loss: 0.000 17.117 map valid loss: 25.014 valid r2 hr 0.000 valid r2 map 0.841\n",
      "\tTrain loss: 0.000 16.511 map valid loss: 25.985 valid r2 hr 0.000 valid r2 map 0.834\n",
      "\tTrain loss: 0.000 16.817 map valid loss: 25.061 valid r2 hr 0.000 valid r2 map 0.840\n",
      "\tTrain loss: 0.000 16.575 map valid loss: 24.636 valid r2 hr 0.000 valid r2 map 0.843\n",
      "\tTrain loss: 0.000 15.501 map valid loss: 25.291 valid r2 hr 0.000 valid r2 map 0.839\n",
      "\tTrain loss: 0.000 15.218 map valid loss: 25.284 valid r2 hr 0.000 valid r2 map 0.839\n",
      "\tTrain loss: 0.000 15.536 map valid loss: 24.877 valid r2 hr 0.000 valid r2 map 0.842\n",
      "\tTrain loss: 0.000 15.999 map valid loss: 24.942 valid r2 hr 0.000 valid r2 map 0.841\n",
      "\tTrain loss: 0.000 15.367 map valid loss: 24.662 valid r2 hr 0.000 valid r2 map 0.843\n",
      "\tTrain loss: 0.000 15.063 map valid loss: 24.946 valid r2 hr 0.000 valid r2 map 0.841\n",
      "\tTrain loss: 0.000 15.237 map valid loss: 25.569 valid r2 hr 0.000 valid r2 map 0.837\n"
     ]
    },
    {
     "data": {
      "application/vnd.jupyter.widget-view+json": {
       "model_id": "501ba67eb48e414a882166e9ae70361f",
       "version_major": 2,
       "version_minor": 0
      },
      "text/plain": [
       "HBox(children=(FloatProgress(value=0.0, max=210.0), HTML(value='')))"
      ]
     },
     "metadata": {},
     "output_type": "display_data"
    },
    {
     "name": "stdout",
     "output_type": "stream",
     "text": [
      "\tTrain loss: 0.000 6082.138 map valid loss: 8211.949 valid r2 hr 0.000 valid r2 map -51.311\n",
      "\tTrain loss: 0.000 5104.620 map valid loss: 6664.854 valid r2 hr 0.000 valid r2 map -41.456\n",
      "\tTrain loss: 0.000 3331.111 map valid loss: 2175.539 valid r2 hr 0.000 valid r2 map -12.858\n",
      "\tTrain loss: 0.000 1058.835 map valid loss: 155.080 valid r2 hr 0.000 valid r2 map 0.012\n",
      "\tTrain loss: 0.000 79.042 map valid loss: 188.181 valid r2 hr 0.000 valid r2 map -0.199\n",
      "\tTrain loss: 0.000 313.408 map valid loss: 131.706 valid r2 hr 0.000 valid r2 map 0.161\n",
      "\tTrain loss: 0.000 93.146 map valid loss: 29.836 valid r2 hr 0.000 valid r2 map 0.810\n",
      "\tTrain loss: 0.000 42.410 map valid loss: 98.132 valid r2 hr 0.000 valid r2 map 0.375\n",
      "\tTrain loss: 0.000 57.854 map valid loss: 32.627 valid r2 hr 0.000 valid r2 map 0.792\n",
      "\tTrain loss: 0.000 22.756 map valid loss: 26.860 valid r2 hr 0.000 valid r2 map 0.829\n",
      "\tTrain loss: 0.000 24.322 map valid loss: 29.079 valid r2 hr 0.000 valid r2 map 0.815\n",
      "\tTrain loss: 0.000 21.184 map valid loss: 24.054 valid r2 hr 0.000 valid r2 map 0.847\n",
      "\tTrain loss: 0.000 18.404 map valid loss: 24.310 valid r2 hr 0.000 valid r2 map 0.845\n",
      "\tTrain loss: 0.000 18.147 map valid loss: 26.414 valid r2 hr 0.000 valid r2 map 0.832\n",
      "\tTrain loss: 0.000 17.071 map valid loss: 25.619 valid r2 hr 0.000 valid r2 map 0.837\n",
      "\tTrain loss: 0.000 16.800 map valid loss: 24.920 valid r2 hr 0.000 valid r2 map 0.841\n",
      "\tTrain loss: 0.000 16.244 map valid loss: 24.135 valid r2 hr 0.000 valid r2 map 0.846\n",
      "\tTrain loss: 0.000 17.436 map valid loss: 24.226 valid r2 hr 0.000 valid r2 map 0.846\n",
      "\tTrain loss: 0.000 17.050 map valid loss: 24.165 valid r2 hr 0.000 valid r2 map 0.846\n",
      "\tTrain loss: 0.000 16.265 map valid loss: 24.847 valid r2 hr 0.000 valid r2 map 0.842\n",
      "\tTrain loss: 0.000 15.195 map valid loss: 25.534 valid r2 hr 0.000 valid r2 map 0.837\n",
      "\tTrain loss: 0.000 16.649 map valid loss: 24.220 valid r2 hr 0.000 valid r2 map 0.846\n",
      "\tTrain loss: 0.000 15.304 map valid loss: 25.255 valid r2 hr 0.000 valid r2 map 0.839\n",
      "\tTrain loss: 0.000 15.504 map valid loss: 24.636 valid r2 hr 0.000 valid r2 map 0.843\n",
      "\tTrain loss: 0.000 15.132 map valid loss: 24.925 valid r2 hr 0.000 valid r2 map 0.841\n",
      "\tTrain loss: 0.000 14.987 map valid loss: 25.617 valid r2 hr 0.000 valid r2 map 0.837\n",
      "\tTrain loss: 0.000 14.884 map valid loss: 24.165 valid r2 hr 0.000 valid r2 map 0.846\n",
      "\tTrain loss: 0.000 14.797 map valid loss: 25.976 valid r2 hr 0.000 valid r2 map 0.835\n",
      "\tTrain loss: 0.000 15.170 map valid loss: 24.598 valid r2 hr 0.000 valid r2 map 0.843\n",
      "\tTrain loss: 0.000 15.003 map valid loss: 24.980 valid r2 hr 0.000 valid r2 map 0.841\n"
     ]
    },
    {
     "data": {
      "application/vnd.jupyter.widget-view+json": {
       "model_id": "1f99497e6f6c44b899314fecff8b5ccc",
       "version_major": 2,
       "version_minor": 0
      },
      "text/plain": [
       "HBox(children=(FloatProgress(value=0.0, max=210.0), HTML(value='')))"
      ]
     },
     "metadata": {},
     "output_type": "display_data"
    },
    {
     "name": "stdout",
     "output_type": "stream",
     "text": [
      "\tTrain loss: 0.000 6041.628 map valid loss: 6583.181 valid r2 hr 0.000 valid r2 map -40.935\n",
      "\tTrain loss: 0.000 5048.010 map valid loss: 7193.832 valid r2 hr 0.000 valid r2 map -44.825\n",
      "\tTrain loss: 0.000 3274.653 map valid loss: 1907.876 valid r2 hr 0.000 valid r2 map -11.153\n",
      "\tTrain loss: 0.000 1056.014 map valid loss: 92.437 valid r2 hr 0.000 valid r2 map 0.411\n",
      "\tTrain loss: 0.000 82.765 map valid loss: 348.597 valid r2 hr 0.000 valid r2 map -1.221\n",
      "\tTrain loss: 0.000 305.220 map valid loss: 189.985 valid r2 hr 0.000 valid r2 map -0.210\n",
      "\tTrain loss: 0.000 87.472 map valid loss: 26.948 valid r2 hr 0.000 valid r2 map 0.828\n",
      "\tTrain loss: 0.000 41.300 map valid loss: 87.476 valid r2 hr 0.000 valid r2 map 0.443\n",
      "\tTrain loss: 0.000 55.451 map valid loss: 37.223 valid r2 hr 0.000 valid r2 map 0.763\n",
      "\tTrain loss: 0.000 21.609 map valid loss: 36.147 valid r2 hr 0.000 valid r2 map 0.770\n",
      "\tTrain loss: 0.000 24.701 map valid loss: 32.299 valid r2 hr 0.000 valid r2 map 0.794\n",
      "\tTrain loss: 0.000 20.217 map valid loss: 23.620 valid r2 hr 0.000 valid r2 map 0.850\n",
      "\tTrain loss: 0.000 17.976 map valid loss: 26.323 valid r2 hr 0.000 valid r2 map 0.832\n",
      "\tTrain loss: 0.000 18.735 map valid loss: 24.395 valid r2 hr 0.000 valid r2 map 0.845\n",
      "\tTrain loss: 0.000 17.086 map valid loss: 24.205 valid r2 hr 0.000 valid r2 map 0.846\n",
      "\tTrain loss: 0.000 17.633 map valid loss: 24.249 valid r2 hr 0.000 valid r2 map 0.846\n",
      "\tTrain loss: 0.000 17.114 map valid loss: 24.617 valid r2 hr 0.000 valid r2 map 0.843\n",
      "\tTrain loss: 0.000 16.793 map valid loss: 23.517 valid r2 hr 0.000 valid r2 map 0.850\n",
      "\tTrain loss: 0.000 17.103 map valid loss: 24.509 valid r2 hr 0.000 valid r2 map 0.844\n",
      "\tTrain loss: 0.000 15.889 map valid loss: 24.020 valid r2 hr 0.000 valid r2 map 0.847\n",
      "\tTrain loss: 0.000 16.468 map valid loss: 24.477 valid r2 hr 0.000 valid r2 map 0.844\n",
      "\tTrain loss: 0.000 16.569 map valid loss: 24.708 valid r2 hr 0.000 valid r2 map 0.843\n",
      "\tTrain loss: 0.000 15.877 map valid loss: 23.852 valid r2 hr 0.000 valid r2 map 0.848\n",
      "\tTrain loss: 0.000 15.882 map valid loss: 24.459 valid r2 hr 0.000 valid r2 map 0.844\n",
      "\tTrain loss: 0.000 15.214 map valid loss: 24.078 valid r2 hr 0.000 valid r2 map 0.847\n",
      "\tTrain loss: 0.000 15.935 map valid loss: 24.790 valid r2 hr 0.000 valid r2 map 0.842\n",
      "\tTrain loss: 0.000 15.362 map valid loss: 23.835 valid r2 hr 0.000 valid r2 map 0.848\n",
      "\tTrain loss: 0.000 15.482 map valid loss: 24.194 valid r2 hr 0.000 valid r2 map 0.846\n",
      "\tTrain loss: 0.000 14.809 map valid loss: 23.831 valid r2 hr 0.000 valid r2 map 0.848\n",
      "\tTrain loss: 0.000 15.319 map valid loss: 25.003 valid r2 hr 0.000 valid r2 map 0.841\n"
     ]
    },
    {
     "data": {
      "application/vnd.jupyter.widget-view+json": {
       "model_id": "3d154c1b38bc4280a4f950865d829a96",
       "version_major": 2,
       "version_minor": 0
      },
      "text/plain": [
       "HBox(children=(FloatProgress(value=0.0, max=210.0), HTML(value='')))"
      ]
     },
     "metadata": {},
     "output_type": "display_data"
    },
    {
     "name": "stdout",
     "output_type": "stream",
     "text": [
      "\tTrain loss: 0.000 6058.692 map valid loss: 11807.352 valid r2 hr 0.000 valid r2 map -74.214\n",
      "\tTrain loss: 0.000 5032.218 map valid loss: 7592.628 valid r2 hr 0.000 valid r2 map -47.366\n",
      "\tTrain loss: 0.000 3176.990 map valid loss: 2396.949 valid r2 hr 0.000 valid r2 map -14.269\n",
      "\tTrain loss: 0.000 962.226 map valid loss: 48.602 valid r2 hr 0.000 valid r2 map 0.690\n",
      "\tTrain loss: 0.000 83.390 map valid loss: 428.724 valid r2 hr 0.000 valid r2 map -1.731\n",
      "\tTrain loss: 0.000 316.571 map valid loss: 196.125 valid r2 hr 0.000 valid r2 map -0.249\n",
      "\tTrain loss: 0.000 85.531 map valid loss: 26.175 valid r2 hr 0.000 valid r2 map 0.833\n",
      "\tTrain loss: 0.000 44.583 map valid loss: 85.819 valid r2 hr 0.000 valid r2 map 0.453\n",
      "\tTrain loss: 0.000 58.751 map valid loss: 37.112 valid r2 hr 0.000 valid r2 map 0.764\n",
      "\tTrain loss: 0.000 22.216 map valid loss: 28.972 valid r2 hr 0.000 valid r2 map 0.815\n",
      "\tTrain loss: 0.000 26.243 map valid loss: 27.876 valid r2 hr 0.000 valid r2 map 0.822\n",
      "\tTrain loss: 0.000 20.497 map valid loss: 24.766 valid r2 hr 0.000 valid r2 map 0.842\n",
      "\tTrain loss: 0.000 19.657 map valid loss: 26.607 valid r2 hr 0.000 valid r2 map 0.831\n",
      "\tTrain loss: 0.000 19.369 map valid loss: 23.719 valid r2 hr 0.000 valid r2 map 0.849\n",
      "\tTrain loss: 0.000 17.672 map valid loss: 24.506 valid r2 hr 0.000 valid r2 map 0.844\n",
      "\tTrain loss: 0.000 16.856 map valid loss: 24.587 valid r2 hr 0.000 valid r2 map 0.843\n",
      "\tTrain loss: 0.000 17.738 map valid loss: 24.632 valid r2 hr 0.000 valid r2 map 0.843\n",
      "\tTrain loss: 0.000 17.528 map valid loss: 24.493 valid r2 hr 0.000 valid r2 map 0.844\n",
      "\tTrain loss: 0.000 16.303 map valid loss: 24.106 valid r2 hr 0.000 valid r2 map 0.846\n",
      "\tTrain loss: 0.000 16.448 map valid loss: 24.630 valid r2 hr 0.000 valid r2 map 0.843\n",
      "\tTrain loss: 0.000 16.298 map valid loss: 24.607 valid r2 hr 0.000 valid r2 map 0.843\n",
      "\tTrain loss: 0.000 16.125 map valid loss: 24.949 valid r2 hr 0.000 valid r2 map 0.841\n",
      "\tTrain loss: 0.000 16.038 map valid loss: 26.395 valid r2 hr 0.000 valid r2 map 0.832\n",
      "\tTrain loss: 0.000 16.661 map valid loss: 25.340 valid r2 hr 0.000 valid r2 map 0.839\n",
      "\tTrain loss: 0.000 16.253 map valid loss: 25.685 valid r2 hr 0.000 valid r2 map 0.836\n",
      "\tTrain loss: 0.000 15.961 map valid loss: 24.188 valid r2 hr 0.000 valid r2 map 0.846\n",
      "\tTrain loss: 0.000 15.636 map valid loss: 24.639 valid r2 hr 0.000 valid r2 map 0.843\n",
      "\tTrain loss: 0.000 15.858 map valid loss: 25.378 valid r2 hr 0.000 valid r2 map 0.838\n",
      "\tTrain loss: 0.000 15.441 map valid loss: 24.390 valid r2 hr 0.000 valid r2 map 0.845\n",
      "\tTrain loss: 0.000 15.890 map valid loss: 25.500 valid r2 hr 0.000 valid r2 map 0.838\n"
     ]
    },
    {
     "data": {
      "application/vnd.jupyter.widget-view+json": {
       "model_id": "bb4e136f9d2242f8973657850fd9d837",
       "version_major": 2,
       "version_minor": 0
      },
      "text/plain": [
       "HBox(children=(FloatProgress(value=0.0, max=210.0), HTML(value='')))"
      ]
     },
     "metadata": {},
     "output_type": "display_data"
    },
    {
     "name": "stdout",
     "output_type": "stream",
     "text": [
      "\tTrain loss: 0.000 6062.072 map valid loss: 11156.999 valid r2 hr 0.000 valid r2 map -70.071\n",
      "\tTrain loss: 0.000 5016.047 map valid loss: 6291.400 valid r2 hr 0.000 valid r2 map -39.077\n",
      "\tTrain loss: 0.000 3155.420 map valid loss: 1580.876 valid r2 hr 0.000 valid r2 map -9.070\n",
      "\tTrain loss: 0.000 919.882 map valid loss: 53.257 valid r2 hr 0.000 valid r2 map 0.661\n",
      "\tTrain loss: 0.000 77.994 map valid loss: 279.382 valid r2 hr 0.000 valid r2 map -0.780\n",
      "\tTrain loss: 0.000 315.618 map valid loss: 186.302 valid r2 hr 0.000 valid r2 map -0.187\n",
      "\tTrain loss: 0.000 83.630 map valid loss: 28.838 valid r2 hr 0.000 valid r2 map 0.816\n",
      "\tTrain loss: 0.000 43.678 map valid loss: 87.252 valid r2 hr 0.000 valid r2 map 0.444\n",
      "\tTrain loss: 0.000 54.349 map valid loss: 36.375 valid r2 hr 0.000 valid r2 map 0.768\n",
      "\tTrain loss: 0.000 21.165 map valid loss: 29.503 valid r2 hr 0.000 valid r2 map 0.812\n",
      "\tTrain loss: 0.000 24.288 map valid loss: 28.738 valid r2 hr 0.000 valid r2 map 0.817\n",
      "\tTrain loss: 0.000 20.409 map valid loss: 23.567 valid r2 hr 0.000 valid r2 map 0.850\n",
      "\tTrain loss: 0.000 19.209 map valid loss: 25.614 valid r2 hr 0.000 valid r2 map 0.837\n",
      "\tTrain loss: 0.000 18.068 map valid loss: 23.851 valid r2 hr 0.000 valid r2 map 0.848\n",
      "\tTrain loss: 0.000 17.214 map valid loss: 24.137 valid r2 hr 0.000 valid r2 map 0.846\n",
      "\tTrain loss: 0.000 16.875 map valid loss: 24.383 valid r2 hr 0.000 valid r2 map 0.845\n",
      "\tTrain loss: 0.000 16.757 map valid loss: 23.755 valid r2 hr 0.000 valid r2 map 0.849\n",
      "\tTrain loss: 0.000 16.652 map valid loss: 23.831 valid r2 hr 0.000 valid r2 map 0.848\n",
      "\tTrain loss: 0.000 16.556 map valid loss: 24.203 valid r2 hr 0.000 valid r2 map 0.846\n",
      "\tTrain loss: 0.000 16.507 map valid loss: 24.624 valid r2 hr 0.000 valid r2 map 0.843\n",
      "\tTrain loss: 0.000 16.278 map valid loss: 24.180 valid r2 hr 0.000 valid r2 map 0.846\n",
      "\tTrain loss: 0.000 15.880 map valid loss: 23.835 valid r2 hr 0.000 valid r2 map 0.848\n",
      "\tTrain loss: 0.000 15.447 map valid loss: 24.658 valid r2 hr 0.000 valid r2 map 0.843\n",
      "\tTrain loss: 0.000 15.505 map valid loss: 25.419 valid r2 hr 0.000 valid r2 map 0.838\n",
      "\tTrain loss: 0.000 15.292 map valid loss: 24.916 valid r2 hr 0.000 valid r2 map 0.841\n",
      "\tTrain loss: 0.000 15.226 map valid loss: 24.403 valid r2 hr 0.000 valid r2 map 0.845\n",
      "\tTrain loss: 0.000 15.522 map valid loss: 25.287 valid r2 hr 0.000 valid r2 map 0.839\n",
      "\tTrain loss: 0.000 15.114 map valid loss: 26.888 valid r2 hr 0.000 valid r2 map 0.829\n",
      "\tTrain loss: 0.000 15.399 map valid loss: 24.160 valid r2 hr 0.000 valid r2 map 0.846\n",
      "\tTrain loss: 0.000 15.472 map valid loss: 24.134 valid r2 hr 0.000 valid r2 map 0.846\n"
     ]
    },
    {
     "data": {
      "text/plain": [
       "0.8525404705249764"
      ]
     },
     "execution_count": 9,
     "metadata": {},
     "output_type": "execute_result"
    }
   ],
   "source": [
    "multiple_runs(num_subjects, C=0, basename=\"model0_single_15min\", n=10)"
   ]
  },
  {
   "cell_type": "code",
   "execution_count": null,
   "metadata": {},
   "outputs": [],
   "source": []
  }
 ],
 "metadata": {
  "kernelspec": {
   "display_name": "Python 3",
   "language": "python",
   "name": "python3"
  },
  "language_info": {
   "codemirror_mode": {
    "name": "ipython",
    "version": 3
   },
   "file_extension": ".py",
   "mimetype": "text/x-python",
   "name": "python",
   "nbconvert_exporter": "python",
   "pygments_lexer": "ipython3",
   "version": "3.7.6"
  },
  "toc": {
   "base_numbering": 1,
   "nav_menu": {},
   "number_sections": true,
   "sideBar": true,
   "skip_h1_title": false,
   "title_cell": "Table of Contents",
   "title_sidebar": "Contents",
   "toc_cell": false,
   "toc_position": {},
   "toc_section_display": true,
   "toc_window_display": false
  }
 },
 "nbformat": 4,
 "nbformat_minor": 2
}
