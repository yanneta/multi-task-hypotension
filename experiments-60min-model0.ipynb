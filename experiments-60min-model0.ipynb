{
 "cells": [
  {
   "cell_type": "code",
   "execution_count": 1,
   "metadata": {},
   "outputs": [],
   "source": [
    "%reload_ext autoreload\n",
    "%autoreload 2\n",
    "%matplotlib inline\n",
    "\n",
    "from utils import *\n",
    "\n",
    "import matplotlib\n",
    "import matplotlib.pyplot as plt\n",
    "\n",
    "import pandas as pd\n",
    "\n",
    "from datetime import datetime\n",
    "from collections import OrderedDict"
   ]
  },
  {
   "cell_type": "code",
   "execution_count": 2,
   "metadata": {},
   "outputs": [],
   "source": [
    "PATH = Path(\"/data2/yinterian/multi-task-romain\")"
   ]
  },
  {
   "cell_type": "code",
   "execution_count": 3,
   "metadata": {},
   "outputs": [],
   "source": [
    "train, valid = get_data_gap(PATH, gap=\"60min\")"
   ]
  },
  {
   "cell_type": "code",
   "execution_count": 4,
   "metadata": {},
   "outputs": [
    {
     "data": {
      "text/plain": [
       "((11875, 17), (1302, 17))"
      ]
     },
     "execution_count": 4,
     "metadata": {},
     "output_type": "execute_result"
    }
   ],
   "source": [
    "train.shape, valid.shape"
   ]
  },
  {
   "cell_type": "code",
   "execution_count": 5,
   "metadata": {},
   "outputs": [],
   "source": [
    "norm_dict, care2id, id2index, num_subjects = stats_dict(train)"
   ]
  },
  {
   "cell_type": "code",
   "execution_count": 6,
   "metadata": {},
   "outputs": [],
   "source": [
    "train_ds = MultiTask(train, norm_dict, id2index, care2id)\n",
    "valid_ds = MultiTask(valid, norm_dict, id2index, care2id, train=False)"
   ]
  },
  {
   "cell_type": "code",
   "execution_count": 7,
   "metadata": {},
   "outputs": [],
   "source": [
    "batch_size = 5000\n",
    "train_dl = DataLoader(train_ds, batch_size=batch_size, shuffle=True)\n",
    "valid_dl = DataLoader(valid_ds, batch_size=batch_size)"
   ]
  },
  {
   "cell_type": "code",
   "execution_count": 8,
   "metadata": {},
   "outputs": [],
   "source": [
    "def multiple_runs(num_subjects, C, basename=\"model_60min\", n=10):\n",
    "    best_score = 0\n",
    "    for i in range(n):\n",
    "        model = EventModel0(num_subjects).cuda()\n",
    "        optimizer = torch.optim.Adam(model.parameters(), lr=0.04, weight_decay=1e-5)\n",
    "        best_score = train_epochs(model, train_ds, valid_dl, optimizer, basename, best_score, epochs=30, C=C)\n",
    "    return best_score   "
   ]
  },
  {
   "cell_type": "code",
   "execution_count": 11,
   "metadata": {},
   "outputs": [
    {
     "data": {
      "application/vnd.jupyter.widget-view+json": {
       "model_id": "384817fbad31417283f2919d1ccb40ae",
       "version_major": 2,
       "version_minor": 0
      },
      "text/plain": [
       "HBox(children=(FloatProgress(value=0.0, max=180.0), HTML(value='')))"
      ]
     },
     "metadata": {},
     "output_type": "display_data"
    },
    {
     "name": "stdout",
     "output_type": "stream",
     "text": [
      "\tTrain loss: 7188.677 6095.499 map valid loss: 9493.934 valid r2 hr -37.590 valid r2 map -66.470\n",
      "\tTrain loss: 6715.709 5401.877 map valid loss: 10425.183 valid r2 hr -42.747 valid r2 map -73.088\n",
      "\tTrain loss: 5526.932 4129.110 map valid loss: 3269.792 valid r2 hr -17.121 valid r2 map -22.237\n",
      "\tTrain loss: 3427.360 2172.871 map valid loss: 1349.402 valid r2 hr -7.916 valid r2 map -8.590\n",
      "\tTrain loss: 1254.325 497.029 map valid loss: 51.680 valid r2 hr -0.305 valid r2 map 0.633\n",
      "\tTrain loss: 304.085 121.891 map valid loss: 292.701 valid r2 hr -0.586 valid r2 map -1.080\n",
      "\tTrain loss: 429.735 352.440 map valid loss: 156.845 valid r2 hr -0.534 valid r2 map -0.115\n",
      "\tTrain loss: 357.888 130.230 map valid loss: 39.582 valid r2 hr -0.045 valid r2 map 0.719\n",
      "/data2/yinterian/multi-task-romain/models/model0_60min_r2_-5_72.pth\n",
      "\tTrain loss: 263.157 46.759 map valid loss: 86.655 valid r2 hr -0.038 valid r2 map 0.384\n",
      "\tTrain loss: 274.620 82.252 map valid loss: 83.705 valid r2 hr 0.044 valid r2 map 0.405\n",
      "\tTrain loss: 234.026 49.472 map valid loss: 42.434 valid r2 hr 0.227 valid r2 map 0.698\n",
      "\tTrain loss: 192.759 32.333 map valid loss: 43.760 valid r2 hr 0.357 valid r2 map 0.689\n",
      "\tTrain loss: 160.394 36.956 map valid loss: 45.220 valid r2 hr 0.519 valid r2 map 0.679\n",
      "\tTrain loss: 123.118 31.214 map valid loss: 42.912 valid r2 hr 0.620 valid r2 map 0.695\n",
      "\tTrain loss: 89.297 28.076 map valid loss: 53.792 valid r2 hr 0.639 valid r2 map 0.618\n",
      "\tTrain loss: 65.348 29.426 map valid loss: 48.404 valid r2 hr 0.733 valid r2 map 0.656\n",
      "\tTrain loss: 49.602 27.129 map valid loss: 42.073 valid r2 hr 0.818 valid r2 map 0.701\n",
      "\tTrain loss: 39.802 26.715 map valid loss: 44.842 valid r2 hr 0.825 valid r2 map 0.681\n",
      "\tTrain loss: 35.960 25.826 map valid loss: 45.482 valid r2 hr 0.816 valid r2 map 0.677\n",
      "\tTrain loss: 32.898 25.026 map valid loss: 46.266 valid r2 hr 0.844 valid r2 map 0.671\n",
      "\tTrain loss: 33.819 24.501 map valid loss: 42.199 valid r2 hr 0.874 valid r2 map 0.700\n",
      "\tTrain loss: 32.427 23.920 map valid loss: 43.261 valid r2 hr 0.862 valid r2 map 0.693\n",
      "\tTrain loss: 33.067 25.008 map valid loss: 43.591 valid r2 hr 0.872 valid r2 map 0.690\n",
      "\tTrain loss: 32.163 24.298 map valid loss: 46.137 valid r2 hr 0.873 valid r2 map 0.672\n",
      "\tTrain loss: 32.442 23.780 map valid loss: 46.389 valid r2 hr 0.861 valid r2 map 0.670\n",
      "\tTrain loss: 31.319 22.554 map valid loss: 44.781 valid r2 hr 0.873 valid r2 map 0.682\n",
      "\tTrain loss: 31.355 22.564 map valid loss: 42.962 valid r2 hr 0.875 valid r2 map 0.695\n",
      "\tTrain loss: 30.852 22.105 map valid loss: 45.110 valid r2 hr 0.874 valid r2 map 0.679\n",
      "\tTrain loss: 29.776 21.331 map valid loss: 43.143 valid r2 hr 0.881 valid r2 map 0.693\n",
      "\tTrain loss: 31.525 21.433 map valid loss: 45.697 valid r2 hr 0.883 valid r2 map 0.675\n"
     ]
    },
    {
     "data": {
      "application/vnd.jupyter.widget-view+json": {
       "model_id": "15acdf1fed0344588ed6fb42c49ed116",
       "version_major": 2,
       "version_minor": 0
      },
      "text/plain": [
       "HBox(children=(FloatProgress(value=0.0, max=180.0), HTML(value='')))"
      ]
     },
     "metadata": {},
     "output_type": "display_data"
    },
    {
     "name": "stdout",
     "output_type": "stream",
     "text": [
      "\tTrain loss: 7215.057 6051.781 map valid loss: 5200.938 valid r2 hr -26.194 valid r2 map -35.961\n",
      "\tTrain loss: 6701.148 5275.465 map valid loss: 4555.002 valid r2 hr -23.161 valid r2 map -31.371\n",
      "\tTrain loss: 5308.541 3823.472 map valid loss: 1796.471 valid r2 hr -11.865 valid r2 map -11.767\n",
      "\tTrain loss: 3127.124 1857.849 map valid loss: 642.709 valid r2 hr -5.303 valid r2 map -3.568\n",
      "\tTrain loss: 1114.078 363.509 map valid loss: 48.294 valid r2 hr -0.364 valid r2 map 0.657\n",
      "\tTrain loss: 310.114 150.386 map valid loss: 374.226 valid r2 hr -0.570 valid r2 map -1.659\n",
      "\tTrain loss: 403.232 343.666 map valid loss: 214.603 valid r2 hr -0.616 valid r2 map -0.525\n",
      "\tTrain loss: 318.505 110.431 map valid loss: 40.759 valid r2 hr -0.014 valid r2 map 0.710\n",
      "\tTrain loss: 234.850 46.711 map valid loss: 85.776 valid r2 hr 0.115 valid r2 map 0.390\n",
      "\tTrain loss: 211.003 80.826 map valid loss: 74.847 valid r2 hr 0.312 valid r2 map 0.468\n",
      "\tTrain loss: 156.717 49.000 map valid loss: 43.461 valid r2 hr 0.519 valid r2 map 0.691\n",
      "\tTrain loss: 114.432 32.192 map valid loss: 41.381 valid r2 hr 0.662 valid r2 map 0.706\n",
      "\tTrain loss: 81.640 36.775 map valid loss: 41.584 valid r2 hr 0.622 valid r2 map 0.704\n",
      "\tTrain loss: 58.544 31.655 map valid loss: 41.723 valid r2 hr 0.587 valid r2 map 0.703\n",
      "\tTrain loss: 48.998 29.033 map valid loss: 46.641 valid r2 hr 0.628 valid r2 map 0.669\n",
      "\tTrain loss: 41.199 28.915 map valid loss: 43.370 valid r2 hr 0.776 valid r2 map 0.692\n",
      "\tTrain loss: 35.192 27.072 map valid loss: 41.096 valid r2 hr 0.794 valid r2 map 0.708\n",
      "\tTrain loss: 35.268 26.770 map valid loss: 42.848 valid r2 hr 0.844 valid r2 map 0.695\n",
      "\tTrain loss: 33.316 25.824 map valid loss: 42.227 valid r2 hr 0.857 valid r2 map 0.700\n",
      "\tTrain loss: 32.913 24.988 map valid loss: 44.923 valid r2 hr 0.874 valid r2 map 0.681\n",
      "\tTrain loss: 32.831 24.829 map valid loss: 44.366 valid r2 hr 0.871 valid r2 map 0.685\n",
      "\tTrain loss: 30.435 24.879 map valid loss: 49.521 valid r2 hr 0.874 valid r2 map 0.648\n",
      "\tTrain loss: 31.063 24.800 map valid loss: 44.193 valid r2 hr 0.880 valid r2 map 0.686\n",
      "\tTrain loss: 30.669 23.563 map valid loss: 46.223 valid r2 hr 0.874 valid r2 map 0.672\n",
      "\tTrain loss: 30.840 23.701 map valid loss: 43.872 valid r2 hr 0.874 valid r2 map 0.688\n",
      "\tTrain loss: 30.501 21.510 map valid loss: 48.123 valid r2 hr 0.881 valid r2 map 0.658\n",
      "\tTrain loss: 28.877 22.442 map valid loss: 46.027 valid r2 hr 0.880 valid r2 map 0.673\n",
      "\tTrain loss: 30.915 21.257 map valid loss: 47.470 valid r2 hr 0.873 valid r2 map 0.663\n",
      "\tTrain loss: 30.997 21.483 map valid loss: 56.728 valid r2 hr 0.865 valid r2 map 0.597\n",
      "\tTrain loss: 29.966 21.439 map valid loss: 46.237 valid r2 hr 0.881 valid r2 map 0.671\n"
     ]
    },
    {
     "data": {
      "application/vnd.jupyter.widget-view+json": {
       "model_id": "12d653f9e8704f3db3f16b35d782af44",
       "version_major": 2,
       "version_minor": 0
      },
      "text/plain": [
       "HBox(children=(FloatProgress(value=0.0, max=180.0), HTML(value='')))"
      ]
     },
     "metadata": {},
     "output_type": "display_data"
    },
    {
     "name": "stdout",
     "output_type": "stream",
     "text": [
      "\tTrain loss: 7194.432 6041.300 map valid loss: 9158.908 valid r2 hr -34.523 valid r2 map -64.089\n",
      "\tTrain loss: 6703.121 5291.532 map valid loss: 7672.229 valid r2 hr -32.218 valid r2 map -53.524\n",
      "\tTrain loss: 5304.511 3886.751 map valid loss: 3732.024 valid r2 hr -17.547 valid r2 map -25.522\n",
      "\tTrain loss: 3149.246 1953.059 map valid loss: 1051.863 valid r2 hr -6.246 valid r2 map -6.475\n",
      "\tTrain loss: 1072.750 394.591 map valid loss: 57.597 valid r2 hr -0.406 valid r2 map 0.591\n",
      "\tTrain loss: 302.587 141.964 map valid loss: 319.797 valid r2 hr -0.530 valid r2 map -1.273\n",
      "\tTrain loss: 435.629 346.990 map valid loss: 213.246 valid r2 hr -0.749 valid r2 map -0.515\n",
      "\tTrain loss: 336.483 116.199 map valid loss: 42.396 valid r2 hr -0.039 valid r2 map 0.699\n",
      "\tTrain loss: 258.672 48.897 map valid loss: 87.854 valid r2 hr 0.002 valid r2 map 0.376\n",
      "\tTrain loss: 262.048 80.988 map valid loss: 64.677 valid r2 hr 0.142 valid r2 map 0.540\n",
      "\tTrain loss: 215.700 49.127 map valid loss: 42.512 valid r2 hr 0.306 valid r2 map 0.698\n",
      "\tTrain loss: 164.470 32.075 map valid loss: 47.770 valid r2 hr 0.464 valid r2 map 0.661\n",
      "\tTrain loss: 125.195 39.133 map valid loss: 52.519 valid r2 hr 0.647 valid r2 map 0.627\n",
      "\tTrain loss: 89.357 32.480 map valid loss: 41.232 valid r2 hr 0.739 valid r2 map 0.707\n",
      "\tTrain loss: 68.068 29.176 map valid loss: 44.603 valid r2 hr 0.794 valid r2 map 0.683\n",
      "\tTrain loss: 50.112 29.075 map valid loss: 42.909 valid r2 hr 0.839 valid r2 map 0.695\n",
      "\tTrain loss: 38.506 27.020 map valid loss: 41.576 valid r2 hr 0.866 valid r2 map 0.705\n",
      "\tTrain loss: 34.073 27.244 map valid loss: 45.269 valid r2 hr 0.876 valid r2 map 0.678\n",
      "\tTrain loss: 34.158 26.307 map valid loss: 44.296 valid r2 hr 0.871 valid r2 map 0.685\n",
      "\tTrain loss: 32.960 25.303 map valid loss: 43.826 valid r2 hr 0.872 valid r2 map 0.689\n",
      "\tTrain loss: 32.554 25.257 map valid loss: 43.050 valid r2 hr 0.880 valid r2 map 0.694\n",
      "\tTrain loss: 32.463 24.740 map valid loss: 46.792 valid r2 hr 0.876 valid r2 map 0.667\n",
      "\tTrain loss: 32.473 24.452 map valid loss: 42.697 valid r2 hr 0.880 valid r2 map 0.697\n",
      "\tTrain loss: 29.746 23.472 map valid loss: 44.202 valid r2 hr 0.878 valid r2 map 0.686\n",
      "\tTrain loss: 31.672 23.617 map valid loss: 46.641 valid r2 hr 0.871 valid r2 map 0.669\n",
      "\tTrain loss: 31.482 24.245 map valid loss: 45.698 valid r2 hr 0.880 valid r2 map 0.675\n",
      "\tTrain loss: 30.074 22.297 map valid loss: 47.095 valid r2 hr 0.882 valid r2 map 0.665\n",
      "\tTrain loss: 30.063 22.793 map valid loss: 45.049 valid r2 hr 0.874 valid r2 map 0.680\n",
      "\tTrain loss: 32.126 22.871 map valid loss: 52.575 valid r2 hr 0.865 valid r2 map 0.626\n",
      "\tTrain loss: 30.700 22.705 map valid loss: 47.951 valid r2 hr 0.855 valid r2 map 0.659\n"
     ]
    },
    {
     "data": {
      "application/vnd.jupyter.widget-view+json": {
       "model_id": "b66957184f3d406589491e89d97d9d50",
       "version_major": 2,
       "version_minor": 0
      },
      "text/plain": [
       "HBox(children=(FloatProgress(value=0.0, max=180.0), HTML(value='')))"
      ]
     },
     "metadata": {},
     "output_type": "display_data"
    },
    {
     "name": "stdout",
     "output_type": "stream",
     "text": [
      "\tTrain loss: 7215.133 6044.110 map valid loss: 4656.010 valid r2 hr -21.670 valid r2 map -32.089\n",
      "\tTrain loss: 6649.238 5254.988 map valid loss: 4661.817 valid r2 hr -22.815 valid r2 map -32.130\n",
      "\tTrain loss: 5261.568 3806.785 map valid loss: 2254.645 valid r2 hr -12.897 valid r2 map -15.023\n",
      "\tTrain loss: 3037.687 1837.307 map valid loss: 413.412 valid r2 hr -3.747 valid r2 map -1.938\n",
      "\tTrain loss: 1026.337 347.590 map valid loss: 71.326 valid r2 hr -0.235 valid r2 map 0.493\n",
      "\tTrain loss: 308.544 159.987 map valid loss: 374.041 valid r2 hr -0.728 valid r2 map -1.658\n",
      "\tTrain loss: 449.284 337.521 map valid loss: 165.560 valid r2 hr -0.513 valid r2 map -0.177\n",
      "\tTrain loss: 334.731 102.707 map valid loss: 39.787 valid r2 hr -0.114 valid r2 map 0.717\n",
      "\tTrain loss: 280.943 49.141 map valid loss: 81.533 valid r2 hr -0.114 valid r2 map 0.421\n",
      "\tTrain loss: 300.199 79.601 map valid loss: 75.313 valid r2 hr -0.057 valid r2 map 0.465\n",
      "\tTrain loss: 266.057 46.629 map valid loss: 40.271 valid r2 hr 0.060 valid r2 map 0.714\n",
      "\tTrain loss: 237.167 32.775 map valid loss: 46.615 valid r2 hr 0.098 valid r2 map 0.669\n",
      "\tTrain loss: 212.481 37.335 map valid loss: 41.843 valid r2 hr 0.249 valid r2 map 0.703\n",
      "\tTrain loss: 162.322 31.317 map valid loss: 43.964 valid r2 hr 0.480 valid r2 map 0.688\n",
      "\tTrain loss: 117.791 29.317 map valid loss: 46.663 valid r2 hr 0.691 valid r2 map 0.668\n",
      "\tTrain loss: 85.435 29.736 map valid loss: 43.426 valid r2 hr 0.797 valid r2 map 0.691\n",
      "\tTrain loss: 57.289 27.872 map valid loss: 47.577 valid r2 hr 0.816 valid r2 map 0.662\n",
      "\tTrain loss: 41.663 27.363 map valid loss: 43.354 valid r2 hr 0.865 valid r2 map 0.692\n",
      "\tTrain loss: 35.409 27.529 map valid loss: 43.969 valid r2 hr 0.854 valid r2 map 0.688\n",
      "\tTrain loss: 31.606 25.881 map valid loss: 43.956 valid r2 hr 0.880 valid r2 map 0.688\n",
      "\tTrain loss: 32.078 25.582 map valid loss: 45.200 valid r2 hr 0.882 valid r2 map 0.679\n",
      "\tTrain loss: 31.789 25.715 map valid loss: 45.451 valid r2 hr 0.876 valid r2 map 0.677\n",
      "\tTrain loss: 30.379 24.918 map valid loss: 46.378 valid r2 hr 0.879 valid r2 map 0.670\n",
      "\tTrain loss: 28.956 24.442 map valid loss: 44.962 valid r2 hr 0.884 valid r2 map 0.680\n",
      "\tTrain loss: 30.947 24.374 map valid loss: 47.324 valid r2 hr 0.876 valid r2 map 0.664\n",
      "\tTrain loss: 28.386 23.638 map valid loss: 47.737 valid r2 hr 0.880 valid r2 map 0.661\n",
      "\tTrain loss: 29.144 24.113 map valid loss: 48.562 valid r2 hr 0.883 valid r2 map 0.655\n",
      "\tTrain loss: 28.259 23.642 map valid loss: 48.425 valid r2 hr 0.889 valid r2 map 0.656\n",
      "\tTrain loss: 28.265 23.783 map valid loss: 48.432 valid r2 hr 0.881 valid r2 map 0.656\n",
      "\tTrain loss: 27.931 22.770 map valid loss: 49.073 valid r2 hr 0.885 valid r2 map 0.651\n"
     ]
    },
    {
     "data": {
      "application/vnd.jupyter.widget-view+json": {
       "model_id": "4c6ff4c906b142f99ff2caa83e4d5b20",
       "version_major": 2,
       "version_minor": 0
      },
      "text/plain": [
       "HBox(children=(FloatProgress(value=0.0, max=180.0), HTML(value='')))"
      ]
     },
     "metadata": {},
     "output_type": "display_data"
    },
    {
     "name": "stdout",
     "output_type": "stream",
     "text": [
      "\tTrain loss: 7188.523 6065.229 map valid loss: 6401.436 valid r2 hr -30.236 valid r2 map -44.493\n",
      "\tTrain loss: 6668.050 5321.050 map valid loss: 4856.355 valid r2 hr -24.249 valid r2 map -33.512\n",
      "\tTrain loss: 5289.146 3947.391 map valid loss: 2668.351 valid r2 hr -14.748 valid r2 map -17.963\n",
      "\tTrain loss: 3167.137 2021.933 map valid loss: 677.487 valid r2 hr -4.866 valid r2 map -3.815\n",
      "\tTrain loss: 1096.787 432.447 map valid loss: 60.847 valid r2 hr -0.111 valid r2 map 0.568\n",
      "\tTrain loss: 311.512 131.759 map valid loss: 385.965 valid r2 hr -0.760 valid r2 map -1.743\n",
      "\tTrain loss: 433.809 344.274 map valid loss: 252.045 valid r2 hr -0.736 valid r2 map -0.791\n",
      "\tTrain loss: 331.141 120.896 map valid loss: 40.272 valid r2 hr 0.039 valid r2 map 0.714\n",
      "\tTrain loss: 236.775 45.815 map valid loss: 73.249 valid r2 hr 0.119 valid r2 map 0.479\n",
      "\tTrain loss: 224.364 80.116 map valid loss: 77.466 valid r2 hr 0.166 valid r2 map 0.449\n",
      "\tTrain loss: 164.282 49.265 map valid loss: 41.176 valid r2 hr 0.537 valid r2 map 0.707\n",
      "\tTrain loss: 107.826 30.627 map valid loss: 44.766 valid r2 hr 0.725 valid r2 map 0.682\n",
      "\tTrain loss: 75.348 36.017 map valid loss: 46.300 valid r2 hr 0.799 valid r2 map 0.671\n",
      "\tTrain loss: 48.077 30.783 map valid loss: 44.874 valid r2 hr 0.802 valid r2 map 0.681\n",
      "\tTrain loss: 40.513 26.870 map valid loss: 44.131 valid r2 hr 0.733 valid r2 map 0.686\n",
      "\tTrain loss: 34.422 27.471 map valid loss: 44.215 valid r2 hr 0.795 valid r2 map 0.686\n",
      "\tTrain loss: 32.897 26.458 map valid loss: 43.744 valid r2 hr 0.864 valid r2 map 0.689\n",
      "\tTrain loss: 32.527 26.170 map valid loss: 43.978 valid r2 hr 0.840 valid r2 map 0.687\n",
      "\tTrain loss: 32.892 25.390 map valid loss: 46.884 valid r2 hr 0.875 valid r2 map 0.667\n",
      "\tTrain loss: 32.344 24.900 map valid loss: 44.459 valid r2 hr 0.870 valid r2 map 0.684\n",
      "\tTrain loss: 31.299 23.762 map valid loss: 44.051 valid r2 hr 0.852 valid r2 map 0.687\n",
      "\tTrain loss: 31.280 24.693 map valid loss: 42.965 valid r2 hr 0.864 valid r2 map 0.695\n",
      "\tTrain loss: 28.445 23.679 map valid loss: 45.871 valid r2 hr 0.876 valid r2 map 0.674\n",
      "\tTrain loss: 28.212 23.581 map valid loss: 44.159 valid r2 hr 0.894 valid r2 map 0.686\n",
      "\tTrain loss: 27.840 22.493 map valid loss: 42.818 valid r2 hr 0.887 valid r2 map 0.696\n",
      "\tTrain loss: 28.565 21.700 map valid loss: 45.140 valid r2 hr 0.885 valid r2 map 0.679\n",
      "\tTrain loss: 27.676 22.006 map valid loss: 45.134 valid r2 hr 0.893 valid r2 map 0.679\n",
      "\tTrain loss: 27.944 22.019 map valid loss: 46.735 valid r2 hr 0.892 valid r2 map 0.668\n",
      "\tTrain loss: 28.309 20.830 map valid loss: 48.004 valid r2 hr 0.886 valid r2 map 0.659\n",
      "\tTrain loss: 28.938 20.843 map valid loss: 44.119 valid r2 hr 0.896 valid r2 map 0.686\n"
     ]
    },
    {
     "data": {
      "application/vnd.jupyter.widget-view+json": {
       "model_id": "d7293cbdfa314eb69eeef1cc18b7e768",
       "version_major": 2,
       "version_minor": 0
      },
      "text/plain": [
       "HBox(children=(FloatProgress(value=0.0, max=180.0), HTML(value='')))"
      ]
     },
     "metadata": {},
     "output_type": "display_data"
    },
    {
     "name": "stdout",
     "output_type": "stream",
     "text": [
      "\tTrain loss: 7207.040 6027.253 map valid loss: 13894.637 valid r2 hr -50.000 valid r2 map -97.744\n",
      "\tTrain loss: 6632.745 5255.180 map valid loss: 11788.042 valid r2 hr -48.289 valid r2 map -82.774\n",
      "\tTrain loss: 5298.607 3845.987 map valid loss: 3839.545 valid r2 hr -19.828 valid r2 map -26.286\n",
      "\tTrain loss: 3175.891 1911.479 map valid loss: 722.983 valid r2 hr -5.472 valid r2 map -4.138\n",
      "\tTrain loss: 1049.764 352.102 map valid loss: 67.094 valid r2 hr -0.105 valid r2 map 0.523\n",
      "\tTrain loss: 295.753 161.474 map valid loss: 320.655 valid r2 hr -0.628 valid r2 map -1.279\n",
      "\tTrain loss: 448.669 340.189 map valid loss: 144.812 valid r2 hr -0.564 valid r2 map -0.029\n",
      "\tTrain loss: 341.087 100.755 map valid loss: 42.718 valid r2 hr -0.018 valid r2 map 0.696\n",
      "\tTrain loss: 274.605 54.632 map valid loss: 106.466 valid r2 hr -0.071 valid r2 map 0.243\n",
      "\tTrain loss: 279.848 78.560 map valid loss: 76.297 valid r2 hr 0.055 valid r2 map 0.458\n",
      "\tTrain loss: 234.951 46.163 map valid loss: 39.656 valid r2 hr 0.284 valid r2 map 0.718\n",
      "\tTrain loss: 188.054 33.405 map valid loss: 60.684 valid r2 hr 0.385 valid r2 map 0.569\n",
      "\tTrain loss: 162.252 38.441 map valid loss: 46.177 valid r2 hr 0.531 valid r2 map 0.672\n",
      "\tTrain loss: 126.935 31.479 map valid loss: 41.478 valid r2 hr 0.603 valid r2 map 0.705\n",
      "\tTrain loss: 115.225 29.814 map valid loss: 41.646 valid r2 hr 0.669 valid r2 map 0.704\n",
      "\tTrain loss: 87.862 29.655 map valid loss: 41.850 valid r2 hr 0.735 valid r2 map 0.703\n",
      "\tTrain loss: 67.628 28.328 map valid loss: 47.163 valid r2 hr 0.775 valid r2 map 0.665\n",
      "\tTrain loss: 51.466 27.894 map valid loss: 43.838 valid r2 hr 0.836 valid r2 map 0.688\n",
      "\tTrain loss: 41.200 27.189 map valid loss: 45.799 valid r2 hr 0.840 valid r2 map 0.675\n",
      "\tTrain loss: 36.740 27.130 map valid loss: 43.714 valid r2 hr 0.859 valid r2 map 0.689\n",
      "\tTrain loss: 32.566 25.524 map valid loss: 46.784 valid r2 hr 0.865 valid r2 map 0.668\n",
      "\tTrain loss: 31.633 25.383 map valid loss: 46.811 valid r2 hr 0.871 valid r2 map 0.667\n",
      "\tTrain loss: 32.550 23.999 map valid loss: 46.124 valid r2 hr 0.873 valid r2 map 0.672\n",
      "\tTrain loss: 29.677 24.327 map valid loss: 43.233 valid r2 hr 0.880 valid r2 map 0.693\n",
      "\tTrain loss: 29.845 23.370 map valid loss: 47.222 valid r2 hr 0.859 valid r2 map 0.664\n",
      "\tTrain loss: 30.568 23.713 map valid loss: 51.235 valid r2 hr 0.880 valid r2 map 0.636\n",
      "\tTrain loss: 29.670 22.508 map valid loss: 46.167 valid r2 hr 0.884 valid r2 map 0.672\n",
      "\tTrain loss: 29.624 22.207 map valid loss: 49.578 valid r2 hr 0.882 valid r2 map 0.648\n",
      "\tTrain loss: 29.159 22.385 map valid loss: 54.367 valid r2 hr 0.883 valid r2 map 0.614\n",
      "\tTrain loss: 31.598 22.513 map valid loss: 52.652 valid r2 hr 0.873 valid r2 map 0.626\n"
     ]
    },
    {
     "data": {
      "application/vnd.jupyter.widget-view+json": {
       "model_id": "3213b9b67c1e42a4bc35750883ff54ab",
       "version_major": 2,
       "version_minor": 0
      },
      "text/plain": [
       "HBox(children=(FloatProgress(value=0.0, max=180.0), HTML(value='')))"
      ]
     },
     "metadata": {},
     "output_type": "display_data"
    },
    {
     "name": "stdout",
     "output_type": "stream",
     "text": [
      "\tTrain loss: 7215.035 6035.915 map valid loss: 8352.548 valid r2 hr -32.935 valid r2 map -58.359\n",
      "\tTrain loss: 6663.835 5247.517 map valid loss: 3363.876 valid r2 hr -18.029 valid r2 map -22.906\n",
      "\tTrain loss: 5291.560 3813.084 map valid loss: 1610.817 valid r2 hr -10.390 valid r2 map -10.448\n",
      "\tTrain loss: 3130.929 1855.327 map valid loss: 354.226 valid r2 hr -3.337 valid r2 map -1.517\n",
      "\tTrain loss: 1087.271 355.319 map valid loss: 104.419 valid r2 hr -0.128 valid r2 map 0.258\n",
      "\tTrain loss: 311.530 156.773 map valid loss: 458.150 valid r2 hr -0.933 valid r2 map -2.256\n",
      "\tTrain loss: 410.920 343.677 map valid loss: 249.722 valid r2 hr -0.851 valid r2 map -0.775\n",
      "\tTrain loss: 328.528 107.696 map valid loss: 39.591 valid r2 hr -0.081 valid r2 map 0.719\n",
      "\tTrain loss: 263.445 48.696 map valid loss: 87.252 valid r2 hr -0.034 valid r2 map 0.380\n",
      "\tTrain loss: 253.337 80.508 map valid loss: 75.988 valid r2 hr 0.039 valid r2 map 0.460\n",
      "\tTrain loss: 213.682 48.387 map valid loss: 40.426 valid r2 hr 0.262 valid r2 map 0.713\n",
      "\tTrain loss: 169.363 31.931 map valid loss: 46.452 valid r2 hr 0.436 valid r2 map 0.670\n",
      "\tTrain loss: 148.840 36.760 map valid loss: 46.615 valid r2 hr 0.558 valid r2 map 0.669\n",
      "\tTrain loss: 114.667 30.784 map valid loss: 41.370 valid r2 hr 0.640 valid r2 map 0.706\n",
      "\tTrain loss: 100.044 28.080 map valid loss: 40.402 valid r2 hr 0.667 valid r2 map 0.713\n",
      "\tTrain loss: 80.572 29.224 map valid loss: 40.182 valid r2 hr 0.717 valid r2 map 0.714\n",
      "\tTrain loss: 67.903 27.694 map valid loss: 41.981 valid r2 hr 0.616 valid r2 map 0.702\n",
      "\tTrain loss: 59.340 27.063 map valid loss: 43.628 valid r2 hr 0.680 valid r2 map 0.690\n",
      "\tTrain loss: 51.080 26.464 map valid loss: 50.857 valid r2 hr 0.654 valid r2 map 0.639\n",
      "\tTrain loss: 45.563 26.783 map valid loss: 45.572 valid r2 hr 0.752 valid r2 map 0.676\n",
      "\tTrain loss: 46.743 25.580 map valid loss: 42.268 valid r2 hr 0.820 valid r2 map 0.700\n",
      "\tTrain loss: 46.427 25.105 map valid loss: 41.032 valid r2 hr 0.839 valid r2 map 0.708\n",
      "\tTrain loss: 41.655 24.999 map valid loss: 42.685 valid r2 hr 0.837 valid r2 map 0.697\n",
      "\tTrain loss: 40.010 23.937 map valid loss: 44.830 valid r2 hr 0.849 valid r2 map 0.681\n",
      "\tTrain loss: 41.416 23.217 map valid loss: 44.102 valid r2 hr 0.850 valid r2 map 0.687\n",
      "\tTrain loss: 39.163 23.759 map valid loss: 41.794 valid r2 hr 0.849 valid r2 map 0.703\n",
      "\tTrain loss: 36.558 23.101 map valid loss: 43.422 valid r2 hr 0.852 valid r2 map 0.691\n",
      "\tTrain loss: 35.566 22.511 map valid loss: 45.943 valid r2 hr 0.835 valid r2 map 0.673\n",
      "\tTrain loss: 34.421 23.775 map valid loss: 49.855 valid r2 hr 0.802 valid r2 map 0.646\n",
      "\tTrain loss: 35.471 23.820 map valid loss: 52.946 valid r2 hr 0.812 valid r2 map 0.624\n"
     ]
    },
    {
     "data": {
      "application/vnd.jupyter.widget-view+json": {
       "model_id": "6bc5d295739d4720a1111f4ec9a8ea5d",
       "version_major": 2,
       "version_minor": 0
      },
      "text/plain": [
       "HBox(children=(FloatProgress(value=0.0, max=180.0), HTML(value='')))"
      ]
     },
     "metadata": {},
     "output_type": "display_data"
    },
    {
     "name": "stdout",
     "output_type": "stream",
     "text": [
      "\tTrain loss: 7187.771 6059.961 map valid loss: 6956.172 valid r2 hr -31.255 valid r2 map -48.435\n",
      "\tTrain loss: 6627.912 5325.561 map valid loss: 6094.250 valid r2 hr -27.136 valid r2 map -42.310\n",
      "\tTrain loss: 5239.959 3959.290 map valid loss: 2770.028 valid r2 hr -14.011 valid r2 map -18.686\n",
      "\tTrain loss: 3038.915 2010.149 map valid loss: 759.915 valid r2 hr -4.584 valid r2 map -4.400\n",
      "\tTrain loss: 992.098 426.774 map valid loss: 46.009 valid r2 hr -0.148 valid r2 map 0.673\n",
      "\tTrain loss: 290.717 138.474 map valid loss: 342.523 valid r2 hr -0.871 valid r2 map -1.434\n",
      "\tTrain loss: 490.054 345.043 map valid loss: 223.168 valid r2 hr -0.774 valid r2 map -0.586\n",
      "\tTrain loss: 326.061 117.578 map valid loss: 40.012 valid r2 hr 0.113 valid r2 map 0.716\n",
      "\tTrain loss: 227.347 45.422 map valid loss: 78.611 valid r2 hr 0.129 valid r2 map 0.441\n",
      "\tTrain loss: 220.916 77.957 map valid loss: 72.696 valid r2 hr 0.316 valid r2 map 0.483\n",
      "\tTrain loss: 157.814 49.427 map valid loss: 40.821 valid r2 hr 0.595 valid r2 map 0.710\n",
      "\tTrain loss: 105.059 31.661 map valid loss: 56.880 valid r2 hr 0.623 valid r2 map 0.596\n",
      "\tTrain loss: 78.487 37.262 map valid loss: 59.016 valid r2 hr 0.743 valid r2 map 0.581\n",
      "\tTrain loss: 53.893 31.084 map valid loss: 40.528 valid r2 hr 0.823 valid r2 map 0.712\n",
      "\tTrain loss: 45.292 28.087 map valid loss: 41.284 valid r2 hr 0.834 valid r2 map 0.707\n",
      "\tTrain loss: 41.242 29.840 map valid loss: 42.472 valid r2 hr 0.847 valid r2 map 0.698\n",
      "\tTrain loss: 35.809 27.698 map valid loss: 44.083 valid r2 hr 0.847 valid r2 map 0.687\n",
      "\tTrain loss: 33.074 27.621 map valid loss: 43.256 valid r2 hr 0.858 valid r2 map 0.693\n",
      "\tTrain loss: 33.535 27.222 map valid loss: 44.822 valid r2 hr 0.871 valid r2 map 0.681\n",
      "\tTrain loss: 31.100 25.560 map valid loss: 44.361 valid r2 hr 0.872 valid r2 map 0.685\n",
      "\tTrain loss: 31.242 24.528 map valid loss: 43.920 valid r2 hr 0.871 valid r2 map 0.688\n",
      "\tTrain loss: 31.179 24.444 map valid loss: 41.313 valid r2 hr 0.860 valid r2 map 0.706\n",
      "\tTrain loss: 30.973 24.072 map valid loss: 44.590 valid r2 hr 0.876 valid r2 map 0.683\n",
      "\tTrain loss: 30.857 23.885 map valid loss: 43.828 valid r2 hr 0.874 valid r2 map 0.689\n",
      "\tTrain loss: 30.799 22.366 map valid loss: 47.099 valid r2 hr 0.869 valid r2 map 0.665\n",
      "\tTrain loss: 29.608 23.962 map valid loss: 44.963 valid r2 hr 0.863 valid r2 map 0.680\n",
      "\tTrain loss: 30.752 22.564 map valid loss: 46.679 valid r2 hr 0.864 valid r2 map 0.668\n",
      "\tTrain loss: 30.062 22.782 map valid loss: 44.487 valid r2 hr 0.869 valid r2 map 0.684\n",
      "\tTrain loss: 30.676 22.622 map valid loss: 44.221 valid r2 hr 0.878 valid r2 map 0.686\n",
      "\tTrain loss: 30.449 22.056 map valid loss: 45.759 valid r2 hr 0.863 valid r2 map 0.675\n"
     ]
    },
    {
     "data": {
      "application/vnd.jupyter.widget-view+json": {
       "model_id": "370527fa659c4d53873c7fd2f2c2bdc5",
       "version_major": 2,
       "version_minor": 0
      },
      "text/plain": [
       "HBox(children=(FloatProgress(value=0.0, max=180.0), HTML(value='')))"
      ]
     },
     "metadata": {},
     "output_type": "display_data"
    },
    {
     "name": "stdout",
     "output_type": "stream",
     "text": [
      "\tTrain loss: 7200.503 6053.596 map valid loss: 6204.817 valid r2 hr -28.785 valid r2 map -43.095\n",
      "\tTrain loss: 6667.239 5290.302 map valid loss: 4197.702 valid r2 hr -21.530 valid r2 map -28.832\n",
      "\tTrain loss: 5293.731 3889.075 map valid loss: 1782.693 valid r2 hr -11.207 valid r2 map -11.669\n",
      "\tTrain loss: 3160.105 1948.132 map valid loss: 734.368 valid r2 hr -5.188 valid r2 map -4.219\n",
      "\tTrain loss: 1055.587 388.614 map valid loss: 49.703 valid r2 hr -0.215 valid r2 map 0.647\n",
      "\tTrain loss: 297.178 151.624 map valid loss: 525.427 valid r2 hr -1.342 valid r2 map -2.734\n",
      "\tTrain loss: 461.782 344.187 map valid loss: 278.761 valid r2 hr -0.988 valid r2 map -0.981\n",
      "\tTrain loss: 334.043 109.584 map valid loss: 40.169 valid r2 hr -0.027 valid r2 map 0.715\n",
      "\tTrain loss: 255.791 49.894 map valid loss: 79.855 valid r2 hr -0.100 valid r2 map 0.432\n",
      "\tTrain loss: 271.847 81.597 map valid loss: 61.310 valid r2 hr 0.122 valid r2 map 0.564\n",
      "\tTrain loss: 227.581 49.264 map valid loss: 40.562 valid r2 hr 0.331 valid r2 map 0.712\n",
      "\tTrain loss: 175.081 32.807 map valid loss: 49.242 valid r2 hr 0.442 valid r2 map 0.650\n",
      "\tTrain loss: 144.084 37.247 map valid loss: 45.015 valid r2 hr 0.602 valid r2 map 0.680\n",
      "\tTrain loss: 111.789 31.687 map valid loss: 40.256 valid r2 hr 0.693 valid r2 map 0.714\n",
      "\tTrain loss: 87.367 28.866 map valid loss: 41.682 valid r2 hr 0.769 valid r2 map 0.704\n",
      "\tTrain loss: 66.139 28.548 map valid loss: 42.467 valid r2 hr 0.812 valid r2 map 0.698\n",
      "\tTrain loss: 49.222 27.096 map valid loss: 42.483 valid r2 hr 0.858 valid r2 map 0.698\n",
      "\tTrain loss: 38.542 27.440 map valid loss: 44.016 valid r2 hr 0.879 valid r2 map 0.687\n",
      "\tTrain loss: 33.124 25.707 map valid loss: 44.364 valid r2 hr 0.866 valid r2 map 0.685\n",
      "\tTrain loss: 32.205 25.544 map valid loss: 43.975 valid r2 hr 0.870 valid r2 map 0.687\n",
      "\tTrain loss: 30.674 25.769 map valid loss: 45.560 valid r2 hr 0.885 valid r2 map 0.676\n",
      "\tTrain loss: 30.356 24.323 map valid loss: 47.209 valid r2 hr 0.881 valid r2 map 0.665\n",
      "\tTrain loss: 32.789 23.943 map valid loss: 47.495 valid r2 hr 0.879 valid r2 map 0.662\n",
      "\tTrain loss: 31.516 24.798 map valid loss: 49.429 valid r2 hr 0.876 valid r2 map 0.649\n",
      "\tTrain loss: 30.271 23.200 map valid loss: 47.743 valid r2 hr 0.879 valid r2 map 0.661\n",
      "\tTrain loss: 29.270 22.344 map valid loss: 46.901 valid r2 hr 0.878 valid r2 map 0.667\n",
      "\tTrain loss: 30.467 21.323 map valid loss: 48.150 valid r2 hr 0.873 valid r2 map 0.658\n",
      "\tTrain loss: 31.389 21.221 map valid loss: 47.880 valid r2 hr 0.872 valid r2 map 0.660\n",
      "\tTrain loss: 31.164 21.139 map valid loss: 50.586 valid r2 hr 0.878 valid r2 map 0.640\n",
      "\tTrain loss: 32.164 20.986 map valid loss: 49.207 valid r2 hr 0.874 valid r2 map 0.650\n"
     ]
    },
    {
     "data": {
      "application/vnd.jupyter.widget-view+json": {
       "model_id": "024910a7f3f34c018a4abfd103da0470",
       "version_major": 2,
       "version_minor": 0
      },
      "text/plain": [
       "HBox(children=(FloatProgress(value=0.0, max=180.0), HTML(value='')))"
      ]
     },
     "metadata": {},
     "output_type": "display_data"
    },
    {
     "name": "stdout",
     "output_type": "stream",
     "text": [
      "\tTrain loss: 7184.370 6023.080 map valid loss: 8037.458 valid r2 hr -33.888 valid r2 map -56.119\n",
      "\tTrain loss: 6633.377 5263.913 map valid loss: 6209.045 valid r2 hr -28.213 valid r2 map -43.126\n",
      "\tTrain loss: 5264.198 3843.212 map valid loss: 3345.402 valid r2 hr -17.588 valid r2 map -22.775\n",
      "\tTrain loss: 3079.189 1881.103 map valid loss: 807.444 valid r2 hr -5.394 valid r2 map -4.738\n",
      "\tTrain loss: 1045.348 365.311 map valid loss: 49.909 valid r2 hr -0.498 valid r2 map 0.645\n",
      "\tTrain loss: 318.969 151.231 map valid loss: 328.686 valid r2 hr -0.680 valid r2 map -1.336\n",
      "\tTrain loss: 442.610 341.339 map valid loss: 241.111 valid r2 hr -0.830 valid r2 map -0.713\n",
      "\tTrain loss: 340.896 105.113 map valid loss: 39.022 valid r2 hr -0.059 valid r2 map 0.723\n",
      "/data2/yinterian/multi-task-romain/models/model0_60min_r2_-6_72.pth\n",
      "\tTrain loss: 272.727 49.623 map valid loss: 86.015 valid r2 hr -0.067 valid r2 map 0.389\n",
      "\tTrain loss: 282.945 77.919 map valid loss: 59.429 valid r2 hr 0.024 valid r2 map 0.578\n",
      "\tTrain loss: 245.975 45.873 map valid loss: 39.952 valid r2 hr 0.162 valid r2 map 0.716\n",
      "\tTrain loss: 202.279 31.826 map valid loss: 54.224 valid r2 hr 0.247 valid r2 map 0.615\n",
      "\tTrain loss: 163.221 37.564 map valid loss: 47.177 valid r2 hr 0.493 valid r2 map 0.665\n",
      "\tTrain loss: 123.776 30.625 map valid loss: 39.841 valid r2 hr 0.617 valid r2 map 0.717\n",
      "\tTrain loss: 94.779 28.137 map valid loss: 39.936 valid r2 hr 0.752 valid r2 map 0.716\n",
      "\tTrain loss: 72.037 28.718 map valid loss: 41.236 valid r2 hr 0.819 valid r2 map 0.707\n",
      "\tTrain loss: 51.101 26.753 map valid loss: 42.088 valid r2 hr 0.851 valid r2 map 0.701\n",
      "\tTrain loss: 40.115 26.705 map valid loss: 42.888 valid r2 hr 0.864 valid r2 map 0.695\n",
      "\tTrain loss: 36.029 26.183 map valid loss: 41.537 valid r2 hr 0.880 valid r2 map 0.705\n",
      "\tTrain loss: 33.063 24.808 map valid loss: 42.733 valid r2 hr 0.883 valid r2 map 0.696\n",
      "\tTrain loss: 32.230 24.362 map valid loss: 42.704 valid r2 hr 0.874 valid r2 map 0.697\n",
      "\tTrain loss: 32.486 24.440 map valid loss: 43.393 valid r2 hr 0.880 valid r2 map 0.692\n",
      "\tTrain loss: 30.948 23.763 map valid loss: 44.463 valid r2 hr 0.887 valid r2 map 0.684\n",
      "\tTrain loss: 31.376 24.127 map valid loss: 43.131 valid r2 hr 0.886 valid r2 map 0.693\n",
      "\tTrain loss: 32.012 24.083 map valid loss: 45.615 valid r2 hr 0.870 valid r2 map 0.676\n",
      "\tTrain loss: 31.568 24.082 map valid loss: 42.285 valid r2 hr 0.887 valid r2 map 0.699\n",
      "\tTrain loss: 30.442 22.926 map valid loss: 45.241 valid r2 hr 0.882 valid r2 map 0.678\n",
      "\tTrain loss: 29.123 22.812 map valid loss: 43.259 valid r2 hr 0.868 valid r2 map 0.693\n",
      "\tTrain loss: 31.875 22.513 map valid loss: 46.891 valid r2 hr 0.883 valid r2 map 0.667\n",
      "\tTrain loss: 30.016 23.148 map valid loss: 44.876 valid r2 hr 0.888 valid r2 map 0.681\n"
     ]
    },
    {
     "data": {
      "text/plain": [
       "0.722684669085427"
      ]
     },
     "execution_count": 11,
     "metadata": {},
     "output_type": "execute_result"
    }
   ],
   "source": [
    "multiple_runs(num_subjects, C=1/15, basename=\"model0_60min\")"
   ]
  },
  {
   "cell_type": "markdown",
   "metadata": {},
   "source": [
    "## Single model"
   ]
  },
  {
   "cell_type": "code",
   "execution_count": 9,
   "metadata": {},
   "outputs": [
    {
     "data": {
      "application/vnd.jupyter.widget-view+json": {
       "model_id": "b05cf2db905c43ca8849cc9bbf780686",
       "version_major": 2,
       "version_minor": 0
      },
      "text/plain": [
       "HBox(children=(FloatProgress(value=0.0, max=180.0), HTML(value='')))"
      ]
     },
     "metadata": {},
     "output_type": "display_data"
    },
    {
     "name": "stdout",
     "output_type": "stream",
     "text": [
      "\tTrain loss: 0.000 6024.377 map valid loss: 11348.660 valid r2 hr 0.000 valid r2 map -79.651\n",
      "\tTrain loss: 0.000 5241.576 map valid loss: 6703.465 valid r2 hr 0.000 valid r2 map -46.639\n",
      "\tTrain loss: 0.000 3856.659 map valid loss: 3869.840 valid r2 hr 0.000 valid r2 map -26.502\n",
      "\tTrain loss: 0.000 1975.632 map valid loss: 650.805 valid r2 hr 0.000 valid r2 map -3.625\n",
      "\tTrain loss: 0.000 355.626 map valid loss: 48.108 valid r2 hr 0.000 valid r2 map 0.658\n",
      "\tTrain loss: 0.000 163.061 map valid loss: 373.988 valid r2 hr 0.000 valid r2 map -1.658\n",
      "\tTrain loss: 0.000 323.417 map valid loss: 193.616 valid r2 hr 0.000 valid r2 map -0.376\n",
      "\tTrain loss: 0.000 88.898 map valid loss: 48.012 valid r2 hr 0.000 valid r2 map 0.659\n",
      "\tTrain loss: 0.000 55.673 map valid loss: 86.930 valid r2 hr 0.000 valid r2 map 0.382\n",
      "\tTrain loss: 0.000 78.246 map valid loss: 65.052 valid r2 hr 0.000 valid r2 map 0.538\n",
      "\tTrain loss: 0.000 41.778 map valid loss: 43.376 valid r2 hr 0.000 valid r2 map 0.692\n",
      "\tTrain loss: 0.000 34.845 map valid loss: 49.852 valid r2 hr 0.000 valid r2 map 0.646\n",
      "\tTrain loss: 0.000 38.120 map valid loss: 42.507 valid r2 hr 0.000 valid r2 map 0.698\n",
      "\tTrain loss: 0.000 29.673 map valid loss: 42.866 valid r2 hr 0.000 valid r2 map 0.695\n",
      "\tTrain loss: 0.000 30.402 map valid loss: 44.363 valid r2 hr 0.000 valid r2 map 0.685\n",
      "\tTrain loss: 0.000 29.641 map valid loss: 41.517 valid r2 hr 0.000 valid r2 map 0.705\n",
      "/data2/yinterian/multi-task-romain/models/model0_single_60min_r2_0_70.pth\n",
      "\tTrain loss: 0.000 27.411 map valid loss: 43.722 valid r2 hr 0.000 valid r2 map 0.689\n",
      "\tTrain loss: 0.000 27.407 map valid loss: 40.525 valid r2 hr 0.000 valid r2 map 0.712\n",
      "/data2/yinterian/multi-task-romain/models/model0_single_60min_r2_0_71.pth\n",
      "\tTrain loss: 0.000 27.630 map valid loss: 41.086 valid r2 hr 0.000 valid r2 map 0.708\n",
      "\tTrain loss: 0.000 27.120 map valid loss: 43.085 valid r2 hr 0.000 valid r2 map 0.694\n",
      "\tTrain loss: 0.000 27.189 map valid loss: 41.024 valid r2 hr 0.000 valid r2 map 0.708\n",
      "\tTrain loss: 0.000 26.306 map valid loss: 42.153 valid r2 hr 0.000 valid r2 map 0.700\n",
      "\tTrain loss: 0.000 26.491 map valid loss: 41.498 valid r2 hr 0.000 valid r2 map 0.705\n",
      "\tTrain loss: 0.000 25.387 map valid loss: 42.184 valid r2 hr 0.000 valid r2 map 0.700\n",
      "\tTrain loss: 0.000 24.544 map valid loss: 41.910 valid r2 hr 0.000 valid r2 map 0.702\n",
      "\tTrain loss: 0.000 25.545 map valid loss: 43.039 valid r2 hr 0.000 valid r2 map 0.694\n",
      "\tTrain loss: 0.000 24.569 map valid loss: 41.975 valid r2 hr 0.000 valid r2 map 0.702\n",
      "\tTrain loss: 0.000 24.816 map valid loss: 42.351 valid r2 hr 0.000 valid r2 map 0.699\n",
      "\tTrain loss: 0.000 23.306 map valid loss: 41.567 valid r2 hr 0.000 valid r2 map 0.705\n",
      "\tTrain loss: 0.000 23.539 map valid loss: 42.539 valid r2 hr 0.000 valid r2 map 0.698\n"
     ]
    },
    {
     "data": {
      "application/vnd.jupyter.widget-view+json": {
       "model_id": "3cb9135bd9a34384ba238912f519dc18",
       "version_major": 2,
       "version_minor": 0
      },
      "text/plain": [
       "HBox(children=(FloatProgress(value=0.0, max=180.0), HTML(value='')))"
      ]
     },
     "metadata": {},
     "output_type": "display_data"
    },
    {
     "name": "stdout",
     "output_type": "stream",
     "text": [
      "\tTrain loss: 0.000 6087.795 map valid loss: 8872.433 valid r2 hr 0.000 valid r2 map -62.053\n",
      "\tTrain loss: 0.000 5339.178 map valid loss: 7377.913 valid r2 hr 0.000 valid r2 map -51.432\n",
      "\tTrain loss: 0.000 3977.190 map valid loss: 5388.969 valid r2 hr 0.000 valid r2 map -37.298\n",
      "\tTrain loss: 0.000 2032.424 map valid loss: 1083.712 valid r2 hr 0.000 valid r2 map -6.702\n",
      "\tTrain loss: 0.000 436.417 map valid loss: 78.044 valid r2 hr 0.000 valid r2 map 0.445\n",
      "\tTrain loss: 0.000 128.863 map valid loss: 264.013 valid r2 hr 0.000 valid r2 map -0.876\n",
      "\tTrain loss: 0.000 337.151 map valid loss: 188.237 valid r2 hr 0.000 valid r2 map -0.338\n",
      "\tTrain loss: 0.000 115.178 map valid loss: 43.698 valid r2 hr 0.000 valid r2 map 0.689\n",
      "\tTrain loss: 0.000 46.835 map valid loss: 81.048 valid r2 hr 0.000 valid r2 map 0.424\n",
      "\tTrain loss: 0.000 77.379 map valid loss: 72.278 valid r2 hr 0.000 valid r2 map 0.486\n",
      "\tTrain loss: 0.000 48.275 map valid loss: 41.844 valid r2 hr 0.000 valid r2 map 0.703\n",
      "\tTrain loss: 0.000 31.174 map valid loss: 54.547 valid r2 hr 0.000 valid r2 map 0.612\n",
      "\tTrain loss: 0.000 36.161 map valid loss: 47.888 valid r2 hr 0.000 valid r2 map 0.660\n",
      "\tTrain loss: 0.000 30.302 map valid loss: 45.606 valid r2 hr 0.000 valid r2 map 0.676\n",
      "\tTrain loss: 0.000 27.496 map valid loss: 44.785 valid r2 hr 0.000 valid r2 map 0.682\n",
      "\tTrain loss: 0.000 26.451 map valid loss: 45.127 valid r2 hr 0.000 valid r2 map 0.679\n",
      "\tTrain loss: 0.000 26.420 map valid loss: 48.638 valid r2 hr 0.000 valid r2 map 0.654\n",
      "\tTrain loss: 0.000 24.954 map valid loss: 48.566 valid r2 hr 0.000 valid r2 map 0.655\n",
      "\tTrain loss: 0.000 24.807 map valid loss: 51.755 valid r2 hr 0.000 valid r2 map 0.632\n",
      "\tTrain loss: 0.000 24.094 map valid loss: 47.691 valid r2 hr 0.000 valid r2 map 0.661\n",
      "\tTrain loss: 0.000 23.812 map valid loss: 47.754 valid r2 hr 0.000 valid r2 map 0.661\n",
      "\tTrain loss: 0.000 22.868 map valid loss: 50.681 valid r2 hr 0.000 valid r2 map 0.640\n",
      "\tTrain loss: 0.000 21.950 map valid loss: 47.515 valid r2 hr 0.000 valid r2 map 0.662\n",
      "\tTrain loss: 0.000 22.008 map valid loss: 55.788 valid r2 hr 0.000 valid r2 map 0.604\n",
      "\tTrain loss: 0.000 21.828 map valid loss: 49.191 valid r2 hr 0.000 valid r2 map 0.650\n",
      "\tTrain loss: 0.000 21.735 map valid loss: 52.944 valid r2 hr 0.000 valid r2 map 0.624\n",
      "\tTrain loss: 0.000 20.887 map valid loss: 52.384 valid r2 hr 0.000 valid r2 map 0.628\n",
      "\tTrain loss: 0.000 21.165 map valid loss: 47.578 valid r2 hr 0.000 valid r2 map 0.662\n",
      "\tTrain loss: 0.000 20.982 map valid loss: 47.734 valid r2 hr 0.000 valid r2 map 0.661\n",
      "\tTrain loss: 0.000 21.501 map valid loss: 46.768 valid r2 hr 0.000 valid r2 map 0.668\n"
     ]
    },
    {
     "data": {
      "application/vnd.jupyter.widget-view+json": {
       "model_id": "7d0e8f83121e4086b659b143f8a8721d",
       "version_major": 2,
       "version_minor": 0
      },
      "text/plain": [
       "HBox(children=(FloatProgress(value=0.0, max=180.0), HTML(value='')))"
      ]
     },
     "metadata": {},
     "output_type": "display_data"
    },
    {
     "name": "stdout",
     "output_type": "stream",
     "text": [
      "\tTrain loss: 0.000 6057.256 map valid loss: 7523.715 valid r2 hr 0.000 valid r2 map -52.468\n",
      "\tTrain loss: 0.000 5338.902 map valid loss: 7933.067 valid r2 hr 0.000 valid r2 map -55.378\n",
      "\tTrain loss: 0.000 3951.308 map valid loss: 3219.926 valid r2 hr 0.000 valid r2 map -21.883\n",
      "\tTrain loss: 0.000 1995.545 map valid loss: 750.025 valid r2 hr 0.000 valid r2 map -4.330\n",
      "\tTrain loss: 0.000 417.623 map valid loss: 58.141 valid r2 hr 0.000 valid r2 map 0.587\n",
      "\tTrain loss: 0.000 129.954 map valid loss: 314.309 valid r2 hr 0.000 valid r2 map -1.234\n",
      "\tTrain loss: 0.000 332.394 map valid loss: 194.620 valid r2 hr 0.000 valid r2 map -0.383\n",
      "\tTrain loss: 0.000 114.121 map valid loss: 40.239 valid r2 hr 0.000 valid r2 map 0.714\n",
      "/data2/yinterian/multi-task-romain/models/model0_single_60min_r2_0_71.pth\n",
      "\tTrain loss: 0.000 45.531 map valid loss: 88.428 valid r2 hr 0.000 valid r2 map 0.372\n",
      "\tTrain loss: 0.000 76.443 map valid loss: 76.587 valid r2 hr 0.000 valid r2 map 0.456\n",
      "\tTrain loss: 0.000 47.661 map valid loss: 41.763 valid r2 hr 0.000 valid r2 map 0.703\n",
      "\tTrain loss: 0.000 31.781 map valid loss: 45.645 valid r2 hr 0.000 valid r2 map 0.676\n",
      "\tTrain loss: 0.000 37.473 map valid loss: 51.798 valid r2 hr 0.000 valid r2 map 0.632\n",
      "\tTrain loss: 0.000 30.459 map valid loss: 42.294 valid r2 hr 0.000 valid r2 map 0.699\n",
      "\tTrain loss: 0.000 27.442 map valid loss: 43.430 valid r2 hr 0.000 valid r2 map 0.691\n",
      "\tTrain loss: 0.000 28.330 map valid loss: 41.146 valid r2 hr 0.000 valid r2 map 0.708\n",
      "\tTrain loss: 0.000 27.191 map valid loss: 41.592 valid r2 hr 0.000 valid r2 map 0.704\n",
      "\tTrain loss: 0.000 26.000 map valid loss: 42.399 valid r2 hr 0.000 valid r2 map 0.699\n",
      "\tTrain loss: 0.000 24.976 map valid loss: 41.855 valid r2 hr 0.000 valid r2 map 0.703\n",
      "\tTrain loss: 0.000 24.588 map valid loss: 42.371 valid r2 hr 0.000 valid r2 map 0.699\n",
      "\tTrain loss: 0.000 25.027 map valid loss: 46.966 valid r2 hr 0.000 valid r2 map 0.666\n",
      "\tTrain loss: 0.000 23.865 map valid loss: 41.296 valid r2 hr 0.000 valid r2 map 0.707\n",
      "\tTrain loss: 0.000 22.780 map valid loss: 43.129 valid r2 hr 0.000 valid r2 map 0.693\n",
      "\tTrain loss: 0.000 23.027 map valid loss: 41.721 valid r2 hr 0.000 valid r2 map 0.704\n",
      "\tTrain loss: 0.000 23.650 map valid loss: 43.106 valid r2 hr 0.000 valid r2 map 0.694\n",
      "\tTrain loss: 0.000 23.036 map valid loss: 47.617 valid r2 hr 0.000 valid r2 map 0.662\n",
      "\tTrain loss: 0.000 23.031 map valid loss: 42.807 valid r2 hr 0.000 valid r2 map 0.696\n",
      "\tTrain loss: 0.000 21.733 map valid loss: 45.600 valid r2 hr 0.000 valid r2 map 0.676\n",
      "\tTrain loss: 0.000 21.847 map valid loss: 44.456 valid r2 hr 0.000 valid r2 map 0.684\n",
      "\tTrain loss: 0.000 20.398 map valid loss: 43.714 valid r2 hr 0.000 valid r2 map 0.689\n"
     ]
    },
    {
     "data": {
      "application/vnd.jupyter.widget-view+json": {
       "model_id": "00521c4c55994faab6d2a42ef2c6ae46",
       "version_major": 2,
       "version_minor": 0
      },
      "text/plain": [
       "HBox(children=(FloatProgress(value=0.0, max=180.0), HTML(value='')))"
      ]
     },
     "metadata": {},
     "output_type": "display_data"
    },
    {
     "name": "stdout",
     "output_type": "stream",
     "text": [
      "\tTrain loss: 0.000 6074.118 map valid loss: 15566.765 valid r2 hr 0.000 valid r2 map -109.628\n",
      "\tTrain loss: 0.000 5318.971 map valid loss: 10367.690 valid r2 hr 0.000 valid r2 map -72.680\n",
      "\tTrain loss: 0.000 3890.846 map valid loss: 3329.957 valid r2 hr 0.000 valid r2 map -22.665\n",
      "\tTrain loss: 0.000 1901.494 map valid loss: 553.033 valid r2 hr 0.000 valid r2 map -2.930\n",
      "\tTrain loss: 0.000 371.405 map valid loss: 80.698 valid r2 hr 0.000 valid r2 map 0.427\n",
      "\tTrain loss: 0.000 146.733 map valid loss: 521.428 valid r2 hr 0.000 valid r2 map -2.706\n",
      "\tTrain loss: 0.000 332.240 map valid loss: 219.399 valid r2 hr 0.000 valid r2 map -0.559\n",
      "\tTrain loss: 0.000 103.397 map valid loss: 39.620 valid r2 hr 0.000 valid r2 map 0.718\n",
      "/data2/yinterian/multi-task-romain/models/model0_single_60min_r2_0_72.pth\n",
      "\tTrain loss: 0.000 47.977 map valid loss: 81.579 valid r2 hr 0.000 valid r2 map 0.420\n",
      "\tTrain loss: 0.000 78.534 map valid loss: 66.528 valid r2 hr 0.000 valid r2 map 0.527\n",
      "\tTrain loss: 0.000 46.107 map valid loss: 40.584 valid r2 hr 0.000 valid r2 map 0.712\n",
      "\tTrain loss: 0.000 31.659 map valid loss: 53.991 valid r2 hr 0.000 valid r2 map 0.616\n",
      "\tTrain loss: 0.000 37.346 map valid loss: 46.603 valid r2 hr 0.000 valid r2 map 0.669\n",
      "\tTrain loss: 0.000 30.182 map valid loss: 43.854 valid r2 hr 0.000 valid r2 map 0.688\n",
      "\tTrain loss: 0.000 28.534 map valid loss: 43.693 valid r2 hr 0.000 valid r2 map 0.689\n",
      "\tTrain loss: 0.000 28.678 map valid loss: 45.312 valid r2 hr 0.000 valid r2 map 0.678\n",
      "\tTrain loss: 0.000 27.319 map valid loss: 43.409 valid r2 hr 0.000 valid r2 map 0.692\n",
      "\tTrain loss: 0.000 26.604 map valid loss: 42.749 valid r2 hr 0.000 valid r2 map 0.696\n",
      "\tTrain loss: 0.000 26.318 map valid loss: 42.412 valid r2 hr 0.000 valid r2 map 0.699\n",
      "\tTrain loss: 0.000 25.754 map valid loss: 45.738 valid r2 hr 0.000 valid r2 map 0.675\n",
      "\tTrain loss: 0.000 25.132 map valid loss: 41.606 valid r2 hr 0.000 valid r2 map 0.704\n",
      "\tTrain loss: 0.000 25.329 map valid loss: 42.915 valid r2 hr 0.000 valid r2 map 0.695\n",
      "\tTrain loss: 0.000 24.481 map valid loss: 43.684 valid r2 hr 0.000 valid r2 map 0.690\n",
      "\tTrain loss: 0.000 23.797 map valid loss: 45.254 valid r2 hr 0.000 valid r2 map 0.678\n",
      "\tTrain loss: 0.000 24.686 map valid loss: 43.928 valid r2 hr 0.000 valid r2 map 0.688\n",
      "\tTrain loss: 0.000 23.672 map valid loss: 43.532 valid r2 hr 0.000 valid r2 map 0.691\n",
      "\tTrain loss: 0.000 22.997 map valid loss: 44.319 valid r2 hr 0.000 valid r2 map 0.685\n",
      "\tTrain loss: 0.000 23.612 map valid loss: 44.707 valid r2 hr 0.000 valid r2 map 0.682\n",
      "\tTrain loss: 0.000 22.726 map valid loss: 43.308 valid r2 hr 0.000 valid r2 map 0.692\n",
      "\tTrain loss: 0.000 23.017 map valid loss: 43.845 valid r2 hr 0.000 valid r2 map 0.688\n"
     ]
    },
    {
     "data": {
      "application/vnd.jupyter.widget-view+json": {
       "model_id": "44528ffd30f54f97bfb107c4ff72b101",
       "version_major": 2,
       "version_minor": 0
      },
      "text/plain": [
       "HBox(children=(FloatProgress(value=0.0, max=180.0), HTML(value='')))"
      ]
     },
     "metadata": {},
     "output_type": "display_data"
    },
    {
     "name": "stdout",
     "output_type": "stream",
     "text": [
      "\tTrain loss: 0.000 6027.938 map valid loss: 6839.766 valid r2 hr 0.000 valid r2 map -47.608\n",
      "\tTrain loss: 0.000 5249.724 map valid loss: 4578.313 valid r2 hr 0.000 valid r2 map -31.536\n",
      "\tTrain loss: 0.000 3847.518 map valid loss: 1893.974 valid r2 hr 0.000 valid r2 map -12.460\n",
      "\tTrain loss: 0.000 1913.022 map valid loss: 578.421 valid r2 hr 0.000 valid r2 map -3.111\n",
      "\tTrain loss: 0.000 352.389 map valid loss: 51.272 valid r2 hr 0.000 valid r2 map 0.636\n",
      "\tTrain loss: 0.000 161.538 map valid loss: 354.573 valid r2 hr 0.000 valid r2 map -1.520\n",
      "\tTrain loss: 0.000 322.701 map valid loss: 134.092 valid r2 hr 0.000 valid r2 map 0.047\n",
      "\tTrain loss: 0.000 93.762 map valid loss: 44.730 valid r2 hr 0.000 valid r2 map 0.682\n",
      "\tTrain loss: 0.000 51.229 map valid loss: 101.751 valid r2 hr 0.000 valid r2 map 0.277\n",
      "\tTrain loss: 0.000 78.736 map valid loss: 63.808 valid r2 hr 0.000 valid r2 map 0.547\n",
      "\tTrain loss: 0.000 43.930 map valid loss: 39.249 valid r2 hr 0.000 valid r2 map 0.721\n",
      "/data2/yinterian/multi-task-romain/models/model0_single_60min_r2_0_72.pth\n",
      "\tTrain loss: 0.000 32.936 map valid loss: 45.781 valid r2 hr 0.000 valid r2 map 0.675\n",
      "\tTrain loss: 0.000 37.178 map valid loss: 42.683 valid r2 hr 0.000 valid r2 map 0.697\n",
      "\tTrain loss: 0.000 30.817 map valid loss: 40.663 valid r2 hr 0.000 valid r2 map 0.711\n",
      "\tTrain loss: 0.000 29.063 map valid loss: 40.847 valid r2 hr 0.000 valid r2 map 0.710\n",
      "\tTrain loss: 0.000 29.125 map valid loss: 41.011 valid r2 hr 0.000 valid r2 map 0.709\n",
      "\tTrain loss: 0.000 27.435 map valid loss: 41.935 valid r2 hr 0.000 valid r2 map 0.702\n",
      "\tTrain loss: 0.000 26.977 map valid loss: 39.384 valid r2 hr 0.000 valid r2 map 0.720\n",
      "\tTrain loss: 0.000 26.434 map valid loss: 38.975 valid r2 hr 0.000 valid r2 map 0.723\n",
      "/data2/yinterian/multi-task-romain/models/model0_single_60min_r2_0_72.pth\n",
      "\tTrain loss: 0.000 26.047 map valid loss: 41.454 valid r2 hr 0.000 valid r2 map 0.705\n",
      "\tTrain loss: 0.000 25.667 map valid loss: 42.159 valid r2 hr 0.000 valid r2 map 0.700\n",
      "\tTrain loss: 0.000 24.540 map valid loss: 45.658 valid r2 hr 0.000 valid r2 map 0.676\n",
      "\tTrain loss: 0.000 24.698 map valid loss: 41.719 valid r2 hr 0.000 valid r2 map 0.704\n",
      "\tTrain loss: 0.000 23.783 map valid loss: 42.945 valid r2 hr 0.000 valid r2 map 0.695\n",
      "\tTrain loss: 0.000 24.097 map valid loss: 39.016 valid r2 hr 0.000 valid r2 map 0.723\n",
      "\tTrain loss: 0.000 23.267 map valid loss: 41.117 valid r2 hr 0.000 valid r2 map 0.708\n",
      "\tTrain loss: 0.000 23.423 map valid loss: 39.355 valid r2 hr 0.000 valid r2 map 0.720\n",
      "\tTrain loss: 0.000 22.723 map valid loss: 52.771 valid r2 hr 0.000 valid r2 map 0.625\n",
      "\tTrain loss: 0.000 22.221 map valid loss: 43.668 valid r2 hr 0.000 valid r2 map 0.690\n",
      "\tTrain loss: 0.000 22.399 map valid loss: 45.670 valid r2 hr 0.000 valid r2 map 0.675\n"
     ]
    },
    {
     "data": {
      "application/vnd.jupyter.widget-view+json": {
       "model_id": "044400a5bfff428c9b1d552886a0584e",
       "version_major": 2,
       "version_minor": 0
      },
      "text/plain": [
       "HBox(children=(FloatProgress(value=0.0, max=180.0), HTML(value='')))"
      ]
     },
     "metadata": {},
     "output_type": "display_data"
    },
    {
     "name": "stdout",
     "output_type": "stream",
     "text": [
      "\tTrain loss: 0.000 6052.418 map valid loss: 13999.306 valid r2 hr 0.000 valid r2 map -98.488\n",
      "\tTrain loss: 0.000 5246.442 map valid loss: 7965.687 valid r2 hr 0.000 valid r2 map -55.609\n",
      "\tTrain loss: 0.000 3795.959 map valid loss: 2951.953 valid r2 hr 0.000 valid r2 map -19.979\n",
      "\tTrain loss: 0.000 1805.049 map valid loss: 917.820 valid r2 hr 0.000 valid r2 map -5.523\n",
      "\tTrain loss: 0.000 315.543 map valid loss: 41.632 valid r2 hr 0.000 valid r2 map 0.704\n",
      "\tTrain loss: 0.000 168.846 map valid loss: 271.553 valid r2 hr 0.000 valid r2 map -0.930\n",
      "\tTrain loss: 0.000 323.311 map valid loss: 127.512 valid r2 hr 0.000 valid r2 map 0.094\n",
      "\tTrain loss: 0.000 90.571 map valid loss: 44.337 valid r2 hr 0.000 valid r2 map 0.685\n",
      "\tTrain loss: 0.000 53.503 map valid loss: 100.529 valid r2 hr 0.000 valid r2 map 0.286\n",
      "\tTrain loss: 0.000 80.086 map valid loss: 67.071 valid r2 hr 0.000 valid r2 map 0.523\n",
      "\tTrain loss: 0.000 43.489 map valid loss: 40.111 valid r2 hr 0.000 valid r2 map 0.715\n",
      "\tTrain loss: 0.000 33.450 map valid loss: 47.690 valid r2 hr 0.000 valid r2 map 0.661\n",
      "\tTrain loss: 0.000 36.281 map valid loss: 41.884 valid r2 hr 0.000 valid r2 map 0.702\n",
      "\tTrain loss: 0.000 30.832 map valid loss: 41.110 valid r2 hr 0.000 valid r2 map 0.708\n",
      "\tTrain loss: 0.000 28.716 map valid loss: 39.523 valid r2 hr 0.000 valid r2 map 0.719\n",
      "\tTrain loss: 0.000 29.430 map valid loss: 40.222 valid r2 hr 0.000 valid r2 map 0.714\n",
      "\tTrain loss: 0.000 26.834 map valid loss: 76.144 valid r2 hr 0.000 valid r2 map 0.459\n",
      "\tTrain loss: 0.000 27.085 map valid loss: 42.183 valid r2 hr 0.000 valid r2 map 0.700\n",
      "\tTrain loss: 0.000 26.673 map valid loss: 41.261 valid r2 hr 0.000 valid r2 map 0.707\n",
      "\tTrain loss: 0.000 25.805 map valid loss: 40.442 valid r2 hr 0.000 valid r2 map 0.713\n",
      "\tTrain loss: 0.000 26.102 map valid loss: 39.625 valid r2 hr 0.000 valid r2 map 0.718\n",
      "\tTrain loss: 0.000 25.014 map valid loss: 42.309 valid r2 hr 0.000 valid r2 map 0.699\n",
      "\tTrain loss: 0.000 24.582 map valid loss: 41.638 valid r2 hr 0.000 valid r2 map 0.704\n",
      "\tTrain loss: 0.000 23.766 map valid loss: 41.168 valid r2 hr 0.000 valid r2 map 0.707\n",
      "\tTrain loss: 0.000 23.741 map valid loss: 40.665 valid r2 hr 0.000 valid r2 map 0.711\n",
      "\tTrain loss: 0.000 23.038 map valid loss: 41.730 valid r2 hr 0.000 valid r2 map 0.703\n",
      "\tTrain loss: 0.000 22.779 map valid loss: 40.243 valid r2 hr 0.000 valid r2 map 0.714\n",
      "\tTrain loss: 0.000 21.903 map valid loss: 40.896 valid r2 hr 0.000 valid r2 map 0.709\n",
      "\tTrain loss: 0.000 21.824 map valid loss: 41.042 valid r2 hr 0.000 valid r2 map 0.708\n",
      "\tTrain loss: 0.000 20.979 map valid loss: 41.939 valid r2 hr 0.000 valid r2 map 0.702\n"
     ]
    },
    {
     "data": {
      "application/vnd.jupyter.widget-view+json": {
       "model_id": "ba92fd5090684b159d39cc73cd44893d",
       "version_major": 2,
       "version_minor": 0
      },
      "text/plain": [
       "HBox(children=(FloatProgress(value=0.0, max=180.0), HTML(value='')))"
      ]
     },
     "metadata": {},
     "output_type": "display_data"
    },
    {
     "name": "stdout",
     "output_type": "stream",
     "text": [
      "\tTrain loss: 0.000 6022.068 map valid loss: 10937.944 valid r2 hr 0.000 valid r2 map -76.732\n",
      "\tTrain loss: 0.000 5251.039 map valid loss: 8428.974 valid r2 hr 0.000 valid r2 map -58.902\n",
      "\tTrain loss: 0.000 3853.073 map valid loss: 3059.456 valid r2 hr 0.000 valid r2 map -20.742\n",
      "\tTrain loss: 0.000 1892.336 map valid loss: 619.089 valid r2 hr 0.000 valid r2 map -3.400\n",
      "\tTrain loss: 0.000 357.603 map valid loss: 74.663 valid r2 hr 0.000 valid r2 map 0.469\n",
      "\tTrain loss: 0.000 153.168 map valid loss: 393.430 valid r2 hr 0.000 valid r2 map -1.796\n",
      "\tTrain loss: 0.000 329.096 map valid loss: 155.781 valid r2 hr 0.000 valid r2 map -0.107\n",
      "\tTrain loss: 0.000 99.748 map valid loss: 40.963 valid r2 hr 0.000 valid r2 map 0.709\n",
      "\tTrain loss: 0.000 48.858 map valid loss: 86.298 valid r2 hr 0.000 valid r2 map 0.387\n",
      "\tTrain loss: 0.000 76.120 map valid loss: 75.250 valid r2 hr 0.000 valid r2 map 0.465\n",
      "\tTrain loss: 0.000 44.778 map valid loss: 42.029 valid r2 hr 0.000 valid r2 map 0.701\n",
      "\tTrain loss: 0.000 32.005 map valid loss: 51.294 valid r2 hr 0.000 valid r2 map 0.635\n",
      "\tTrain loss: 0.000 36.234 map valid loss: 45.165 valid r2 hr 0.000 valid r2 map 0.679\n",
      "\tTrain loss: 0.000 30.174 map valid loss: 40.959 valid r2 hr 0.000 valid r2 map 0.709\n",
      "\tTrain loss: 0.000 27.799 map valid loss: 43.786 valid r2 hr 0.000 valid r2 map 0.689\n",
      "\tTrain loss: 0.000 27.700 map valid loss: 45.401 valid r2 hr 0.000 valid r2 map 0.677\n",
      "\tTrain loss: 0.000 25.817 map valid loss: 43.503 valid r2 hr 0.000 valid r2 map 0.691\n",
      "\tTrain loss: 0.000 25.395 map valid loss: 43.099 valid r2 hr 0.000 valid r2 map 0.694\n",
      "\tTrain loss: 0.000 25.156 map valid loss: 45.877 valid r2 hr 0.000 valid r2 map 0.674\n",
      "\tTrain loss: 0.000 24.668 map valid loss: 44.167 valid r2 hr 0.000 valid r2 map 0.686\n",
      "\tTrain loss: 0.000 24.375 map valid loss: 42.371 valid r2 hr 0.000 valid r2 map 0.699\n",
      "\tTrain loss: 0.000 24.067 map valid loss: 47.180 valid r2 hr 0.000 valid r2 map 0.665\n",
      "\tTrain loss: 0.000 24.775 map valid loss: 40.848 valid r2 hr 0.000 valid r2 map 0.710\n",
      "\tTrain loss: 0.000 23.450 map valid loss: 42.315 valid r2 hr 0.000 valid r2 map 0.699\n",
      "\tTrain loss: 0.000 23.112 map valid loss: 44.375 valid r2 hr 0.000 valid r2 map 0.685\n",
      "\tTrain loss: 0.000 22.717 map valid loss: 45.607 valid r2 hr 0.000 valid r2 map 0.676\n",
      "\tTrain loss: 0.000 22.023 map valid loss: 51.078 valid r2 hr 0.000 valid r2 map 0.637\n",
      "\tTrain loss: 0.000 21.211 map valid loss: 42.851 valid r2 hr 0.000 valid r2 map 0.695\n",
      "\tTrain loss: 0.000 20.995 map valid loss: 43.342 valid r2 hr 0.000 valid r2 map 0.692\n",
      "\tTrain loss: 0.000 20.822 map valid loss: 41.878 valid r2 hr 0.000 valid r2 map 0.702\n"
     ]
    },
    {
     "data": {
      "application/vnd.jupyter.widget-view+json": {
       "model_id": "662f90e4d873419f8527f21400ba67c8",
       "version_major": 2,
       "version_minor": 0
      },
      "text/plain": [
       "HBox(children=(FloatProgress(value=0.0, max=180.0), HTML(value='')))"
      ]
     },
     "metadata": {},
     "output_type": "display_data"
    },
    {
     "name": "stdout",
     "output_type": "stream",
     "text": [
      "\tTrain loss: 0.000 6037.415 map valid loss: 12539.104 valid r2 hr 0.000 valid r2 map -88.111\n",
      "\tTrain loss: 0.000 5290.528 map valid loss: 7948.904 valid r2 hr 0.000 valid r2 map -55.490\n",
      "\tTrain loss: 0.000 3897.999 map valid loss: 3733.789 valid r2 hr 0.000 valid r2 map -25.535\n",
      "\tTrain loss: 0.000 1909.588 map valid loss: 1239.085 valid r2 hr 0.000 valid r2 map -7.806\n",
      "\tTrain loss: 0.000 380.491 map valid loss: 152.895 valid r2 hr 0.000 valid r2 map -0.087\n",
      "\tTrain loss: 0.000 141.297 map valid loss: 228.943 valid r2 hr 0.000 valid r2 map -0.627\n",
      "\tTrain loss: 0.000 331.445 map valid loss: 152.792 valid r2 hr 0.000 valid r2 map -0.086\n",
      "\tTrain loss: 0.000 105.609 map valid loss: 42.949 valid r2 hr 0.000 valid r2 map 0.695\n",
      "\tTrain loss: 0.000 46.511 map valid loss: 70.163 valid r2 hr 0.000 valid r2 map 0.501\n",
      "\tTrain loss: 0.000 78.416 map valid loss: 58.019 valid r2 hr 0.000 valid r2 map 0.588\n",
      "\tTrain loss: 0.000 47.080 map valid loss: 40.499 valid r2 hr 0.000 valid r2 map 0.712\n",
      "\tTrain loss: 0.000 32.069 map valid loss: 49.572 valid r2 hr 0.000 valid r2 map 0.648\n",
      "\tTrain loss: 0.000 38.117 map valid loss: 45.922 valid r2 hr 0.000 valid r2 map 0.674\n",
      "\tTrain loss: 0.000 31.532 map valid loss: 41.841 valid r2 hr 0.000 valid r2 map 0.703\n",
      "\tTrain loss: 0.000 29.494 map valid loss: 43.138 valid r2 hr 0.000 valid r2 map 0.693\n",
      "\tTrain loss: 0.000 30.670 map valid loss: 41.336 valid r2 hr 0.000 valid r2 map 0.706\n",
      "\tTrain loss: 0.000 28.022 map valid loss: 40.804 valid r2 hr 0.000 valid r2 map 0.710\n",
      "\tTrain loss: 0.000 26.923 map valid loss: 41.730 valid r2 hr 0.000 valid r2 map 0.703\n",
      "\tTrain loss: 0.000 27.531 map valid loss: 42.957 valid r2 hr 0.000 valid r2 map 0.695\n",
      "\tTrain loss: 0.000 26.595 map valid loss: 42.016 valid r2 hr 0.000 valid r2 map 0.701\n",
      "\tTrain loss: 0.000 25.676 map valid loss: 43.274 valid r2 hr 0.000 valid r2 map 0.692\n",
      "\tTrain loss: 0.000 25.711 map valid loss: 44.449 valid r2 hr 0.000 valid r2 map 0.684\n",
      "\tTrain loss: 0.000 24.382 map valid loss: 40.889 valid r2 hr 0.000 valid r2 map 0.709\n",
      "\tTrain loss: 0.000 24.352 map valid loss: 46.059 valid r2 hr 0.000 valid r2 map 0.673\n",
      "\tTrain loss: 0.000 24.480 map valid loss: 43.681 valid r2 hr 0.000 valid r2 map 0.690\n",
      "\tTrain loss: 0.000 23.481 map valid loss: 45.479 valid r2 hr 0.000 valid r2 map 0.677\n",
      "\tTrain loss: 0.000 24.140 map valid loss: 47.739 valid r2 hr 0.000 valid r2 map 0.661\n",
      "\tTrain loss: 0.000 22.289 map valid loss: 49.502 valid r2 hr 0.000 valid r2 map 0.648\n",
      "\tTrain loss: 0.000 22.799 map valid loss: 47.102 valid r2 hr 0.000 valid r2 map 0.665\n",
      "\tTrain loss: 0.000 21.231 map valid loss: 48.018 valid r2 hr 0.000 valid r2 map 0.659\n"
     ]
    },
    {
     "data": {
      "application/vnd.jupyter.widget-view+json": {
       "model_id": "d94dc7d2e3884f23b3b543dec6110fc3",
       "version_major": 2,
       "version_minor": 0
      },
      "text/plain": [
       "HBox(children=(FloatProgress(value=0.0, max=180.0), HTML(value='')))"
      ]
     },
     "metadata": {},
     "output_type": "display_data"
    },
    {
     "name": "stdout",
     "output_type": "stream",
     "text": [
      "\tTrain loss: 0.000 6060.002 map valid loss: 15854.111 valid r2 hr 0.000 valid r2 map -111.670\n",
      "\tTrain loss: 0.000 5298.386 map valid loss: 15360.105 valid r2 hr 0.000 valid r2 map -108.159\n",
      "\tTrain loss: 0.000 3898.490 map valid loss: 5670.348 valid r2 hr 0.000 valid r2 map -39.297\n",
      "\tTrain loss: 0.000 1942.121 map valid loss: 1038.955 valid r2 hr 0.000 valid r2 map -6.383\n",
      "\tTrain loss: 0.000 371.664 map valid loss: 43.561 valid r2 hr 0.000 valid r2 map 0.690\n",
      "\tTrain loss: 0.000 152.661 map valid loss: 220.722 valid r2 hr 0.000 valid r2 map -0.569\n",
      "\tTrain loss: 0.000 329.552 map valid loss: 107.028 valid r2 hr 0.000 valid r2 map 0.239\n",
      "\tTrain loss: 0.000 97.681 map valid loss: 46.527 valid r2 hr 0.000 valid r2 map 0.669\n",
      "\tTrain loss: 0.000 49.431 map valid loss: 92.111 valid r2 hr 0.000 valid r2 map 0.345\n",
      "\tTrain loss: 0.000 78.775 map valid loss: 86.049 valid r2 hr 0.000 valid r2 map 0.388\n",
      "\tTrain loss: 0.000 45.562 map valid loss: 42.594 valid r2 hr 0.000 valid r2 map 0.697\n",
      "\tTrain loss: 0.000 32.521 map valid loss: 57.424 valid r2 hr 0.000 valid r2 map 0.592\n",
      "\tTrain loss: 0.000 37.219 map valid loss: 48.470 valid r2 hr 0.000 valid r2 map 0.656\n",
      "\tTrain loss: 0.000 31.394 map valid loss: 44.252 valid r2 hr 0.000 valid r2 map 0.686\n",
      "\tTrain loss: 0.000 29.948 map valid loss: 45.487 valid r2 hr 0.000 valid r2 map 0.677\n",
      "\tTrain loss: 0.000 28.398 map valid loss: 44.483 valid r2 hr 0.000 valid r2 map 0.684\n",
      "\tTrain loss: 0.000 28.188 map valid loss: 48.332 valid r2 hr 0.000 valid r2 map 0.657\n",
      "\tTrain loss: 0.000 27.608 map valid loss: 47.789 valid r2 hr 0.000 valid r2 map 0.660\n",
      "\tTrain loss: 0.000 26.777 map valid loss: 45.273 valid r2 hr 0.000 valid r2 map 0.678\n",
      "\tTrain loss: 0.000 26.583 map valid loss: 43.119 valid r2 hr 0.000 valid r2 map 0.694\n",
      "\tTrain loss: 0.000 26.531 map valid loss: 44.015 valid r2 hr 0.000 valid r2 map 0.687\n",
      "\tTrain loss: 0.000 25.374 map valid loss: 43.068 valid r2 hr 0.000 valid r2 map 0.694\n",
      "\tTrain loss: 0.000 25.643 map valid loss: 47.638 valid r2 hr 0.000 valid r2 map 0.661\n",
      "\tTrain loss: 0.000 25.700 map valid loss: 45.455 valid r2 hr 0.000 valid r2 map 0.677\n",
      "\tTrain loss: 0.000 24.297 map valid loss: 42.919 valid r2 hr 0.000 valid r2 map 0.695\n",
      "\tTrain loss: 0.000 23.176 map valid loss: 44.292 valid r2 hr 0.000 valid r2 map 0.685\n",
      "\tTrain loss: 0.000 23.384 map valid loss: 45.886 valid r2 hr 0.000 valid r2 map 0.674\n",
      "\tTrain loss: 0.000 22.896 map valid loss: 45.145 valid r2 hr 0.000 valid r2 map 0.679\n",
      "\tTrain loss: 0.000 22.619 map valid loss: 46.965 valid r2 hr 0.000 valid r2 map 0.666\n",
      "\tTrain loss: 0.000 22.013 map valid loss: 43.783 valid r2 hr 0.000 valid r2 map 0.689\n"
     ]
    },
    {
     "data": {
      "application/vnd.jupyter.widget-view+json": {
       "model_id": "e13575bd90f74b0d9ad0ed3344ebe54e",
       "version_major": 2,
       "version_minor": 0
      },
      "text/plain": [
       "HBox(children=(FloatProgress(value=0.0, max=180.0), HTML(value='')))"
      ]
     },
     "metadata": {},
     "output_type": "display_data"
    },
    {
     "name": "stdout",
     "output_type": "stream",
     "text": [
      "\tTrain loss: 0.000 6049.659 map valid loss: 11340.629 valid r2 hr 0.000 valid r2 map -79.594\n",
      "\tTrain loss: 0.000 5327.823 map valid loss: 11211.960 valid r2 hr 0.000 valid r2 map -78.680\n",
      "\tTrain loss: 0.000 3952.489 map valid loss: 4984.854 valid r2 hr 0.000 valid r2 map -34.426\n",
      "\tTrain loss: 0.000 2000.411 map valid loss: 1510.361 valid r2 hr 0.000 valid r2 map -9.734\n",
      "\tTrain loss: 0.000 412.752 map valid loss: 116.355 valid r2 hr 0.000 valid r2 map 0.173\n",
      "\tTrain loss: 0.000 137.711 map valid loss: 100.868 valid r2 hr 0.000 valid r2 map 0.283\n",
      "\tTrain loss: 0.000 336.188 map valid loss: 92.415 valid r2 hr 0.000 valid r2 map 0.343\n",
      "\tTrain loss: 0.000 108.300 map valid loss: 52.757 valid r2 hr 0.000 valid r2 map 0.625\n",
      "\tTrain loss: 0.000 48.167 map valid loss: 146.501 valid r2 hr 0.000 valid r2 map -0.041\n",
      "\tTrain loss: 0.000 79.525 map valid loss: 80.531 valid r2 hr 0.000 valid r2 map 0.428\n",
      "\tTrain loss: 0.000 48.745 map valid loss: 41.757 valid r2 hr 0.000 valid r2 map 0.703\n",
      "\tTrain loss: 0.000 33.146 map valid loss: 48.744 valid r2 hr 0.000 valid r2 map 0.654\n",
      "\tTrain loss: 0.000 37.958 map valid loss: 44.129 valid r2 hr 0.000 valid r2 map 0.686\n",
      "\tTrain loss: 0.000 30.492 map valid loss: 42.324 valid r2 hr 0.000 valid r2 map 0.699\n",
      "\tTrain loss: 0.000 28.451 map valid loss: 41.693 valid r2 hr 0.000 valid r2 map 0.704\n",
      "\tTrain loss: 0.000 28.890 map valid loss: 45.171 valid r2 hr 0.000 valid r2 map 0.679\n",
      "\tTrain loss: 0.000 26.822 map valid loss: 42.943 valid r2 hr 0.000 valid r2 map 0.695\n",
      "\tTrain loss: 0.000 26.055 map valid loss: 42.513 valid r2 hr 0.000 valid r2 map 0.698\n",
      "\tTrain loss: 0.000 25.683 map valid loss: 42.398 valid r2 hr 0.000 valid r2 map 0.699\n",
      "\tTrain loss: 0.000 24.698 map valid loss: 43.763 valid r2 hr 0.000 valid r2 map 0.689\n",
      "\tTrain loss: 0.000 24.888 map valid loss: 45.794 valid r2 hr 0.000 valid r2 map 0.675\n",
      "\tTrain loss: 0.000 24.105 map valid loss: 44.999 valid r2 hr 0.000 valid r2 map 0.680\n",
      "\tTrain loss: 0.000 23.343 map valid loss: 45.126 valid r2 hr 0.000 valid r2 map 0.679\n",
      "\tTrain loss: 0.000 22.606 map valid loss: 44.499 valid r2 hr 0.000 valid r2 map 0.684\n",
      "\tTrain loss: 0.000 22.798 map valid loss: 46.714 valid r2 hr 0.000 valid r2 map 0.668\n",
      "\tTrain loss: 0.000 22.532 map valid loss: 47.056 valid r2 hr 0.000 valid r2 map 0.666\n",
      "\tTrain loss: 0.000 22.522 map valid loss: 44.876 valid r2 hr 0.000 valid r2 map 0.681\n",
      "\tTrain loss: 0.000 22.593 map valid loss: 43.052 valid r2 hr 0.000 valid r2 map 0.694\n",
      "\tTrain loss: 0.000 22.582 map valid loss: 53.115 valid r2 hr 0.000 valid r2 map 0.623\n",
      "\tTrain loss: 0.000 21.348 map valid loss: 48.277 valid r2 hr 0.000 valid r2 map 0.657\n"
     ]
    },
    {
     "data": {
      "text/plain": [
       "0.7230150109338488"
      ]
     },
     "execution_count": 9,
     "metadata": {},
     "output_type": "execute_result"
    }
   ],
   "source": [
    "multiple_runs(num_subjects, C=0, basename=\"model0_single_60min\")"
   ]
  },
  {
   "cell_type": "code",
   "execution_count": null,
   "metadata": {},
   "outputs": [],
   "source": []
  }
 ],
 "metadata": {
  "kernelspec": {
   "display_name": "Python 3",
   "language": "python",
   "name": "python3"
  },
  "language_info": {
   "codemirror_mode": {
    "name": "ipython",
    "version": 3
   },
   "file_extension": ".py",
   "mimetype": "text/x-python",
   "name": "python",
   "nbconvert_exporter": "python",
   "pygments_lexer": "ipython3",
   "version": "3.7.6"
  },
  "toc": {
   "base_numbering": 1,
   "nav_menu": {},
   "number_sections": true,
   "sideBar": true,
   "skip_h1_title": false,
   "title_cell": "Table of Contents",
   "title_sidebar": "Contents",
   "toc_cell": false,
   "toc_position": {},
   "toc_section_display": true,
   "toc_window_display": false
  }
 },
 "nbformat": 4,
 "nbformat_minor": 2
}
