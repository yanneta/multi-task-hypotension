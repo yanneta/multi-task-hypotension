{
 "cells": [
  {
   "cell_type": "code",
   "execution_count": 1,
   "metadata": {},
   "outputs": [],
   "source": [
    "%reload_ext autoreload\n",
    "%autoreload 2\n",
    "%matplotlib inline\n",
    "import matplotlib\n",
    "import matplotlib.pyplot as plt\n",
    "\n",
    "import numpy as np\n",
    "import pandas as pd\n",
    "\n",
    "from pathlib import Path\n",
    "from sklearn import metrics\n",
    "import random\n",
    "\n",
    "import torch\n",
    "from torch.utils.data import Dataset, DataLoader\n",
    "import torch.optim as optim\n",
    "import torch.nn as nn\n",
    "import torch.nn.functional as F\n",
    "\n",
    "from datetime import datetime\n",
    "from collections import OrderedDict"
   ]
  },
  {
   "cell_type": "code",
   "execution_count": 2,
   "metadata": {},
   "outputs": [],
   "source": [
    "import pickle"
   ]
  },
  {
   "cell_type": "code",
   "execution_count": 3,
   "metadata": {},
   "outputs": [],
   "source": [
    "PATH = Path(\"/data2/yinterian/multi-task-romain\")"
   ]
  },
  {
   "cell_type": "code",
   "execution_count": 4,
   "metadata": {},
   "outputs": [
    {
     "data": {
      "text/plain": [
       "'5min'"
      ]
     },
     "execution_count": 4,
     "metadata": {},
     "output_type": "execute_result"
    }
   ],
   "source": [
    "gap = \"5min\"\n",
    "gap"
   ]
  },
  {
   "cell_type": "code",
   "execution_count": 5,
   "metadata": {},
   "outputs": [],
   "source": [
    "filename = \"data_train_{gap}.pickle\".format(gap=gap)\n",
    "with open(PATH/filename, 'rb') as f:\n",
    "    train = pickle.load(f)"
   ]
  },
  {
   "cell_type": "code",
   "execution_count": 6,
   "metadata": {},
   "outputs": [],
   "source": [
    "filename = \"data_valid_{gap}.pickle\".format(gap=gap)\n",
    "with open(PATH/filename, 'rb') as f:\n",
    "    valid = pickle.load(f)"
   ]
  },
  {
   "cell_type": "code",
   "execution_count": 7,
   "metadata": {},
   "outputs": [
    {
     "data": {
      "text/html": [
       "<div>\n",
       "<style scoped>\n",
       "    .dataframe tbody tr th:only-of-type {\n",
       "        vertical-align: middle;\n",
       "    }\n",
       "\n",
       "    .dataframe tbody tr th {\n",
       "        vertical-align: top;\n",
       "    }\n",
       "\n",
       "    .dataframe thead th {\n",
       "        text-align: right;\n",
       "    }\n",
       "</style>\n",
       "<table border=\"1\" class=\"dataframe\">\n",
       "  <thead>\n",
       "    <tr style=\"text-align: right;\">\n",
       "      <th></th>\n",
       "      <th>subject_id</th>\n",
       "      <th>key</th>\n",
       "      <th>gender</th>\n",
       "      <th>age</th>\n",
       "      <th>sapsii</th>\n",
       "      <th>sofa</th>\n",
       "      <th>care_unit</th>\n",
       "      <th>amine</th>\n",
       "      <th>sedation</th>\n",
       "      <th>ventilation</th>\n",
       "      <th>prediction_mean_HR</th>\n",
       "      <th>prediction_mean_MAP</th>\n",
       "      <th>series</th>\n",
       "      <th>group</th>\n",
       "    </tr>\n",
       "  </thead>\n",
       "  <tbody>\n",
       "    <tr>\n",
       "      <th>0</th>\n",
       "      <td>10013</td>\n",
       "      <td>10013_18</td>\n",
       "      <td>1</td>\n",
       "      <td>87</td>\n",
       "      <td>49</td>\n",
       "      <td>7</td>\n",
       "      <td>3</td>\n",
       "      <td>1</td>\n",
       "      <td>0</td>\n",
       "      <td>1</td>\n",
       "      <td>95.44</td>\n",
       "      <td>55.88</td>\n",
       "      <td>[[110.1, 0.0, 85.7, 37.1, 55.4], [110.9, 0.0, ...</td>\n",
       "      <td>0</td>\n",
       "    </tr>\n",
       "    <tr>\n",
       "      <th>1</th>\n",
       "      <td>10013</td>\n",
       "      <td>10013_19</td>\n",
       "      <td>1</td>\n",
       "      <td>87</td>\n",
       "      <td>49</td>\n",
       "      <td>7</td>\n",
       "      <td>3</td>\n",
       "      <td>1</td>\n",
       "      <td>0</td>\n",
       "      <td>1</td>\n",
       "      <td>107.4</td>\n",
       "      <td>68.4</td>\n",
       "      <td>[[96.0, 92.0, 106.2, 35.2, 55.9], [101.9, 92.7...</td>\n",
       "      <td>0</td>\n",
       "    </tr>\n",
       "    <tr>\n",
       "      <th>2</th>\n",
       "      <td>10013</td>\n",
       "      <td>10013_20</td>\n",
       "      <td>1</td>\n",
       "      <td>87</td>\n",
       "      <td>49</td>\n",
       "      <td>7</td>\n",
       "      <td>3</td>\n",
       "      <td>1</td>\n",
       "      <td>0</td>\n",
       "      <td>1</td>\n",
       "      <td>102.08</td>\n",
       "      <td>68.28</td>\n",
       "      <td>[[106.2, 94.5, 127.6, 43.6, 69.7], [106.1, 94....</td>\n",
       "      <td>0</td>\n",
       "    </tr>\n",
       "    <tr>\n",
       "      <th>3</th>\n",
       "      <td>10013</td>\n",
       "      <td>10013_23</td>\n",
       "      <td>1</td>\n",
       "      <td>87</td>\n",
       "      <td>49</td>\n",
       "      <td>7</td>\n",
       "      <td>3</td>\n",
       "      <td>1</td>\n",
       "      <td>0</td>\n",
       "      <td>1</td>\n",
       "      <td>99.14</td>\n",
       "      <td>86.14</td>\n",
       "      <td>[[93.0, 93.4, 139.6, 51.0, 80.9], [93.0, 93.8,...</td>\n",
       "      <td>0</td>\n",
       "    </tr>\n",
       "    <tr>\n",
       "      <th>4</th>\n",
       "      <td>10013</td>\n",
       "      <td>10013_24</td>\n",
       "      <td>1</td>\n",
       "      <td>87</td>\n",
       "      <td>49</td>\n",
       "      <td>7</td>\n",
       "      <td>3</td>\n",
       "      <td>1</td>\n",
       "      <td>0</td>\n",
       "      <td>1</td>\n",
       "      <td>108.1</td>\n",
       "      <td>69.96</td>\n",
       "      <td>[[97.5, 94.0, 144.1, 54.4, 86.4], [101.3, 94.5...</td>\n",
       "      <td>0</td>\n",
       "    </tr>\n",
       "  </tbody>\n",
       "</table>\n",
       "</div>"
      ],
      "text/plain": [
       "  subject_id       key gender age sapsii sofa care_unit amine sedation  \\\n",
       "0      10013  10013_18      1  87     49    7         3     1        0   \n",
       "1      10013  10013_19      1  87     49    7         3     1        0   \n",
       "2      10013  10013_20      1  87     49    7         3     1        0   \n",
       "3      10013  10013_23      1  87     49    7         3     1        0   \n",
       "4      10013  10013_24      1  87     49    7         3     1        0   \n",
       "\n",
       "  ventilation prediction_mean_HR prediction_mean_MAP  \\\n",
       "0           1              95.44               55.88   \n",
       "1           1              107.4                68.4   \n",
       "2           1             102.08               68.28   \n",
       "3           1              99.14               86.14   \n",
       "4           1              108.1               69.96   \n",
       "\n",
       "                                              series  group  \n",
       "0  [[110.1, 0.0, 85.7, 37.1, 55.4], [110.9, 0.0, ...      0  \n",
       "1  [[96.0, 92.0, 106.2, 35.2, 55.9], [101.9, 92.7...      0  \n",
       "2  [[106.2, 94.5, 127.6, 43.6, 69.7], [106.1, 94....      0  \n",
       "3  [[93.0, 93.4, 139.6, 51.0, 80.9], [93.0, 93.8,...      0  \n",
       "4  [[97.5, 94.0, 144.1, 54.4, 86.4], [101.3, 94.5...      0  "
      ]
     },
     "execution_count": 7,
     "metadata": {},
     "output_type": "execute_result"
    }
   ],
   "source": [
    "train.head()"
   ]
  },
  {
   "cell_type": "code",
   "execution_count": 8,
   "metadata": {},
   "outputs": [
    {
     "data": {
      "text/html": [
       "<div>\n",
       "<style scoped>\n",
       "    .dataframe tbody tr th:only-of-type {\n",
       "        vertical-align: middle;\n",
       "    }\n",
       "\n",
       "    .dataframe tbody tr th {\n",
       "        vertical-align: top;\n",
       "    }\n",
       "\n",
       "    .dataframe thead th {\n",
       "        text-align: right;\n",
       "    }\n",
       "</style>\n",
       "<table border=\"1\" class=\"dataframe\">\n",
       "  <thead>\n",
       "    <tr style=\"text-align: right;\">\n",
       "      <th></th>\n",
       "      <th>subject_id</th>\n",
       "      <th>key</th>\n",
       "      <th>gender</th>\n",
       "      <th>age</th>\n",
       "      <th>sapsii</th>\n",
       "      <th>sofa</th>\n",
       "      <th>care_unit</th>\n",
       "      <th>amine</th>\n",
       "      <th>sedation</th>\n",
       "      <th>ventilation</th>\n",
       "      <th>prediction_mean_HR</th>\n",
       "      <th>prediction_mean_MAP</th>\n",
       "      <th>series</th>\n",
       "      <th>group</th>\n",
       "    </tr>\n",
       "  </thead>\n",
       "  <tbody>\n",
       "    <tr>\n",
       "      <th>1400</th>\n",
       "      <td>11018</td>\n",
       "      <td>11018_103</td>\n",
       "      <td>0</td>\n",
       "      <td>67</td>\n",
       "      <td>47</td>\n",
       "      <td>1</td>\n",
       "      <td>1</td>\n",
       "      <td>0</td>\n",
       "      <td>0</td>\n",
       "      <td>0</td>\n",
       "      <td>57.0333</td>\n",
       "      <td>127.633</td>\n",
       "      <td>[[58.0, 100.0, 141.0, 122.0, 130.0], [61.0, 10...</td>\n",
       "      <td>1</td>\n",
       "    </tr>\n",
       "    <tr>\n",
       "      <th>1401</th>\n",
       "      <td>11018</td>\n",
       "      <td>11018_29</td>\n",
       "      <td>0</td>\n",
       "      <td>67</td>\n",
       "      <td>47</td>\n",
       "      <td>1</td>\n",
       "      <td>1</td>\n",
       "      <td>0</td>\n",
       "      <td>0</td>\n",
       "      <td>0</td>\n",
       "      <td>74.94</td>\n",
       "      <td>71.07</td>\n",
       "      <td>[[78.0, 97.0, 99.0, 59.0, 72.0], [78.0, 97.0, ...</td>\n",
       "      <td>1</td>\n",
       "    </tr>\n",
       "    <tr>\n",
       "      <th>1402</th>\n",
       "      <td>11018</td>\n",
       "      <td>11018_30</td>\n",
       "      <td>0</td>\n",
       "      <td>67</td>\n",
       "      <td>47</td>\n",
       "      <td>1</td>\n",
       "      <td>1</td>\n",
       "      <td>0</td>\n",
       "      <td>0</td>\n",
       "      <td>0</td>\n",
       "      <td>75.24</td>\n",
       "      <td>74.6167</td>\n",
       "      <td>[[74.0, 97.0, 99.0, 59.0, 72.0], [75.0, 96.0, ...</td>\n",
       "      <td>1</td>\n",
       "    </tr>\n",
       "    <tr>\n",
       "      <th>1403</th>\n",
       "      <td>11018</td>\n",
       "      <td>11018_32</td>\n",
       "      <td>0</td>\n",
       "      <td>67</td>\n",
       "      <td>47</td>\n",
       "      <td>1</td>\n",
       "      <td>1</td>\n",
       "      <td>0</td>\n",
       "      <td>0</td>\n",
       "      <td>0</td>\n",
       "      <td>82.29</td>\n",
       "      <td>79.1533</td>\n",
       "      <td>[[78.0, 96.0, 108.0, 64.0, 78.0], [77.0, 97.0,...</td>\n",
       "      <td>1</td>\n",
       "    </tr>\n",
       "    <tr>\n",
       "      <th>1404</th>\n",
       "      <td>11018</td>\n",
       "      <td>11018_33</td>\n",
       "      <td>0</td>\n",
       "      <td>67</td>\n",
       "      <td>47</td>\n",
       "      <td>1</td>\n",
       "      <td>1</td>\n",
       "      <td>0</td>\n",
       "      <td>0</td>\n",
       "      <td>0</td>\n",
       "      <td>80.54</td>\n",
       "      <td>82.64</td>\n",
       "      <td>[[83.0, 93.0, 113.0, 66.0, 81.0], [82.0, 93.0,...</td>\n",
       "      <td>1</td>\n",
       "    </tr>\n",
       "  </tbody>\n",
       "</table>\n",
       "</div>"
      ],
      "text/plain": [
       "     subject_id        key gender age sapsii sofa care_unit amine sedation  \\\n",
       "1400      11018  11018_103      0  67     47    1         1     0        0   \n",
       "1401      11018   11018_29      0  67     47    1         1     0        0   \n",
       "1402      11018   11018_30      0  67     47    1         1     0        0   \n",
       "1403      11018   11018_32      0  67     47    1         1     0        0   \n",
       "1404      11018   11018_33      0  67     47    1         1     0        0   \n",
       "\n",
       "     ventilation prediction_mean_HR prediction_mean_MAP  \\\n",
       "1400           0            57.0333             127.633   \n",
       "1401           0              74.94               71.07   \n",
       "1402           0              75.24             74.6167   \n",
       "1403           0              82.29             79.1533   \n",
       "1404           0              80.54               82.64   \n",
       "\n",
       "                                                 series  group  \n",
       "1400  [[58.0, 100.0, 141.0, 122.0, 130.0], [61.0, 10...      1  \n",
       "1401  [[78.0, 97.0, 99.0, 59.0, 72.0], [78.0, 97.0, ...      1  \n",
       "1402  [[74.0, 97.0, 99.0, 59.0, 72.0], [75.0, 96.0, ...      1  \n",
       "1403  [[78.0, 96.0, 108.0, 64.0, 78.0], [77.0, 97.0,...      1  \n",
       "1404  [[83.0, 93.0, 113.0, 66.0, 81.0], [82.0, 93.0,...      1  "
      ]
     },
     "execution_count": 8,
     "metadata": {},
     "output_type": "execute_result"
    }
   ],
   "source": [
    "valid.head()"
   ]
  },
  {
   "cell_type": "code",
   "execution_count": 9,
   "metadata": {},
   "outputs": [
    {
     "data": {
      "text/plain": [
       "array([1, 2, 3, 5, 6], dtype=object)"
      ]
     },
     "execution_count": 9,
     "metadata": {},
     "output_type": "execute_result"
    }
   ],
   "source": [
    "np.unique(train.care_unit.values)"
   ]
  },
  {
   "cell_type": "code",
   "execution_count": 10,
   "metadata": {},
   "outputs": [
    {
     "data": {
      "text/plain": [
       "((59742, 14), (7086, 14))"
      ]
     },
     "execution_count": 10,
     "metadata": {},
     "output_type": "execute_result"
    }
   ],
   "source": [
    "train.shape, valid.shape"
   ]
  },
  {
   "cell_type": "code",
   "execution_count": 11,
   "metadata": {},
   "outputs": [],
   "source": [
    "subject_id_list = np.sort(np.unique(train.subject_id.values))\n",
    "id2index = {v: k+1 for k,v in enumerate(subject_id_list)}\n",
    "num_subjects = len(subject_id_list)"
   ]
  },
  {
   "cell_type": "code",
   "execution_count": 12,
   "metadata": {},
   "outputs": [
    {
     "data": {
      "text/plain": [
       "2295"
      ]
     },
     "execution_count": 12,
     "metadata": {},
     "output_type": "execute_result"
    }
   ],
   "source": [
    "num_subjects"
   ]
  },
  {
   "cell_type": "markdown",
   "metadata": {},
   "source": [
    "## Dataset"
   ]
  },
  {
   "cell_type": "code",
   "execution_count": 13,
   "metadata": {},
   "outputs": [],
   "source": [
    "def get_mean_std_series(train):\n",
    "    ss = np.concatenate(train.series.values)\n",
    "    ss = ss.reshape(-1,5)\n",
    "    return ss.mean(axis=0), ss.std(axis=0)"
   ]
  },
  {
   "cell_type": "code",
   "execution_count": 14,
   "metadata": {},
   "outputs": [],
   "source": [
    "def get_mean_std_static(train):\n",
    "    res = {}\n",
    "    for name in [\"age\", \"sapsii\", \"sofa\"]:\n",
    "        values = train[name].values\n",
    "        res[name] = (values.mean(), values.std())\n",
    "    res[\"series\"] = get_mean_std_series(train)\n",
    "    return res"
   ]
  },
  {
   "cell_type": "code",
   "execution_count": 15,
   "metadata": {},
   "outputs": [
    {
     "data": {
      "text/plain": [
       "{'age': (64, 15.073998327645949),\n",
       " 'sapsii': (33, 14.215114554630107),\n",
       " 'sofa': (4, 3.7687923741651197),\n",
       " 'series': (array([ 83.25271123,  93.7286662 , 120.81020051,  58.76277023,\n",
       "          78.52866913]),\n",
       "  array([16.10279665, 17.32261077, 21.2893833 , 12.28384779, 14.32805636]))}"
      ]
     },
     "execution_count": 15,
     "metadata": {},
     "output_type": "execute_result"
    }
   ],
   "source": [
    "norm_dict = get_mean_std_static(train)\n",
    "norm_dict "
   ]
  },
  {
   "cell_type": "code",
   "execution_count": 16,
   "metadata": {},
   "outputs": [
    {
     "data": {
      "text/plain": [
       "{1: 0, 2: 1, 3: 2, 5: 3, 6: 4}"
      ]
     },
     "execution_count": 16,
     "metadata": {},
     "output_type": "execute_result"
    }
   ],
   "source": [
    "care2id = {v:k for k,v in enumerate(np.unique(train.care_unit.values))}\n",
    "care2id "
   ]
  },
  {
   "cell_type": "code",
   "execution_count": 17,
   "metadata": {},
   "outputs": [],
   "source": [
    "class MultiTask(Dataset):\n",
    "    def __init__(self, df, norm_dict, id2index, care2id,  k=20, train=True):\n",
    "        \"\"\"\n",
    "        Args:\n",
    "            df: dataframe with data\n",
    "            norm_dict: mean and std of all variables to normalize\n",
    "            \n",
    "        \"\"\"\n",
    "        self.norm_dict = norm_dict\n",
    "        self.df = df\n",
    "        self.df[\"care_unit\"] = self.df[\"care_unit\"].apply(lambda x: care2id[x])\n",
    "        self.names = [\"age\", \"sapsii\", \"sofa\"] ## needs normalization\n",
    "        self.names_binary = [\"gender\", \"amine\", \"sedation\", \"ventilation\"]\n",
    "        self.id2index = id2index\n",
    "        self.train = train\n",
    "        self.df_sample = self.pick_a_sample(k)\n",
    "            \n",
    "    def pick_a_sample(self, k=20):\n",
    "        \"\"\" Picks sample with the same number of observations per patient\"\"\"\n",
    "        if not self.train: # fix seed for validation and test\n",
    "            np.random.seed(3)\n",
    "        sample = self.df.groupby(\"subject_id\", group_keys=False).apply(lambda x: x.sample(k, replace=True))\n",
    "        sample = sample.copy()\n",
    "        if self.train:\n",
    "            self.subject_index = [self.id2index[subject_id] for subject_id in sample.subject_id.values]\n",
    "            self.random = np.random.choice(2, sample.shape[0], p=[0.1, 0.9])\n",
    "            self.subject_index = self.subject_index*self.random\n",
    "        return sample\n",
    "\n",
    "    def __getitem__(self, index):\n",
    "        row = self.df_sample.iloc[index,:]\n",
    "        x_series = (row.series - self.norm_dict[\"series\"][0])/self.norm_dict[\"series\"][1]\n",
    "        x_cont = [(row[name]-self.norm_dict[name][0])/self.norm_dict[name][1] for name in self.names]\n",
    "        x_binary = [row[name] for name in self.names_binary]\n",
    "        subject_index = 0\n",
    "        if self.train:\n",
    "            subject_index = self.subject_index[index]\n",
    "        x_cat = np.array([row[\"care_unit\"], subject_index])\n",
    "        x_cont = np.array(x_cont + x_binary)\n",
    "        return x_series, x_cont, x_cat, row[\"prediction_mean_HR\"], row[\"prediction_mean_MAP\"]\n",
    "\n",
    "    def __len__(self):\n",
    "        return self.df_sample.shape[0]"
   ]
  },
  {
   "cell_type": "code",
   "execution_count": 18,
   "metadata": {},
   "outputs": [],
   "source": [
    "train_ds = MultiTask(train, norm_dict, id2index, care2id)\n",
    "valid_ds = MultiTask(valid, norm_dict, id2index, care2id, train=False)"
   ]
  },
  {
   "cell_type": "markdown",
   "metadata": {},
   "source": [
    "## Model"
   ]
  },
  {
   "cell_type": "code",
   "execution_count": 19,
   "metadata": {},
   "outputs": [],
   "source": [
    "def save_model(m, p): torch.save(m.state_dict(), p)\n",
    "    \n",
    "def load_model(m, p): m.load_state_dict(torch.load(p))"
   ]
  },
  {
   "cell_type": "code",
   "execution_count": 20,
   "metadata": {},
   "outputs": [],
   "source": [
    "class EventModel1(nn.Module):\n",
    "    def __init__(self, hidden_size=100, num_units=5):\n",
    "        super(EventModel1, self).__init__()\n",
    "        self.embedding1 = nn.Embedding(num_units, 1)\n",
    "        self.embedding2 = nn.Embedding(num_subjects+1, 5)\n",
    "        self.gru = nn.GRU(5, hidden_size, batch_first=True)\n",
    "        self.num = hidden_size + 10 + 1 + 5\n",
    "        self.linear1 = nn.Linear(7, 10)\n",
    "        self.out1 = nn.Linear(self.num, 1)\n",
    "        self.out2 = nn.Linear(self.num, 1)\n",
    "        self.bn1 = nn.BatchNorm1d(10)\n",
    "\n",
    "    def forward(self, x_series, x_cont, x_cat):\n",
    "        _, ht = self.gru(x_series)\n",
    "        x_cat_1 = self.embedding1(x_cat[:,0])\n",
    "        x_cat_2 = self.embedding2(x_cat[:,1])\n",
    "        x_cont = self.bn1(F.relu(self.linear1(x_cont))) \n",
    "        x = torch.cat((ht[-1], x_cat_1, x_cat_2, x_cont), 1)\n",
    "        return self.out1(x), self.out2(x)"
   ]
  },
  {
   "cell_type": "code",
   "execution_count": 21,
   "metadata": {},
   "outputs": [],
   "source": [
    "def val_metrics(model, valid_dl):\n",
    "    model.eval()\n",
    "    total = 0\n",
    "    sum_loss = 0\n",
    "    y_hat1 = []\n",
    "    ys1 = []\n",
    "    y_hat2 = []\n",
    "    ys2 = []\n",
    "    for x_series, x_cont, x_cat, y1, y2 in valid_dl:\n",
    "        batch = y1.shape[0]\n",
    "        x_series = x_series.float().cuda()\n",
    "        x_cont = x_cont.float().cuda()\n",
    "        x_cat = x_cat.long().cuda()\n",
    "        y1 = y1.float().cuda()\n",
    "        y2 = y2.float().cuda()\n",
    "        out1, out2 = model(x_series, x_cont, x_cat)\n",
    "        mse_loss1 = F.mse_loss(out1, y1.unsqueeze(-1))\n",
    "        mse_loss2 = F.mse_loss(out2, y2.unsqueeze(-1))\n",
    "        loss = mse_loss1 + mse_loss2\n",
    "        sum_loss += batch*(loss.item())\n",
    "        total += batch\n",
    "        y_hat1.append(out1.view(-1).detach().cpu().numpy())\n",
    "        ys1.append(y1.view(-1).cpu().numpy())\n",
    "        y_hat2.append(out2.view(-1).detach().cpu().numpy())\n",
    "        ys2.append(y2.view(-1).cpu().numpy())\n",
    "    \n",
    "    y_hat1 = np.concatenate(y_hat1)\n",
    "    y_hat2 = np.concatenate(y_hat2)\n",
    "    ys1 = np.concatenate(ys1)\n",
    "    ys2 = np.concatenate(ys2)\n",
    "    r2_1 = metrics.r2_score(ys1, y_hat1)\n",
    "    r2_2 = metrics.r2_score(ys2, y_hat2)\n",
    "    return sum_loss/total, r2_1, r2_2"
   ]
  },
  {
   "cell_type": "code",
   "execution_count": 22,
   "metadata": {},
   "outputs": [],
   "source": [
    "def train_epochs(model, train_ds, optimizer, filename, lr=1e-3, epochs = 30):\n",
    "    prev_val_r2 = 0\n",
    "    for i in range(epochs):\n",
    "        sum_loss1 = 0\n",
    "        sum_loss2 = 0\n",
    "        total = 0\n",
    "        train_ds.pick_a_sample()\n",
    "        train_dl = DataLoader(train_ds, batch_size=5000, shuffle=True)\n",
    "        for x_series, x_cont, x_cat, y1, y2 in train_dl:\n",
    "            model.train()\n",
    "            x_series = x_series.float().cuda()\n",
    "            x_cont = x_cont.float().cuda()\n",
    "            x_cat = x_cat.long().cuda()\n",
    "            y1 = y1.float().cuda()\n",
    "            y2 = y2.float().cuda()\n",
    "            out1, out2 = model(x_series, x_cont, x_cat)\n",
    "            mse_loss1 = F.mse_loss(out1, y1.unsqueeze(-1))\n",
    "            mse_loss2 = F.mse_loss(out2, y2.unsqueeze(-1))\n",
    "            loss = mse_loss1 + mse_loss2\n",
    "            sum_loss1 += len(y1) * mse_loss1.item()\n",
    "            sum_loss2 += len(y1) * mse_loss2.item()\n",
    "            total += len(y1)\n",
    "            optimizer.zero_grad()\n",
    "            loss.backward()\n",
    "            optimizer.step()\n",
    "        if i % 1 == 0:\n",
    "            val_loss, val_r2_1, val_r2_2 = val_metrics(model, valid_dl)\n",
    "            print(\"\\tTrain loss: {:.3f} {:.3f} valid loss: {:.3f} valid r2 hr {:.3f} valid r2 map {:.3f}\".format(\n",
    "                sum_loss1/total, sum_loss2/total, val_loss, val_r2_1, val_r2_2))\n",
    "            \n",
    "        if val_r2_1 > prev_val_r2:\n",
    "            prev_val_r2 = val_r2_1\n",
    "            if val_r2_1 > 0.7:\n",
    "                path = \"{0}/models/{1}_r2_{2:.0f}_{3:.0f}.pth\".format(PATH, filename, 100*val_r2_1, 100*val_r2_2) \n",
    "                save_model(model, path)\n",
    "                print(path)"
   ]
  },
  {
   "cell_type": "code",
   "execution_count": 23,
   "metadata": {},
   "outputs": [],
   "source": [
    "batch_size = 5000\n",
    "train_dl = DataLoader(train_ds, batch_size=batch_size, shuffle=True)\n",
    "valid_dl = DataLoader(valid_ds, batch_size=batch_size)"
   ]
  },
  {
   "cell_type": "code",
   "execution_count": 24,
   "metadata": {},
   "outputs": [],
   "source": [
    "model = EventModel1().cuda()"
   ]
  },
  {
   "cell_type": "code",
   "execution_count": 25,
   "metadata": {},
   "outputs": [
    {
     "data": {
      "text/plain": [
       "(13482.621754581767, -27.68109129134414, -33.347568094222666)"
      ]
     },
     "execution_count": 25,
     "metadata": {},
     "output_type": "execute_result"
    }
   ],
   "source": [
    "val_metrics(model, valid_dl)"
   ]
  },
  {
   "cell_type": "code",
   "execution_count": 26,
   "metadata": {},
   "outputs": [
    {
     "name": "stdout",
     "output_type": "stream",
     "text": [
      "\tTrain loss: 5195.507 4429.789 valid loss: 3450.983 valid r2 hr -7.066 valid r2 map -6.761\n",
      "\tTrain loss: 937.666 660.969 valid loss: 647.213 valid r2 hr -0.186 valid r2 map -0.921\n",
      "\tTrain loss: 365.126 296.718 valid loss: 741.749 valid r2 hr -0.712 valid r2 map -0.699\n",
      "\tTrain loss: 207.239 94.101 valid loss: 183.896 valid r2 hr 0.490 valid r2 map 0.701\n",
      "\tTrain loss: 107.485 78.883 valid loss: 139.494 valid r2 hr 0.664 valid r2 map 0.700\n",
      "\tTrain loss: 64.245 54.253 valid loss: 130.785 valid r2 hr 0.745 valid r2 map 0.634\n",
      "/data2/yinterian/multi-task-romain/models/model1_patient_r2_75_63.pth\n",
      "\tTrain loss: 45.459 49.663 valid loss: 114.675 valid r2 hr 0.760 valid r2 map 0.702\n",
      "/data2/yinterian/multi-task-romain/models/model1_patient_r2_76_70.pth\n",
      "\tTrain loss: 39.835 42.254 valid loss: 90.910 valid r2 hr 0.809 valid r2 map 0.766\n",
      "/data2/yinterian/multi-task-romain/models/model1_patient_r2_81_77.pth\n",
      "\tTrain loss: 35.553 38.368 valid loss: 86.744 valid r2 hr 0.817 valid r2 map 0.777\n",
      "/data2/yinterian/multi-task-romain/models/model1_patient_r2_82_78.pth\n",
      "\tTrain loss: 31.309 34.495 valid loss: 84.154 valid r2 hr 0.820 valid r2 map 0.787\n",
      "/data2/yinterian/multi-task-romain/models/model1_patient_r2_82_79.pth\n",
      "\tTrain loss: 28.340 31.448 valid loss: 76.421 valid r2 hr 0.837 valid r2 map 0.806\n",
      "/data2/yinterian/multi-task-romain/models/model1_patient_r2_84_81.pth\n",
      "\tTrain loss: 25.611 29.124 valid loss: 72.184 valid r2 hr 0.846 valid r2 map 0.817\n",
      "/data2/yinterian/multi-task-romain/models/model1_patient_r2_85_82.pth\n",
      "\tTrain loss: 23.510 27.297 valid loss: 68.488 valid r2 hr 0.852 valid r2 map 0.829\n",
      "/data2/yinterian/multi-task-romain/models/model1_patient_r2_85_83.pth\n",
      "\tTrain loss: 21.731 25.513 valid loss: 64.028 valid r2 hr 0.859 valid r2 map 0.844\n",
      "/data2/yinterian/multi-task-romain/models/model1_patient_r2_86_84.pth\n",
      "\tTrain loss: 20.371 24.045 valid loss: 59.782 valid r2 hr 0.871 valid r2 map 0.850\n",
      "/data2/yinterian/multi-task-romain/models/model1_patient_r2_87_85.pth\n"
     ]
    }
   ],
   "source": [
    "# 0s in training\n",
    "model = EventModel1().cuda()\n",
    "optimizer = torch.optim.Adam(model.parameters(), lr=0.05, weight_decay=1e-5)\n",
    "train_epochs(model, train_ds, optimizer, filename=\"model1_patient\", epochs=15)"
   ]
  },
  {
   "cell_type": "code",
   "execution_count": 27,
   "metadata": {},
   "outputs": [
    {
     "name": "stdout",
     "output_type": "stream",
     "text": [
      "\tTrain loss: 21.742 24.150 valid loss: 52.532 valid r2 hr 0.888 valid r2 map 0.866\n",
      "/data2/yinterian/multi-task-romain/models/model1_r2_89_87.pth\n",
      "\tTrain loss: 16.358 19.778 valid loss: 40.725 valid r2 hr 0.913 valid r2 map 0.897\n",
      "/data2/yinterian/multi-task-romain/models/model1_r2_91_90.pth\n",
      "\tTrain loss: 14.122 16.895 valid loss: 34.320 valid r2 hr 0.927 valid r2 map 0.912\n",
      "/data2/yinterian/multi-task-romain/models/model1_r2_93_91.pth\n",
      "\tTrain loss: 17.706 19.842 valid loss: 31.056 valid r2 hr 0.937 valid r2 map 0.916\n",
      "/data2/yinterian/multi-task-romain/models/model1_r2_94_92.pth\n",
      "\tTrain loss: 11.397 14.482 valid loss: 27.272 valid r2 hr 0.946 valid r2 map 0.925\n",
      "/data2/yinterian/multi-task-romain/models/model1_r2_95_92.pth\n",
      "\tTrain loss: 10.576 13.584 valid loss: 24.942 valid r2 hr 0.949 valid r2 map 0.933\n",
      "/data2/yinterian/multi-task-romain/models/model1_r2_95_93.pth\n",
      "\tTrain loss: 9.819 12.988 valid loss: 22.978 valid r2 hr 0.956 valid r2 map 0.935\n",
      "/data2/yinterian/multi-task-romain/models/model1_r2_96_93.pth\n",
      "\tTrain loss: 9.596 12.643 valid loss: 22.126 valid r2 hr 0.959 valid r2 map 0.936\n",
      "/data2/yinterian/multi-task-romain/models/model1_r2_96_94.pth\n",
      "\tTrain loss: 9.041 12.130 valid loss: 20.409 valid r2 hr 0.962 valid r2 map 0.940\n",
      "/data2/yinterian/multi-task-romain/models/model1_r2_96_94.pth\n",
      "\tTrain loss: 8.723 11.696 valid loss: 19.709 valid r2 hr 0.964 valid r2 map 0.941\n",
      "/data2/yinterian/multi-task-romain/models/model1_r2_96_94.pth\n",
      "\tTrain loss: 8.532 11.446 valid loss: 19.048 valid r2 hr 0.967 valid r2 map 0.941\n",
      "/data2/yinterian/multi-task-romain/models/model1_r2_97_94.pth\n",
      "\tTrain loss: 8.303 11.134 valid loss: 18.782 valid r2 hr 0.966 valid r2 map 0.943\n",
      "\tTrain loss: 8.135 10.999 valid loss: 18.434 valid r2 hr 0.967 valid r2 map 0.944\n",
      "/data2/yinterian/multi-task-romain/models/model1_r2_97_94.pth\n",
      "\tTrain loss: 7.985 10.762 valid loss: 17.911 valid r2 hr 0.968 valid r2 map 0.945\n",
      "/data2/yinterian/multi-task-romain/models/model1_r2_97_95.pth\n",
      "\tTrain loss: 7.861 10.552 valid loss: 17.574 valid r2 hr 0.969 valid r2 map 0.946\n",
      "/data2/yinterian/multi-task-romain/models/model1_r2_97_95.pth\n",
      "\tTrain loss: 7.716 10.506 valid loss: 17.474 valid r2 hr 0.971 valid r2 map 0.944\n",
      "/data2/yinterian/multi-task-romain/models/model1_r2_97_94.pth\n",
      "\tTrain loss: 7.713 10.480 valid loss: 17.604 valid r2 hr 0.969 valid r2 map 0.946\n",
      "\tTrain loss: 7.638 10.348 valid loss: 17.270 valid r2 hr 0.970 valid r2 map 0.947\n",
      "\tTrain loss: 7.682 10.192 valid loss: 16.813 valid r2 hr 0.971 valid r2 map 0.947\n",
      "/data2/yinterian/multi-task-romain/models/model1_r2_97_95.pth\n",
      "\tTrain loss: 7.571 10.273 valid loss: 16.462 valid r2 hr 0.972 valid r2 map 0.948\n",
      "/data2/yinterian/multi-task-romain/models/model1_r2_97_95.pth\n"
     ]
    }
   ],
   "source": [
    "optimizer = torch.optim.Adam(model.parameters(), lr=0.03, weight_decay=1e-5)\n",
    "train_epochs(model, train_ds, optimizer,filename=\"model1\", epochs=20)"
   ]
  },
  {
   "cell_type": "markdown",
   "metadata": {},
   "source": [
    "### Model 2"
   ]
  },
  {
   "cell_type": "code",
   "execution_count": 31,
   "metadata": {},
   "outputs": [],
   "source": [
    "class EventModel2(nn.Module):\n",
    "    def __init__(self, hidden_size=100, num_units=6):\n",
    "        super(EventModel2, self).__init__()\n",
    "        self.embedding1 = nn.Embedding(num_units, 1)\n",
    "        self.embedding2 = nn.Embedding(num_subjects+1, 5)\n",
    "        self.gru = nn.GRU(5, hidden_size, batch_first=True)\n",
    "        self.num = hidden_size + 1 + 5 + 7\n",
    "        self.linear1 = nn.Linear(self.num, self.num)\n",
    "        self.out1 = nn.Linear(self.num, 1)\n",
    "        self.out2 = nn.Linear(self.num, 1)\n",
    "        self.bn1 = nn.BatchNorm1d(self.num)\n",
    "        \n",
    "    def forward(self, x_series, x_cont, x_cat):\n",
    "        _, ht = self.gru(x_series)\n",
    "        x_cat_1 = self.embedding1(x_cat[:,0])\n",
    "        x_cat_2 = self.embedding2(x_cat[:,1])\n",
    "        x = torch.cat((ht[-1], x_cat_1, x_cat_2, x_cont), 1)\n",
    "        x = self.bn1(F.relu(self.linear1(x)))\n",
    "        return self.out1(x), self.out2(x)"
   ]
  },
  {
   "cell_type": "code",
   "execution_count": 29,
   "metadata": {},
   "outputs": [
    {
     "name": "stdout",
     "output_type": "stream",
     "text": [
      "\tTrain loss: 6191.700 5543.153 valid loss: 4940.072 valid r2 hr -9.691 valid r2 map -11.325\n",
      "\tTrain loss: 1419.165 1277.304 valid loss: 1714.941 valid r2 hr -2.423 valid r2 map -3.689\n",
      "\tTrain loss: 521.641 507.940 valid loss: 196.272 valid r2 hr 0.595 valid r2 map 0.482\n",
      "\tTrain loss: 95.000 102.962 valid loss: 257.781 valid r2 hr 0.367 valid r2 map 0.463\n",
      "\tTrain loss: 51.205 52.618 valid loss: 97.898 valid r2 hr 0.915 valid r2 map 0.575\n",
      "/data2/yinterian/multi-task-romain/models/model2_r2_92_57.pth\n",
      "\tTrain loss: 31.816 36.475 valid loss: 22.789 valid r2 hr 0.960 valid r2 map 0.929\n",
      "/data2/yinterian/multi-task-romain/models/model2_r2_96_93.pth\n",
      "\tTrain loss: 16.062 19.079 valid loss: 19.409 valid r2 hr 0.964 valid r2 map 0.943\n",
      "/data2/yinterian/multi-task-romain/models/model2_r2_96_94.pth\n",
      "\tTrain loss: 9.765 12.008 valid loss: 21.577 valid r2 hr 0.965 valid r2 map 0.929\n",
      "/data2/yinterian/multi-task-romain/models/model2_r2_97_93.pth\n",
      "\tTrain loss: 8.064 10.762 valid loss: 20.647 valid r2 hr 0.963 valid r2 map 0.938\n",
      "\tTrain loss: 8.315 10.549 valid loss: 17.016 valid r2 hr 0.972 valid r2 map 0.944\n",
      "/data2/yinterian/multi-task-romain/models/model2_r2_97_94.pth\n",
      "\tTrain loss: 7.310 9.668 valid loss: 17.664 valid r2 hr 0.970 valid r2 map 0.944\n",
      "\tTrain loss: 7.061 9.562 valid loss: 14.996 valid r2 hr 0.976 valid r2 map 0.950\n",
      "/data2/yinterian/multi-task-romain/models/model2_r2_98_95.pth\n",
      "\tTrain loss: 6.735 9.020 valid loss: 15.654 valid r2 hr 0.976 valid r2 map 0.947\n",
      "\tTrain loss: 6.638 9.140 valid loss: 18.718 valid r2 hr 0.967 valid r2 map 0.943\n",
      "\tTrain loss: 6.718 8.977 valid loss: 14.972 valid r2 hr 0.976 valid r2 map 0.951\n"
     ]
    }
   ],
   "source": [
    "model = EventModel2().cuda()\n",
    "optimizer = torch.optim.Adam(model.parameters(), lr=0.05, weight_decay=1e-5)\n",
    "train_epochs(model, train_ds, optimizer, filename=\"model2\", epochs=15)"
   ]
  },
  {
   "cell_type": "code",
   "execution_count": 30,
   "metadata": {},
   "outputs": [
    {
     "name": "stdout",
     "output_type": "stream",
     "text": [
      "\tTrain loss: 29.093 34.908 valid loss: 119.992 valid r2 hr 0.771 valid r2 map 0.657\n",
      "/data2/yinterian/multi-task-romain/models/model2_r2_77_66.pth\n",
      "\tTrain loss: 13.057 15.308 valid loss: 36.282 valid r2 hr 0.922 valid r2 map 0.908\n",
      "/data2/yinterian/multi-task-romain/models/model2_r2_92_91.pth\n",
      "\tTrain loss: 9.540 11.968 valid loss: 19.159 valid r2 hr 0.969 valid r2 map 0.938\n",
      "/data2/yinterian/multi-task-romain/models/model2_r2_97_94.pth\n",
      "\tTrain loss: 7.357 10.090 valid loss: 16.732 valid r2 hr 0.974 valid r2 map 0.943\n",
      "/data2/yinterian/multi-task-romain/models/model2_r2_97_94.pth\n",
      "\tTrain loss: 7.026 9.448 valid loss: 15.284 valid r2 hr 0.975 valid r2 map 0.950\n",
      "/data2/yinterian/multi-task-romain/models/model2_r2_98_95.pth\n",
      "\tTrain loss: 6.548 8.765 valid loss: 15.336 valid r2 hr 0.974 valid r2 map 0.951\n",
      "\tTrain loss: 6.543 8.747 valid loss: 14.753 valid r2 hr 0.977 valid r2 map 0.951\n",
      "/data2/yinterian/multi-task-romain/models/model2_r2_98_95.pth\n",
      "\tTrain loss: 6.104 8.669 valid loss: 14.135 valid r2 hr 0.978 valid r2 map 0.953\n",
      "/data2/yinterian/multi-task-romain/models/model2_r2_98_95.pth\n",
      "\tTrain loss: 6.064 8.280 valid loss: 14.184 valid r2 hr 0.977 valid r2 map 0.953\n",
      "\tTrain loss: 6.223 8.373 valid loss: 15.266 valid r2 hr 0.975 valid r2 map 0.951\n",
      "\tTrain loss: 6.273 8.698 valid loss: 15.176 valid r2 hr 0.974 valid r2 map 0.952\n",
      "\tTrain loss: 6.368 8.546 valid loss: 16.041 valid r2 hr 0.975 valid r2 map 0.946\n",
      "\tTrain loss: 6.217 8.450 valid loss: 15.027 valid r2 hr 0.974 valid r2 map 0.953\n",
      "\tTrain loss: 6.407 8.425 valid loss: 16.604 valid r2 hr 0.972 valid r2 map 0.947\n",
      "\tTrain loss: 6.283 8.612 valid loss: 15.525 valid r2 hr 0.974 valid r2 map 0.950\n",
      "\tTrain loss: 6.368 8.379 valid loss: 15.024 valid r2 hr 0.977 valid r2 map 0.949\n",
      "\tTrain loss: 6.299 8.401 valid loss: 14.750 valid r2 hr 0.976 valid r2 map 0.951\n",
      "\tTrain loss: 6.311 8.139 valid loss: 13.967 valid r2 hr 0.978 valid r2 map 0.953\n",
      "/data2/yinterian/multi-task-romain/models/model2_r2_98_95.pth\n",
      "\tTrain loss: 6.411 8.055 valid loss: 15.578 valid r2 hr 0.975 valid r2 map 0.949\n",
      "\tTrain loss: 5.995 8.133 valid loss: 14.247 valid r2 hr 0.977 valid r2 map 0.953\n"
     ]
    }
   ],
   "source": [
    "optimizer = torch.optim.Adam(model.parameters(), lr=0.03, weight_decay=1e-5)\n",
    "train_epochs(model, train_ds, optimizer, filename=\"model2\", epochs=20)"
   ]
  },
  {
   "cell_type": "code",
   "execution_count": 31,
   "metadata": {},
   "outputs": [
    {
     "name": "stdout",
     "output_type": "stream",
     "text": [
      "\tTrain loss: 5.848 7.977 valid loss: 14.660 valid r2 hr 0.977 valid r2 map 0.951\n",
      "/data2/yinterian/multi-task-romain/models/model2_r2_98_95.pth\n",
      "\tTrain loss: 5.696 7.827 valid loss: 14.806 valid r2 hr 0.976 valid r2 map 0.952\n",
      "\tTrain loss: 6.034 8.107 valid loss: 16.833 valid r2 hr 0.970 valid r2 map 0.948\n",
      "\tTrain loss: 5.729 7.845 valid loss: 16.640 valid r2 hr 0.972 valid r2 map 0.947\n",
      "\tTrain loss: 5.905 8.009 valid loss: 14.851 valid r2 hr 0.978 valid r2 map 0.949\n",
      "/data2/yinterian/multi-task-romain/models/model2_r2_98_95.pth\n",
      "\tTrain loss: 5.354 7.799 valid loss: 14.490 valid r2 hr 0.978 valid r2 map 0.951\n",
      "/data2/yinterian/multi-task-romain/models/model2_r2_98_95.pth\n",
      "\tTrain loss: 5.961 7.699 valid loss: 15.103 valid r2 hr 0.974 valid r2 map 0.953\n",
      "\tTrain loss: 5.317 7.423 valid loss: 16.778 valid r2 hr 0.969 valid r2 map 0.951\n",
      "\tTrain loss: 5.418 7.532 valid loss: 15.748 valid r2 hr 0.972 valid r2 map 0.952\n",
      "\tTrain loss: 5.528 7.475 valid loss: 15.005 valid r2 hr 0.977 valid r2 map 0.950\n"
     ]
    }
   ],
   "source": [
    "train_epochs(model, train_ds, optimizer, filename=\"model2\", epochs=10)"
   ]
  },
  {
   "cell_type": "markdown",
   "metadata": {},
   "source": [
    "## Model 3"
   ]
  },
  {
   "cell_type": "code",
   "execution_count": 26,
   "metadata": {},
   "outputs": [],
   "source": [
    "class EventModel3(nn.Module):\n",
    "    def __init__(self, hidden_size=100, num2=50, num_units=5):\n",
    "        super(EventModel3, self).__init__()\n",
    "        self.embedding1 = nn.Embedding(num_units, 1)\n",
    "        self.embedding2 = nn.Embedding(num_subjects+1, 5)\n",
    "        self.gru = nn.GRU(5, hidden_size, batch_first=True)\n",
    "        self.num1 = hidden_size + 1 + 5 + 7\n",
    "        self.num2 = num2\n",
    "        self.linear1 = nn.Linear(self.num1, self.num2)\n",
    "        self.linear2 = nn.Linear(self.num2, self.num2)\n",
    "        self.out1 = nn.Linear(self.num2, 1)\n",
    "        self.out2 = nn.Linear(self.num2, 1)\n",
    "        self.bn1 = nn.BatchNorm1d(self.num2)\n",
    "        self.bn2 = nn.BatchNorm1d(self.num2)\n",
    "        \n",
    "    def forward(self, x_series, x_cont, x_cat):\n",
    "        _, ht = self.gru(x_series)\n",
    "        x_cat_1 = self.embedding1(x_cat[:,0])\n",
    "        x_cat_2 = self.embedding2(x_cat[:,1])\n",
    "        x = torch.cat((ht[-1], x_cat_1, x_cat_2, x_cont), 1)\n",
    "        x = self.bn1(F.relu(self.linear1(x)))\n",
    "        x = self.bn2(F.relu(self.linear2(x)))\n",
    "        return self.out1(x), self.out2(x)"
   ]
  },
  {
   "cell_type": "code",
   "execution_count": 27,
   "metadata": {},
   "outputs": [
    {
     "name": "stdout",
     "output_type": "stream",
     "text": [
      "\tTrain loss: 6885.198 6141.245 valid loss: 14296.170 valid r2 hr -28.772 valid r2 map -36.329\n",
      "\tTrain loss: 5649.875 4997.138 valid loss: 10450.174 valid r2 hr -20.288 valid r2 map -26.963\n",
      "\tTrain loss: 3251.571 2747.373 valid loss: 4037.307 valid r2 hr -7.317 valid r2 map -9.671\n",
      "\tTrain loss: 747.598 540.846 valid loss: 190.294 valid r2 hr 0.545 valid r2 map 0.587\n",
      "\tTrain loss: 76.875 115.111 valid loss: 143.595 valid r2 hr 0.738 valid r2 map 0.572\n",
      "/data2/yinterian/multi-task-romain/models/model3_r2_74_57.pth\n",
      "\tTrain loss: 124.337 131.782 valid loss: 20.814 valid r2 hr 0.959 valid r2 map 0.942\n",
      "/data2/yinterian/multi-task-romain/models/model3_r2_96_94.pth\n",
      "\tTrain loss: 14.158 19.591 valid loss: 62.103 valid r2 hr 0.905 valid r2 map 0.789\n",
      "\tTrain loss: 21.620 29.566 valid loss: 19.124 valid r2 hr 0.971 valid r2 map 0.934\n",
      "/data2/yinterian/multi-task-romain/models/model3_r2_97_93.pth\n",
      "\tTrain loss: 8.930 12.403 valid loss: 23.069 valid r2 hr 0.963 valid r2 map 0.923\n",
      "\tTrain loss: 9.632 12.969 valid loss: 14.791 valid r2 hr 0.978 valid r2 map 0.948\n",
      "/data2/yinterian/multi-task-romain/models/model3_r2_98_95.pth\n",
      "\tTrain loss: 7.513 10.517 valid loss: 14.894 valid r2 hr 0.978 valid r2 map 0.949\n",
      "\tTrain loss: 7.373 10.308 valid loss: 18.377 valid r2 hr 0.968 valid r2 map 0.942\n",
      "\tTrain loss: 7.360 10.278 valid loss: 15.778 valid r2 hr 0.975 valid r2 map 0.948\n",
      "\tTrain loss: 7.251 9.931 valid loss: 15.579 valid r2 hr 0.978 valid r2 map 0.945\n",
      "\tTrain loss: 6.632 9.259 valid loss: 15.844 valid r2 hr 0.976 valid r2 map 0.946\n"
     ]
    }
   ],
   "source": [
    "model = EventModel3().cuda()\n",
    "optimizer = torch.optim.Adam(model.parameters(), lr=0.03, weight_decay=1e-5)\n",
    "train_epochs(model, train_ds, optimizer, filename=\"model3\", epochs=15)"
   ]
  },
  {
   "cell_type": "code",
   "execution_count": 28,
   "metadata": {},
   "outputs": [
    {
     "name": "stdout",
     "output_type": "stream",
     "text": [
      "\tTrain loss: 29.170 27.849 valid loss: 73.702 valid r2 hr 0.866 valid r2 map 0.780\n",
      "/data2/yinterian/multi-task-romain/models/model3_r2_87_78.pth\n",
      "\tTrain loss: 12.015 16.165 valid loss: 22.447 valid r2 hr 0.964 valid r2 map 0.926\n",
      "/data2/yinterian/multi-task-romain/models/model3_r2_96_93.pth\n",
      "\tTrain loss: 8.357 11.164 valid loss: 21.433 valid r2 hr 0.965 valid r2 map 0.930\n",
      "/data2/yinterian/multi-task-romain/models/model3_r2_97_93.pth\n",
      "\tTrain loss: 7.504 9.814 valid loss: 15.032 valid r2 hr 0.977 valid r2 map 0.949\n",
      "/data2/yinterian/multi-task-romain/models/model3_r2_98_95.pth\n",
      "\tTrain loss: 6.768 9.472 valid loss: 14.164 valid r2 hr 0.979 valid r2 map 0.951\n",
      "/data2/yinterian/multi-task-romain/models/model3_r2_98_95.pth\n",
      "\tTrain loss: 6.480 9.068 valid loss: 13.903 valid r2 hr 0.979 valid r2 map 0.952\n",
      "\tTrain loss: 6.636 8.851 valid loss: 14.117 valid r2 hr 0.978 valid r2 map 0.952\n",
      "\tTrain loss: 6.411 8.843 valid loss: 14.475 valid r2 hr 0.978 valid r2 map 0.951\n",
      "\tTrain loss: 6.294 8.637 valid loss: 14.195 valid r2 hr 0.978 valid r2 map 0.952\n",
      "\tTrain loss: 6.446 8.947 valid loss: 18.845 valid r2 hr 0.971 valid r2 map 0.937\n",
      "\tTrain loss: 6.319 8.704 valid loss: 14.696 valid r2 hr 0.979 valid r2 map 0.949\n",
      "\tTrain loss: 6.078 8.313 valid loss: 14.937 valid r2 hr 0.977 valid r2 map 0.949\n",
      "\tTrain loss: 5.956 8.347 valid loss: 14.648 valid r2 hr 0.978 valid r2 map 0.950\n",
      "\tTrain loss: 5.818 8.245 valid loss: 14.026 valid r2 hr 0.979 valid r2 map 0.951\n",
      "/data2/yinterian/multi-task-romain/models/model3_r2_98_95.pth\n",
      "\tTrain loss: 5.775 7.959 valid loss: 14.231 valid r2 hr 0.979 valid r2 map 0.951\n"
     ]
    }
   ],
   "source": [
    "optimizer = torch.optim.Adam(model.parameters(), lr=0.02, weight_decay=1e-5)\n",
    "train_epochs(model, train_ds, optimizer, filename=\"model3\", epochs=15)"
   ]
  },
  {
   "cell_type": "markdown",
   "metadata": {},
   "source": [
    "## Calibration plot"
   ]
  },
  {
   "cell_type": "code",
   "execution_count": 29,
   "metadata": {},
   "outputs": [],
   "source": [
    "path = PATH/\"models/model3_r2_98_95.pth\"\n",
    "model = EventModel3().cuda()\n",
    "load_model(model, path)"
   ]
  },
  {
   "cell_type": "code",
   "execution_count": 30,
   "metadata": {},
   "outputs": [],
   "source": [
    "# external data\n",
    "filename = \"data_validation_5min.pickle\"\n",
    "with open(PATH/filename, 'rb') as f:\n",
    "    test_ext = pickle.load(f)"
   ]
  },
  {
   "cell_type": "code",
   "execution_count": 31,
   "metadata": {},
   "outputs": [
    {
     "name": "stdout",
     "output_type": "stream",
     "text": [
      "data_test_5min.pickle\n"
     ]
    }
   ],
   "source": [
    "filename = \"data_test_{gap}.pickle\".format(gap=gap)\n",
    "with open(PATH/filename, 'rb') as f:\n",
    "    test = pickle.load(f)\n",
    "print(filename)"
   ]
  },
  {
   "cell_type": "code",
   "execution_count": 32,
   "metadata": {},
   "outputs": [
    {
     "data": {
      "text/plain": [
       "{1: 0, 2: 1, 3: 2, 5: 3, 6: 4}"
      ]
     },
     "execution_count": 32,
     "metadata": {},
     "output_type": "execute_result"
    }
   ],
   "source": [
    "care2id"
   ]
  },
  {
   "cell_type": "code",
   "execution_count": 33,
   "metadata": {},
   "outputs": [
    {
     "data": {
      "text/plain": [
       "((8233, 14), 3757, 702)"
      ]
     },
     "execution_count": 33,
     "metadata": {},
     "output_type": "execute_result"
    }
   ],
   "source": [
    "test_ds = MultiTask(test, norm_dict, id2index, care2id, k=13, train=False)\n",
    "test_ext_ds = MultiTask(test_ext, norm_dict, id2index, care2id, k=13, train=False)\n",
    "test.shape, len(test_ds), len(test_ext_ds)"
   ]
  },
  {
   "cell_type": "code",
   "execution_count": 34,
   "metadata": {},
   "outputs": [],
   "source": [
    "test_dl = DataLoader(test_ds, batch_size=len(test_ds))\n",
    "test_ext_dl = DataLoader(test_ext_ds, batch_size=len(test_ext_ds))"
   ]
  },
  {
   "cell_type": "code",
   "execution_count": 35,
   "metadata": {},
   "outputs": [
    {
     "data": {
      "text/plain": [
       "(16.702987670898438, 0.9750842279071364, 0.9499048382493396)"
      ]
     },
     "execution_count": 35,
     "metadata": {},
     "output_type": "execute_result"
    }
   ],
   "source": [
    "val_metrics(model, test_dl)"
   ]
  },
  {
   "cell_type": "code",
   "execution_count": 36,
   "metadata": {},
   "outputs": [
    {
     "data": {
      "text/plain": [
       "(101.68622589111328, 0.8938414040295823, 0.8166751889489203)"
      ]
     },
     "execution_count": 36,
     "metadata": {},
     "output_type": "execute_result"
    }
   ],
   "source": [
    "val_metrics(model, test_ext_dl)"
   ]
  },
  {
   "cell_type": "code",
   "execution_count": 69,
   "metadata": {},
   "outputs": [],
   "source": [
    "x_series, x_cont, x_cat, y1, y2 = next(iter(test_ext_dl))"
   ]
  },
  {
   "cell_type": "code",
   "execution_count": 70,
   "metadata": {},
   "outputs": [
    {
     "data": {
      "text/plain": [
       "(torch.Size([702, 30, 5]), torch.Size([702, 7]), torch.Size([702, 2]))"
      ]
     },
     "execution_count": 70,
     "metadata": {},
     "output_type": "execute_result"
    }
   ],
   "source": [
    "x_series.shape, x_cont.shape, x_cat.shape"
   ]
  },
  {
   "cell_type": "code",
   "execution_count": 71,
   "metadata": {},
   "outputs": [],
   "source": [
    "batch = y1.shape[0]\n",
    "x_series = x_series.float().cuda()\n",
    "x_cont = x_cont.float().cuda()\n",
    "x_cat = x_cat.long().cuda()\n",
    "y1 = y1.float().cuda()\n",
    "y2 = y2.float().cuda()\n",
    "out1, out2 = model(x_series, x_cont, x_cat)\n",
    "mse_loss1 = F.mse_loss(out1, y1.unsqueeze(-1))\n",
    "mse_loss2 = F.mse_loss(out2, y2.unsqueeze(-1))\n",
    "loss = mse_loss1 + mse_loss2\n",
    "        \n",
    "y_hat1 = out1.view(-1).detach().cpu().numpy()\n",
    "ys1 = y1.view(-1).cpu().numpy()\n",
    "y_hat2 = out2.view(-1).detach().cpu().numpy()\n",
    "ys2 =(y2.view(-1).cpu().numpy())"
   ]
  },
  {
   "cell_type": "code",
   "execution_count": 74,
   "metadata": {},
   "outputs": [
    {
     "data": {
      "text/plain": [
       "tensor([[-0.8230,  0.1888, -1.9639,  0.1007, -0.5254],\n",
       "        [-0.8230,  0.1888, -1.9639,  0.1007, -0.5254],\n",
       "        [-0.6988,  0.1888, -1.8700,  0.1821, -0.3859],\n",
       "        [-0.6988,  0.1888, -1.8700,  0.2635, -0.3161],\n",
       "        [-0.8230,  0.1888, -1.8700,  0.2635, -0.3161],\n",
       "        [-0.6988,  0.1888, -1.8230,  0.4264, -0.2463],\n",
       "        [-0.7609,  0.1888, -1.8230,  0.4264, -0.2463],\n",
       "        [-0.6988,  0.1888, -1.9169,  0.3449, -0.3161],\n",
       "        [-0.6988,  0.1888, -1.9169,  0.2635, -0.3859],\n",
       "        [-0.6988,  0.1888, -1.9169,  0.2635, -0.3859],\n",
       "        [-0.4504,  0.2466,  0.5256,  2.2173,  1.3590],\n",
       "        [-0.1399,  0.0734, -1.6821,  0.7520,  0.0329],\n",
       "        [-0.5125,  0.0734, -1.9169,  0.3449, -0.3161],\n",
       "        [-0.6367,  0.1311, -1.9639,  0.2635, -0.3859],\n",
       "        [-0.3262,  0.1888, -2.0109,  0.2635, -0.3859],\n",
       "        [-0.0778,  0.1888, -1.9639,  0.3449, -0.3859],\n",
       "        [-0.4504,  0.1888, -2.0109,  0.2635, -0.3859],\n",
       "        [-0.5746,  0.1888, -2.0109,  0.2635, -0.4557],\n",
       "        [-0.5125,  0.1888, -2.0578,  0.2635, -0.4557],\n",
       "        [-0.5125,  0.1888, -2.0109,  0.3449, -0.3859],\n",
       "        [-0.3883,  0.1888, -1.9169,  0.4264, -0.3161],\n",
       "        [-0.3883,  0.1888, -1.9639,  0.4264, -0.3161],\n",
       "        [ 0.2948,  0.1888, -1.7760,  0.7520, -0.0369],\n",
       "        [-0.3262,  0.1888, -1.9169,  0.5078, -0.2463],\n",
       "        [-0.2641,  0.1888, -1.9169,  0.5892, -0.2463],\n",
       "        [-0.2020,  0.1311, -1.8700,  0.5892, -0.1765],\n",
       "        [-0.1399,  0.1311, -1.8700,  0.5892, -0.1765],\n",
       "        [-0.1399,  0.1311, -1.8700,  0.5892, -0.1765],\n",
       "        [ 0.3569,  0.0157, -1.8230,  0.5892, -0.1067],\n",
       "        [-0.1399, -0.0421, -1.8700,  0.6706, -0.1765]], device='cuda:0')"
      ]
     },
     "execution_count": 74,
     "metadata": {},
     "output_type": "execute_result"
    }
   ],
   "source": [
    "x_series[258,:]"
   ]
  },
  {
   "cell_type": "code",
   "execution_count": 79,
   "metadata": {},
   "outputs": [
    {
     "data": {
      "text/plain": [
       "array([92.8, 89.2, 77.4, 93. , 92.8, 70.4, 74.6, 92.8, 81. , 93. , 70. ,\n",
       "       83.6, 61.2, 88.4, 80. , 77.2, 76.4, 76.4, 80. , 63.4],\n",
       "      dtype=float32)"
      ]
     },
     "execution_count": 79,
     "metadata": {},
     "output_type": "execute_result"
    }
   ],
   "source": [
    "ys1[:20]"
   ]
  },
  {
   "cell_type": "code",
   "execution_count": 73,
   "metadata": {},
   "outputs": [
    {
     "data": {
      "text/plain": [
       "array([[258],\n",
       "       [521]])"
      ]
     },
     "execution_count": 73,
     "metadata": {},
     "output_type": "execute_result"
    }
   ],
   "source": [
    "np.argwhere(np.isnan(ys1))"
   ]
  },
  {
   "cell_type": "code",
   "execution_count": 37,
   "metadata": {},
   "outputs": [
    {
     "ename": "ValueError",
     "evalue": "Input contains NaN, infinity or a value too large for dtype('float32').",
     "output_type": "error",
     "traceback": [
      "\u001b[0;31m---------------------------------------------------------------------------\u001b[0m",
      "\u001b[0;31mValueError\u001b[0m                                Traceback (most recent call last)",
      "\u001b[0;32m<ipython-input-37-51949e33ecd9>\u001b[0m in \u001b[0;36m<module>\u001b[0;34m\u001b[0m\n\u001b[0;32m----> 1\u001b[0;31m \u001b[0mval_metrics\u001b[0m\u001b[0;34m(\u001b[0m\u001b[0mmodel\u001b[0m\u001b[0;34m,\u001b[0m \u001b[0mtest_ext_dl\u001b[0m\u001b[0;34m)\u001b[0m\u001b[0;34m\u001b[0m\u001b[0;34m\u001b[0m\u001b[0m\n\u001b[0m",
      "\u001b[0;32m<ipython-input-20-fdf2e7237d66>\u001b[0m in \u001b[0;36mval_metrics\u001b[0;34m(model, valid_dl)\u001b[0m\n\u001b[1;32m     29\u001b[0m     \u001b[0mys1\u001b[0m \u001b[0;34m=\u001b[0m \u001b[0mnp\u001b[0m\u001b[0;34m.\u001b[0m\u001b[0mconcatenate\u001b[0m\u001b[0;34m(\u001b[0m\u001b[0mys1\u001b[0m\u001b[0;34m)\u001b[0m\u001b[0;34m\u001b[0m\u001b[0;34m\u001b[0m\u001b[0m\n\u001b[1;32m     30\u001b[0m     \u001b[0mys2\u001b[0m \u001b[0;34m=\u001b[0m \u001b[0mnp\u001b[0m\u001b[0;34m.\u001b[0m\u001b[0mconcatenate\u001b[0m\u001b[0;34m(\u001b[0m\u001b[0mys2\u001b[0m\u001b[0;34m)\u001b[0m\u001b[0;34m\u001b[0m\u001b[0;34m\u001b[0m\u001b[0m\n\u001b[0;32m---> 31\u001b[0;31m     \u001b[0mr2_1\u001b[0m \u001b[0;34m=\u001b[0m \u001b[0mmetrics\u001b[0m\u001b[0;34m.\u001b[0m\u001b[0mr2_score\u001b[0m\u001b[0;34m(\u001b[0m\u001b[0mys1\u001b[0m\u001b[0;34m,\u001b[0m \u001b[0my_hat1\u001b[0m\u001b[0;34m)\u001b[0m\u001b[0;34m\u001b[0m\u001b[0;34m\u001b[0m\u001b[0m\n\u001b[0m\u001b[1;32m     32\u001b[0m     \u001b[0mr2_2\u001b[0m \u001b[0;34m=\u001b[0m \u001b[0mmetrics\u001b[0m\u001b[0;34m.\u001b[0m\u001b[0mr2_score\u001b[0m\u001b[0;34m(\u001b[0m\u001b[0mys2\u001b[0m\u001b[0;34m,\u001b[0m \u001b[0my_hat2\u001b[0m\u001b[0;34m)\u001b[0m\u001b[0;34m\u001b[0m\u001b[0;34m\u001b[0m\u001b[0m\n\u001b[1;32m     33\u001b[0m     \u001b[0;32mreturn\u001b[0m \u001b[0msum_loss\u001b[0m\u001b[0;34m/\u001b[0m\u001b[0mtotal\u001b[0m\u001b[0;34m,\u001b[0m \u001b[0mr2_1\u001b[0m\u001b[0;34m,\u001b[0m \u001b[0mr2_2\u001b[0m\u001b[0;34m\u001b[0m\u001b[0;34m\u001b[0m\u001b[0m\n",
      "\u001b[0;32m~/anaconda3/lib/python3.7/site-packages/sklearn/metrics/_regression.py\u001b[0m in \u001b[0;36mr2_score\u001b[0;34m(y_true, y_pred, sample_weight, multioutput)\u001b[0m\n\u001b[1;32m    575\u001b[0m     \"\"\"\n\u001b[1;32m    576\u001b[0m     y_type, y_true, y_pred, multioutput = _check_reg_targets(\n\u001b[0;32m--> 577\u001b[0;31m         y_true, y_pred, multioutput)\n\u001b[0m\u001b[1;32m    578\u001b[0m     \u001b[0mcheck_consistent_length\u001b[0m\u001b[0;34m(\u001b[0m\u001b[0my_true\u001b[0m\u001b[0;34m,\u001b[0m \u001b[0my_pred\u001b[0m\u001b[0;34m,\u001b[0m \u001b[0msample_weight\u001b[0m\u001b[0;34m)\u001b[0m\u001b[0;34m\u001b[0m\u001b[0;34m\u001b[0m\u001b[0m\n\u001b[1;32m    579\u001b[0m \u001b[0;34m\u001b[0m\u001b[0m\n",
      "\u001b[0;32m~/anaconda3/lib/python3.7/site-packages/sklearn/metrics/_regression.py\u001b[0m in \u001b[0;36m_check_reg_targets\u001b[0;34m(y_true, y_pred, multioutput, dtype)\u001b[0m\n\u001b[1;32m     83\u001b[0m     \"\"\"\n\u001b[1;32m     84\u001b[0m     \u001b[0mcheck_consistent_length\u001b[0m\u001b[0;34m(\u001b[0m\u001b[0my_true\u001b[0m\u001b[0;34m,\u001b[0m \u001b[0my_pred\u001b[0m\u001b[0;34m)\u001b[0m\u001b[0;34m\u001b[0m\u001b[0;34m\u001b[0m\u001b[0m\n\u001b[0;32m---> 85\u001b[0;31m     \u001b[0my_true\u001b[0m \u001b[0;34m=\u001b[0m \u001b[0mcheck_array\u001b[0m\u001b[0;34m(\u001b[0m\u001b[0my_true\u001b[0m\u001b[0;34m,\u001b[0m \u001b[0mensure_2d\u001b[0m\u001b[0;34m=\u001b[0m\u001b[0;32mFalse\u001b[0m\u001b[0;34m,\u001b[0m \u001b[0mdtype\u001b[0m\u001b[0;34m=\u001b[0m\u001b[0mdtype\u001b[0m\u001b[0;34m)\u001b[0m\u001b[0;34m\u001b[0m\u001b[0;34m\u001b[0m\u001b[0m\n\u001b[0m\u001b[1;32m     86\u001b[0m     \u001b[0my_pred\u001b[0m \u001b[0;34m=\u001b[0m \u001b[0mcheck_array\u001b[0m\u001b[0;34m(\u001b[0m\u001b[0my_pred\u001b[0m\u001b[0;34m,\u001b[0m \u001b[0mensure_2d\u001b[0m\u001b[0;34m=\u001b[0m\u001b[0;32mFalse\u001b[0m\u001b[0;34m,\u001b[0m \u001b[0mdtype\u001b[0m\u001b[0;34m=\u001b[0m\u001b[0mdtype\u001b[0m\u001b[0;34m)\u001b[0m\u001b[0;34m\u001b[0m\u001b[0;34m\u001b[0m\u001b[0m\n\u001b[1;32m     87\u001b[0m \u001b[0;34m\u001b[0m\u001b[0m\n",
      "\u001b[0;32m~/anaconda3/lib/python3.7/site-packages/sklearn/utils/validation.py\u001b[0m in \u001b[0;36mcheck_array\u001b[0;34m(array, accept_sparse, accept_large_sparse, dtype, order, copy, force_all_finite, ensure_2d, allow_nd, ensure_min_samples, ensure_min_features, warn_on_dtype, estimator)\u001b[0m\n\u001b[1;32m    576\u001b[0m         \u001b[0;32mif\u001b[0m \u001b[0mforce_all_finite\u001b[0m\u001b[0;34m:\u001b[0m\u001b[0;34m\u001b[0m\u001b[0;34m\u001b[0m\u001b[0m\n\u001b[1;32m    577\u001b[0m             _assert_all_finite(array,\n\u001b[0;32m--> 578\u001b[0;31m                                allow_nan=force_all_finite == 'allow-nan')\n\u001b[0m\u001b[1;32m    579\u001b[0m \u001b[0;34m\u001b[0m\u001b[0m\n\u001b[1;32m    580\u001b[0m     \u001b[0;32mif\u001b[0m \u001b[0mensure_min_samples\u001b[0m \u001b[0;34m>\u001b[0m \u001b[0;36m0\u001b[0m\u001b[0;34m:\u001b[0m\u001b[0;34m\u001b[0m\u001b[0;34m\u001b[0m\u001b[0m\n",
      "\u001b[0;32m~/anaconda3/lib/python3.7/site-packages/sklearn/utils/validation.py\u001b[0m in \u001b[0;36m_assert_all_finite\u001b[0;34m(X, allow_nan, msg_dtype)\u001b[0m\n\u001b[1;32m     58\u001b[0m                     \u001b[0mmsg_err\u001b[0m\u001b[0;34m.\u001b[0m\u001b[0mformat\u001b[0m\u001b[0;34m\u001b[0m\u001b[0;34m\u001b[0m\u001b[0m\n\u001b[1;32m     59\u001b[0m                     (type_err,\n\u001b[0;32m---> 60\u001b[0;31m                      msg_dtype if msg_dtype is not None else X.dtype)\n\u001b[0m\u001b[1;32m     61\u001b[0m             )\n\u001b[1;32m     62\u001b[0m     \u001b[0;31m# for object dtype data, we only check for NaNs (GH-13254)\u001b[0m\u001b[0;34m\u001b[0m\u001b[0;34m\u001b[0m\u001b[0;34m\u001b[0m\u001b[0m\n",
      "\u001b[0;31mValueError\u001b[0m: Input contains NaN, infinity or a value too large for dtype('float32')."
     ]
    }
   ],
   "source": [
    "val_metrics(model, test_ext_dl)"
   ]
  },
  {
   "cell_type": "code",
   "execution_count": 58,
   "metadata": {},
   "outputs": [],
   "source": [
    "def predict_one_batch(model, dl):\n",
    "    for x_series, x_cont, x_cat, y1, y2 in dl:\n",
    "        x_series = x_series.float().cuda()\n",
    "        x_cont = x_cont.float().cuda()\n",
    "        x_cat = x_cat.long().cuda()\n",
    "        y1 = y1.float().cuda()\n",
    "        y2 = y2.float().cuda()\n",
    "        out1, out2 = model(x_series, x_cont, x_cat)\n",
    "    return out1.detach().cpu().numpy(), out2.detach().cpu().numpy(), y1.detach().cpu().numpy(), y2.detach().cpu().numpy()"
   ]
  },
  {
   "cell_type": "code",
   "execution_count": 59,
   "metadata": {},
   "outputs": [],
   "source": [
    "out1, out2, y1, y2 = predict_one_batch(model, test_dl)"
   ]
  },
  {
   "cell_type": "code",
   "execution_count": 60,
   "metadata": {},
   "outputs": [
    {
     "data": {
      "image/png": "[encoded data removed]",
      "text/plain": [
       "<Figure size 432x288 with 1 Axes>"
      ]
     },
     "metadata": {
      "needs_background": "light"
     },
     "output_type": "display_data"
    }
   ],
   "source": [
    "x = np.linspace(50, 160, 1000)\n",
    "plt.plot(out1, y1, 'bo', ms=5)\n",
    "plt.xlabel(\"Predicted\")\n",
    "plt.ylabel(\"Actual\")\n",
    "plt.title(\"mean_HR on test\")\n",
    "plt.plot(x, x, '-g')\n",
    "plt.show()"
   ]
  },
  {
   "cell_type": "code",
   "execution_count": 61,
   "metadata": {},
   "outputs": [
    {
     "data": {
      "image/png": "[encoded data removed]",
      "text/plain": [
       "<Figure size 432x288 with 1 Axes>"
      ]
     },
     "metadata": {
      "needs_background": "light"
     },
     "output_type": "display_data"
    }
   ],
   "source": [
    "x = np.linspace(50, 140, 1000)\n",
    "plt.plot(out2, y2, 'bo', ms=5)\n",
    "plt.xlabel(\"Predicted\")\n",
    "plt.ylabel(\"Actual\")\n",
    "plt.title(\"mean_MAP on test\")\n",
    "plt.plot(x, x, '-g')\n",
    "plt.show()"
   ]
  },
  {
   "cell_type": "code",
   "execution_count": null,
   "metadata": {},
   "outputs": [],
   "source": []
  }
 ],
 "metadata": {
  "kernelspec": {
   "display_name": "Python 3",
   "language": "python",
   "name": "python3"
  },
  "language_info": {
   "codemirror_mode": {
    "name": "ipython",
    "version": 3
   },
   "file_extension": ".py",
   "mimetype": "text/x-python",
   "name": "python",
   "nbconvert_exporter": "python",
   "pygments_lexer": "ipython3",
   "version": "3.7.6"
  }
 },
 "nbformat": 4,
 "nbformat_minor": 2
}
