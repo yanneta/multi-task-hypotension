{
 "cells": [
  {
   "cell_type": "code",
   "execution_count": 1,
   "metadata": {},
   "outputs": [],
   "source": [
    "%reload_ext autoreload\n",
    "%autoreload 2\n",
    "%matplotlib inline\n",
    "\n",
    "from utils import *\n",
    "\n",
    "import matplotlib\n",
    "import matplotlib.pyplot as plt\n",
    "\n",
    "import pandas as pd\n",
    "\n",
    "from datetime import datetime\n",
    "from collections import OrderedDict"
   ]
  },
  {
   "cell_type": "code",
   "execution_count": 2,
   "metadata": {},
   "outputs": [],
   "source": [
    "PATH = Path(\"/data2/yinterian/multi-task-romain\")"
   ]
  },
  {
   "cell_type": "code",
   "execution_count": 3,
   "metadata": {},
   "outputs": [],
   "source": [
    "train, valid = get_data_gap(PATH, gap=\"30min\")"
   ]
  },
  {
   "cell_type": "code",
   "execution_count": 4,
   "metadata": {},
   "outputs": [
    {
     "data": {
      "text/plain": [
       "((23778, 17), (2578, 17))"
      ]
     },
     "execution_count": 4,
     "metadata": {},
     "output_type": "execute_result"
    }
   ],
   "source": [
    "train.shape, valid.shape"
   ]
  },
  {
   "cell_type": "code",
   "execution_count": 5,
   "metadata": {},
   "outputs": [],
   "source": [
    "norm_dict, care2id, id2index, num_subjects = stats_dict(train)"
   ]
  },
  {
   "cell_type": "code",
   "execution_count": 6,
   "metadata": {},
   "outputs": [],
   "source": [
    "train_ds = MultiTask(train, norm_dict, id2index, care2id)\n",
    "valid_ds = MultiTask(valid, norm_dict, id2index, care2id, train=False)"
   ]
  },
  {
   "cell_type": "code",
   "execution_count": 7,
   "metadata": {},
   "outputs": [],
   "source": [
    "batch_size = 5000\n",
    "train_dl = DataLoader(train_ds, batch_size=batch_size, shuffle=True)\n",
    "valid_dl = DataLoader(valid_ds, batch_size=batch_size)"
   ]
  },
  {
   "cell_type": "code",
   "execution_count": 8,
   "metadata": {},
   "outputs": [],
   "source": [
    "def multiple_runs(num_subjects, C, basename=\"model_30min\", n=10):\n",
    "    best_score = 0\n",
    "    for i in range(n):\n",
    "        model = EventModel0(num_subjects).cuda()\n",
    "        optimizer = torch.optim.Adam(model.parameters(), lr=0.04, weight_decay=1e-5)\n",
    "        best_score = train_epochs(model, train_ds, valid_dl, optimizer, basename, best_score, epochs=30, C=C)\n",
    "    return best_score    "
   ]
  },
  {
   "cell_type": "code",
   "execution_count": 11,
   "metadata": {},
   "outputs": [
    {
     "data": {
      "application/vnd.jupyter.widget-view+json": {
       "model_id": "c5156591d67e4818af3524b115572387",
       "version_major": 2,
       "version_minor": 0
      },
      "text/plain": [
       "HBox(children=(FloatProgress(value=0.0, max=180.0), HTML(value='')))"
      ]
     },
     "metadata": {},
     "output_type": "display_data"
    },
    {
     "name": "stdout",
     "output_type": "stream",
     "text": [
      "\tTrain loss: 7188.816 6029.440 map valid loss: 5433.141 valid r2 hr -26.636 valid r2 map -32.806\n",
      "\tTrain loss: 6689.437 5265.939 map valid loss: 4632.384 valid r2 hr -24.749 valid r2 map -27.823\n",
      "\tTrain loss: 5374.979 3856.628 map valid loss: 1955.905 valid r2 hr -14.167 valid r2 map -11.170\n",
      "\tTrain loss: 3211.229 1882.414 map valid loss: 620.665 valid r2 hr -5.964 valid r2 map -2.862\n",
      "\tTrain loss: 1118.731 355.633 map valid loss: 56.877 valid r2 hr -0.641 valid r2 map 0.646\n",
      "\tTrain loss: 337.526 160.209 map valid loss: 476.314 valid r2 hr -1.385 valid r2 map -1.964\n",
      "\tTrain loss: 448.660 328.592 map valid loss: 204.122 valid r2 hr -1.117 valid r2 map -0.270\n",
      "\tTrain loss: 368.491 97.103 map valid loss: 36.935 valid r2 hr -0.423 valid r2 map 0.770\n",
      "/data2/yinterian/multi-task-romain/models/model0_30min_r2_-42_77.pth\n",
      "\tTrain loss: 311.241 49.326 map valid loss: 84.272 valid r2 hr -0.405 valid r2 map 0.476\n",
      "\tTrain loss: 338.970 75.372 map valid loss: 74.836 valid r2 hr -0.314 valid r2 map 0.534\n",
      "\tTrain loss: 312.861 42.789 map valid loss: 38.582 valid r2 hr -0.226 valid r2 map 0.760\n",
      "\tTrain loss: 288.066 30.348 map valid loss: 49.029 valid r2 hr -0.220 valid r2 map 0.695\n",
      "\tTrain loss: 281.943 34.476 map valid loss: 42.449 valid r2 hr -0.179 valid r2 map 0.736\n",
      "\tTrain loss: 278.039 27.510 map valid loss: 38.429 valid r2 hr -0.088 valid r2 map 0.761\n",
      "\tTrain loss: 267.420 27.154 map valid loss: 39.135 valid r2 hr -0.054 valid r2 map 0.756\n",
      "\tTrain loss: 253.217 26.877 map valid loss: 38.007 valid r2 hr -0.009 valid r2 map 0.764\n",
      "\tTrain loss: 231.149 25.830 map valid loss: 39.108 valid r2 hr 0.105 valid r2 map 0.757\n",
      "\tTrain loss: 198.190 25.491 map valid loss: 39.157 valid r2 hr 0.236 valid r2 map 0.756\n",
      "\tTrain loss: 169.383 26.336 map valid loss: 38.741 valid r2 hr 0.410 valid r2 map 0.759\n",
      "\tTrain loss: 135.790 25.568 map valid loss: 39.309 valid r2 hr 0.578 valid r2 map 0.755\n",
      "\tTrain loss: 96.750 24.997 map valid loss: 39.382 valid r2 hr 0.681 valid r2 map 0.755\n",
      "\tTrain loss: 65.462 23.833 map valid loss: 38.564 valid r2 hr 0.767 valid r2 map 0.760\n",
      "\tTrain loss: 43.854 23.422 map valid loss: 38.113 valid r2 hr 0.812 valid r2 map 0.763\n",
      "\tTrain loss: 32.845 23.106 map valid loss: 38.780 valid r2 hr 0.843 valid r2 map 0.759\n",
      "\tTrain loss: 26.303 22.643 map valid loss: 38.181 valid r2 hr 0.866 valid r2 map 0.762\n",
      "\tTrain loss: 25.365 22.507 map valid loss: 39.727 valid r2 hr 0.876 valid r2 map 0.753\n",
      "\tTrain loss: 24.459 21.978 map valid loss: 38.519 valid r2 hr 0.870 valid r2 map 0.760\n",
      "\tTrain loss: 22.801 21.741 map valid loss: 39.241 valid r2 hr 0.874 valid r2 map 0.756\n",
      "\tTrain loss: 23.257 22.567 map valid loss: 39.927 valid r2 hr 0.879 valid r2 map 0.752\n",
      "\tTrain loss: 21.432 21.240 map valid loss: 39.695 valid r2 hr 0.886 valid r2 map 0.753\n"
     ]
    },
    {
     "data": {
      "application/vnd.jupyter.widget-view+json": {
       "model_id": "f92510a777b74166803c24b2e5912a97",
       "version_major": 2,
       "version_minor": 0
      },
      "text/plain": [
       "HBox(children=(FloatProgress(value=0.0, max=180.0), HTML(value='')))"
      ]
     },
     "metadata": {},
     "output_type": "display_data"
    },
    {
     "name": "stdout",
     "output_type": "stream",
     "text": [
      "\tTrain loss: 7184.898 6033.975 map valid loss: 7380.011 valid r2 hr -33.544 valid r2 map -44.919\n",
      "\tTrain loss: 6610.995 5248.081 map valid loss: 5884.537 valid r2 hr -29.964 valid r2 map -35.614\n",
      "\tTrain loss: 5297.858 3865.264 map valid loss: 2698.807 valid r2 hr -16.652 valid r2 map -15.792\n",
      "\tTrain loss: 3163.586 1923.106 map valid loss: 678.202 valid r2 hr -5.470 valid r2 map -3.220\n",
      "\tTrain loss: 1067.975 380.520 map valid loss: 59.375 valid r2 hr -0.660 valid r2 map 0.631\n",
      "\tTrain loss: 312.423 148.648 map valid loss: 316.796 valid r2 hr -0.938 valid r2 map -0.971\n",
      "\tTrain loss: 443.646 331.337 map valid loss: 229.825 valid r2 hr -1.206 valid r2 map -0.430\n",
      "\tTrain loss: 337.606 101.750 map valid loss: 36.742 valid r2 hr -0.197 valid r2 map 0.771\n",
      "/data2/yinterian/multi-task-romain/models/model0_30min_r2_-20_77.pth\n",
      "\tTrain loss: 259.798 44.305 map valid loss: 76.463 valid r2 hr -0.092 valid r2 map 0.524\n",
      "\tTrain loss: 245.985 75.576 map valid loss: 53.712 valid r2 hr 0.164 valid r2 map 0.666\n",
      "\tTrain loss: 186.350 44.109 map valid loss: 37.538 valid r2 hr 0.406 valid r2 map 0.766\n",
      "\tTrain loss: 131.918 29.101 map valid loss: 40.209 valid r2 hr 0.612 valid r2 map 0.750\n",
      "\tTrain loss: 93.550 34.324 map valid loss: 39.034 valid r2 hr 0.718 valid r2 map 0.757\n",
      "\tTrain loss: 61.574 27.780 map valid loss: 36.158 valid r2 hr 0.677 valid r2 map 0.775\n",
      "/data2/yinterian/multi-task-romain/models/model0_30min_r2_68_78.pth\n",
      "\tTrain loss: 42.307 25.842 map valid loss: 36.784 valid r2 hr 0.743 valid r2 map 0.771\n",
      "\tTrain loss: 30.696 26.289 map valid loss: 37.864 valid r2 hr 0.763 valid r2 map 0.764\n",
      "\tTrain loss: 24.318 24.402 map valid loss: 36.541 valid r2 hr 0.860 valid r2 map 0.773\n",
      "\tTrain loss: 22.883 24.373 map valid loss: 36.834 valid r2 hr 0.868 valid r2 map 0.771\n",
      "\tTrain loss: 22.518 22.939 map valid loss: 38.251 valid r2 hr 0.836 valid r2 map 0.762\n",
      "\tTrain loss: 22.097 23.233 map valid loss: 38.021 valid r2 hr 0.848 valid r2 map 0.763\n",
      "\tTrain loss: 21.340 22.723 map valid loss: 36.936 valid r2 hr 0.881 valid r2 map 0.770\n",
      "\tTrain loss: 20.243 22.439 map valid loss: 36.226 valid r2 hr 0.872 valid r2 map 0.775\n",
      "\tTrain loss: 20.024 22.083 map valid loss: 38.963 valid r2 hr 0.888 valid r2 map 0.758\n",
      "\tTrain loss: 21.565 23.596 map valid loss: 37.212 valid r2 hr 0.892 valid r2 map 0.768\n",
      "\tTrain loss: 21.370 22.495 map valid loss: 36.935 valid r2 hr 0.882 valid r2 map 0.770\n",
      "\tTrain loss: 20.853 22.048 map valid loss: 36.568 valid r2 hr 0.894 valid r2 map 0.772\n",
      "\tTrain loss: 19.842 21.239 map valid loss: 36.816 valid r2 hr 0.895 valid r2 map 0.771\n",
      "\tTrain loss: 18.754 20.932 map valid loss: 37.460 valid r2 hr 0.894 valid r2 map 0.767\n",
      "\tTrain loss: 18.715 20.078 map valid loss: 37.817 valid r2 hr 0.893 valid r2 map 0.765\n",
      "\tTrain loss: 19.220 19.627 map valid loss: 37.815 valid r2 hr 0.888 valid r2 map 0.765\n"
     ]
    },
    {
     "data": {
      "application/vnd.jupyter.widget-view+json": {
       "model_id": "e3e8e44aa1cf406f881d3525315a6a97",
       "version_major": 2,
       "version_minor": 0
      },
      "text/plain": [
       "HBox(children=(FloatProgress(value=0.0, max=180.0), HTML(value='')))"
      ]
     },
     "metadata": {},
     "output_type": "display_data"
    },
    {
     "name": "stdout",
     "output_type": "stream",
     "text": [
      "\tTrain loss: 7187.598 6007.221 map valid loss: 10423.174 valid r2 hr -41.148 valid r2 map -63.854\n",
      "\tTrain loss: 6632.740 5229.381 map valid loss: 9463.219 valid r2 hr -44.115 valid r2 map -57.881\n",
      "\tTrain loss: 5285.838 3782.553 map valid loss: 3360.105 valid r2 hr -20.565 valid r2 map -19.907\n",
      "\tTrain loss: 3051.043 1791.221 map valid loss: 638.425 valid r2 hr -6.026 valid r2 map -2.972\n",
      "\tTrain loss: 1050.482 325.016 map valid loss: 46.262 valid r2 hr -1.044 valid r2 map 0.712\n",
      "\tTrain loss: 348.057 167.343 map valid loss: 219.536 valid r2 hr -0.680 valid r2 map -0.366\n",
      "\tTrain loss: 454.978 328.718 map valid loss: 149.757 valid r2 hr -0.943 valid r2 map 0.068\n",
      "\tTrain loss: 362.939 97.151 map valid loss: 50.000 valid r2 hr -0.390 valid r2 map 0.689\n",
      "\tTrain loss: 313.678 49.039 map valid loss: 93.623 valid r2 hr -0.428 valid r2 map 0.417\n",
      "\tTrain loss: 327.069 76.971 map valid loss: 63.928 valid r2 hr -0.359 valid r2 map 0.602\n",
      "\tTrain loss: 311.776 42.406 map valid loss: 37.092 valid r2 hr -0.200 valid r2 map 0.769\n",
      "\tTrain loss: 279.904 29.985 map valid loss: 51.772 valid r2 hr -0.245 valid r2 map 0.678\n",
      "\tTrain loss: 263.423 35.570 map valid loss: 51.690 valid r2 hr -0.216 valid r2 map 0.678\n",
      "\tTrain loss: 247.193 27.207 map valid loss: 40.302 valid r2 hr -0.012 valid r2 map 0.749\n",
      "\tTrain loss: 231.889 26.121 map valid loss: 39.170 valid r2 hr 0.121 valid r2 map 0.756\n",
      "\tTrain loss: 194.797 25.165 map valid loss: 38.790 valid r2 hr 0.226 valid r2 map 0.759\n",
      "\tTrain loss: 156.200 24.127 map valid loss: 41.229 valid r2 hr 0.386 valid r2 map 0.743\n",
      "\tTrain loss: 122.079 23.766 map valid loss: 46.832 valid r2 hr 0.539 valid r2 map 0.709\n",
      "\tTrain loss: 87.505 23.986 map valid loss: 39.277 valid r2 hr 0.708 valid r2 map 0.756\n",
      "\tTrain loss: 62.792 22.853 map valid loss: 39.642 valid r2 hr 0.786 valid r2 map 0.753\n",
      "\tTrain loss: 42.875 21.946 map valid loss: 43.246 valid r2 hr 0.834 valid r2 map 0.731\n",
      "\tTrain loss: 32.881 22.274 map valid loss: 40.199 valid r2 hr 0.860 valid r2 map 0.750\n",
      "\tTrain loss: 28.037 21.354 map valid loss: 39.752 valid r2 hr 0.869 valid r2 map 0.753\n",
      "\tTrain loss: 25.143 21.437 map valid loss: 41.206 valid r2 hr 0.876 valid r2 map 0.744\n",
      "\tTrain loss: 22.999 20.778 map valid loss: 39.957 valid r2 hr 0.877 valid r2 map 0.751\n",
      "\tTrain loss: 23.401 20.759 map valid loss: 41.955 valid r2 hr 0.885 valid r2 map 0.739\n",
      "\tTrain loss: 21.644 21.015 map valid loss: 40.758 valid r2 hr 0.859 valid r2 map 0.746\n",
      "\tTrain loss: 22.960 20.551 map valid loss: 40.941 valid r2 hr 0.885 valid r2 map 0.745\n",
      "\tTrain loss: 22.228 21.235 map valid loss: 41.557 valid r2 hr 0.883 valid r2 map 0.741\n",
      "\tTrain loss: 21.328 20.660 map valid loss: 40.959 valid r2 hr 0.890 valid r2 map 0.745\n"
     ]
    },
    {
     "data": {
      "application/vnd.jupyter.widget-view+json": {
       "model_id": "aaaa64d045084687b7a34777a646299d",
       "version_major": 2,
       "version_minor": 0
      },
      "text/plain": [
       "HBox(children=(FloatProgress(value=0.0, max=180.0), HTML(value='')))"
      ]
     },
     "metadata": {},
     "output_type": "display_data"
    },
    {
     "name": "stdout",
     "output_type": "stream",
     "text": [
      "\tTrain loss: 7205.931 6006.319 map valid loss: 9774.705 valid r2 hr -35.015 valid r2 map -59.820\n",
      "\tTrain loss: 6646.843 5180.005 map valid loss: 5801.225 valid r2 hr -29.571 valid r2 map -35.096\n",
      "\tTrain loss: 5264.937 3655.339 map valid loss: 2531.417 valid r2 hr -16.633 valid r2 map -14.751\n",
      "\tTrain loss: 3130.699 1709.496 map valid loss: 530.678 valid r2 hr -5.556 valid r2 map -2.302\n",
      "\tTrain loss: 1135.520 304.320 map valid loss: 61.546 valid r2 hr -0.718 valid r2 map 0.617\n",
      "\tTrain loss: 353.314 168.809 map valid loss: 370.551 valid r2 hr -0.683 valid r2 map -1.306\n",
      "\tTrain loss: 416.335 328.991 map valid loss: 215.387 valid r2 hr -1.102 valid r2 map -0.340\n",
      "\tTrain loss: 365.122 96.435 map valid loss: 39.188 valid r2 hr -0.264 valid r2 map 0.756\n",
      "\tTrain loss: 302.010 45.919 map valid loss: 102.582 valid r2 hr -0.227 valid r2 map 0.362\n",
      "\tTrain loss: 307.947 75.415 map valid loss: 67.508 valid r2 hr -0.188 valid r2 map 0.580\n",
      "\tTrain loss: 278.893 43.791 map valid loss: 39.421 valid r2 hr -0.094 valid r2 map 0.755\n",
      "\tTrain loss: 252.116 29.255 map valid loss: 43.445 valid r2 hr -0.011 valid r2 map 0.730\n",
      "\tTrain loss: 222.006 33.971 map valid loss: 42.965 valid r2 hr 0.180 valid r2 map 0.733\n",
      "\tTrain loss: 188.646 28.338 map valid loss: 37.934 valid r2 hr 0.314 valid r2 map 0.764\n",
      "\tTrain loss: 157.250 26.436 map valid loss: 39.498 valid r2 hr 0.505 valid r2 map 0.754\n",
      "\tTrain loss: 110.609 25.970 map valid loss: 38.847 valid r2 hr 0.678 valid r2 map 0.758\n",
      "\tTrain loss: 66.842 25.625 map valid loss: 38.682 valid r2 hr 0.805 valid r2 map 0.759\n",
      "\tTrain loss: 41.952 24.292 map valid loss: 38.976 valid r2 hr 0.852 valid r2 map 0.757\n",
      "\tTrain loss: 28.671 24.143 map valid loss: 38.680 valid r2 hr 0.853 valid r2 map 0.759\n",
      "\tTrain loss: 25.707 23.884 map valid loss: 39.031 valid r2 hr 0.862 valid r2 map 0.757\n",
      "\tTrain loss: 24.995 23.553 map valid loss: 38.469 valid r2 hr 0.854 valid r2 map 0.761\n",
      "\tTrain loss: 23.660 24.128 map valid loss: 37.374 valid r2 hr 0.887 valid r2 map 0.767\n",
      "\tTrain loss: 23.181 23.470 map valid loss: 37.668 valid r2 hr 0.896 valid r2 map 0.766\n",
      "\tTrain loss: 21.161 21.974 map valid loss: 39.018 valid r2 hr 0.898 valid r2 map 0.757\n",
      "\tTrain loss: 21.673 22.816 map valid loss: 38.938 valid r2 hr 0.892 valid r2 map 0.758\n",
      "\tTrain loss: 22.362 22.121 map valid loss: 36.565 valid r2 hr 0.893 valid r2 map 0.772\n",
      "\tTrain loss: 21.779 22.420 map valid loss: 38.218 valid r2 hr 0.899 valid r2 map 0.762\n",
      "\tTrain loss: 22.229 21.568 map valid loss: 38.194 valid r2 hr 0.883 valid r2 map 0.762\n",
      "\tTrain loss: 21.810 21.072 map valid loss: 39.695 valid r2 hr 0.887 valid r2 map 0.753\n",
      "\tTrain loss: 20.378 21.858 map valid loss: 38.305 valid r2 hr 0.898 valid r2 map 0.762\n"
     ]
    },
    {
     "data": {
      "application/vnd.jupyter.widget-view+json": {
       "model_id": "49854621d12e41a3b551b74001dfb902",
       "version_major": 2,
       "version_minor": 0
      },
      "text/plain": [
       "HBox(children=(FloatProgress(value=0.0, max=180.0), HTML(value='')))"
      ]
     },
     "metadata": {},
     "output_type": "display_data"
    },
    {
     "name": "stdout",
     "output_type": "stream",
     "text": [
      "\tTrain loss: 7185.068 6047.650 map valid loss: 9614.195 valid r2 hr -46.096 valid r2 map -58.821\n",
      "\tTrain loss: 6579.344 5274.385 map valid loss: 6022.897 valid r2 hr -30.914 valid r2 map -36.475\n",
      "\tTrain loss: 5204.194 3875.844 map valid loss: 3121.155 valid r2 hr -17.324 valid r2 map -18.420\n",
      "\tTrain loss: 3053.528 1932.714 map valid loss: 616.457 valid r2 hr -4.204 valid r2 map -2.836\n",
      "\tTrain loss: 1016.195 399.729 map valid loss: 45.647 valid r2 hr -0.149 valid r2 map 0.716\n",
      "\tTrain loss: 314.702 141.180 map valid loss: 396.718 valid r2 hr -1.270 valid r2 map -1.468\n",
      "\tTrain loss: 447.805 335.804 map valid loss: 228.428 valid r2 hr -1.059 valid r2 map -0.421\n",
      "\tTrain loss: 300.533 112.007 map valid loss: 37.926 valid r2 hr 0.052 valid r2 map 0.764\n",
      "\tTrain loss: 199.623 43.794 map valid loss: 88.273 valid r2 hr 0.214 valid r2 map 0.451\n",
      "\tTrain loss: 185.930 73.811 map valid loss: 63.785 valid r2 hr 0.437 valid r2 map 0.603\n",
      "\tTrain loss: 125.175 44.683 map valid loss: 38.336 valid r2 hr 0.668 valid r2 map 0.761\n",
      "\tTrain loss: 80.156 27.971 map valid loss: 46.599 valid r2 hr 0.666 valid r2 map 0.710\n",
      "\tTrain loss: 56.217 32.140 map valid loss: 51.432 valid r2 hr 0.715 valid r2 map 0.680\n",
      "\tTrain loss: 37.604 27.072 map valid loss: 39.570 valid r2 hr 0.836 valid r2 map 0.754\n",
      "\tTrain loss: 30.525 24.146 map valid loss: 37.136 valid r2 hr 0.871 valid r2 map 0.769\n",
      "\tTrain loss: 28.012 24.252 map valid loss: 37.949 valid r2 hr 0.861 valid r2 map 0.764\n",
      "\tTrain loss: 24.170 23.295 map valid loss: 38.269 valid r2 hr 0.819 valid r2 map 0.762\n",
      "\tTrain loss: 23.650 23.018 map valid loss: 42.799 valid r2 hr 0.838 valid r2 map 0.734\n",
      "\tTrain loss: 21.837 21.833 map valid loss: 38.965 valid r2 hr 0.873 valid r2 map 0.758\n",
      "\tTrain loss: 22.050 22.249 map valid loss: 39.310 valid r2 hr 0.891 valid r2 map 0.755\n",
      "\tTrain loss: 21.126 21.256 map valid loss: 38.595 valid r2 hr 0.891 valid r2 map 0.760\n",
      "\tTrain loss: 21.458 21.146 map valid loss: 38.695 valid r2 hr 0.885 valid r2 map 0.759\n",
      "\tTrain loss: 21.079 20.920 map valid loss: 39.487 valid r2 hr 0.893 valid r2 map 0.754\n",
      "\tTrain loss: 19.560 20.486 map valid loss: 39.425 valid r2 hr 0.897 valid r2 map 0.755\n",
      "\tTrain loss: 19.923 19.960 map valid loss: 40.000 valid r2 hr 0.890 valid r2 map 0.751\n",
      "\tTrain loss: 20.664 20.271 map valid loss: 39.551 valid r2 hr 0.892 valid r2 map 0.754\n",
      "\tTrain loss: 20.206 19.688 map valid loss: 42.309 valid r2 hr 0.890 valid r2 map 0.737\n",
      "\tTrain loss: 20.038 20.244 map valid loss: 40.694 valid r2 hr 0.889 valid r2 map 0.747\n",
      "\tTrain loss: 19.700 19.442 map valid loss: 40.878 valid r2 hr 0.890 valid r2 map 0.746\n",
      "\tTrain loss: 20.884 19.675 map valid loss: 41.335 valid r2 hr 0.889 valid r2 map 0.743\n"
     ]
    },
    {
     "data": {
      "application/vnd.jupyter.widget-view+json": {
       "model_id": "78197e7f7ca2400ba7b7fbcd3a815cb7",
       "version_major": 2,
       "version_minor": 0
      },
      "text/plain": [
       "HBox(children=(FloatProgress(value=0.0, max=180.0), HTML(value='')))"
      ]
     },
     "metadata": {},
     "output_type": "display_data"
    },
    {
     "name": "stdout",
     "output_type": "stream",
     "text": [
      "\tTrain loss: 7189.272 6071.419 map valid loss: 13752.830 valid r2 hr -51.260 valid r2 map -84.572\n",
      "\tTrain loss: 6696.289 5342.283 map valid loss: 13365.727 valid r2 hr -58.898 valid r2 map -82.163\n",
      "\tTrain loss: 5421.544 3951.733 map valid loss: 6094.041 valid r2 hr -31.937 valid r2 map -36.918\n",
      "\tTrain loss: 3320.218 2010.120 map valid loss: 1236.448 valid r2 hr -8.518 valid r2 map -6.693\n",
      "\tTrain loss: 1191.095 431.535 map valid loss: 151.060 valid r2 hr -1.911 valid r2 map 0.060\n",
      "\tTrain loss: 321.566 139.976 map valid loss: 99.804 valid r2 hr -0.346 valid r2 map 0.379\n",
      "\tTrain loss: 419.416 341.256 map valid loss: 105.482 valid r2 hr -0.571 valid r2 map 0.344\n",
      "\tTrain loss: 336.887 115.704 map valid loss: 39.000 valid r2 hr -0.130 valid r2 map 0.757\n",
      "\tTrain loss: 250.688 43.917 map valid loss: 98.788 valid r2 hr -0.007 valid r2 map 0.385\n",
      "\tTrain loss: 240.646 76.397 map valid loss: 65.589 valid r2 hr 0.196 valid r2 map 0.592\n",
      "\tTrain loss: 188.625 48.245 map valid loss: 38.574 valid r2 hr 0.411 valid r2 map 0.760\n",
      "\tTrain loss: 138.452 28.831 map valid loss: 47.079 valid r2 hr 0.532 valid r2 map 0.707\n",
      "\tTrain loss: 105.472 34.538 map valid loss: 46.357 valid r2 hr 0.692 valid r2 map 0.712\n",
      "\tTrain loss: 72.850 28.637 map valid loss: 38.295 valid r2 hr 0.780 valid r2 map 0.762\n",
      "\tTrain loss: 54.429 26.188 map valid loss: 38.165 valid r2 hr 0.832 valid r2 map 0.763\n",
      "\tTrain loss: 39.284 26.101 map valid loss: 38.761 valid r2 hr 0.859 valid r2 map 0.759\n",
      "\tTrain loss: 30.877 24.190 map valid loss: 37.051 valid r2 hr 0.880 valid r2 map 0.769\n",
      "\tTrain loss: 25.520 24.080 map valid loss: 38.581 valid r2 hr 0.884 valid r2 map 0.760\n",
      "\tTrain loss: 25.489 24.286 map valid loss: 37.621 valid r2 hr 0.887 valid r2 map 0.766\n",
      "\tTrain loss: 22.830 23.722 map valid loss: 37.877 valid r2 hr 0.884 valid r2 map 0.764\n",
      "\tTrain loss: 22.875 23.418 map valid loss: 38.948 valid r2 hr 0.888 valid r2 map 0.758\n",
      "\tTrain loss: 22.676 22.652 map valid loss: 37.942 valid r2 hr 0.886 valid r2 map 0.764\n",
      "\tTrain loss: 22.537 22.274 map valid loss: 37.487 valid r2 hr 0.892 valid r2 map 0.767\n",
      "\tTrain loss: 22.519 22.149 map valid loss: 37.418 valid r2 hr 0.889 valid r2 map 0.767\n",
      "\tTrain loss: 21.136 21.664 map valid loss: 37.611 valid r2 hr 0.891 valid r2 map 0.766\n",
      "\tTrain loss: 20.085 21.855 map valid loss: 38.839 valid r2 hr 0.892 valid r2 map 0.758\n",
      "\tTrain loss: 21.467 21.729 map valid loss: 38.892 valid r2 hr 0.886 valid r2 map 0.758\n",
      "\tTrain loss: 21.381 20.885 map valid loss: 39.017 valid r2 hr 0.882 valid r2 map 0.757\n",
      "\tTrain loss: 22.321 20.358 map valid loss: 38.815 valid r2 hr 0.888 valid r2 map 0.758\n",
      "\tTrain loss: 21.576 20.749 map valid loss: 37.797 valid r2 hr 0.891 valid r2 map 0.765\n"
     ]
    },
    {
     "data": {
      "application/vnd.jupyter.widget-view+json": {
       "model_id": "46f1e51c221b4bb18d0aa6798471a58b",
       "version_major": 2,
       "version_minor": 0
      },
      "text/plain": [
       "HBox(children=(FloatProgress(value=0.0, max=180.0), HTML(value='')))"
      ]
     },
     "metadata": {},
     "output_type": "display_data"
    },
    {
     "name": "stdout",
     "output_type": "stream",
     "text": [
      "\tTrain loss: 7182.114 6051.358 map valid loss: 6454.271 valid r2 hr -31.231 valid r2 map -39.159\n",
      "\tTrain loss: 6676.300 5246.068 map valid loss: 5889.399 valid r2 hr -30.506 valid r2 map -35.645\n",
      "\tTrain loss: 5435.430 3834.269 map valid loss: 2218.399 valid r2 hr -15.054 valid r2 map -12.803\n",
      "\tTrain loss: 3257.029 1883.351 map valid loss: 659.848 valid r2 hr -6.004 valid r2 map -3.106\n",
      "\tTrain loss: 1180.578 374.007 map valid loss: 51.865 valid r2 hr -0.915 valid r2 map 0.677\n",
      "\tTrain loss: 333.479 150.748 map valid loss: 290.868 valid r2 hr -0.708 valid r2 map -0.810\n",
      "\tTrain loss: 391.586 333.832 map valid loss: 149.875 valid r2 hr -0.799 valid r2 map 0.067\n",
      "\tTrain loss: 327.002 107.615 map valid loss: 38.053 valid r2 hr -0.139 valid r2 map 0.763\n",
      "\tTrain loss: 245.292 45.414 map valid loss: 103.048 valid r2 hr 0.001 valid r2 map 0.359\n",
      "\tTrain loss: 236.109 74.767 map valid loss: 77.674 valid r2 hr 0.268 valid r2 map 0.517\n",
      "\tTrain loss: 188.888 46.019 map valid loss: 40.840 valid r2 hr 0.403 valid r2 map 0.746\n",
      "\tTrain loss: 140.640 29.806 map valid loss: 39.537 valid r2 hr 0.476 valid r2 map 0.754\n",
      "\tTrain loss: 105.701 33.783 map valid loss: 40.396 valid r2 hr 0.628 valid r2 map 0.749\n",
      "\tTrain loss: 70.194 27.975 map valid loss: 39.586 valid r2 hr 0.752 valid r2 map 0.754\n",
      "\tTrain loss: 49.852 25.369 map valid loss: 41.090 valid r2 hr 0.807 valid r2 map 0.744\n",
      "\tTrain loss: 37.303 25.030 map valid loss: 39.882 valid r2 hr 0.836 valid r2 map 0.752\n",
      "\tTrain loss: 29.093 23.897 map valid loss: 38.433 valid r2 hr 0.840 valid r2 map 0.761\n",
      "\tTrain loss: 27.278 22.752 map valid loss: 38.633 valid r2 hr 0.849 valid r2 map 0.760\n",
      "\tTrain loss: 25.435 23.240 map valid loss: 38.268 valid r2 hr 0.864 valid r2 map 0.762\n",
      "\tTrain loss: 23.070 23.384 map valid loss: 38.923 valid r2 hr 0.883 valid r2 map 0.758\n",
      "\tTrain loss: 23.221 21.889 map valid loss: 38.625 valid r2 hr 0.891 valid r2 map 0.760\n",
      "\tTrain loss: 21.574 21.974 map valid loss: 38.891 valid r2 hr 0.887 valid r2 map 0.758\n",
      "\tTrain loss: 21.850 21.277 map valid loss: 39.535 valid r2 hr 0.889 valid r2 map 0.754\n",
      "\tTrain loss: 20.378 21.348 map valid loss: 37.606 valid r2 hr 0.889 valid r2 map 0.766\n",
      "\tTrain loss: 20.839 20.534 map valid loss: 37.604 valid r2 hr 0.892 valid r2 map 0.766\n",
      "\tTrain loss: 20.909 20.485 map valid loss: 38.029 valid r2 hr 0.896 valid r2 map 0.763\n",
      "\tTrain loss: 19.905 19.670 map valid loss: 40.146 valid r2 hr 0.886 valid r2 map 0.750\n",
      "\tTrain loss: 21.236 20.275 map valid loss: 38.980 valid r2 hr 0.893 valid r2 map 0.757\n",
      "\tTrain loss: 20.320 19.903 map valid loss: 37.115 valid r2 hr 0.889 valid r2 map 0.769\n",
      "\tTrain loss: 21.060 19.439 map valid loss: 37.365 valid r2 hr 0.895 valid r2 map 0.768\n"
     ]
    },
    {
     "data": {
      "application/vnd.jupyter.widget-view+json": {
       "model_id": "8af705c9d13348cda14fcd7c66f20311",
       "version_major": 2,
       "version_minor": 0
      },
      "text/plain": [
       "HBox(children=(FloatProgress(value=0.0, max=180.0), HTML(value='')))"
      ]
     },
     "metadata": {},
     "output_type": "display_data"
    },
    {
     "name": "stdout",
     "output_type": "stream",
     "text": [
      "\tTrain loss: 7180.204 6026.768 map valid loss: 5191.266 valid r2 hr -27.761 valid r2 map -31.301\n",
      "\tTrain loss: 6609.216 5217.159 map valid loss: 3258.590 valid r2 hr -20.775 valid r2 map -19.275\n",
      "\tTrain loss: 5181.540 3757.435 map valid loss: 1688.245 valid r2 hr -13.141 valid r2 map -9.504\n",
      "\tTrain loss: 2986.599 1792.087 map valid loss: 767.800 valid r2 hr -6.614 valid r2 map -3.777\n",
      "\tTrain loss: 1025.763 334.964 map valid loss: 41.296 valid r2 hr -0.487 valid r2 map 0.743\n",
      "\tTrain loss: 271.503 156.433 map valid loss: 332.775 valid r2 hr -0.201 valid r2 map -1.071\n",
      "\tTrain loss: 348.270 331.955 map valid loss: 183.463 valid r2 hr -0.105 valid r2 map -0.142\n",
      "\tTrain loss: 231.517 100.331 map valid loss: 39.050 valid r2 hr 0.568 valid r2 map 0.757\n",
      "\tTrain loss: 135.521 46.320 map valid loss: 93.299 valid r2 hr 0.434 valid r2 map 0.419\n",
      "\tTrain loss: 108.688 74.930 map valid loss: 83.871 valid r2 hr 0.409 valid r2 map 0.478\n",
      "\tTrain loss: 64.387 44.514 map valid loss: 42.764 valid r2 hr 0.603 valid r2 map 0.734\n",
      "\tTrain loss: 40.370 27.992 map valid loss: 39.871 valid r2 hr 0.729 valid r2 map 0.752\n",
      "\tTrain loss: 32.622 32.638 map valid loss: 39.112 valid r2 hr 0.769 valid r2 map 0.757\n",
      "\tTrain loss: 26.955 26.870 map valid loss: 38.054 valid r2 hr 0.731 valid r2 map 0.763\n",
      "\tTrain loss: 28.013 24.948 map valid loss: 40.677 valid r2 hr 0.756 valid r2 map 0.747\n",
      "\tTrain loss: 25.713 24.894 map valid loss: 44.256 valid r2 hr 0.815 valid r2 map 0.725\n",
      "\tTrain loss: 25.204 24.165 map valid loss: 40.130 valid r2 hr 0.874 valid r2 map 0.750\n",
      "\tTrain loss: 24.792 23.576 map valid loss: 38.014 valid r2 hr 0.888 valid r2 map 0.763\n",
      "\tTrain loss: 22.124 23.709 map valid loss: 38.658 valid r2 hr 0.888 valid r2 map 0.759\n",
      "\tTrain loss: 22.810 23.191 map valid loss: 41.109 valid r2 hr 0.888 valid r2 map 0.744\n",
      "\tTrain loss: 23.637 22.356 map valid loss: 40.145 valid r2 hr 0.885 valid r2 map 0.750\n",
      "\tTrain loss: 22.309 21.821 map valid loss: 41.652 valid r2 hr 0.879 valid r2 map 0.741\n",
      "\tTrain loss: 21.779 22.117 map valid loss: 38.803 valid r2 hr 0.892 valid r2 map 0.759\n",
      "\tTrain loss: 22.653 22.174 map valid loss: 40.146 valid r2 hr 0.888 valid r2 map 0.750\n",
      "\tTrain loss: 19.891 21.237 map valid loss: 40.145 valid r2 hr 0.884 valid r2 map 0.750\n",
      "\tTrain loss: 20.829 21.110 map valid loss: 40.155 valid r2 hr 0.886 valid r2 map 0.750\n",
      "\tTrain loss: 21.218 20.810 map valid loss: 38.975 valid r2 hr 0.886 valid r2 map 0.757\n",
      "\tTrain loss: 20.815 20.745 map valid loss: 39.967 valid r2 hr 0.894 valid r2 map 0.751\n",
      "\tTrain loss: 21.253 20.558 map valid loss: 38.349 valid r2 hr 0.891 valid r2 map 0.761\n",
      "\tTrain loss: 20.875 20.005 map valid loss: 42.384 valid r2 hr 0.889 valid r2 map 0.736\n"
     ]
    },
    {
     "data": {
      "application/vnd.jupyter.widget-view+json": {
       "model_id": "7ebd3d02e62445699ed41baee2a5b347",
       "version_major": 2,
       "version_minor": 0
      },
      "text/plain": [
       "HBox(children=(FloatProgress(value=0.0, max=180.0), HTML(value='')))"
      ]
     },
     "metadata": {},
     "output_type": "display_data"
    },
    {
     "name": "stdout",
     "output_type": "stream",
     "text": [
      "\tTrain loss: 7196.873 6035.681 map valid loss: 11548.339 valid r2 hr -40.958 valid r2 map -70.855\n",
      "\tTrain loss: 6621.979 5255.085 map valid loss: 9478.442 valid r2 hr -38.078 valid r2 map -57.976\n",
      "\tTrain loss: 5215.244 3832.000 map valid loss: 3855.918 valid r2 hr -20.806 valid r2 map -22.992\n",
      "\tTrain loss: 3078.411 1893.866 map valid loss: 946.056 valid r2 hr -6.659 valid r2 map -4.886\n",
      "\tTrain loss: 1070.528 384.631 map valid loss: 53.237 valid r2 hr -0.560 valid r2 map 0.669\n",
      "\tTrain loss: 304.702 141.497 map valid loss: 257.856 valid r2 hr -0.546 valid r2 map -0.604\n",
      "\tTrain loss: 376.357 332.818 map valid loss: 198.051 valid r2 hr -0.627 valid r2 map -0.232\n",
      "\tTrain loss: 257.872 110.612 map valid loss: 38.607 valid r2 hr 0.158 valid r2 map 0.760\n",
      "\tTrain loss: 157.837 43.187 map valid loss: 93.117 valid r2 hr 0.411 valid r2 map 0.421\n",
      "\tTrain loss: 141.055 71.933 map valid loss: 85.628 valid r2 hr 0.614 valid r2 map 0.467\n",
      "\tTrain loss: 89.400 44.584 map valid loss: 46.841 valid r2 hr 0.714 valid r2 map 0.709\n",
      "\tTrain loss: 56.187 28.917 map valid loss: 39.042 valid r2 hr 0.723 valid r2 map 0.757\n",
      "\tTrain loss: 43.816 33.021 map valid loss: 38.207 valid r2 hr 0.796 valid r2 map 0.762\n",
      "\tTrain loss: 34.690 27.454 map valid loss: 38.516 valid r2 hr 0.846 valid r2 map 0.760\n",
      "\tTrain loss: 31.257 24.813 map valid loss: 38.303 valid r2 hr 0.869 valid r2 map 0.762\n",
      "\tTrain loss: 27.238 25.841 map valid loss: 39.888 valid r2 hr 0.880 valid r2 map 0.752\n",
      "\tTrain loss: 24.756 23.474 map valid loss: 37.404 valid r2 hr 0.886 valid r2 map 0.767\n",
      "\tTrain loss: 25.826 23.876 map valid loss: 38.452 valid r2 hr 0.890 valid r2 map 0.761\n",
      "\tTrain loss: 23.045 23.662 map valid loss: 37.146 valid r2 hr 0.896 valid r2 map 0.769\n",
      "\tTrain loss: 22.545 22.275 map valid loss: 38.158 valid r2 hr 0.888 valid r2 map 0.763\n",
      "\tTrain loss: 21.145 22.139 map valid loss: 39.391 valid r2 hr 0.893 valid r2 map 0.755\n",
      "\tTrain loss: 23.736 22.464 map valid loss: 39.377 valid r2 hr 0.891 valid r2 map 0.755\n",
      "\tTrain loss: 21.922 21.836 map valid loss: 40.141 valid r2 hr 0.892 valid r2 map 0.750\n",
      "\tTrain loss: 19.889 19.888 map valid loss: 39.321 valid r2 hr 0.893 valid r2 map 0.755\n",
      "\tTrain loss: 20.136 20.727 map valid loss: 39.994 valid r2 hr 0.894 valid r2 map 0.751\n",
      "\tTrain loss: 21.746 20.426 map valid loss: 38.278 valid r2 hr 0.892 valid r2 map 0.762\n",
      "\tTrain loss: 21.001 20.085 map valid loss: 39.623 valid r2 hr 0.891 valid r2 map 0.753\n",
      "\tTrain loss: 20.863 20.253 map valid loss: 39.756 valid r2 hr 0.900 valid r2 map 0.753\n",
      "\tTrain loss: 20.840 19.122 map valid loss: 39.863 valid r2 hr 0.896 valid r2 map 0.752\n",
      "\tTrain loss: 20.934 18.850 map valid loss: 40.620 valid r2 hr 0.898 valid r2 map 0.747\n"
     ]
    },
    {
     "data": {
      "application/vnd.jupyter.widget-view+json": {
       "model_id": "94cc1f36f47a49e1b70e21231bd5a3a4",
       "version_major": 2,
       "version_minor": 0
      },
      "text/plain": [
       "HBox(children=(FloatProgress(value=0.0, max=180.0), HTML(value='')))"
      ]
     },
     "metadata": {},
     "output_type": "display_data"
    },
    {
     "name": "stdout",
     "output_type": "stream",
     "text": [
      "\tTrain loss: 7192.233 6048.213 map valid loss: 10912.500 valid r2 hr -41.131 valid r2 map -66.899\n",
      "\tTrain loss: 6635.415 5270.424 map valid loss: 9327.826 valid r2 hr -41.944 valid r2 map -57.039\n",
      "\tTrain loss: 5246.207 3828.005 map valid loss: 3507.275 valid r2 hr -19.910 valid r2 map -20.823\n",
      "\tTrain loss: 3102.577 1899.726 map valid loss: 847.329 valid r2 hr -6.503 valid r2 map -4.272\n",
      "\tTrain loss: 1041.336 371.583 map valid loss: 41.483 valid r2 hr -0.419 valid r2 map 0.742\n",
      "\tTrain loss: 311.236 155.238 map valid loss: 322.776 valid r2 hr -0.842 valid r2 map -1.008\n",
      "\tTrain loss: 458.785 333.129 map valid loss: 229.730 valid r2 hr -1.054 valid r2 map -0.429\n",
      "\tTrain loss: 332.497 104.939 map valid loss: 38.224 valid r2 hr -0.135 valid r2 map 0.762\n",
      "\tTrain loss: 263.960 45.322 map valid loss: 94.678 valid r2 hr -0.158 valid r2 map 0.411\n",
      "\tTrain loss: 275.493 76.360 map valid loss: 70.617 valid r2 hr -0.013 valid r2 map 0.561\n",
      "\tTrain loss: 229.954 45.064 map valid loss: 40.105 valid r2 hr 0.165 valid r2 map 0.750\n",
      "\tTrain loss: 177.351 29.961 map valid loss: 45.267 valid r2 hr 0.306 valid r2 map 0.718\n",
      "\tTrain loss: 134.964 34.867 map valid loss: 41.502 valid r2 hr 0.564 valid r2 map 0.742\n",
      "\tTrain loss: 99.468 28.780 map valid loss: 39.725 valid r2 hr 0.660 valid r2 map 0.753\n",
      "\tTrain loss: 72.425 26.819 map valid loss: 41.864 valid r2 hr 0.733 valid r2 map 0.740\n",
      "\tTrain loss: 54.025 26.251 map valid loss: 38.027 valid r2 hr 0.821 valid r2 map 0.763\n",
      "\tTrain loss: 38.940 25.038 map valid loss: 37.796 valid r2 hr 0.859 valid r2 map 0.765\n",
      "\tTrain loss: 29.811 24.219 map valid loss: 38.276 valid r2 hr 0.876 valid r2 map 0.762\n",
      "\tTrain loss: 25.157 24.414 map valid loss: 39.547 valid r2 hr 0.880 valid r2 map 0.754\n",
      "\tTrain loss: 25.454 24.614 map valid loss: 40.444 valid r2 hr 0.867 valid r2 map 0.748\n",
      "\tTrain loss: 24.960 23.177 map valid loss: 38.757 valid r2 hr 0.886 valid r2 map 0.759\n",
      "\tTrain loss: 22.882 22.511 map valid loss: 39.618 valid r2 hr 0.879 valid r2 map 0.753\n",
      "\tTrain loss: 23.407 23.104 map valid loss: 37.990 valid r2 hr 0.894 valid r2 map 0.764\n",
      "\tTrain loss: 22.356 22.737 map valid loss: 39.345 valid r2 hr 0.894 valid r2 map 0.755\n",
      "\tTrain loss: 21.429 22.543 map valid loss: 38.893 valid r2 hr 0.886 valid r2 map 0.758\n",
      "\tTrain loss: 20.202 21.388 map valid loss: 39.963 valid r2 hr 0.893 valid r2 map 0.751\n",
      "\tTrain loss: 20.915 21.852 map valid loss: 43.400 valid r2 hr 0.849 valid r2 map 0.730\n",
      "\tTrain loss: 25.334 21.591 map valid loss: 40.711 valid r2 hr 0.893 valid r2 map 0.747\n",
      "\tTrain loss: 21.316 21.932 map valid loss: 39.254 valid r2 hr 0.892 valid r2 map 0.756\n",
      "\tTrain loss: 20.947 20.871 map valid loss: 40.116 valid r2 hr 0.866 valid r2 map 0.750\n"
     ]
    },
    {
     "data": {
      "text/plain": [
       "0.7750187211989334"
      ]
     },
     "execution_count": 11,
     "metadata": {},
     "output_type": "execute_result"
    }
   ],
   "source": [
    "multiple_runs(num_subjects, C=1/15, basename=\"model0_30min\")"
   ]
  },
  {
   "cell_type": "markdown",
   "metadata": {},
   "source": [
    "## Single model"
   ]
  },
  {
   "cell_type": "code",
   "execution_count": 9,
   "metadata": {},
   "outputs": [
    {
     "data": {
      "application/vnd.jupyter.widget-view+json": {
       "model_id": "1303da8596344943867eca15bcf1e7f1",
       "version_major": 2,
       "version_minor": 0
      },
      "text/plain": [
       "HBox(children=(FloatProgress(value=0.0, max=180.0), HTML(value='')))"
      ]
     },
     "metadata": {},
     "output_type": "display_data"
    },
    {
     "name": "stdout",
     "output_type": "stream",
     "text": [
      "\tTrain loss: 0.000 6006.082 map valid loss: 17698.025 valid r2 hr 0.000 valid r2 map -109.120\n",
      "\tTrain loss: 0.000 5213.142 map valid loss: 12966.985 valid r2 hr 0.000 valid r2 map -79.682\n",
      "\tTrain loss: 0.000 3755.887 map valid loss: 3998.092 valid r2 hr 0.000 valid r2 map -23.877\n",
      "\tTrain loss: 0.000 1789.680 map valid loss: 419.013 valid r2 hr 0.000 valid r2 map -1.607\n",
      "\tTrain loss: 0.000 336.410 map valid loss: 45.832 valid r2 hr 0.000 valid r2 map 0.715\n",
      "/data2/yinterian/multi-task-romain/models/model0_single_30min_r2_0_71.pth\n",
      "\tTrain loss: 0.000 153.896 map valid loss: 288.864 valid r2 hr 0.000 valid r2 map -0.797\n",
      "\tTrain loss: 0.000 316.442 map valid loss: 159.116 valid r2 hr 0.000 valid r2 map 0.010\n",
      "\tTrain loss: 0.000 93.821 map valid loss: 39.117 valid r2 hr 0.000 valid r2 map 0.757\n",
      "/data2/yinterian/multi-task-romain/models/model0_single_30min_r2_0_76.pth\n",
      "\tTrain loss: 0.000 44.903 map valid loss: 108.398 valid r2 hr 0.000 valid r2 map 0.326\n",
      "\tTrain loss: 0.000 73.018 map valid loss: 75.180 valid r2 hr 0.000 valid r2 map 0.532\n",
      "\tTrain loss: 0.000 42.663 map valid loss: 37.666 valid r2 hr 0.000 valid r2 map 0.766\n",
      "/data2/yinterian/multi-task-romain/models/model0_single_30min_r2_0_77.pth\n",
      "\tTrain loss: 0.000 29.380 map valid loss: 46.072 valid r2 hr 0.000 valid r2 map 0.713\n",
      "\tTrain loss: 0.000 34.759 map valid loss: 43.352 valid r2 hr 0.000 valid r2 map 0.730\n",
      "\tTrain loss: 0.000 28.129 map valid loss: 37.510 valid r2 hr 0.000 valid r2 map 0.767\n",
      "/data2/yinterian/multi-task-romain/models/model0_single_30min_r2_0_77.pth\n",
      "\tTrain loss: 0.000 26.560 map valid loss: 39.875 valid r2 hr 0.000 valid r2 map 0.752\n",
      "\tTrain loss: 0.000 26.338 map valid loss: 39.470 valid r2 hr 0.000 valid r2 map 0.754\n",
      "\tTrain loss: 0.000 24.540 map valid loss: 38.930 valid r2 hr 0.000 valid r2 map 0.758\n",
      "\tTrain loss: 0.000 25.300 map valid loss: 38.673 valid r2 hr 0.000 valid r2 map 0.759\n",
      "\tTrain loss: 0.000 24.482 map valid loss: 38.850 valid r2 hr 0.000 valid r2 map 0.758\n",
      "\tTrain loss: 0.000 24.908 map valid loss: 37.647 valid r2 hr 0.000 valid r2 map 0.766\n",
      "\tTrain loss: 0.000 23.898 map valid loss: 37.822 valid r2 hr 0.000 valid r2 map 0.765\n",
      "\tTrain loss: 0.000 23.741 map valid loss: 37.870 valid r2 hr 0.000 valid r2 map 0.764\n",
      "\tTrain loss: 0.000 23.838 map valid loss: 39.720 valid r2 hr 0.000 valid r2 map 0.753\n",
      "\tTrain loss: 0.000 23.105 map valid loss: 38.415 valid r2 hr 0.000 valid r2 map 0.761\n",
      "\tTrain loss: 0.000 22.689 map valid loss: 38.639 valid r2 hr 0.000 valid r2 map 0.760\n",
      "\tTrain loss: 0.000 22.189 map valid loss: 39.755 valid r2 hr 0.000 valid r2 map 0.753\n",
      "\tTrain loss: 0.000 21.942 map valid loss: 37.701 valid r2 hr 0.000 valid r2 map 0.765\n",
      "\tTrain loss: 0.000 21.936 map valid loss: 37.728 valid r2 hr 0.000 valid r2 map 0.765\n",
      "\tTrain loss: 0.000 21.660 map valid loss: 39.585 valid r2 hr 0.000 valid r2 map 0.754\n",
      "\tTrain loss: 0.000 21.140 map valid loss: 37.236 valid r2 hr 0.000 valid r2 map 0.768\n",
      "/data2/yinterian/multi-task-romain/models/model0_single_30min_r2_0_77.pth\n"
     ]
    },
    {
     "data": {
      "application/vnd.jupyter.widget-view+json": {
       "model_id": "d2e0c32cd00144789f675cdd38752195",
       "version_major": 2,
       "version_minor": 0
      },
      "text/plain": [
       "HBox(children=(FloatProgress(value=0.0, max=180.0), HTML(value='')))"
      ]
     },
     "metadata": {},
     "output_type": "display_data"
    },
    {
     "name": "stdout",
     "output_type": "stream",
     "text": [
      "\tTrain loss: 0.000 6014.270 map valid loss: 6083.036 valid r2 hr 0.000 valid r2 map -36.849\n",
      "\tTrain loss: 0.000 5227.288 map valid loss: 4933.757 valid r2 hr 0.000 valid r2 map -29.699\n",
      "\tTrain loss: 0.000 3781.927 map valid loss: 2583.766 valid r2 hr 0.000 valid r2 map -15.077\n",
      "\tTrain loss: 0.000 1813.341 map valid loss: 934.905 valid r2 hr 0.000 valid r2 map -4.817\n",
      "\tTrain loss: 0.000 328.533 map valid loss: 40.064 valid r2 hr 0.000 valid r2 map 0.751\n",
      "\tTrain loss: 0.000 161.430 map valid loss: 343.272 valid r2 hr 0.000 valid r2 map -1.136\n",
      "\tTrain loss: 0.000 316.612 map valid loss: 158.069 valid r2 hr 0.000 valid r2 map 0.016\n",
      "\tTrain loss: 0.000 89.491 map valid loss: 39.440 valid r2 hr 0.000 valid r2 map 0.755\n",
      "\tTrain loss: 0.000 48.262 map valid loss: 99.092 valid r2 hr 0.000 valid r2 map 0.383\n",
      "\tTrain loss: 0.000 73.647 map valid loss: 73.825 valid r2 hr 0.000 valid r2 map 0.541\n",
      "\tTrain loss: 0.000 41.503 map valid loss: 37.951 valid r2 hr 0.000 valid r2 map 0.764\n",
      "\tTrain loss: 0.000 29.813 map valid loss: 42.475 valid r2 hr 0.000 valid r2 map 0.736\n",
      "\tTrain loss: 0.000 34.269 map valid loss: 40.745 valid r2 hr 0.000 valid r2 map 0.746\n",
      "\tTrain loss: 0.000 27.316 map valid loss: 37.970 valid r2 hr 0.000 valid r2 map 0.764\n",
      "\tTrain loss: 0.000 26.419 map valid loss: 40.140 valid r2 hr 0.000 valid r2 map 0.750\n",
      "\tTrain loss: 0.000 26.234 map valid loss: 37.893 valid r2 hr 0.000 valid r2 map 0.764\n",
      "\tTrain loss: 0.000 24.592 map valid loss: 37.396 valid r2 hr 0.000 valid r2 map 0.767\n",
      "\tTrain loss: 0.000 23.822 map valid loss: 38.486 valid r2 hr 0.000 valid r2 map 0.761\n",
      "\tTrain loss: 0.000 23.797 map valid loss: 36.812 valid r2 hr 0.000 valid r2 map 0.771\n",
      "/data2/yinterian/multi-task-romain/models/model0_single_30min_r2_0_77.pth\n",
      "\tTrain loss: 0.000 23.164 map valid loss: 38.141 valid r2 hr 0.000 valid r2 map 0.763\n",
      "\tTrain loss: 0.000 23.578 map valid loss: 36.872 valid r2 hr 0.000 valid r2 map 0.771\n",
      "\tTrain loss: 0.000 22.026 map valid loss: 36.965 valid r2 hr 0.000 valid r2 map 0.770\n",
      "\tTrain loss: 0.000 22.275 map valid loss: 37.832 valid r2 hr 0.000 valid r2 map 0.765\n",
      "\tTrain loss: 0.000 21.743 map valid loss: 37.872 valid r2 hr 0.000 valid r2 map 0.764\n",
      "\tTrain loss: 0.000 21.539 map valid loss: 38.755 valid r2 hr 0.000 valid r2 map 0.759\n",
      "\tTrain loss: 0.000 20.499 map valid loss: 38.496 valid r2 hr 0.000 valid r2 map 0.760\n",
      "\tTrain loss: 0.000 21.432 map valid loss: 38.438 valid r2 hr 0.000 valid r2 map 0.761\n",
      "\tTrain loss: 0.000 21.207 map valid loss: 39.751 valid r2 hr 0.000 valid r2 map 0.753\n",
      "\tTrain loss: 0.000 20.972 map valid loss: 40.083 valid r2 hr 0.000 valid r2 map 0.751\n",
      "\tTrain loss: 0.000 20.339 map valid loss: 37.699 valid r2 hr 0.000 valid r2 map 0.765\n"
     ]
    },
    {
     "data": {
      "application/vnd.jupyter.widget-view+json": {
       "model_id": "4047045bdcae4fde85edc02fc5db3a26",
       "version_major": 2,
       "version_minor": 0
      },
      "text/plain": [
       "HBox(children=(FloatProgress(value=0.0, max=180.0), HTML(value='')))"
      ]
     },
     "metadata": {},
     "output_type": "display_data"
    },
    {
     "name": "stdout",
     "output_type": "stream",
     "text": [
      "\tTrain loss: 0.000 6037.673 map valid loss: 8756.427 valid r2 hr 0.000 valid r2 map -53.484\n",
      "\tTrain loss: 0.000 5261.123 map valid loss: 5529.436 valid r2 hr 0.000 valid r2 map -33.405\n",
      "\tTrain loss: 0.000 3863.471 map valid loss: 2766.970 valid r2 hr 0.000 valid r2 map -16.216\n",
      "\tTrain loss: 0.000 1910.234 map valid loss: 726.137 valid r2 hr 0.000 valid r2 map -3.518\n",
      "\tTrain loss: 0.000 372.331 map valid loss: 46.142 valid r2 hr 0.000 valid r2 map 0.713\n",
      "\tTrain loss: 0.000 151.743 map valid loss: 249.212 valid r2 hr 0.000 valid r2 map -0.551\n",
      "\tTrain loss: 0.000 319.684 map valid loss: 150.928 valid r2 hr 0.000 valid r2 map 0.061\n",
      "\tTrain loss: 0.000 94.810 map valid loss: 39.028 valid r2 hr 0.000 valid r2 map 0.757\n",
      "\tTrain loss: 0.000 46.822 map valid loss: 113.132 valid r2 hr 0.000 valid r2 map 0.296\n",
      "\tTrain loss: 0.000 72.888 map valid loss: 70.452 valid r2 hr 0.000 valid r2 map 0.562\n",
      "\tTrain loss: 0.000 41.551 map valid loss: 38.880 valid r2 hr 0.000 valid r2 map 0.758\n",
      "\tTrain loss: 0.000 28.829 map valid loss: 51.981 valid r2 hr 0.000 valid r2 map 0.677\n",
      "\tTrain loss: 0.000 33.616 map valid loss: 38.483 valid r2 hr 0.000 valid r2 map 0.761\n",
      "\tTrain loss: 0.000 26.936 map valid loss: 35.607 valid r2 hr 0.000 valid r2 map 0.778\n",
      "/data2/yinterian/multi-task-romain/models/model0_single_30min_r2_0_78.pth\n",
      "\tTrain loss: 0.000 25.022 map valid loss: 36.632 valid r2 hr 0.000 valid r2 map 0.772\n",
      "\tTrain loss: 0.000 25.629 map valid loss: 36.552 valid r2 hr 0.000 valid r2 map 0.773\n",
      "\tTrain loss: 0.000 23.198 map valid loss: 35.676 valid r2 hr 0.000 valid r2 map 0.778\n",
      "\tTrain loss: 0.000 23.889 map valid loss: 37.847 valid r2 hr 0.000 valid r2 map 0.765\n",
      "\tTrain loss: 0.000 22.514 map valid loss: 38.290 valid r2 hr 0.000 valid r2 map 0.762\n",
      "\tTrain loss: 0.000 22.139 map valid loss: 36.676 valid r2 hr 0.000 valid r2 map 0.772\n",
      "\tTrain loss: 0.000 21.946 map valid loss: 36.428 valid r2 hr 0.000 valid r2 map 0.773\n",
      "\tTrain loss: 0.000 22.384 map valid loss: 36.501 valid r2 hr 0.000 valid r2 map 0.773\n",
      "\tTrain loss: 0.000 21.637 map valid loss: 36.824 valid r2 hr 0.000 valid r2 map 0.771\n",
      "\tTrain loss: 0.000 20.489 map valid loss: 36.146 valid r2 hr 0.000 valid r2 map 0.775\n",
      "\tTrain loss: 0.000 20.889 map valid loss: 37.824 valid r2 hr 0.000 valid r2 map 0.765\n",
      "\tTrain loss: 0.000 20.198 map valid loss: 36.946 valid r2 hr 0.000 valid r2 map 0.770\n",
      "\tTrain loss: 0.000 20.216 map valid loss: 38.434 valid r2 hr 0.000 valid r2 map 0.761\n",
      "\tTrain loss: 0.000 19.723 map valid loss: 36.968 valid r2 hr 0.000 valid r2 map 0.770\n",
      "\tTrain loss: 0.000 19.582 map valid loss: 37.972 valid r2 hr 0.000 valid r2 map 0.764\n",
      "\tTrain loss: 0.000 19.669 map valid loss: 36.251 valid r2 hr 0.000 valid r2 map 0.774\n"
     ]
    },
    {
     "data": {
      "application/vnd.jupyter.widget-view+json": {
       "model_id": "e13136a21fa84c2a8183b76fc9c8bb3c",
       "version_major": 2,
       "version_minor": 0
      },
      "text/plain": [
       "HBox(children=(FloatProgress(value=0.0, max=180.0), HTML(value='')))"
      ]
     },
     "metadata": {},
     "output_type": "display_data"
    },
    {
     "name": "stdout",
     "output_type": "stream",
     "text": [
      "\tTrain loss: 0.000 6018.706 map valid loss: 11264.172 valid r2 hr 0.000 valid r2 map -69.087\n",
      "\tTrain loss: 0.000 5264.898 map valid loss: 8259.884 valid r2 hr 0.000 valid r2 map -50.394\n",
      "\tTrain loss: 0.000 3881.651 map valid loss: 3168.496 valid r2 hr 0.000 valid r2 map -18.715\n",
      "\tTrain loss: 0.000 1920.088 map valid loss: 588.387 valid r2 hr 0.000 valid r2 map -2.661\n",
      "\tTrain loss: 0.000 380.337 map valid loss: 60.459 valid r2 hr 0.000 valid r2 map 0.624\n",
      "\tTrain loss: 0.000 143.548 map valid loss: 336.831 valid r2 hr 0.000 valid r2 map -1.096\n",
      "\tTrain loss: 0.000 322.213 map valid loss: 196.103 valid r2 hr 0.000 valid r2 map -0.220\n",
      "\tTrain loss: 0.000 97.403 map valid loss: 37.250 valid r2 hr 0.000 valid r2 map 0.768\n",
      "\tTrain loss: 0.000 43.516 map valid loss: 100.502 valid r2 hr 0.000 valid r2 map 0.375\n",
      "\tTrain loss: 0.000 74.145 map valid loss: 77.503 valid r2 hr 0.000 valid r2 map 0.518\n",
      "\tTrain loss: 0.000 41.615 map valid loss: 37.000 valid r2 hr 0.000 valid r2 map 0.770\n",
      "\tTrain loss: 0.000 28.680 map valid loss: 48.255 valid r2 hr 0.000 valid r2 map 0.700\n",
      "\tTrain loss: 0.000 33.263 map valid loss: 43.576 valid r2 hr 0.000 valid r2 map 0.729\n",
      "\tTrain loss: 0.000 27.410 map valid loss: 36.990 valid r2 hr 0.000 valid r2 map 0.770\n",
      "\tTrain loss: 0.000 25.637 map valid loss: 36.759 valid r2 hr 0.000 valid r2 map 0.771\n",
      "\tTrain loss: 0.000 25.914 map valid loss: 37.732 valid r2 hr 0.000 valid r2 map 0.765\n",
      "\tTrain loss: 0.000 24.555 map valid loss: 39.682 valid r2 hr 0.000 valid r2 map 0.753\n",
      "\tTrain loss: 0.000 24.532 map valid loss: 37.784 valid r2 hr 0.000 valid r2 map 0.765\n",
      "\tTrain loss: 0.000 23.182 map valid loss: 36.758 valid r2 hr 0.000 valid r2 map 0.771\n",
      "\tTrain loss: 0.000 23.659 map valid loss: 37.257 valid r2 hr 0.000 valid r2 map 0.768\n",
      "\tTrain loss: 0.000 22.475 map valid loss: 37.271 valid r2 hr 0.000 valid r2 map 0.768\n",
      "\tTrain loss: 0.000 22.644 map valid loss: 36.518 valid r2 hr 0.000 valid r2 map 0.773\n",
      "\tTrain loss: 0.000 22.162 map valid loss: 37.497 valid r2 hr 0.000 valid r2 map 0.767\n",
      "\tTrain loss: 0.000 22.169 map valid loss: 37.434 valid r2 hr 0.000 valid r2 map 0.767\n",
      "\tTrain loss: 0.000 22.681 map valid loss: 38.906 valid r2 hr 0.000 valid r2 map 0.758\n",
      "\tTrain loss: 0.000 22.113 map valid loss: 38.948 valid r2 hr 0.000 valid r2 map 0.758\n",
      "\tTrain loss: 0.000 21.095 map valid loss: 39.420 valid r2 hr 0.000 valid r2 map 0.755\n",
      "\tTrain loss: 0.000 21.580 map valid loss: 38.868 valid r2 hr 0.000 valid r2 map 0.758\n",
      "\tTrain loss: 0.000 21.020 map valid loss: 38.939 valid r2 hr 0.000 valid r2 map 0.758\n",
      "\tTrain loss: 0.000 21.055 map valid loss: 38.261 valid r2 hr 0.000 valid r2 map 0.762\n"
     ]
    },
    {
     "data": {
      "application/vnd.jupyter.widget-view+json": {
       "model_id": "4e73fc4b34bd45c3a8fac1fc3602f2d5",
       "version_major": 2,
       "version_minor": 0
      },
      "text/plain": [
       "HBox(children=(FloatProgress(value=0.0, max=180.0), HTML(value='')))"
      ]
     },
     "metadata": {},
     "output_type": "display_data"
    },
    {
     "name": "stdout",
     "output_type": "stream",
     "text": [
      "\tTrain loss: 0.000 6037.592 map valid loss: 14697.050 valid r2 hr 0.000 valid r2 map -90.447\n",
      "\tTrain loss: 0.000 5267.924 map valid loss: 15050.858 valid r2 hr 0.000 valid r2 map -92.649\n",
      "\tTrain loss: 0.000 3904.376 map valid loss: 6335.481 valid r2 hr 0.000 valid r2 map -38.420\n",
      "\tTrain loss: 0.000 1969.896 map valid loss: 1070.570 valid r2 hr 0.000 valid r2 map -5.661\n",
      "\tTrain loss: 0.000 402.491 map valid loss: 58.066 valid r2 hr 0.000 valid r2 map 0.639\n",
      "\tTrain loss: 0.000 136.281 map valid loss: 295.883 valid r2 hr 0.000 valid r2 map -0.841\n",
      "\tTrain loss: 0.000 324.236 map valid loss: 200.347 valid r2 hr 0.000 valid r2 map -0.247\n",
      "\tTrain loss: 0.000 105.109 map valid loss: 40.392 valid r2 hr 0.000 valid r2 map 0.749\n",
      "\tTrain loss: 0.000 43.973 map valid loss: 81.552 valid r2 hr 0.000 valid r2 map 0.493\n",
      "\tTrain loss: 0.000 72.113 map valid loss: 70.148 valid r2 hr 0.000 valid r2 map 0.564\n",
      "\tTrain loss: 0.000 44.452 map valid loss: 36.884 valid r2 hr 0.000 valid r2 map 0.771\n",
      "\tTrain loss: 0.000 28.743 map valid loss: 47.033 valid r2 hr 0.000 valid r2 map 0.707\n",
      "\tTrain loss: 0.000 33.726 map valid loss: 42.734 valid r2 hr 0.000 valid r2 map 0.734\n",
      "\tTrain loss: 0.000 28.385 map valid loss: 36.994 valid r2 hr 0.000 valid r2 map 0.770\n",
      "\tTrain loss: 0.000 26.909 map valid loss: 38.422 valid r2 hr 0.000 valid r2 map 0.761\n",
      "\tTrain loss: 0.000 26.579 map valid loss: 38.420 valid r2 hr 0.000 valid r2 map 0.761\n",
      "\tTrain loss: 0.000 25.729 map valid loss: 37.672 valid r2 hr 0.000 valid r2 map 0.766\n",
      "\tTrain loss: 0.000 24.749 map valid loss: 38.144 valid r2 hr 0.000 valid r2 map 0.763\n",
      "\tTrain loss: 0.000 24.742 map valid loss: 36.761 valid r2 hr 0.000 valid r2 map 0.771\n",
      "\tTrain loss: 0.000 24.672 map valid loss: 37.851 valid r2 hr 0.000 valid r2 map 0.764\n",
      "\tTrain loss: 0.000 24.620 map valid loss: 37.291 valid r2 hr 0.000 valid r2 map 0.768\n",
      "\tTrain loss: 0.000 23.546 map valid loss: 38.759 valid r2 hr 0.000 valid r2 map 0.759\n",
      "\tTrain loss: 0.000 24.329 map valid loss: 38.809 valid r2 hr 0.000 valid r2 map 0.759\n",
      "\tTrain loss: 0.000 22.889 map valid loss: 37.313 valid r2 hr 0.000 valid r2 map 0.768\n",
      "\tTrain loss: 0.000 23.246 map valid loss: 38.433 valid r2 hr 0.000 valid r2 map 0.761\n",
      "\tTrain loss: 0.000 22.685 map valid loss: 39.321 valid r2 hr 0.000 valid r2 map 0.755\n",
      "\tTrain loss: 0.000 22.181 map valid loss: 39.598 valid r2 hr 0.000 valid r2 map 0.754\n",
      "\tTrain loss: 0.000 21.644 map valid loss: 39.514 valid r2 hr 0.000 valid r2 map 0.754\n",
      "\tTrain loss: 0.000 21.543 map valid loss: 38.875 valid r2 hr 0.000 valid r2 map 0.758\n",
      "\tTrain loss: 0.000 21.343 map valid loss: 40.265 valid r2 hr 0.000 valid r2 map 0.749\n"
     ]
    },
    {
     "data": {
      "application/vnd.jupyter.widget-view+json": {
       "model_id": "e9e8f783812e43f9846bead7b4abc956",
       "version_major": 2,
       "version_minor": 0
      },
      "text/plain": [
       "HBox(children=(FloatProgress(value=0.0, max=180.0), HTML(value='')))"
      ]
     },
     "metadata": {},
     "output_type": "display_data"
    },
    {
     "name": "stdout",
     "output_type": "stream",
     "text": [
      "\tTrain loss: 0.000 6026.758 map valid loss: 15580.729 valid r2 hr 0.000 valid r2 map -95.945\n",
      "\tTrain loss: 0.000 5205.572 map valid loss: 10190.580 valid r2 hr 0.000 valid r2 map -62.407\n",
      "\tTrain loss: 0.000 3750.023 map valid loss: 4620.928 valid r2 hr 0.000 valid r2 map -27.752\n",
      "\tTrain loss: 0.000 1774.584 map valid loss: 819.137 valid r2 hr 0.000 valid r2 map -4.097\n",
      "\tTrain loss: 0.000 316.126 map valid loss: 60.878 valid r2 hr 0.000 valid r2 map 0.621\n",
      "\tTrain loss: 0.000 166.631 map valid loss: 208.642 valid r2 hr 0.000 valid r2 map -0.298\n",
      "\tTrain loss: 0.000 312.261 map valid loss: 107.280 valid r2 hr 0.000 valid r2 map 0.332\n",
      "\tTrain loss: 0.000 84.379 map valid loss: 49.749 valid r2 hr 0.000 valid r2 map 0.690\n",
      "\tTrain loss: 0.000 49.129 map valid loss: 107.918 valid r2 hr 0.000 valid r2 map 0.329\n",
      "\tTrain loss: 0.000 73.051 map valid loss: 74.379 valid r2 hr 0.000 valid r2 map 0.537\n",
      "\tTrain loss: 0.000 40.068 map valid loss: 36.677 valid r2 hr 0.000 valid r2 map 0.772\n",
      "\tTrain loss: 0.000 30.543 map valid loss: 45.871 valid r2 hr 0.000 valid r2 map 0.715\n",
      "\tTrain loss: 0.000 33.405 map valid loss: 43.896 valid r2 hr 0.000 valid r2 map 0.727\n",
      "\tTrain loss: 0.000 28.102 map valid loss: 37.203 valid r2 hr 0.000 valid r2 map 0.769\n",
      "\tTrain loss: 0.000 26.392 map valid loss: 40.002 valid r2 hr 0.000 valid r2 map 0.751\n",
      "\tTrain loss: 0.000 27.131 map valid loss: 38.002 valid r2 hr 0.000 valid r2 map 0.764\n",
      "\tTrain loss: 0.000 26.079 map valid loss: 38.270 valid r2 hr 0.000 valid r2 map 0.762\n",
      "\tTrain loss: 0.000 26.393 map valid loss: 39.004 valid r2 hr 0.000 valid r2 map 0.757\n",
      "\tTrain loss: 0.000 25.708 map valid loss: 38.300 valid r2 hr 0.000 valid r2 map 0.762\n",
      "\tTrain loss: 0.000 24.486 map valid loss: 38.581 valid r2 hr 0.000 valid r2 map 0.760\n",
      "\tTrain loss: 0.000 24.661 map valid loss: 39.979 valid r2 hr 0.000 valid r2 map 0.751\n",
      "\tTrain loss: 0.000 24.950 map valid loss: 39.454 valid r2 hr 0.000 valid r2 map 0.755\n",
      "\tTrain loss: 0.000 24.456 map valid loss: 38.800 valid r2 hr 0.000 valid r2 map 0.759\n",
      "\tTrain loss: 0.000 23.918 map valid loss: 41.303 valid r2 hr 0.000 valid r2 map 0.743\n",
      "\tTrain loss: 0.000 23.327 map valid loss: 39.315 valid r2 hr 0.000 valid r2 map 0.755\n",
      "\tTrain loss: 0.000 22.973 map valid loss: 39.160 valid r2 hr 0.000 valid r2 map 0.756\n",
      "\tTrain loss: 0.000 23.181 map valid loss: 39.713 valid r2 hr 0.000 valid r2 map 0.753\n",
      "\tTrain loss: 0.000 22.328 map valid loss: 39.075 valid r2 hr 0.000 valid r2 map 0.757\n",
      "\tTrain loss: 0.000 22.538 map valid loss: 40.813 valid r2 hr 0.000 valid r2 map 0.746\n",
      "\tTrain loss: 0.000 22.175 map valid loss: 41.045 valid r2 hr 0.000 valid r2 map 0.745\n"
     ]
    },
    {
     "data": {
      "application/vnd.jupyter.widget-view+json": {
       "model_id": "be9ed5425aaf423aaa2fc2695134763d",
       "version_major": 2,
       "version_minor": 0
      },
      "text/plain": [
       "HBox(children=(FloatProgress(value=0.0, max=180.0), HTML(value='')))"
      ]
     },
     "metadata": {},
     "output_type": "display_data"
    },
    {
     "name": "stdout",
     "output_type": "stream",
     "text": [
      "\tTrain loss: 0.000 6017.388 map valid loss: 14970.516 valid r2 hr 0.000 valid r2 map -92.149\n",
      "\tTrain loss: 0.000 5200.103 map valid loss: 13661.070 valid r2 hr 0.000 valid r2 map -84.001\n",
      "\tTrain loss: 0.000 3741.046 map valid loss: 6263.200 valid r2 hr 0.000 valid r2 map -37.970\n",
      "\tTrain loss: 0.000 1754.801 map valid loss: 1106.183 valid r2 hr 0.000 valid r2 map -5.883\n",
      "\tTrain loss: 0.000 298.250 map valid loss: 53.504 valid r2 hr 0.000 valid r2 map 0.667\n",
      "\tTrain loss: 0.000 172.503 map valid loss: 298.670 valid r2 hr 0.000 valid r2 map -0.858\n",
      "\tTrain loss: 0.000 307.989 map valid loss: 142.273 valid r2 hr 0.000 valid r2 map 0.115\n",
      "\tTrain loss: 0.000 83.713 map valid loss: 39.704 valid r2 hr 0.000 valid r2 map 0.753\n",
      "\tTrain loss: 0.000 48.202 map valid loss: 78.962 valid r2 hr 0.000 valid r2 map 0.509\n",
      "\tTrain loss: 0.000 72.813 map valid loss: 59.130 valid r2 hr 0.000 valid r2 map 0.632\n",
      "\tTrain loss: 0.000 40.359 map valid loss: 37.972 valid r2 hr 0.000 valid r2 map 0.764\n",
      "\tTrain loss: 0.000 28.930 map valid loss: 48.960 valid r2 hr 0.000 valid r2 map 0.695\n",
      "\tTrain loss: 0.000 32.309 map valid loss: 41.859 valid r2 hr 0.000 valid r2 map 0.740\n",
      "\tTrain loss: 0.000 26.043 map valid loss: 38.395 valid r2 hr 0.000 valid r2 map 0.761\n",
      "\tTrain loss: 0.000 25.717 map valid loss: 38.958 valid r2 hr 0.000 valid r2 map 0.758\n",
      "\tTrain loss: 0.000 24.982 map valid loss: 36.221 valid r2 hr 0.000 valid r2 map 0.775\n",
      "\tTrain loss: 0.000 23.011 map valid loss: 36.877 valid r2 hr 0.000 valid r2 map 0.771\n",
      "\tTrain loss: 0.000 22.954 map valid loss: 38.979 valid r2 hr 0.000 valid r2 map 0.757\n",
      "\tTrain loss: 0.000 22.223 map valid loss: 37.328 valid r2 hr 0.000 valid r2 map 0.768\n",
      "\tTrain loss: 0.000 21.922 map valid loss: 39.011 valid r2 hr 0.000 valid r2 map 0.757\n",
      "\tTrain loss: 0.000 20.911 map valid loss: 37.655 valid r2 hr 0.000 valid r2 map 0.766\n",
      "\tTrain loss: 0.000 21.353 map valid loss: 38.723 valid r2 hr 0.000 valid r2 map 0.759\n",
      "\tTrain loss: 0.000 21.875 map valid loss: 38.827 valid r2 hr 0.000 valid r2 map 0.758\n",
      "\tTrain loss: 0.000 20.234 map valid loss: 38.278 valid r2 hr 0.000 valid r2 map 0.762\n",
      "\tTrain loss: 0.000 21.129 map valid loss: 39.966 valid r2 hr 0.000 valid r2 map 0.751\n",
      "\tTrain loss: 0.000 20.333 map valid loss: 38.880 valid r2 hr 0.000 valid r2 map 0.758\n",
      "\tTrain loss: 0.000 20.152 map valid loss: 38.255 valid r2 hr 0.000 valid r2 map 0.762\n",
      "\tTrain loss: 0.000 20.007 map valid loss: 37.771 valid r2 hr 0.000 valid r2 map 0.765\n",
      "\tTrain loss: 0.000 19.751 map valid loss: 39.270 valid r2 hr 0.000 valid r2 map 0.756\n",
      "\tTrain loss: 0.000 18.813 map valid loss: 39.260 valid r2 hr 0.000 valid r2 map 0.756\n"
     ]
    },
    {
     "data": {
      "application/vnd.jupyter.widget-view+json": {
       "model_id": "9c2b8598f0db4aaca677dcf6b0484a60",
       "version_major": 2,
       "version_minor": 0
      },
      "text/plain": [
       "HBox(children=(FloatProgress(value=0.0, max=180.0), HTML(value='')))"
      ]
     },
     "metadata": {},
     "output_type": "display_data"
    },
    {
     "name": "stdout",
     "output_type": "stream",
     "text": [
      "\tTrain loss: 0.000 6024.374 map valid loss: 5791.388 valid r2 hr 0.000 valid r2 map -35.035\n",
      "\tTrain loss: 0.000 5259.652 map valid loss: 6177.440 valid r2 hr 0.000 valid r2 map -37.437\n",
      "\tTrain loss: 0.000 3839.814 map valid loss: 3388.214 valid r2 hr 0.000 valid r2 map -20.082\n",
      "\tTrain loss: 0.000 1918.666 map valid loss: 1021.825 valid r2 hr 0.000 valid r2 map -5.358\n",
      "\tTrain loss: 0.000 364.106 map valid loss: 51.346 valid r2 hr 0.000 valid r2 map 0.681\n",
      "\tTrain loss: 0.000 147.306 map valid loss: 316.011 valid r2 hr 0.000 valid r2 map -0.966\n",
      "\tTrain loss: 0.000 319.176 map valid loss: 172.701 valid r2 hr 0.000 valid r2 map -0.075\n",
      "\tTrain loss: 0.000 95.630 map valid loss: 37.731 valid r2 hr 0.000 valid r2 map 0.765\n",
      "\tTrain loss: 0.000 45.578 map valid loss: 102.220 valid r2 hr 0.000 valid r2 map 0.364\n",
      "\tTrain loss: 0.000 70.360 map valid loss: 59.139 valid r2 hr 0.000 valid r2 map 0.632\n",
      "\tTrain loss: 0.000 40.699 map valid loss: 38.669 valid r2 hr 0.000 valid r2 map 0.759\n",
      "\tTrain loss: 0.000 29.480 map valid loss: 44.275 valid r2 hr 0.000 valid r2 map 0.725\n",
      "\tTrain loss: 0.000 32.726 map valid loss: 40.774 valid r2 hr 0.000 valid r2 map 0.746\n",
      "\tTrain loss: 0.000 25.670 map valid loss: 38.892 valid r2 hr 0.000 valid r2 map 0.758\n",
      "\tTrain loss: 0.000 24.860 map valid loss: 40.265 valid r2 hr 0.000 valid r2 map 0.749\n",
      "\tTrain loss: 0.000 24.433 map valid loss: 38.522 valid r2 hr 0.000 valid r2 map 0.760\n",
      "\tTrain loss: 0.000 23.000 map valid loss: 38.444 valid r2 hr 0.000 valid r2 map 0.761\n",
      "\tTrain loss: 0.000 22.667 map valid loss: 38.700 valid r2 hr 0.000 valid r2 map 0.759\n",
      "\tTrain loss: 0.000 22.388 map valid loss: 38.513 valid r2 hr 0.000 valid r2 map 0.760\n",
      "\tTrain loss: 0.000 21.999 map valid loss: 38.683 valid r2 hr 0.000 valid r2 map 0.759\n",
      "\tTrain loss: 0.000 21.358 map valid loss: 38.325 valid r2 hr 0.000 valid r2 map 0.762\n",
      "\tTrain loss: 0.000 21.418 map valid loss: 40.075 valid r2 hr 0.000 valid r2 map 0.751\n",
      "\tTrain loss: 0.000 20.884 map valid loss: 39.417 valid r2 hr 0.000 valid r2 map 0.755\n",
      "\tTrain loss: 0.000 20.351 map valid loss: 38.209 valid r2 hr 0.000 valid r2 map 0.762\n",
      "\tTrain loss: 0.000 19.781 map valid loss: 40.084 valid r2 hr 0.000 valid r2 map 0.751\n",
      "\tTrain loss: 0.000 20.421 map valid loss: 37.599 valid r2 hr 0.000 valid r2 map 0.766\n",
      "\tTrain loss: 0.000 20.290 map valid loss: 39.645 valid r2 hr 0.000 valid r2 map 0.753\n",
      "\tTrain loss: 0.000 19.297 map valid loss: 39.077 valid r2 hr 0.000 valid r2 map 0.757\n",
      "\tTrain loss: 0.000 19.154 map valid loss: 38.795 valid r2 hr 0.000 valid r2 map 0.759\n",
      "\tTrain loss: 0.000 18.854 map valid loss: 38.647 valid r2 hr 0.000 valid r2 map 0.760\n"
     ]
    },
    {
     "data": {
      "application/vnd.jupyter.widget-view+json": {
       "model_id": "b8dbfef179964e80b5c6043a0bff5e33",
       "version_major": 2,
       "version_minor": 0
      },
      "text/plain": [
       "HBox(children=(FloatProgress(value=0.0, max=180.0), HTML(value='')))"
      ]
     },
     "metadata": {},
     "output_type": "display_data"
    },
    {
     "name": "stdout",
     "output_type": "stream",
     "text": [
      "\tTrain loss: 0.000 6021.668 map valid loss: 8230.057 valid r2 hr 0.000 valid r2 map -50.209\n",
      "\tTrain loss: 0.000 5246.960 map valid loss: 4047.529 valid r2 hr 0.000 valid r2 map -24.184\n",
      "\tTrain loss: 0.000 3789.462 map valid loss: 2358.711 valid r2 hr 0.000 valid r2 map -13.676\n",
      "\tTrain loss: 0.000 1878.916 map valid loss: 888.635 valid r2 hr 0.000 valid r2 map -4.529\n",
      "\tTrain loss: 0.000 363.642 map valid loss: 54.016 valid r2 hr 0.000 valid r2 map 0.664\n",
      "\tTrain loss: 0.000 148.415 map valid loss: 264.532 valid r2 hr 0.000 valid r2 map -0.646\n",
      "\tTrain loss: 0.000 322.621 map valid loss: 217.263 valid r2 hr 0.000 valid r2 map -0.352\n",
      "\tTrain loss: 0.000 101.045 map valid loss: 36.811 valid r2 hr 0.000 valid r2 map 0.771\n",
      "\tTrain loss: 0.000 44.371 map valid loss: 84.834 valid r2 hr 0.000 valid r2 map 0.472\n",
      "\tTrain loss: 0.000 73.115 map valid loss: 64.713 valid r2 hr 0.000 valid r2 map 0.597\n",
      "\tTrain loss: 0.000 43.122 map valid loss: 37.127 valid r2 hr 0.000 valid r2 map 0.769\n",
      "\tTrain loss: 0.000 27.927 map valid loss: 41.514 valid r2 hr 0.000 valid r2 map 0.742\n",
      "\tTrain loss: 0.000 31.932 map valid loss: 41.296 valid r2 hr 0.000 valid r2 map 0.743\n",
      "\tTrain loss: 0.000 26.273 map valid loss: 36.504 valid r2 hr 0.000 valid r2 map 0.773\n",
      "\tTrain loss: 0.000 25.583 map valid loss: 37.719 valid r2 hr 0.000 valid r2 map 0.765\n",
      "\tTrain loss: 0.000 25.024 map valid loss: 37.608 valid r2 hr 0.000 valid r2 map 0.766\n",
      "\tTrain loss: 0.000 23.185 map valid loss: 37.037 valid r2 hr 0.000 valid r2 map 0.770\n",
      "\tTrain loss: 0.000 22.899 map valid loss: 38.133 valid r2 hr 0.000 valid r2 map 0.763\n",
      "\tTrain loss: 0.000 22.473 map valid loss: 35.909 valid r2 hr 0.000 valid r2 map 0.777\n",
      "\tTrain loss: 0.000 21.825 map valid loss: 37.608 valid r2 hr 0.000 valid r2 map 0.766\n",
      "\tTrain loss: 0.000 22.080 map valid loss: 36.604 valid r2 hr 0.000 valid r2 map 0.772\n",
      "\tTrain loss: 0.000 21.891 map valid loss: 37.352 valid r2 hr 0.000 valid r2 map 0.768\n",
      "\tTrain loss: 0.000 21.263 map valid loss: 39.627 valid r2 hr 0.000 valid r2 map 0.753\n",
      "\tTrain loss: 0.000 20.943 map valid loss: 37.286 valid r2 hr 0.000 valid r2 map 0.768\n",
      "\tTrain loss: 0.000 21.021 map valid loss: 37.310 valid r2 hr 0.000 valid r2 map 0.768\n",
      "\tTrain loss: 0.000 20.384 map valid loss: 36.743 valid r2 hr 0.000 valid r2 map 0.771\n",
      "\tTrain loss: 0.000 19.211 map valid loss: 37.233 valid r2 hr 0.000 valid r2 map 0.768\n",
      "\tTrain loss: 0.000 19.752 map valid loss: 38.376 valid r2 hr 0.000 valid r2 map 0.761\n",
      "\tTrain loss: 0.000 19.434 map valid loss: 39.372 valid r2 hr 0.000 valid r2 map 0.755\n",
      "\tTrain loss: 0.000 19.607 map valid loss: 39.164 valid r2 hr 0.000 valid r2 map 0.756\n"
     ]
    },
    {
     "data": {
      "application/vnd.jupyter.widget-view+json": {
       "model_id": "7433f32f2df64d3db568b12747af2a02",
       "version_major": 2,
       "version_minor": 0
      },
      "text/plain": [
       "HBox(children=(FloatProgress(value=0.0, max=180.0), HTML(value='')))"
      ]
     },
     "metadata": {},
     "output_type": "display_data"
    },
    {
     "name": "stdout",
     "output_type": "stream",
     "text": [
      "\tTrain loss: 0.000 6025.461 map valid loss: 6193.359 valid r2 hr 0.000 valid r2 map -37.536\n",
      "\tTrain loss: 0.000 5258.783 map valid loss: 5298.304 valid r2 hr 0.000 valid r2 map -31.967\n",
      "\tTrain loss: 0.000 3871.836 map valid loss: 4627.957 valid r2 hr 0.000 valid r2 map -27.796\n",
      "\tTrain loss: 0.000 1967.887 map valid loss: 1285.510 valid r2 hr 0.000 valid r2 map -6.999\n",
      "\tTrain loss: 0.000 391.688 map valid loss: 39.653 valid r2 hr 0.000 valid r2 map 0.753\n",
      "\tTrain loss: 0.000 145.061 map valid loss: 294.156 valid r2 hr 0.000 valid r2 map -0.830\n",
      "\tTrain loss: 0.000 315.411 map valid loss: 113.354 valid r2 hr 0.000 valid r2 map 0.295\n",
      "\tTrain loss: 0.000 96.912 map valid loss: 41.128 valid r2 hr 0.000 valid r2 map 0.744\n",
      "\tTrain loss: 0.000 45.041 map valid loss: 74.724 valid r2 hr 0.000 valid r2 map 0.535\n",
      "\tTrain loss: 0.000 73.015 map valid loss: 72.736 valid r2 hr 0.000 valid r2 map 0.547\n",
      "\tTrain loss: 0.000 40.500 map valid loss: 37.535 valid r2 hr 0.000 valid r2 map 0.766\n",
      "\tTrain loss: 0.000 28.396 map valid loss: 51.518 valid r2 hr 0.000 valid r2 map 0.679\n",
      "\tTrain loss: 0.000 33.714 map valid loss: 43.336 valid r2 hr 0.000 valid r2 map 0.730\n",
      "\tTrain loss: 0.000 26.785 map valid loss: 36.607 valid r2 hr 0.000 valid r2 map 0.772\n",
      "\tTrain loss: 0.000 25.391 map valid loss: 36.960 valid r2 hr 0.000 valid r2 map 0.770\n",
      "\tTrain loss: 0.000 24.692 map valid loss: 36.177 valid r2 hr 0.000 valid r2 map 0.775\n",
      "\tTrain loss: 0.000 23.858 map valid loss: 36.990 valid r2 hr 0.000 valid r2 map 0.770\n",
      "\tTrain loss: 0.000 23.873 map valid loss: 37.939 valid r2 hr 0.000 valid r2 map 0.764\n",
      "\tTrain loss: 0.000 23.032 map valid loss: 37.058 valid r2 hr 0.000 valid r2 map 0.769\n",
      "\tTrain loss: 0.000 23.538 map valid loss: 36.943 valid r2 hr 0.000 valid r2 map 0.770\n",
      "\tTrain loss: 0.000 22.358 map valid loss: 37.055 valid r2 hr 0.000 valid r2 map 0.769\n",
      "\tTrain loss: 0.000 22.233 map valid loss: 37.553 valid r2 hr 0.000 valid r2 map 0.766\n",
      "\tTrain loss: 0.000 21.994 map valid loss: 37.430 valid r2 hr 0.000 valid r2 map 0.767\n",
      "\tTrain loss: 0.000 21.414 map valid loss: 37.696 valid r2 hr 0.000 valid r2 map 0.765\n",
      "\tTrain loss: 0.000 21.286 map valid loss: 37.001 valid r2 hr 0.000 valid r2 map 0.770\n",
      "\tTrain loss: 0.000 22.304 map valid loss: 37.688 valid r2 hr 0.000 valid r2 map 0.766\n",
      "\tTrain loss: 0.000 22.314 map valid loss: 38.482 valid r2 hr 0.000 valid r2 map 0.761\n",
      "\tTrain loss: 0.000 22.021 map valid loss: 37.440 valid r2 hr 0.000 valid r2 map 0.767\n",
      "\tTrain loss: 0.000 20.880 map valid loss: 38.763 valid r2 hr 0.000 valid r2 map 0.759\n",
      "\tTrain loss: 0.000 20.710 map valid loss: 37.243 valid r2 hr 0.000 valid r2 map 0.768\n"
     ]
    },
    {
     "data": {
      "text/plain": [
       "0.77845007978792"
      ]
     },
     "execution_count": 9,
     "metadata": {},
     "output_type": "execute_result"
    }
   ],
   "source": [
    "multiple_runs(num_subjects, C=0, basename=\"model0_single_30min\")"
   ]
  },
  {
   "cell_type": "code",
   "execution_count": null,
   "metadata": {},
   "outputs": [],
   "source": []
  }
 ],
 "metadata": {
  "kernelspec": {
   "display_name": "Python 3",
   "language": "python",
   "name": "python3"
  },
  "language_info": {
   "codemirror_mode": {
    "name": "ipython",
    "version": 3
   },
   "file_extension": ".py",
   "mimetype": "text/x-python",
   "name": "python",
   "nbconvert_exporter": "python",
   "pygments_lexer": "ipython3",
   "version": "3.7.6"
  },
  "toc": {
   "base_numbering": 1,
   "nav_menu": {},
   "number_sections": true,
   "sideBar": true,
   "skip_h1_title": false,
   "title_cell": "Table of Contents",
   "title_sidebar": "Contents",
   "toc_cell": false,
   "toc_position": {},
   "toc_section_display": true,
   "toc_window_display": false
  }
 },
 "nbformat": 4,
 "nbformat_minor": 2
}
