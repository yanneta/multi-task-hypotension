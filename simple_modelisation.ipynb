{
 "cells": [
  {
   "cell_type": "code",
   "execution_count": 1,
   "metadata": {},
   "outputs": [],
   "source": [
    "%matplotlib inline\n",
    "import matplotlib\n",
    "import matplotlib.pyplot as plt\n",
    "\n",
    "import sys\n",
    "import numpy as np\n",
    "import pandas as pd\n",
    "\n",
    "from pathlib import Path\n",
    "from sklearn import metrics\n",
    "import random\n",
    "\n",
    "from datetime import datetime\n",
    "import cv2\n",
    "from collections import OrderedDict\n"
   ]
  },
  {
   "cell_type": "code",
   "execution_count": 2,
   "metadata": {},
   "outputs": [],
   "source": [
    "def get_mean_timeseries(data):\n",
    "    agg_data = data[data[\"window\"] == \"obs\"].groupby('key').agg({'hr': 'mean',\n",
    "                                        'spo2': 'mean',                                       \n",
    "                                        'abp_sys': 'mean',\n",
    "                                        'abp_dias': 'mean',\n",
    "                                        'abp_mean': 'mean'})\n",
    "    agg_data = agg_data.rename(columns={\"hr\": \"mean_hr\", \n",
    "                            \"spo2\": \"mean_spo2\",                           \n",
    "                            \"abp_sys\": \"mean_sap\",\n",
    "                            \"abp_dias\": \"mean_dap\",\n",
    "                            \"abp_mean\": \"mean_map\"})    \n",
    "    return(agg_data)\n",
    "\n",
    "def pick_a_sample(data, k=1):\n",
    "        \"\"\" Picks sample with the same number of observations per patient\"\"\"\n",
    "        np.random.seed(3)\n",
    "        sample = data.groupby(\"subject_id\", group_keys=False).apply(lambda x: x.sample(k, replace=True))\n",
    "        sample = sample.copy()\n",
    "        return sample\n",
    "\n",
    "def compute_cost(X, y, params):\n",
    "    n_samples = len(y)\n",
    "    h = X @ params\n",
    "    return (1/(2*n_samples))*np.sum((h-y)**2)\n",
    "\n",
    "def gradient_descent(X, y, params, learning_rate, n_iters):\n",
    "    n_samples = len(y)\n",
    "    J_history = np.zeros((n_iters,1))\n",
    "    \n",
    "    for i in range(n_iters):\n",
    "        params = params - (learning_rate/n_samples) * X.T @ (X @ params - y) \n",
    "        J_history[i] = compute_cost(X, y, params)\n",
    " \n",
    "    return (J_history, params)"
   ]
  },
  {
   "cell_type": "markdown",
   "metadata": {},
   "source": [
    "### Data processing\n",
    "For every subject_id and periode (= key), the average times series are calculated. This operation is done for the training and the validation datasets. "
   ]
  },
  {
   "cell_type": "code",
   "execution_count": 3,
   "metadata": {},
   "outputs": [],
   "source": [
    "PATH = Path(\"/home/menyssa/Recherche/Mimic-III-Yannet/Scripts/Python/multi-task-romain/\")\n",
    "train = pd.read_csv(\"/home/menyssa/Recherche/Mimic-III-Yannet/Data/clean/40min/data_modelisation_5min_gap.csv\")\n",
    "val = pd.read_csv(\"/home/menyssa/Recherche/Mimic-III-Yannet/Data/lariboisiere/data_validation_40.csv\")"
   ]
  },
  {
   "cell_type": "code",
   "execution_count": 4,
   "metadata": {
    "scrolled": true
   },
   "outputs": [],
   "source": [
    "agg_train = get_mean_timeseries(train)\n",
    "agg_val = get_mean_timeseries(val)"
   ]
  },
  {
   "cell_type": "code",
   "execution_count": 5,
   "metadata": {},
   "outputs": [],
   "source": [
    "columns = ['subject_id','key','periode','gender', 'age', 'sapsii', 'sofa', \n",
    "           'care_unit', 'amine', 'sedation', 'ventilation', \n",
    "           'prediction_mean_MAP', 'prediction_mean_HR']\n",
    "df_train = train[columns].merge(agg_train, left_on=\"key\", right_on=\"key\").drop_duplicates()\n",
    "df_val = val[columns].merge(agg_val, left_on=\"key\", right_on=\"key\").drop_duplicates()"
   ]
  },
  {
   "cell_type": "code",
   "execution_count": 6,
   "metadata": {},
   "outputs": [
    {
     "name": "stdout",
     "output_type": "stream",
     "text": [
      "There are 2850 patients in train set and 54 patients in the validation set, which represent 75061 periods in train set and 1597 periods in the validation set\n"
     ]
    }
   ],
   "source": [
    "num_subjects_train = len(np.unique(df_train.subject_id))\n",
    "num_subjects_val = len(np.unique(df_val.subject_id))\n",
    "print(\"There are {} patients in train set and {} patients in the validation set, which represent {} periods in train set and {} periods in the validation set\".format(\n",
    "      num_subjects_train, num_subjects_val, df_train.shape[0], df_val.shape[0]))"
   ]
  },
  {
   "cell_type": "code",
   "execution_count": 7,
   "metadata": {},
   "outputs": [
    {
     "data": {
      "text/html": [
       "<div>\n",
       "<style scoped>\n",
       "    .dataframe tbody tr th:only-of-type {\n",
       "        vertical-align: middle;\n",
       "    }\n",
       "\n",
       "    .dataframe tbody tr th {\n",
       "        vertical-align: top;\n",
       "    }\n",
       "\n",
       "    .dataframe thead th {\n",
       "        text-align: right;\n",
       "    }\n",
       "</style>\n",
       "<table border=\"1\" class=\"dataframe\">\n",
       "  <thead>\n",
       "    <tr style=\"text-align: right;\">\n",
       "      <th></th>\n",
       "      <th>subject_id</th>\n",
       "      <th>key</th>\n",
       "      <th>periode</th>\n",
       "      <th>gender</th>\n",
       "      <th>age</th>\n",
       "      <th>sapsii</th>\n",
       "      <th>sofa</th>\n",
       "      <th>care_unit</th>\n",
       "      <th>amine</th>\n",
       "      <th>sedation</th>\n",
       "      <th>ventilation</th>\n",
       "      <th>prediction_mean_MAP</th>\n",
       "      <th>prediction_mean_HR</th>\n",
       "      <th>mean_hr</th>\n",
       "      <th>mean_spo2</th>\n",
       "      <th>mean_sap</th>\n",
       "      <th>mean_dap</th>\n",
       "      <th>mean_map</th>\n",
       "    </tr>\n",
       "  </thead>\n",
       "  <tbody>\n",
       "    <tr>\n",
       "      <th>0</th>\n",
       "      <td>20</td>\n",
       "      <td>20_2</td>\n",
       "      <td>2</td>\n",
       "      <td>1</td>\n",
       "      <td>76</td>\n",
       "      <td>22</td>\n",
       "      <td>1</td>\n",
       "      <td>2</td>\n",
       "      <td>0</td>\n",
       "      <td>0</td>\n",
       "      <td>1</td>\n",
       "      <td>66.34</td>\n",
       "      <td>80.00</td>\n",
       "      <td>80.026667</td>\n",
       "      <td>96.196667</td>\n",
       "      <td>123.703333</td>\n",
       "      <td>58.123333</td>\n",
       "      <td>75.810000</td>\n",
       "    </tr>\n",
       "    <tr>\n",
       "      <th>40</th>\n",
       "      <td>20</td>\n",
       "      <td>20_5</td>\n",
       "      <td>5</td>\n",
       "      <td>1</td>\n",
       "      <td>76</td>\n",
       "      <td>22</td>\n",
       "      <td>1</td>\n",
       "      <td>2</td>\n",
       "      <td>0</td>\n",
       "      <td>0</td>\n",
       "      <td>1</td>\n",
       "      <td>86.52</td>\n",
       "      <td>80.00</td>\n",
       "      <td>79.933333</td>\n",
       "      <td>98.823333</td>\n",
       "      <td>121.530000</td>\n",
       "      <td>58.693333</td>\n",
       "      <td>76.883333</td>\n",
       "    </tr>\n",
       "    <tr>\n",
       "      <th>80</th>\n",
       "      <td>20</td>\n",
       "      <td>20_7</td>\n",
       "      <td>7</td>\n",
       "      <td>1</td>\n",
       "      <td>76</td>\n",
       "      <td>22</td>\n",
       "      <td>1</td>\n",
       "      <td>2</td>\n",
       "      <td>0</td>\n",
       "      <td>0</td>\n",
       "      <td>1</td>\n",
       "      <td>77.96</td>\n",
       "      <td>80.00</td>\n",
       "      <td>80.000000</td>\n",
       "      <td>99.953333</td>\n",
       "      <td>121.010000</td>\n",
       "      <td>53.056667</td>\n",
       "      <td>71.186667</td>\n",
       "    </tr>\n",
       "    <tr>\n",
       "      <th>120</th>\n",
       "      <td>20</td>\n",
       "      <td>20_9</td>\n",
       "      <td>9</td>\n",
       "      <td>1</td>\n",
       "      <td>76</td>\n",
       "      <td>22</td>\n",
       "      <td>1</td>\n",
       "      <td>2</td>\n",
       "      <td>0</td>\n",
       "      <td>0</td>\n",
       "      <td>1</td>\n",
       "      <td>90.02</td>\n",
       "      <td>80.00</td>\n",
       "      <td>80.003333</td>\n",
       "      <td>100.000000</td>\n",
       "      <td>152.133333</td>\n",
       "      <td>64.443333</td>\n",
       "      <td>90.433333</td>\n",
       "    </tr>\n",
       "    <tr>\n",
       "      <th>160</th>\n",
       "      <td>20</td>\n",
       "      <td>20_10</td>\n",
       "      <td>10</td>\n",
       "      <td>1</td>\n",
       "      <td>76</td>\n",
       "      <td>22</td>\n",
       "      <td>1</td>\n",
       "      <td>2</td>\n",
       "      <td>0</td>\n",
       "      <td>0</td>\n",
       "      <td>1</td>\n",
       "      <td>82.04</td>\n",
       "      <td>80.34</td>\n",
       "      <td>80.000000</td>\n",
       "      <td>99.626667</td>\n",
       "      <td>116.140000</td>\n",
       "      <td>51.803333</td>\n",
       "      <td>67.220000</td>\n",
       "    </tr>\n",
       "  </tbody>\n",
       "</table>\n",
       "</div>"
      ],
      "text/plain": [
       "     subject_id    key  periode  gender  age  sapsii  sofa  care_unit  amine  \\\n",
       "0            20   20_2        2       1   76      22     1          2      0   \n",
       "40           20   20_5        5       1   76      22     1          2      0   \n",
       "80           20   20_7        7       1   76      22     1          2      0   \n",
       "120          20   20_9        9       1   76      22     1          2      0   \n",
       "160          20  20_10       10       1   76      22     1          2      0   \n",
       "\n",
       "     sedation  ventilation  prediction_mean_MAP  prediction_mean_HR  \\\n",
       "0           0            1                66.34               80.00   \n",
       "40          0            1                86.52               80.00   \n",
       "80          0            1                77.96               80.00   \n",
       "120         0            1                90.02               80.00   \n",
       "160         0            1                82.04               80.34   \n",
       "\n",
       "       mean_hr   mean_spo2    mean_sap   mean_dap   mean_map  \n",
       "0    80.026667   96.196667  123.703333  58.123333  75.810000  \n",
       "40   79.933333   98.823333  121.530000  58.693333  76.883333  \n",
       "80   80.000000   99.953333  121.010000  53.056667  71.186667  \n",
       "120  80.003333  100.000000  152.133333  64.443333  90.433333  \n",
       "160  80.000000   99.626667  116.140000  51.803333  67.220000  "
      ]
     },
     "execution_count": 7,
     "metadata": {},
     "output_type": "execute_result"
    }
   ],
   "source": [
    "df_train.head()"
   ]
  },
  {
   "cell_type": "code",
   "execution_count": 8,
   "metadata": {},
   "outputs": [
    {
     "data": {
      "text/html": [
       "<div>\n",
       "<style scoped>\n",
       "    .dataframe tbody tr th:only-of-type {\n",
       "        vertical-align: middle;\n",
       "    }\n",
       "\n",
       "    .dataframe tbody tr th {\n",
       "        vertical-align: top;\n",
       "    }\n",
       "\n",
       "    .dataframe thead th {\n",
       "        text-align: right;\n",
       "    }\n",
       "</style>\n",
       "<table border=\"1\" class=\"dataframe\">\n",
       "  <thead>\n",
       "    <tr style=\"text-align: right;\">\n",
       "      <th></th>\n",
       "      <th>subject_id</th>\n",
       "      <th>key</th>\n",
       "      <th>periode</th>\n",
       "      <th>gender</th>\n",
       "      <th>age</th>\n",
       "      <th>sapsii</th>\n",
       "      <th>sofa</th>\n",
       "      <th>care_unit</th>\n",
       "      <th>amine</th>\n",
       "      <th>sedation</th>\n",
       "      <th>ventilation</th>\n",
       "      <th>prediction_mean_MAP</th>\n",
       "      <th>prediction_mean_HR</th>\n",
       "      <th>mean_hr</th>\n",
       "      <th>mean_spo2</th>\n",
       "      <th>mean_sap</th>\n",
       "      <th>mean_dap</th>\n",
       "      <th>mean_map</th>\n",
       "    </tr>\n",
       "  </thead>\n",
       "  <tbody>\n",
       "    <tr>\n",
       "      <th>0</th>\n",
       "      <td>3</td>\n",
       "      <td>3_1</td>\n",
       "      <td>1</td>\n",
       "      <td>0</td>\n",
       "      <td>82</td>\n",
       "      <td>122</td>\n",
       "      <td>16</td>\n",
       "      <td>5</td>\n",
       "      <td>1</td>\n",
       "      <td>1</td>\n",
       "      <td>1</td>\n",
       "      <td>78.6</td>\n",
       "      <td>91.0</td>\n",
       "      <td>88.866667</td>\n",
       "      <td>99.733333</td>\n",
       "      <td>136.533333</td>\n",
       "      <td>55.566667</td>\n",
       "      <td>75.766667</td>\n",
       "    </tr>\n",
       "    <tr>\n",
       "      <th>40</th>\n",
       "      <td>3</td>\n",
       "      <td>3_12</td>\n",
       "      <td>12</td>\n",
       "      <td>0</td>\n",
       "      <td>82</td>\n",
       "      <td>122</td>\n",
       "      <td>16</td>\n",
       "      <td>5</td>\n",
       "      <td>1</td>\n",
       "      <td>1</td>\n",
       "      <td>1</td>\n",
       "      <td>69.8</td>\n",
       "      <td>88.6</td>\n",
       "      <td>87.733333</td>\n",
       "      <td>96.600000</td>\n",
       "      <td>125.900000</td>\n",
       "      <td>46.733333</td>\n",
       "      <td>64.133333</td>\n",
       "    </tr>\n",
       "    <tr>\n",
       "      <th>80</th>\n",
       "      <td>3</td>\n",
       "      <td>3_28</td>\n",
       "      <td>28</td>\n",
       "      <td>0</td>\n",
       "      <td>82</td>\n",
       "      <td>122</td>\n",
       "      <td>16</td>\n",
       "      <td>5</td>\n",
       "      <td>1</td>\n",
       "      <td>1</td>\n",
       "      <td>1</td>\n",
       "      <td>69.4</td>\n",
       "      <td>86.6</td>\n",
       "      <td>85.100000</td>\n",
       "      <td>100.000000</td>\n",
       "      <td>161.800000</td>\n",
       "      <td>46.366667</td>\n",
       "      <td>70.133333</td>\n",
       "    </tr>\n",
       "    <tr>\n",
       "      <th>120</th>\n",
       "      <td>3</td>\n",
       "      <td>3_45</td>\n",
       "      <td>45</td>\n",
       "      <td>0</td>\n",
       "      <td>82</td>\n",
       "      <td>122</td>\n",
       "      <td>16</td>\n",
       "      <td>5</td>\n",
       "      <td>1</td>\n",
       "      <td>1</td>\n",
       "      <td>1</td>\n",
       "      <td>71.6</td>\n",
       "      <td>85.6</td>\n",
       "      <td>83.100000</td>\n",
       "      <td>94.733333</td>\n",
       "      <td>143.033333</td>\n",
       "      <td>47.533333</td>\n",
       "      <td>67.800000</td>\n",
       "    </tr>\n",
       "    <tr>\n",
       "      <th>160</th>\n",
       "      <td>3</td>\n",
       "      <td>3_48</td>\n",
       "      <td>48</td>\n",
       "      <td>0</td>\n",
       "      <td>82</td>\n",
       "      <td>122</td>\n",
       "      <td>16</td>\n",
       "      <td>5</td>\n",
       "      <td>1</td>\n",
       "      <td>1</td>\n",
       "      <td>1</td>\n",
       "      <td>72.8</td>\n",
       "      <td>82.0</td>\n",
       "      <td>83.266667</td>\n",
       "      <td>96.200000</td>\n",
       "      <td>150.500000</td>\n",
       "      <td>49.900000</td>\n",
       "      <td>72.666667</td>\n",
       "    </tr>\n",
       "  </tbody>\n",
       "</table>\n",
       "</div>"
      ],
      "text/plain": [
       "     subject_id   key  periode  gender  age  sapsii  sofa  care_unit  amine  \\\n",
       "0             3   3_1        1       0   82     122    16          5      1   \n",
       "40            3  3_12       12       0   82     122    16          5      1   \n",
       "80            3  3_28       28       0   82     122    16          5      1   \n",
       "120           3  3_45       45       0   82     122    16          5      1   \n",
       "160           3  3_48       48       0   82     122    16          5      1   \n",
       "\n",
       "     sedation  ventilation  prediction_mean_MAP  prediction_mean_HR  \\\n",
       "0           1            1                 78.6                91.0   \n",
       "40          1            1                 69.8                88.6   \n",
       "80          1            1                 69.4                86.6   \n",
       "120         1            1                 71.6                85.6   \n",
       "160         1            1                 72.8                82.0   \n",
       "\n",
       "       mean_hr   mean_spo2    mean_sap   mean_dap   mean_map  \n",
       "0    88.866667   99.733333  136.533333  55.566667  75.766667  \n",
       "40   87.733333   96.600000  125.900000  46.733333  64.133333  \n",
       "80   85.100000  100.000000  161.800000  46.366667  70.133333  \n",
       "120  83.100000   94.733333  143.033333  47.533333  67.800000  \n",
       "160  83.266667   96.200000  150.500000  49.900000  72.666667  "
      ]
     },
     "execution_count": 8,
     "metadata": {},
     "output_type": "execute_result"
    }
   ],
   "source": [
    "df_val.head()"
   ]
  },
  {
   "cell_type": "markdown",
   "metadata": {},
   "source": [
    "## Part 1 : Simple modelisation (univariate regression)\n",
    "There are 75,061 periods in the train dataset and 1,597 periods in the validation dataset. But I just wanted to train only one period per patient to see the $R^2$ on a basic model.\n",
    "#### 1 - Map prediction"
   ]
  },
  {
   "cell_type": "code",
   "execution_count": 9,
   "metadata": {},
   "outputs": [],
   "source": [
    "# Only one random period per patient\n",
    "df_train = pick_a_sample(df_train, 1)\n",
    "df_val = pick_a_sample(df_val , 1)"
   ]
  },
  {
   "cell_type": "code",
   "execution_count": 10,
   "metadata": {},
   "outputs": [],
   "source": [
    "# Only one feature, the average mean arterial pressure\n",
    "X = df_train[\"mean_map\"].values\n",
    "Y = df_train[\"prediction_mean_MAP\"].values\n",
    "X = np.reshape(X,(-1,1))\n",
    "Y = np.reshape(Y,(-1,1))"
   ]
  },
  {
   "cell_type": "code",
   "execution_count": 11,
   "metadata": {},
   "outputs": [
    {
     "name": "stdout",
     "output_type": "stream",
     "text": [
      "The shape of X is: (2850, 1)\n",
      "The shape of Y is: (2850, 1)\n",
      "Total samples in our dataset is: 2850\n"
     ]
    }
   ],
   "source": [
    "shape_X = X.shape\n",
    "shape_Y = Y.shape\n",
    "m = X.shape[1] \n",
    "print ('The shape of X is: ' + str(shape_X))\n",
    "print ('The shape of Y is: ' + str(shape_Y))\n",
    "print(\"Total samples in our dataset is: {}\".format(X.shape[0]))"
   ]
  },
  {
   "cell_type": "code",
   "execution_count": 12,
   "metadata": {},
   "outputs": [],
   "source": [
    "y = Y\n",
    "n_samples = len(y)\n",
    "mu = np.mean(X, 0)\n",
    "sigma = np.std(X, 0)\n",
    "X = (X-mu) / sigma\n",
    "X = np.hstack((np.ones((n_samples,1)),X))\n",
    "n_features = np.size(X,1)\n",
    "params = np.zeros((n_features,1))"
   ]
  },
  {
   "cell_type": "code",
   "execution_count": 13,
   "metadata": {},
   "outputs": [
    {
     "name": "stdout",
     "output_type": "stream",
     "text": [
      "Initial cost is:  3195.24837354814 \n",
      "\n",
      "Optimal parameters are: \n",
      " [[78.1810376 ]\n",
      " [12.83991813]] \n",
      "\n",
      "Final cost is:  [15.16269066]\n"
     ]
    },
    {
     "data": {
      "image/png": "[encoded data removed]",
      "text/plain": [
       "<Figure size 432x288 with 1 Axes>"
      ]
     },
     "metadata": {},
     "output_type": "display_data"
    }
   ],
   "source": [
    "n_iters = 500\n",
    "learning_rate = 0.01\n",
    "initial_cost = compute_cost(X, y, params)\n",
    "print(\"Initial cost is: \", initial_cost, \"\\n\")\n",
    "(J_history, optimal_params) = gradient_descent(X, y, params, learning_rate, n_iters)\n",
    "print(\"Optimal parameters are: \\n\", optimal_params, \"\\n\")\n",
    "print(\"Final cost is: \", J_history[-1])\n",
    "plt.plot(range(len(J_history)), J_history, 'r')\n",
    "plt.title(\"Convergence Graph of Cost Function\")\n",
    "plt.xlabel(\"Number of Iterations\")\n",
    "plt.ylabel(\"Cost\")\n",
    "plt.show()\n"
   ]
  },
  {
   "cell_type": "code",
   "execution_count": 18,
   "metadata": {},
   "outputs": [
    {
     "name": "stdout",
     "output_type": "stream",
     "text": [
      "The R^2 on validation set is 0.855885440610221\n"
     ]
    },
    {
     "data": {
      "image/png": "[encoded data removed]",
      "text/plain": [
       "<Figure size 432x288 with 1 Axes>"
      ]
     },
     "metadata": {},
     "output_type": "display_data"
    }
   ],
   "source": [
    "X_val = df_val[\"mean_map\"].values\n",
    "Y_val = df_val[\"prediction_mean_MAP\"].values\n",
    "X_val = np.reshape(X_val,(-1,1))\n",
    "Y_val = np.reshape(Y_val,(-1,1))\n",
    "\n",
    "y_val = Y_val\n",
    "n_samples = len(y_val)\n",
    "mu = np.mean(X_val, 0)\n",
    "sigma = np.std(X_val, 0)\n",
    "X_val = (X_val-mu) / sigma\n",
    "X_val = np.hstack((np.ones((n_samples,1)),X_val))\n",
    "\n",
    "# predicted values \n",
    "y_hat = X_val @ optimal_params\n",
    "\n",
    "# rsquare\n",
    "from sklearn.linear_model import LinearRegression\n",
    "reg = LinearRegression().fit(y_hat, y_val)\n",
    "r_square = reg.score(y_hat, y_val)\n",
    "print(\"The R^2 on validation set is {}\".format(r_square))\n",
    "plt.plot(y_val, y_hat, 'ro')\n",
    "plt.xlabel(\"Observated average mean arterial pressure \\n during the prediction window \")\n",
    "plt.ylabel(\"Predicted average mean arterial pressure \\n for the prediction window\")\n",
    "plt.show()"
   ]
  },
  {
   "cell_type": "markdown",
   "metadata": {},
   "source": [
    "#### 2 - HR prediction"
   ]
  },
  {
   "cell_type": "code",
   "execution_count": 19,
   "metadata": {},
   "outputs": [
    {
     "name": "stdout",
     "output_type": "stream",
     "text": [
      "The R^2 on validation set is 0.8877124245498537\n"
     ]
    },
    {
     "data": {
      "image/png": "[encoded data removed]",
      "text/plain": [
       "<Figure size 432x288 with 1 Axes>"
      ]
     },
     "metadata": {},
     "output_type": "display_data"
    }
   ],
   "source": [
    "# Only one feature, the average heart rate\n",
    "\n",
    "# # Training data\n",
    "X = df_train[\"mean_hr\"].values\n",
    "Y = df_train[\"prediction_mean_HR\"].values\n",
    "X = np.reshape(X,(-1,1))\n",
    "Y = np.reshape(Y,(-1,1))\n",
    "y = Y\n",
    "n_samples = len(y)\n",
    "mu = np.mean(X, 0)\n",
    "sigma = np.std(X, 0)\n",
    "X = (X-mu) / sigma\n",
    "X = np.hstack((np.ones((n_samples,1)),X))\n",
    "n_features = np.size(X,1)\n",
    "params = np.zeros((n_features,1))\n",
    "\n",
    "# Model\n",
    "(J_history, optimal_params) = gradient_descent(X, y, params, learning_rate, n_iters)\n",
    "\n",
    "# Validation data\n",
    "X_val = df_val[\"mean_hr\"].values\n",
    "Y_val = df_val[\"prediction_mean_HR\"].values\n",
    "X_val = np.reshape(X_val,(-1,1))\n",
    "Y_val = np.reshape(Y_val,(-1,1))\n",
    "y_val = Y_val\n",
    "n_samples = len(y_val)\n",
    "mu = np.mean(X_val, 0)\n",
    "sigma = np.std(X_val, 0)\n",
    "X_val = (X_val-mu) / sigma\n",
    "X_val = np.hstack((np.ones((n_samples,1)),X_val))\n",
    "\n",
    "# predicted values \n",
    "y_hat = X_val @ optimal_params\n",
    "\n",
    "# rsquare\n",
    "reg = LinearRegression().fit(y_hat, y_val)\n",
    "r_square = reg.score(y_hat, y_val)\n",
    "print(\"The R^2 on validation set is {}\".format(r_square))\n",
    "plt.plot(y_val, y_hat, 'bo')\n",
    "plt.xlabel(\"Observated average heart rate \\n during the prediction window \")\n",
    "plt.ylabel(\"Predicted average heart rate \\n for the prediction window\")\n",
    "plt.show()"
   ]
  },
  {
   "cell_type": "markdown",
   "metadata": {},
   "source": [
    "### Conclusion \n",
    "With only the average mean arterial pressure as a predictor of the average mean arterial pressure during the prediction window, we get a high $R²$ on the validation data. Same thing for the average heart rate"
   ]
  },
  {
   "cell_type": "markdown",
   "metadata": {},
   "source": [
    "## Part 2\n",
    "### Multivariate regression\n"
   ]
  },
  {
   "cell_type": "code",
   "execution_count": null,
   "metadata": {},
   "outputs": [],
   "source": []
  },
  {
   "cell_type": "code",
   "execution_count": null,
   "metadata": {},
   "outputs": [],
   "source": []
  }
 ],
 "metadata": {
  "kernelspec": {
   "display_name": "Python 3",
   "language": "python",
   "name": "python3"
  },
  "language_info": {
   "codemirror_mode": {
    "name": "ipython",
    "version": 3
   },
   "file_extension": ".py",
   "mimetype": "text/x-python",
   "name": "python",
   "nbconvert_exporter": "python",
   "pygments_lexer": "ipython3",
   "version": "3.6.10"
  }
 },
 "nbformat": 4,
 "nbformat_minor": 2
}
