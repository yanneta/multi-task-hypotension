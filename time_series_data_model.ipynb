{
 "cells": [
  {
   "cell_type": "code",
   "execution_count": 1,
   "metadata": {},
   "outputs": [],
   "source": [
    "%reload_ext autoreload\n",
    "%autoreload 2\n",
    "%matplotlib inline\n",
    "import matplotlib\n",
    "import matplotlib.pyplot as plt\n",
    "\n",
    "import numpy as np\n",
    "import pandas as pd\n",
    "\n",
    "from pathlib import Path\n",
    "from sklearn import metrics\n",
    "import random\n",
    "\n",
    "import torch\n",
    "from torch.utils.data import Dataset, DataLoader\n",
    "import torch.optim as optim\n",
    "import torch.nn as nn\n",
    "import torch.nn.functional as F\n",
    "from torchvision import models\n",
    "import torchvision\n",
    "\n",
    "from datetime import datetime\n",
    "from collections import OrderedDict"
   ]
  },
  {
   "cell_type": "code",
   "execution_count": 2,
   "metadata": {},
   "outputs": [],
   "source": [
    "import pickle"
   ]
  },
  {
   "cell_type": "code",
   "execution_count": 3,
   "metadata": {},
   "outputs": [],
   "source": [
    "PATH = Path(\"/data2/yinterian/multi-task-romain\")"
   ]
  },
  {
   "cell_type": "code",
   "execution_count": 4,
   "metadata": {},
   "outputs": [],
   "source": [
    "with open(PATH/\"obs_df_train.pickle\", 'rb') as f:\n",
    "    train = pickle.load(f)"
   ]
  },
  {
   "cell_type": "code",
   "execution_count": 5,
   "metadata": {},
   "outputs": [],
   "source": [
    "with open(PATH/\"obs_df_valid.pickle\", 'rb') as f:\n",
    "    valid = pickle.load(f)"
   ]
  },
  {
   "cell_type": "code",
   "execution_count": 6,
   "metadata": {},
   "outputs": [
    {
     "data": {
      "text/html": [
       "<div>\n",
       "<style scoped>\n",
       "    .dataframe tbody tr th:only-of-type {\n",
       "        vertical-align: middle;\n",
       "    }\n",
       "\n",
       "    .dataframe tbody tr th {\n",
       "        vertical-align: top;\n",
       "    }\n",
       "\n",
       "    .dataframe thead th {\n",
       "        text-align: right;\n",
       "    }\n",
       "</style>\n",
       "<table border=\"1\" class=\"dataframe\">\n",
       "  <thead>\n",
       "    <tr style=\"text-align: right;\">\n",
       "      <th></th>\n",
       "      <th>subject_id</th>\n",
       "      <th>gender</th>\n",
       "      <th>age</th>\n",
       "      <th>sapsi_first</th>\n",
       "      <th>sofa_first</th>\n",
       "      <th>care_unit</th>\n",
       "      <th>amine</th>\n",
       "      <th>sedation</th>\n",
       "      <th>ventilation</th>\n",
       "      <th>period</th>\n",
       "      <th>series</th>\n",
       "      <th>y_event</th>\n",
       "      <th>y_mean_abpm</th>\n",
       "      <th>is_val</th>\n",
       "    </tr>\n",
       "  </thead>\n",
       "  <tbody>\n",
       "    <tr>\n",
       "      <th>0</th>\n",
       "      <td>10013</td>\n",
       "      <td>1</td>\n",
       "      <td>87</td>\n",
       "      <td>15</td>\n",
       "      <td>8</td>\n",
       "      <td>0</td>\n",
       "      <td>1</td>\n",
       "      <td>0</td>\n",
       "      <td>0</td>\n",
       "      <td>10</td>\n",
       "      <td>[[85.0, 89.1, 106.8, 31.5, 52.2], [84.9, 88.2,...</td>\n",
       "      <td>1</td>\n",
       "      <td>62.465</td>\n",
       "      <td>0</td>\n",
       "    </tr>\n",
       "    <tr>\n",
       "      <th>1</th>\n",
       "      <td>10013</td>\n",
       "      <td>1</td>\n",
       "      <td>87</td>\n",
       "      <td>15</td>\n",
       "      <td>8</td>\n",
       "      <td>0</td>\n",
       "      <td>1</td>\n",
       "      <td>0</td>\n",
       "      <td>0</td>\n",
       "      <td>11</td>\n",
       "      <td>[[85.9, 88.3, 123.2, 38.6, 63.2], [85.5, 91.7,...</td>\n",
       "      <td>1</td>\n",
       "      <td>56.505</td>\n",
       "      <td>0</td>\n",
       "    </tr>\n",
       "    <tr>\n",
       "      <th>2</th>\n",
       "      <td>10013</td>\n",
       "      <td>1</td>\n",
       "      <td>87</td>\n",
       "      <td>15</td>\n",
       "      <td>8</td>\n",
       "      <td>0</td>\n",
       "      <td>1</td>\n",
       "      <td>0</td>\n",
       "      <td>0</td>\n",
       "      <td>12</td>\n",
       "      <td>[[85.6, 93.6, 108.4, 34.7, 55.9], [86.0, 93.9,...</td>\n",
       "      <td>1</td>\n",
       "      <td>60.52</td>\n",
       "      <td>0</td>\n",
       "    </tr>\n",
       "    <tr>\n",
       "      <th>3</th>\n",
       "      <td>10013</td>\n",
       "      <td>1</td>\n",
       "      <td>87</td>\n",
       "      <td>15</td>\n",
       "      <td>8</td>\n",
       "      <td>0</td>\n",
       "      <td>1</td>\n",
       "      <td>0</td>\n",
       "      <td>0</td>\n",
       "      <td>15</td>\n",
       "      <td>[[86.9, 0.0, 95.3, 30.0, 48.5], [87.4, 0.0, 94...</td>\n",
       "      <td>1</td>\n",
       "      <td>55.23</td>\n",
       "      <td>0</td>\n",
       "    </tr>\n",
       "    <tr>\n",
       "      <th>4</th>\n",
       "      <td>10013</td>\n",
       "      <td>1</td>\n",
       "      <td>87</td>\n",
       "      <td>15</td>\n",
       "      <td>8</td>\n",
       "      <td>0</td>\n",
       "      <td>1</td>\n",
       "      <td>0</td>\n",
       "      <td>0</td>\n",
       "      <td>16</td>\n",
       "      <td>[[87.3, 90.6, 105.9, 36.1, 55.9], [86.8, 91.0,...</td>\n",
       "      <td>1</td>\n",
       "      <td>57.965</td>\n",
       "      <td>0</td>\n",
       "    </tr>\n",
       "  </tbody>\n",
       "</table>\n",
       "</div>"
      ],
      "text/plain": [
       "  subject_id  gender age sapsi_first sofa_first  care_unit amine sedation  \\\n",
       "0      10013       1  87          15          8          0     1        0   \n",
       "1      10013       1  87          15          8          0     1        0   \n",
       "2      10013       1  87          15          8          0     1        0   \n",
       "3      10013       1  87          15          8          0     1        0   \n",
       "4      10013       1  87          15          8          0     1        0   \n",
       "\n",
       "  ventilation period                                             series  \\\n",
       "0           0     10  [[85.0, 89.1, 106.8, 31.5, 52.2], [84.9, 88.2,...   \n",
       "1           0     11  [[85.9, 88.3, 123.2, 38.6, 63.2], [85.5, 91.7,...   \n",
       "2           0     12  [[85.6, 93.6, 108.4, 34.7, 55.9], [86.0, 93.9,...   \n",
       "3           0     15  [[86.9, 0.0, 95.3, 30.0, 48.5], [87.4, 0.0, 94...   \n",
       "4           0     16  [[87.3, 90.6, 105.9, 36.1, 55.9], [86.8, 91.0,...   \n",
       "\n",
       "  y_event y_mean_abpm  is_val  \n",
       "0       1      62.465       0  \n",
       "1       1      56.505       0  \n",
       "2       1       60.52       0  \n",
       "3       1       55.23       0  \n",
       "4       1      57.965       0  "
      ]
     },
     "execution_count": 6,
     "metadata": {},
     "output_type": "execute_result"
    }
   ],
   "source": [
    "train.head()"
   ]
  },
  {
   "cell_type": "code",
   "execution_count": 7,
   "metadata": {},
   "outputs": [
    {
     "data": {
      "text/html": [
       "<div>\n",
       "<style scoped>\n",
       "    .dataframe tbody tr th:only-of-type {\n",
       "        vertical-align: middle;\n",
       "    }\n",
       "\n",
       "    .dataframe tbody tr th {\n",
       "        vertical-align: top;\n",
       "    }\n",
       "\n",
       "    .dataframe thead th {\n",
       "        text-align: right;\n",
       "    }\n",
       "</style>\n",
       "<table border=\"1\" class=\"dataframe\">\n",
       "  <thead>\n",
       "    <tr style=\"text-align: right;\">\n",
       "      <th></th>\n",
       "      <th>subject_id</th>\n",
       "      <th>gender</th>\n",
       "      <th>age</th>\n",
       "      <th>sapsi_first</th>\n",
       "      <th>sofa_first</th>\n",
       "      <th>care_unit</th>\n",
       "      <th>amine</th>\n",
       "      <th>sedation</th>\n",
       "      <th>ventilation</th>\n",
       "      <th>period</th>\n",
       "      <th>series</th>\n",
       "      <th>y_event</th>\n",
       "      <th>y_mean_abpm</th>\n",
       "      <th>is_val</th>\n",
       "    </tr>\n",
       "  </thead>\n",
       "  <tbody>\n",
       "    <tr>\n",
       "      <th>221</th>\n",
       "      <td>10209</td>\n",
       "      <td>0</td>\n",
       "      <td>35</td>\n",
       "      <td>16</td>\n",
       "      <td>7</td>\n",
       "      <td>1</td>\n",
       "      <td>1</td>\n",
       "      <td>1</td>\n",
       "      <td>1</td>\n",
       "      <td>10</td>\n",
       "      <td>[[101.1, 100.0, 149.3, 94.5, 115.7], [101.3, 1...</td>\n",
       "      <td>0</td>\n",
       "      <td>107.575</td>\n",
       "      <td>1</td>\n",
       "    </tr>\n",
       "    <tr>\n",
       "      <th>222</th>\n",
       "      <td>10209</td>\n",
       "      <td>0</td>\n",
       "      <td>35</td>\n",
       "      <td>16</td>\n",
       "      <td>7</td>\n",
       "      <td>1</td>\n",
       "      <td>1</td>\n",
       "      <td>1</td>\n",
       "      <td>1</td>\n",
       "      <td>102</td>\n",
       "      <td>[[89.0, 100.0, 133.6, 69.2, 88.2], [89.1, 100....</td>\n",
       "      <td>0</td>\n",
       "      <td>90.04</td>\n",
       "      <td>1</td>\n",
       "    </tr>\n",
       "    <tr>\n",
       "      <th>223</th>\n",
       "      <td>10209</td>\n",
       "      <td>0</td>\n",
       "      <td>35</td>\n",
       "      <td>16</td>\n",
       "      <td>7</td>\n",
       "      <td>1</td>\n",
       "      <td>1</td>\n",
       "      <td>1</td>\n",
       "      <td>1</td>\n",
       "      <td>103</td>\n",
       "      <td>[[89.8, 97.9, 141.9, 71.2, 89.9], [89.8, 97.5,...</td>\n",
       "      <td>0</td>\n",
       "      <td>96.515</td>\n",
       "      <td>1</td>\n",
       "    </tr>\n",
       "    <tr>\n",
       "      <th>224</th>\n",
       "      <td>10209</td>\n",
       "      <td>0</td>\n",
       "      <td>35</td>\n",
       "      <td>16</td>\n",
       "      <td>7</td>\n",
       "      <td>1</td>\n",
       "      <td>1</td>\n",
       "      <td>1</td>\n",
       "      <td>1</td>\n",
       "      <td>104</td>\n",
       "      <td>[[89.4, 99.0, 159.3, 77.4, 98.1], [89.1, 99.3,...</td>\n",
       "      <td>0</td>\n",
       "      <td>97.355</td>\n",
       "      <td>1</td>\n",
       "    </tr>\n",
       "    <tr>\n",
       "      <th>225</th>\n",
       "      <td>10209</td>\n",
       "      <td>0</td>\n",
       "      <td>35</td>\n",
       "      <td>16</td>\n",
       "      <td>7</td>\n",
       "      <td>1</td>\n",
       "      <td>1</td>\n",
       "      <td>1</td>\n",
       "      <td>1</td>\n",
       "      <td>106</td>\n",
       "      <td>[[87.0, 99.0, 166.9, 78.4, 101.6], [90.6, 99.0...</td>\n",
       "      <td>0</td>\n",
       "      <td>102.24</td>\n",
       "      <td>1</td>\n",
       "    </tr>\n",
       "  </tbody>\n",
       "</table>\n",
       "</div>"
      ],
      "text/plain": [
       "    subject_id  gender age sapsi_first sofa_first  care_unit amine sedation  \\\n",
       "221      10209       0  35          16          7          1     1        1   \n",
       "222      10209       0  35          16          7          1     1        1   \n",
       "223      10209       0  35          16          7          1     1        1   \n",
       "224      10209       0  35          16          7          1     1        1   \n",
       "225      10209       0  35          16          7          1     1        1   \n",
       "\n",
       "    ventilation period                                             series  \\\n",
       "221           1     10  [[101.1, 100.0, 149.3, 94.5, 115.7], [101.3, 1...   \n",
       "222           1    102  [[89.0, 100.0, 133.6, 69.2, 88.2], [89.1, 100....   \n",
       "223           1    103  [[89.8, 97.9, 141.9, 71.2, 89.9], [89.8, 97.5,...   \n",
       "224           1    104  [[89.4, 99.0, 159.3, 77.4, 98.1], [89.1, 99.3,...   \n",
       "225           1    106  [[87.0, 99.0, 166.9, 78.4, 101.6], [90.6, 99.0...   \n",
       "\n",
       "    y_event y_mean_abpm  is_val  \n",
       "221       0     107.575       1  \n",
       "222       0       90.04       1  \n",
       "223       0      96.515       1  \n",
       "224       0      97.355       1  \n",
       "225       0      102.24       1  "
      ]
     },
     "execution_count": 7,
     "metadata": {},
     "output_type": "execute_result"
    }
   ],
   "source": [
    "valid.head()"
   ]
  },
  {
   "cell_type": "code",
   "execution_count": 8,
   "metadata": {},
   "outputs": [
    {
     "data": {
      "text/plain": [
       "((32256, 14), (7332, 14))"
      ]
     },
     "execution_count": 8,
     "metadata": {},
     "output_type": "execute_result"
    }
   ],
   "source": [
    "train.shape, valid.shape"
   ]
  },
  {
   "cell_type": "markdown",
   "metadata": {},
   "source": [
    "## Dataset"
   ]
  },
  {
   "cell_type": "code",
   "execution_count": 9,
   "metadata": {},
   "outputs": [],
   "source": [
    "def get_mean_std_series(train):\n",
    "    ss = np.concatenate(train.series.values)\n",
    "    ss = ss.reshape(-1,5)\n",
    "    return ss.mean(axis=0), ss.std(axis=0)"
   ]
  },
  {
   "cell_type": "code",
   "execution_count": 10,
   "metadata": {},
   "outputs": [],
   "source": [
    "def get_mean_std_static(train):\n",
    "    res = {}\n",
    "    for name in [\"age\", \"sapsi_first\", \"sofa_first\"]:\n",
    "        values = train[name].values\n",
    "        res[name] = (values.mean(), values.std())\n",
    "    res[\"series\"] = get_mean_std_series(train)\n",
    "    return res"
   ]
  },
  {
   "cell_type": "code",
   "execution_count": 11,
   "metadata": {},
   "outputs": [
    {
     "data": {
      "text/plain": [
       "{'age': (67, 16.152217089222916),\n",
       " 'sapsi_first': (16, 4.968204119744002),\n",
       " 'sofa_first': (8, 4.153183597602336),\n",
       " 'series': (array([ 85.78689748,  90.61373362, 118.25838821,  57.44024058,\n",
       "          81.28476211]),\n",
       "  array([16.91317423, 24.11194065, 31.60648773, 17.01183444, 20.30982141]))}"
      ]
     },
     "execution_count": 11,
     "metadata": {},
     "output_type": "execute_result"
    }
   ],
   "source": [
    "norm_dict = get_mean_std_static(train)\n",
    "norm_dict "
   ]
  },
  {
   "cell_type": "code",
   "execution_count": 12,
   "metadata": {},
   "outputs": [],
   "source": [
    "class MultiTask(Dataset):\n",
    "    def __init__(self, df, norm_dict):\n",
    "        \"\"\"\n",
    "        Args:\n",
    "            df: dataframe with data\n",
    "            norm_dict: mean and std of all variables to normalize\n",
    "            \n",
    "        \"\"\"\n",
    "        self.norm_dict = norm_dict\n",
    "        self.df = df\n",
    "        self.names = [\"age\", \"sapsi_first\", \"sofa_first\"] ## needs normalization\n",
    "        self.names_binary = [\"gender\", \"amine\", \"sedation\", \"ventilation\"]\n",
    "\n",
    "    def __getitem__(self, index):\n",
    "        row = self.df.iloc[index,:]\n",
    "        x_series = (row.series - self.norm_dict[\"series\"][0])/self.norm_dict[\"series\"][1]\n",
    "        x_cont = [(row[name]-self.norm_dict[name][0])/self.norm_dict[name][1] for name in self.names]\n",
    "        x_binary = [row[name] for name in self.names_binary]\n",
    "        x_cat = row[\"care_unit\"]\n",
    "        x_cont = np.array(x_cont + x_binary)\n",
    "        return x_series, x_cont, x_cat, row[\"y_event\"], row[\"y_mean_abpm\"]\n",
    "\n",
    "    def __len__(self):\n",
    "        return self.df.shape[0]"
   ]
  },
  {
   "cell_type": "code",
   "execution_count": 13,
   "metadata": {},
   "outputs": [],
   "source": [
    "train_ds = MultiTask(train, norm_dict)\n",
    "valid_ds = MultiTask(valid, norm_dict)"
   ]
  },
  {
   "cell_type": "code",
   "execution_count": 17,
   "metadata": {},
   "outputs": [],
   "source": [
    "x1, x2, x3, y1, y2 = train_ds[0]"
   ]
  },
  {
   "cell_type": "code",
   "execution_count": 18,
   "metadata": {},
   "outputs": [
    {
     "data": {
      "text/plain": [
       "62.465"
      ]
     },
     "execution_count": 18,
     "metadata": {},
     "output_type": "execute_result"
    }
   ],
   "source": [
    "y2"
   ]
  },
  {
   "cell_type": "code",
   "execution_count": 23,
   "metadata": {},
   "outputs": [],
   "source": [
    "batch_size = 10\n",
    "train_dl = DataLoader(train_ds, batch_size=batch_size, shuffle=True)\n",
    "valid_dl = DataLoader(valid_ds, batch_size=batch_size)"
   ]
  },
  {
   "cell_type": "code",
   "execution_count": 24,
   "metadata": {},
   "outputs": [],
   "source": [
    "x_series, x_cont, x_cat, y1, y2 = next(iter(train_dl))"
   ]
  },
  {
   "cell_type": "code",
   "execution_count": 25,
   "metadata": {},
   "outputs": [
    {
     "data": {
      "text/plain": [
       "torch.Size([10, 60, 5])"
      ]
     },
     "execution_count": 25,
     "metadata": {},
     "output_type": "execute_result"
    }
   ],
   "source": [
    "x_series.shape"
   ]
  },
  {
   "cell_type": "code",
   "execution_count": 26,
   "metadata": {},
   "outputs": [
    {
     "data": {
      "text/plain": [
       "torch.Size([10, 7])"
      ]
     },
     "execution_count": 26,
     "metadata": {},
     "output_type": "execute_result"
    }
   ],
   "source": [
    "x_cont.shape"
   ]
  },
  {
   "cell_type": "code",
   "execution_count": 27,
   "metadata": {},
   "outputs": [],
   "source": [
    "gru = nn.GRU(5, 11, batch_first=True).cuda()"
   ]
  },
  {
   "cell_type": "code",
   "execution_count": 28,
   "metadata": {},
   "outputs": [
    {
     "data": {
      "text/plain": [
       "torch.Size([1, 10, 11])"
      ]
     },
     "execution_count": 28,
     "metadata": {},
     "output_type": "execute_result"
    }
   ],
   "source": [
    "hts, ht = gru(x_series.float().cuda())\n",
    "ht.shape"
   ]
  },
  {
   "cell_type": "code",
   "execution_count": 30,
   "metadata": {},
   "outputs": [
    {
     "data": {
      "text/plain": [
       "torch.Size([10, 11])"
      ]
     },
     "execution_count": 30,
     "metadata": {},
     "output_type": "execute_result"
    }
   ],
   "source": [
    "ht[0].shape"
   ]
  },
  {
   "cell_type": "code",
   "execution_count": 31,
   "metadata": {},
   "outputs": [
    {
     "data": {
      "text/plain": [
       "torch.Size([10, 60, 11])"
      ]
     },
     "execution_count": 31,
     "metadata": {},
     "output_type": "execute_result"
    }
   ],
   "source": [
    "hts.shape"
   ]
  },
  {
   "cell_type": "code",
   "execution_count": 32,
   "metadata": {},
   "outputs": [],
   "source": [
    "hidden_size = 100\n",
    "embedding = nn.Embedding(3, 1).cuda()\n",
    "gru = nn.GRU(5, hidden_size, bidirectional=True, batch_first=True).cuda()\n",
    "num = hidden_size + 10 + 1\n",
    "linear1 = nn.Linear(7, 10).cuda()\n",
    "out1 = nn.Linear(num, 1).cuda()\n",
    "out2 = nn.Linear(num, 1).cuda()\n",
    "bn1 = nn.BatchNorm1d(10).cuda()"
   ]
  },
  {
   "cell_type": "code",
   "execution_count": 33,
   "metadata": {},
   "outputs": [],
   "source": [
    "x_series, x_cont, x_cat, y1, y2 = next(iter(train_dl))\n",
    "x_series = x_series.float().cuda()\n",
    "x_cont = x_cont.float().cuda()\n",
    "x_cat = x_cat.long().cuda()\n",
    "y1 = y1.float().cuda()\n",
    "y2 = y2.float().cuda()"
   ]
  },
  {
   "cell_type": "code",
   "execution_count": 34,
   "metadata": {},
   "outputs": [],
   "source": [
    "_, ht = gru(x_series)"
   ]
  },
  {
   "cell_type": "markdown",
   "metadata": {},
   "source": [
    "## Model"
   ]
  },
  {
   "cell_type": "code",
   "execution_count": 14,
   "metadata": {},
   "outputs": [],
   "source": [
    "def save_model(m, p): torch.save(m.state_dict(), p)\n",
    "    \n",
    "def load_model(m, p): m.load_state_dict(torch.load(p))"
   ]
  },
  {
   "cell_type": "code",
   "execution_count": 15,
   "metadata": {},
   "outputs": [],
   "source": [
    "class EventModel(nn.Module):\n",
    "    def __init__(self, hidden_size=100):\n",
    "        super(EventModel, self).__init__()\n",
    "        self.embedding = nn.Embedding(3, 1)\n",
    "        self.gru = nn.GRU(5, hidden_size, batch_first=True)\n",
    "        self.num = hidden_size + 10 + 1\n",
    "        self.linear1 = nn.Linear(7, 10)\n",
    "        self.out1 = nn.Linear(self.num, 1)\n",
    "        self.out2 = nn.Linear(self.num, 1)\n",
    "        self.bn1 = nn.BatchNorm1d(10)\n",
    "\n",
    "    def forward(self, x_series, x_cont, x_cat):\n",
    "        _, ht = self.gru(x_series)\n",
    "        x_cat = self.embedding(x_cat)\n",
    "        x_cont = self.bn1(F.relu(self.linear1(x_cont))) \n",
    "        x = torch.cat((ht[-1], x_cat, x_cont), 1)\n",
    "        return self.out1(x), self.out2(x)"
   ]
  },
  {
   "cell_type": "code",
   "execution_count": 16,
   "metadata": {},
   "outputs": [],
   "source": [
    "class EventModel2(nn.Module):\n",
    "    def __init__(self, hidden_size=100):\n",
    "        super(EventModel2, self).__init__()\n",
    "        self.embedding = nn.Embedding(3, 1)\n",
    "        self.gru = nn.GRU(5, hidden_size, batch_first=True)\n",
    "        self.num = hidden_size + 7 + 1\n",
    "        self.linear1 = nn.Linear(7, 7)\n",
    "        self.out1 = nn.Linear(self.num, 1)\n",
    "        self.out2 = nn.Linear(self.num, 1)\n",
    "        self.bn1 = nn.BatchNorm1d(7)\n",
    "        \n",
    "    def forward(self, x_series, x_cont, x_cat):\n",
    "        _, ht = self.gru(x_series)\n",
    "        x_cat = self.embedding(x_cat)\n",
    "        x_cont = self.bn1(F.relu(self.linear1(x_cont))) + x_cont\n",
    "        x = torch.cat((ht[-1], x_cat, x_cont), 1)\n",
    "        return self.out1(x), self.out2(x)"
   ]
  },
  {
   "cell_type": "code",
   "execution_count": 24,
   "metadata": {},
   "outputs": [],
   "source": [
    "class EventModel3(nn.Module):\n",
    "    def __init__(self, hidden_size=100):\n",
    "        super(EventModel3, self).__init__()\n",
    "        self.embedding = nn.Embedding(3, 1)\n",
    "        self.gru = nn.GRU(5, hidden_size, batch_first=True)\n",
    "        self.num = hidden_size + 7 + 1\n",
    "        self.linear1 = nn.Linear(self.num, self.num)\n",
    "        self.out1 = nn.Linear(self.num, 1)\n",
    "        self.out2 = nn.Linear(self.num, 1)\n",
    "        self.bn1 = nn.BatchNorm1d(self.num)\n",
    "        \n",
    "    def forward(self, x_series, x_cont, x_cat):\n",
    "        _, ht = self.gru(x_series)\n",
    "        x_cat = self.embedding(x_cat)\n",
    "        x = torch.cat((ht[-1], x_cat, x_cont), 1)\n",
    "        x = self.bn1(F.relu(self.linear1(x)))\n",
    "        return self.out1(x), self.out2(x)"
   ]
  },
  {
   "cell_type": "code",
   "execution_count": 17,
   "metadata": {},
   "outputs": [],
   "source": [
    "def val_metrics(model, valid_dl):\n",
    "    model.eval()\n",
    "    total = 0\n",
    "    sum_loss = 0\n",
    "    y_hat1 = []\n",
    "    ys1 = []\n",
    "    y_hat2 = []\n",
    "    ys2 = []\n",
    "    for x_series, x_cont, x_cat, y1, y2 in valid_dl:\n",
    "        batch = y1.shape[0]\n",
    "        x_series = x_series.float().cuda()\n",
    "        x_cont = x_cont.float().cuda()\n",
    "        x_cat = x_cat.long().cuda()\n",
    "        y1 = y1.float().cuda()\n",
    "        y2 = y2.float().cuda()\n",
    "        out1, out2 = model(x_series, x_cont, x_cat)\n",
    "        log_loss = F.binary_cross_entropy_with_logits(out1, y1.unsqueeze(-1))\n",
    "        mse_loss = F.mse_loss(out2, y2.unsqueeze(-1))\n",
    "        loss = log_loss + mse_loss\n",
    "        sum_loss += batch*(loss.item())\n",
    "        total += batch\n",
    "        y_hat1.append(out1.view(-1).detach().cpu().numpy())\n",
    "        ys1.append(y1.view(-1).cpu().numpy())\n",
    "        y_hat2.append(out2.view(-1).detach().cpu().numpy())\n",
    "        ys2.append(y2.view(-1).cpu().numpy())\n",
    "    \n",
    "    y_hat1 = np.concatenate(y_hat1)\n",
    "    y_hat2 = np.concatenate(y_hat2)\n",
    "    ys1 = np.concatenate(ys1)\n",
    "    ys2 = np.concatenate(ys2)\n",
    "    r2 = metrics.r2_score(ys2, y_hat2)\n",
    "    auc = metrics.roc_auc_score(ys1, y_hat1)\n",
    "    return sum_loss/total, auc, r2"
   ]
  },
  {
   "cell_type": "code",
   "execution_count": 18,
   "metadata": {},
   "outputs": [],
   "source": [
    "def train_epochs(model, train_dl, optimizer, lr=1e-3, epochs = 30):\n",
    "    for i in range(epochs):\n",
    "        sum_loss1 = 0\n",
    "        sum_loss2 = 0\n",
    "        total = 0\n",
    "        for x_series, x_cont, x_cat, y1, y2 in train_dl:\n",
    "            model.train()\n",
    "            x_series = x_series.float().cuda()\n",
    "            x_cont = x_cont.float().cuda()\n",
    "            x_cat = x_cat.long().cuda()\n",
    "            y1 = y1.float().cuda()\n",
    "            y2 = y2.float().cuda()\n",
    "            out1, out2 = model(x_series, x_cont, x_cat)\n",
    "            log_loss = F.binary_cross_entropy_with_logits(out1, y1.unsqueeze(-1))\n",
    "            mse_loss = F.mse_loss(out2, y2.unsqueeze(-1))\n",
    "            loss = log_loss + mse_loss\n",
    "            sum_loss1 += len(y1) * log_loss.item()\n",
    "            sum_loss2 += len(y1) * mse_loss.item()\n",
    "            total += len(y1)\n",
    "            optimizer.zero_grad()\n",
    "            loss.backward()\n",
    "            optimizer.step()\n",
    "        if i % 1 == 0:\n",
    "            val_loss, val_auc, val_r2 = val_metrics(model, valid_dl)\n",
    "            print(\"\\tTrain loss: {:.3f} {:.3f} valid loss: {:.3f} valid auc {:.3f} valid r2 {:.3f}\".format(\n",
    "                sum_loss1/total, sum_loss2/total, val_loss, val_auc, val_r2))"
   ]
  },
  {
   "cell_type": "code",
   "execution_count": 19,
   "metadata": {},
   "outputs": [],
   "source": [
    "batch_size = 5000\n",
    "train_dl = DataLoader(train_ds, batch_size=batch_size, shuffle=True)\n",
    "valid_dl = DataLoader(valid_ds, batch_size=batch_size)"
   ]
  },
  {
   "cell_type": "code",
   "execution_count": 44,
   "metadata": {},
   "outputs": [],
   "source": [
    "model = EventModel().cuda()"
   ]
  },
  {
   "cell_type": "code",
   "execution_count": 45,
   "metadata": {},
   "outputs": [],
   "source": [
    "optimizer = torch.optim.Adam(model.parameters(), lr=0.05, weight_decay=1e-5)"
   ]
  },
  {
   "cell_type": "code",
   "execution_count": 46,
   "metadata": {},
   "outputs": [
    {
     "name": "stdout",
     "output_type": "stream",
     "text": [
      "\tTrain loss: 0.558 5540.801 valid loss: 3497.681 valid auc 0.892 valid r2 -9.719\n",
      "\tTrain loss: 0.355 2283.166 valid loss: 832.262 valid auc 0.891 valid r2 -1.550\n",
      "\tTrain loss: 0.344 411.508 valid loss: 275.807 valid auc 0.898 valid r2 0.156\n",
      "\tTrain loss: 0.322 309.826 valid loss: 332.436 valid auc 0.887 valid r2 -0.018\n",
      "\tTrain loss: 0.332 256.891 valid loss: 187.423 valid auc 0.875 valid r2 0.427\n",
      "\tTrain loss: 0.340 159.971 valid loss: 176.174 valid auc 0.866 valid r2 0.461\n",
      "\tTrain loss: 0.343 158.754 valid loss: 172.762 valid auc 0.884 valid r2 0.472\n",
      "\tTrain loss: 0.335 145.260 valid loss: 154.841 valid auc 0.880 valid r2 0.526\n",
      "\tTrain loss: 0.333 134.529 valid loss: 149.408 valid auc 0.878 valid r2 0.543\n",
      "\tTrain loss: 0.325 129.455 valid loss: 143.152 valid auc 0.883 valid r2 0.562\n",
      "\tTrain loss: 0.319 124.147 valid loss: 138.674 valid auc 0.888 valid r2 0.576\n",
      "\tTrain loss: 0.317 121.214 valid loss: 134.927 valid auc 0.892 valid r2 0.587\n",
      "\tTrain loss: 0.314 118.616 valid loss: 132.025 valid auc 0.893 valid r2 0.596\n",
      "\tTrain loss: 0.313 116.184 valid loss: 130.007 valid auc 0.899 valid r2 0.602\n",
      "\tTrain loss: 0.309 114.868 valid loss: 130.008 valid auc 0.900 valid r2 0.602\n"
     ]
    }
   ],
   "source": [
    "train_epochs(model, train_dl, optimizer, epochs=15)"
   ]
  },
  {
   "cell_type": "code",
   "execution_count": 47,
   "metadata": {},
   "outputs": [
    {
     "name": "stdout",
     "output_type": "stream",
     "text": [
      "\tTrain loss: 0.460 126.937 valid loss: 124.748 valid auc 0.902 valid r2 0.619\n",
      "\tTrain loss: 0.354 110.977 valid loss: 123.678 valid auc 0.904 valid r2 0.622\n",
      "\tTrain loss: 0.331 107.793 valid loss: 119.566 valid auc 0.906 valid r2 0.634\n",
      "\tTrain loss: 0.307 105.259 valid loss: 117.457 valid auc 0.906 valid r2 0.641\n",
      "\tTrain loss: 0.298 102.716 valid loss: 114.973 valid auc 0.908 valid r2 0.649\n",
      "\tTrain loss: 0.292 100.406 valid loss: 112.576 valid auc 0.910 valid r2 0.656\n",
      "\tTrain loss: 0.288 97.998 valid loss: 110.091 valid auc 0.911 valid r2 0.663\n",
      "\tTrain loss: 0.290 95.805 valid loss: 109.674 valid auc 0.910 valid r2 0.665\n",
      "\tTrain loss: 0.289 94.075 valid loss: 108.451 valid auc 0.912 valid r2 0.669\n",
      "\tTrain loss: 0.285 92.088 valid loss: 106.796 valid auc 0.917 valid r2 0.674\n",
      "\tTrain loss: 0.278 90.476 valid loss: 105.235 valid auc 0.921 valid r2 0.678\n",
      "\tTrain loss: 0.279 89.003 valid loss: 106.356 valid auc 0.920 valid r2 0.675\n",
      "\tTrain loss: 0.276 88.237 valid loss: 103.477 valid auc 0.920 valid r2 0.684\n",
      "\tTrain loss: 0.274 87.109 valid loss: 103.163 valid auc 0.922 valid r2 0.685\n",
      "\tTrain loss: 0.272 85.658 valid loss: 104.082 valid auc 0.923 valid r2 0.682\n",
      "\tTrain loss: 0.271 84.958 valid loss: 103.103 valid auc 0.923 valid r2 0.685\n",
      "\tTrain loss: 0.274 83.669 valid loss: 102.427 valid auc 0.922 valid r2 0.687\n",
      "\tTrain loss: 0.271 83.035 valid loss: 102.411 valid auc 0.921 valid r2 0.687\n",
      "\tTrain loss: 0.274 82.179 valid loss: 101.256 valid auc 0.920 valid r2 0.691\n",
      "\tTrain loss: 0.275 82.653 valid loss: 100.653 valid auc 0.923 valid r2 0.692\n"
     ]
    }
   ],
   "source": [
    "optimizer = torch.optim.Adam(model.parameters(), lr=0.03, weight_decay=1e-5)\n",
    "train_epochs(model, train_dl, optimizer, epochs=20)"
   ]
  },
  {
   "cell_type": "code",
   "execution_count": 48,
   "metadata": {},
   "outputs": [],
   "source": [
    "path = \"{0}/models/model0_acc_92_r2_{1:.0f}.pth\".format(PATH, 100*0.69) \n",
    "save_model(model, path)"
   ]
  },
  {
   "cell_type": "code",
   "execution_count": 50,
   "metadata": {},
   "outputs": [
    {
     "name": "stdout",
     "output_type": "stream",
     "text": [
      "\tTrain loss: 0.557 5656.964 valid loss: 3546.525 valid auc 0.840 valid r2 -9.868\n",
      "\tTrain loss: 0.415 2248.717 valid loss: 862.392 valid auc 0.880 valid r2 -1.642\n",
      "\tTrain loss: 0.373 401.649 valid loss: 275.263 valid auc 0.896 valid r2 0.157\n",
      "\tTrain loss: 0.343 374.347 valid loss: 385.253 valid auc 0.892 valid r2 -0.180\n",
      "\tTrain loss: 0.365 315.856 valid loss: 208.421 valid auc 0.870 valid r2 0.362\n",
      "\tTrain loss: 0.356 173.524 valid loss: 193.626 valid auc 0.849 valid r2 0.408\n",
      "\tTrain loss: 0.354 175.444 valid loss: 193.976 valid auc 0.861 valid r2 0.407\n",
      "\tTrain loss: 0.345 164.000 valid loss: 169.304 valid auc 0.877 valid r2 0.482\n",
      "\tTrain loss: 0.333 147.575 valid loss: 159.866 valid auc 0.883 valid r2 0.511\n",
      "\tTrain loss: 0.328 140.912 valid loss: 156.455 valid auc 0.876 valid r2 0.522\n",
      "\tTrain loss: 0.333 143.350 valid loss: 147.939 valid auc 0.873 valid r2 0.548\n",
      "\tTrain loss: 0.329 133.951 valid loss: 148.193 valid auc 0.877 valid r2 0.547\n",
      "\tTrain loss: 0.328 128.605 valid loss: 141.732 valid auc 0.876 valid r2 0.567\n",
      "\tTrain loss: 0.327 123.859 valid loss: 137.898 valid auc 0.879 valid r2 0.578\n",
      "\tTrain loss: 0.323 120.478 valid loss: 133.780 valid auc 0.886 valid r2 0.591\n"
     ]
    }
   ],
   "source": [
    "# new try\n",
    "model = EventModel().cuda()\n",
    "optimizer = torch.optim.Adam(model.parameters(), lr=0.05, weight_decay=3e-5)\n",
    "train_epochs(model, train_dl, optimizer, epochs=15)"
   ]
  },
  {
   "cell_type": "code",
   "execution_count": 51,
   "metadata": {},
   "outputs": [
    {
     "name": "stdout",
     "output_type": "stream",
     "text": [
      "\tTrain loss: 0.499 118.792 valid loss: 128.645 valid auc 0.890 valid r2 0.607\n",
      "\tTrain loss: 0.387 111.989 valid loss: 123.553 valid auc 0.893 valid r2 0.622\n",
      "\tTrain loss: 0.337 105.941 valid loss: 116.206 valid auc 0.898 valid r2 0.645\n",
      "\tTrain loss: 0.317 102.208 valid loss: 115.273 valid auc 0.897 valid r2 0.648\n",
      "\tTrain loss: 0.311 98.768 valid loss: 111.532 valid auc 0.904 valid r2 0.659\n",
      "\tTrain loss: 0.302 96.312 valid loss: 108.222 valid auc 0.907 valid r2 0.669\n",
      "\tTrain loss: 0.293 94.110 valid loss: 107.289 valid auc 0.910 valid r2 0.672\n",
      "\tTrain loss: 0.290 92.537 valid loss: 105.342 valid auc 0.912 valid r2 0.678\n",
      "\tTrain loss: 0.285 90.009 valid loss: 104.592 valid auc 0.914 valid r2 0.680\n",
      "\tTrain loss: 0.283 89.789 valid loss: 103.115 valid auc 0.916 valid r2 0.685\n",
      "\tTrain loss: 0.282 87.671 valid loss: 103.057 valid auc 0.920 valid r2 0.685\n",
      "\tTrain loss: 0.281 86.796 valid loss: 102.229 valid auc 0.920 valid r2 0.688\n",
      "\tTrain loss: 0.285 85.696 valid loss: 101.696 valid auc 0.918 valid r2 0.689\n",
      "\tTrain loss: 0.288 85.650 valid loss: 101.313 valid auc 0.916 valid r2 0.690\n",
      "\tTrain loss: 0.283 86.788 valid loss: 101.256 valid auc 0.919 valid r2 0.690\n",
      "\tTrain loss: 0.275 86.444 valid loss: 101.024 valid auc 0.918 valid r2 0.691\n",
      "\tTrain loss: 0.280 84.644 valid loss: 101.720 valid auc 0.920 valid r2 0.689\n",
      "\tTrain loss: 0.276 84.080 valid loss: 102.663 valid auc 0.921 valid r2 0.686\n",
      "\tTrain loss: 0.282 85.403 valid loss: 102.701 valid auc 0.917 valid r2 0.686\n",
      "\tTrain loss: 0.288 83.884 valid loss: 99.669 valid auc 0.920 valid r2 0.695\n"
     ]
    }
   ],
   "source": [
    "optimizer = torch.optim.Adam(model.parameters(), lr=0.03, weight_decay=3e-5)\n",
    "train_epochs(model, train_dl, optimizer, epochs=20)"
   ]
  },
  {
   "cell_type": "markdown",
   "metadata": {},
   "source": [
    "### Model 2"
   ]
  },
  {
   "cell_type": "code",
   "execution_count": 20,
   "metadata": {},
   "outputs": [
    {
     "name": "stdout",
     "output_type": "stream",
     "text": [
      "\tTrain loss: 0.572 5471.378 valid loss: 3427.993 valid auc 0.851 valid r2 -9.505\n",
      "\tTrain loss: 0.410 2313.734 valid loss: 905.162 valid auc 0.882 valid r2 -1.773\n",
      "\tTrain loss: 0.367 462.863 valid loss: 221.941 valid auc 0.892 valid r2 0.321\n",
      "\tTrain loss: 0.336 277.959 valid loss: 380.718 valid auc 0.888 valid r2 -0.166\n",
      "\tTrain loss: 0.343 287.511 valid loss: 213.315 valid auc 0.891 valid r2 0.347\n",
      "\tTrain loss: 0.315 171.657 valid loss: 166.768 valid auc 0.894 valid r2 0.490\n",
      "\tTrain loss: 0.315 154.887 valid loss: 170.290 valid auc 0.895 valid r2 0.479\n",
      "\tTrain loss: 0.307 150.405 valid loss: 160.113 valid auc 0.899 valid r2 0.510\n",
      "\tTrain loss: 0.305 138.413 valid loss: 149.179 valid auc 0.902 valid r2 0.544\n",
      "\tTrain loss: 0.301 131.003 valid loss: 141.377 valid auc 0.903 valid r2 0.568\n",
      "\tTrain loss: 0.300 125.492 valid loss: 137.444 valid auc 0.905 valid r2 0.580\n",
      "\tTrain loss: 0.298 123.243 valid loss: 132.596 valid auc 0.908 valid r2 0.595\n",
      "\tTrain loss: 0.297 118.913 valid loss: 130.229 valid auc 0.910 valid r2 0.602\n",
      "\tTrain loss: 0.294 115.787 valid loss: 126.330 valid auc 0.911 valid r2 0.614\n",
      "\tTrain loss: 0.292 112.236 valid loss: 124.773 valid auc 0.912 valid r2 0.618\n"
     ]
    }
   ],
   "source": [
    "model = EventModel2().cuda()\n",
    "optimizer = torch.optim.Adam(model.parameters(), lr=0.05, weight_decay=3e-5)\n",
    "train_epochs(model, train_dl, optimizer, epochs=15)"
   ]
  },
  {
   "cell_type": "code",
   "execution_count": 22,
   "metadata": {},
   "outputs": [
    {
     "name": "stdout",
     "output_type": "stream",
     "text": [
      "\tTrain loss: 0.406 112.307 valid loss: 119.428 valid auc 0.913 valid r2 0.635\n",
      "\tTrain loss: 0.333 107.575 valid loss: 115.385 valid auc 0.914 valid r2 0.647\n",
      "\tTrain loss: 0.322 100.261 valid loss: 109.791 valid auc 0.914 valid r2 0.664\n",
      "\tTrain loss: 0.303 98.183 valid loss: 108.314 valid auc 0.907 valid r2 0.669\n",
      "\tTrain loss: 0.302 95.526 valid loss: 107.107 valid auc 0.908 valid r2 0.673\n",
      "\tTrain loss: 0.293 94.367 valid loss: 105.183 valid auc 0.910 valid r2 0.679\n",
      "\tTrain loss: 0.285 91.069 valid loss: 103.386 valid auc 0.912 valid r2 0.684\n",
      "\tTrain loss: 0.284 89.615 valid loss: 101.989 valid auc 0.915 valid r2 0.688\n",
      "\tTrain loss: 0.281 88.145 valid loss: 101.753 valid auc 0.916 valid r2 0.689\n",
      "\tTrain loss: 0.278 87.158 valid loss: 102.721 valid auc 0.916 valid r2 0.686\n",
      "\tTrain loss: 0.275 86.722 valid loss: 100.385 valid auc 0.918 valid r2 0.693\n",
      "\tTrain loss: 0.274 85.826 valid loss: 102.717 valid auc 0.918 valid r2 0.686\n",
      "\tTrain loss: 0.273 84.735 valid loss: 99.850 valid auc 0.920 valid r2 0.695\n",
      "\tTrain loss: 0.271 84.530 valid loss: 105.804 valid auc 0.920 valid r2 0.677\n",
      "\tTrain loss: 0.276 86.886 valid loss: 104.557 valid auc 0.918 valid r2 0.680\n",
      "\tTrain loss: 0.275 86.151 valid loss: 102.855 valid auc 0.919 valid r2 0.686\n",
      "\tTrain loss: 0.279 84.809 valid loss: 102.989 valid auc 0.919 valid r2 0.685\n",
      "\tTrain loss: 0.280 82.727 valid loss: 101.804 valid auc 0.922 valid r2 0.689\n",
      "\tTrain loss: 0.273 82.547 valid loss: 99.930 valid auc 0.924 valid r2 0.695\n",
      "\tTrain loss: 0.269 81.979 valid loss: 102.836 valid auc 0.924 valid r2 0.686\n"
     ]
    }
   ],
   "source": [
    "optimizer = torch.optim.Adam(model.parameters(), lr=0.03, weight_decay=3e-5)\n",
    "train_epochs(model, train_dl, optimizer, epochs=20)"
   ]
  },
  {
   "cell_type": "markdown",
   "metadata": {},
   "source": [
    "## Model 3"
   ]
  },
  {
   "cell_type": "code",
   "execution_count": 25,
   "metadata": {},
   "outputs": [
    {
     "name": "stdout",
     "output_type": "stream",
     "text": [
      "\tTrain loss: 0.581 6378.444 valid loss: 5826.882 valid auc 0.918 valid r2 -16.857\n",
      "\tTrain loss: 0.464 3553.514 valid loss: 692.677 valid auc 0.918 valid r2 -1.122\n",
      "\tTrain loss: 0.468 426.307 valid loss: 600.345 valid auc 0.921 valid r2 -0.838\n",
      "\tTrain loss: 0.397 686.100 valid loss: 303.013 valid auc 0.923 valid r2 0.074\n",
      "\tTrain loss: 0.339 138.213 valid loss: 261.780 valid auc 0.923 valid r2 0.199\n",
      "\tTrain loss: 0.307 221.915 valid loss: 188.857 valid auc 0.922 valid r2 0.422\n",
      "\tTrain loss: 0.275 96.211 valid loss: 108.935 valid auc 0.926 valid r2 0.667\n",
      "\tTrain loss: 0.271 102.564 valid loss: 116.004 valid auc 0.923 valid r2 0.645\n",
      "\tTrain loss: 0.270 75.478 valid loss: 101.261 valid auc 0.926 valid r2 0.690\n",
      "\tTrain loss: 0.267 80.123 valid loss: 110.201 valid auc 0.926 valid r2 0.663\n",
      "\tTrain loss: 0.265 73.418 valid loss: 100.253 valid auc 0.923 valid r2 0.694\n",
      "\tTrain loss: 0.268 74.654 valid loss: 102.018 valid auc 0.923 valid r2 0.688\n",
      "\tTrain loss: 0.266 73.159 valid loss: 101.276 valid auc 0.926 valid r2 0.690\n",
      "\tTrain loss: 0.268 69.989 valid loss: 104.459 valid auc 0.925 valid r2 0.681\n",
      "\tTrain loss: 0.268 69.649 valid loss: 103.158 valid auc 0.923 valid r2 0.685\n"
     ]
    }
   ],
   "source": [
    "model = EventModel3().cuda()\n",
    "optimizer = torch.optim.Adam(model.parameters(), lr=0.05, weight_decay=3e-5)\n",
    "train_epochs(model, train_dl, optimizer, epochs=15)"
   ]
  },
  {
   "cell_type": "code",
   "execution_count": 26,
   "metadata": {},
   "outputs": [
    {
     "name": "stdout",
     "output_type": "stream",
     "text": [
      "\tTrain loss: 0.298 80.243 valid loss: 103.825 valid auc 0.922 valid r2 0.683\n",
      "\tTrain loss: 0.284 71.912 valid loss: 101.770 valid auc 0.926 valid r2 0.689\n",
      "\tTrain loss: 0.267 68.668 valid loss: 102.958 valid auc 0.924 valid r2 0.685\n",
      "\tTrain loss: 0.268 65.787 valid loss: 99.084 valid auc 0.926 valid r2 0.697\n",
      "\tTrain loss: 0.265 62.985 valid loss: 97.094 valid auc 0.927 valid r2 0.703\n",
      "\tTrain loss: 0.263 62.857 valid loss: 97.487 valid auc 0.928 valid r2 0.702\n",
      "\tTrain loss: 0.261 60.795 valid loss: 102.769 valid auc 0.926 valid r2 0.686\n",
      "\tTrain loss: 0.261 60.218 valid loss: 100.094 valid auc 0.926 valid r2 0.694\n",
      "\tTrain loss: 0.261 59.393 valid loss: 100.960 valid auc 0.925 valid r2 0.691\n",
      "\tTrain loss: 0.261 59.544 valid loss: 101.426 valid auc 0.925 valid r2 0.690\n",
      "\tTrain loss: 0.260 59.148 valid loss: 103.277 valid auc 0.928 valid r2 0.684\n",
      "\tTrain loss: 0.259 59.859 valid loss: 106.057 valid auc 0.926 valid r2 0.676\n",
      "\tTrain loss: 0.263 58.990 valid loss: 106.090 valid auc 0.927 valid r2 0.676\n",
      "\tTrain loss: 0.267 59.694 valid loss: 105.139 valid auc 0.928 valid r2 0.679\n",
      "\tTrain loss: 0.262 60.138 valid loss: 101.745 valid auc 0.924 valid r2 0.689\n",
      "\tTrain loss: 0.261 59.068 valid loss: 101.632 valid auc 0.929 valid r2 0.689\n",
      "\tTrain loss: 0.259 59.115 valid loss: 105.067 valid auc 0.924 valid r2 0.679\n",
      "\tTrain loss: 0.264 59.742 valid loss: 102.172 valid auc 0.927 valid r2 0.688\n",
      "\tTrain loss: 0.259 58.755 valid loss: 99.740 valid auc 0.928 valid r2 0.695\n",
      "\tTrain loss: 0.262 62.490 valid loss: 104.673 valid auc 0.922 valid r2 0.680\n"
     ]
    }
   ],
   "source": [
    "optimizer = torch.optim.Adam(model.parameters(), lr=0.03, weight_decay=3e-5)\n",
    "train_epochs(model, train_dl, optimizer, epochs=20)"
   ]
  },
  {
   "cell_type": "code",
   "execution_count": null,
   "metadata": {},
   "outputs": [],
   "source": []
  }
 ],
 "metadata": {
  "kernelspec": {
   "display_name": "Python 3",
   "language": "python",
   "name": "python3"
  },
  "language_info": {
   "codemirror_mode": {
    "name": "ipython",
    "version": 3
   },
   "file_extension": ".py",
   "mimetype": "text/x-python",
   "name": "python",
   "nbconvert_exporter": "python",
   "pygments_lexer": "ipython3",
   "version": "3.7.5"
  }
 },
 "nbformat": 4,
 "nbformat_minor": 2
}
