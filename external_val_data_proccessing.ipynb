{
 "cells": [
  {
   "cell_type": "code",
   "execution_count": 12,
   "metadata": {},
   "outputs": [],
   "source": [
    "%reload_ext autoreload\n",
    "%autoreload 2\n",
    "%matplotlib inline\n",
    "import matplotlib\n",
    "import matplotlib.pyplot as plt\n",
    "\n",
    "import numpy as np\n",
    "import pandas as pd\n",
    "\n",
    "from pathlib import Path\n",
    "from sklearn import metrics\n",
    "import random\n",
    "\n",
    "import torch\n",
    "from torch.utils.data import Dataset, DataLoader\n",
    "import torch.optim as optim\n",
    "import torch.nn as nn\n",
    "import torch.nn.functional as F\n",
    "\n",
    "from datetime import datetime\n",
    "import cv2\n",
    "from collections import OrderedDict\n",
    "\n",
    "from tqdm import tqdm\n",
    "from joblib import Parallel"
   ]
  },
  {
   "cell_type": "code",
   "execution_count": 13,
   "metadata": {},
   "outputs": [],
   "source": [
    "import pickle"
   ]
  },
  {
   "cell_type": "code",
   "execution_count": 3,
   "metadata": {},
   "outputs": [],
   "source": [
    "PATH = Path(\"/data2/yinterian/multi-task-romain\")"
   ]
  },
  {
   "cell_type": "code",
   "execution_count": 4,
   "metadata": {},
   "outputs": [],
   "source": [
    "data = pd.read_csv(PATH/\"validation_jan_2020/data_validation_5min_gap.csv\")"
   ]
  },
  {
   "cell_type": "code",
   "execution_count": 5,
   "metadata": {},
   "outputs": [
    {
     "data": {
      "text/html": [
       "<div>\n",
       "<style scoped>\n",
       "    .dataframe tbody tr th:only-of-type {\n",
       "        vertical-align: middle;\n",
       "    }\n",
       "\n",
       "    .dataframe tbody tr th {\n",
       "        vertical-align: top;\n",
       "    }\n",
       "\n",
       "    .dataframe thead th {\n",
       "        text-align: right;\n",
       "    }\n",
       "</style>\n",
       "<table border=\"1\" class=\"dataframe\">\n",
       "  <thead>\n",
       "    <tr style=\"text-align: right;\">\n",
       "      <th></th>\n",
       "      <th>subject_id</th>\n",
       "      <th>key</th>\n",
       "      <th>gender</th>\n",
       "      <th>age</th>\n",
       "      <th>sapsii</th>\n",
       "      <th>sofa</th>\n",
       "      <th>care_unit</th>\n",
       "      <th>amine</th>\n",
       "      <th>sedation</th>\n",
       "      <th>ventilation</th>\n",
       "      <th>...</th>\n",
       "      <th>time_and_date</th>\n",
       "      <th>hr</th>\n",
       "      <th>spo2</th>\n",
       "      <th>abp_sys</th>\n",
       "      <th>abp_dias</th>\n",
       "      <th>abp_mean</th>\n",
       "      <th>observation_mean_MAP</th>\n",
       "      <th>prediction_mean_MAP</th>\n",
       "      <th>observation_mean_HR</th>\n",
       "      <th>prediction_mean_HR</th>\n",
       "    </tr>\n",
       "  </thead>\n",
       "  <tbody>\n",
       "    <tr>\n",
       "      <th>0</th>\n",
       "      <td>3</td>\n",
       "      <td>3_1</td>\n",
       "      <td>0</td>\n",
       "      <td>82</td>\n",
       "      <td>122</td>\n",
       "      <td>16</td>\n",
       "      <td>5</td>\n",
       "      <td>1</td>\n",
       "      <td>1</td>\n",
       "      <td>1</td>\n",
       "      <td>...</td>\n",
       "      <td>2017-11-16 09:10:00</td>\n",
       "      <td>93</td>\n",
       "      <td>100</td>\n",
       "      <td>146</td>\n",
       "      <td>60</td>\n",
       "      <td>83</td>\n",
       "      <td>75.766667</td>\n",
       "      <td>78.6</td>\n",
       "      <td>88.866667</td>\n",
       "      <td>91.0</td>\n",
       "    </tr>\n",
       "    <tr>\n",
       "      <th>1</th>\n",
       "      <td>3</td>\n",
       "      <td>3_1</td>\n",
       "      <td>0</td>\n",
       "      <td>82</td>\n",
       "      <td>122</td>\n",
       "      <td>16</td>\n",
       "      <td>5</td>\n",
       "      <td>1</td>\n",
       "      <td>1</td>\n",
       "      <td>1</td>\n",
       "      <td>...</td>\n",
       "      <td>2017-11-16 09:11:00</td>\n",
       "      <td>89</td>\n",
       "      <td>100</td>\n",
       "      <td>139</td>\n",
       "      <td>56</td>\n",
       "      <td>77</td>\n",
       "      <td>75.766667</td>\n",
       "      <td>78.6</td>\n",
       "      <td>88.866667</td>\n",
       "      <td>91.0</td>\n",
       "    </tr>\n",
       "    <tr>\n",
       "      <th>2</th>\n",
       "      <td>3</td>\n",
       "      <td>3_1</td>\n",
       "      <td>0</td>\n",
       "      <td>82</td>\n",
       "      <td>122</td>\n",
       "      <td>16</td>\n",
       "      <td>5</td>\n",
       "      <td>1</td>\n",
       "      <td>1</td>\n",
       "      <td>1</td>\n",
       "      <td>...</td>\n",
       "      <td>2017-11-16 09:12:00</td>\n",
       "      <td>89</td>\n",
       "      <td>100</td>\n",
       "      <td>133</td>\n",
       "      <td>54</td>\n",
       "      <td>73</td>\n",
       "      <td>75.766667</td>\n",
       "      <td>78.6</td>\n",
       "      <td>88.866667</td>\n",
       "      <td>91.0</td>\n",
       "    </tr>\n",
       "    <tr>\n",
       "      <th>3</th>\n",
       "      <td>3</td>\n",
       "      <td>3_1</td>\n",
       "      <td>0</td>\n",
       "      <td>82</td>\n",
       "      <td>122</td>\n",
       "      <td>16</td>\n",
       "      <td>5</td>\n",
       "      <td>1</td>\n",
       "      <td>1</td>\n",
       "      <td>1</td>\n",
       "      <td>...</td>\n",
       "      <td>2017-11-16 09:13:00</td>\n",
       "      <td>88</td>\n",
       "      <td>100</td>\n",
       "      <td>141</td>\n",
       "      <td>57</td>\n",
       "      <td>78</td>\n",
       "      <td>75.766667</td>\n",
       "      <td>78.6</td>\n",
       "      <td>88.866667</td>\n",
       "      <td>91.0</td>\n",
       "    </tr>\n",
       "    <tr>\n",
       "      <th>4</th>\n",
       "      <td>3</td>\n",
       "      <td>3_1</td>\n",
       "      <td>0</td>\n",
       "      <td>82</td>\n",
       "      <td>122</td>\n",
       "      <td>16</td>\n",
       "      <td>5</td>\n",
       "      <td>1</td>\n",
       "      <td>1</td>\n",
       "      <td>1</td>\n",
       "      <td>...</td>\n",
       "      <td>2017-11-16 09:14:00</td>\n",
       "      <td>90</td>\n",
       "      <td>100</td>\n",
       "      <td>135</td>\n",
       "      <td>55</td>\n",
       "      <td>74</td>\n",
       "      <td>75.766667</td>\n",
       "      <td>78.6</td>\n",
       "      <td>88.866667</td>\n",
       "      <td>91.0</td>\n",
       "    </tr>\n",
       "  </tbody>\n",
       "</table>\n",
       "<p>5 rows × 22 columns</p>\n",
       "</div>"
      ],
      "text/plain": [
       "   subject_id  key  gender  age  sapsii  sofa  care_unit  amine  sedation  \\\n",
       "0           3  3_1       0   82     122    16          5      1         1   \n",
       "1           3  3_1       0   82     122    16          5      1         1   \n",
       "2           3  3_1       0   82     122    16          5      1         1   \n",
       "3           3  3_1       0   82     122    16          5      1         1   \n",
       "4           3  3_1       0   82     122    16          5      1         1   \n",
       "\n",
       "   ventilation  ...        time_and_date  hr spo2  abp_sys  abp_dias  \\\n",
       "0            1  ...  2017-11-16 09:10:00  93  100      146        60   \n",
       "1            1  ...  2017-11-16 09:11:00  89  100      139        56   \n",
       "2            1  ...  2017-11-16 09:12:00  89  100      133        54   \n",
       "3            1  ...  2017-11-16 09:13:00  88  100      141        57   \n",
       "4            1  ...  2017-11-16 09:14:00  90  100      135        55   \n",
       "\n",
       "   abp_mean  observation_mean_MAP  prediction_mean_MAP  observation_mean_HR  \\\n",
       "0        83             75.766667                 78.6            88.866667   \n",
       "1        77             75.766667                 78.6            88.866667   \n",
       "2        73             75.766667                 78.6            88.866667   \n",
       "3        78             75.766667                 78.6            88.866667   \n",
       "4        74             75.766667                 78.6            88.866667   \n",
       "\n",
       "   prediction_mean_HR  \n",
       "0                91.0  \n",
       "1                91.0  \n",
       "2                91.0  \n",
       "3                91.0  \n",
       "4                91.0  \n",
       "\n",
       "[5 rows x 22 columns]"
      ]
     },
     "execution_count": 5,
     "metadata": {},
     "output_type": "execute_result"
    }
   ],
   "source": [
    "data.head()"
   ]
  },
  {
   "cell_type": "code",
   "execution_count": 6,
   "metadata": {},
   "outputs": [],
   "source": [
    "period = data[data[\"key\"] == \"3_1\"]"
   ]
  },
  {
   "cell_type": "code",
   "execution_count": 8,
   "metadata": {},
   "outputs": [],
   "source": [
    "def process_periods(df, index):\n",
    "    time_cols = [\"hr\", \"spo2\", \"abp_sys\", \"abp_dias\", \"abp_mean\"]\n",
    "    static_cols = [\"subject_id\", \"key\", \"gender\", \"age\", \"sapsii\", \"sofa\", \"care_unit\", \"amine\", \"sedation\",\\\n",
    "                   \"ventilation\"]\n",
    "    y_cols = [\"prediction_mean_HR\", \"prediction_mean_MAP\"]\n",
    "    static_df = df.loc[:, static_cols + y_cols].iloc[0]\n",
    "    time_df = df.loc[:, time_cols]\n",
    "    time_series = [time_df.iloc[i,].values for i in range(time_df.shape[0])]\n",
    "    static_df[\"series\"] = time_series\n",
    "    return static_df.copy().to_frame(index).T"
   ]
  },
  {
   "cell_type": "code",
   "execution_count": 9,
   "metadata": {},
   "outputs": [],
   "source": [
    "def process_whole_list(obs):\n",
    "    list_df = []\n",
    "    obs_periods = np.unique(obs.key.values)\n",
    "    for i in tqdm(range(len(obs_periods))):\n",
    "        key = obs_periods[i]\n",
    "        period = obs[obs[\"key\"] == key]\n",
    "        line = process_periods(period, i)\n",
    "        list_df.append(line)\n",
    "    return list_df"
   ]
  },
  {
   "cell_type": "code",
   "execution_count": 10,
   "metadata": {},
   "outputs": [],
   "source": [
    "def create_dataset(filename1, filename2):\n",
    "    data = pd.read_csv(PATH/filename1)\n",
    "    print(filename1, data.shape)\n",
    "    data = data[data[\"window\"] == \"obs\"]\n",
    "    print(data.shape)\n",
    "    list_obs = process_whole_list(data)\n",
    "    data_df = pd.concat(list_obs)\n",
    "    print(filename2)\n",
    "    with open(PATH/filename2, 'wb') as f:\n",
    "        pickle.dump(data_df, f)"
   ]
  },
  {
   "cell_type": "code",
   "execution_count": 14,
   "metadata": {},
   "outputs": [],
   "source": [
    "data = pd.read_csv(PATH/\"validation_jan_2020/data_validation_5min_gap.csv\")"
   ]
  },
  {
   "cell_type": "code",
   "execution_count": 15,
   "metadata": {},
   "outputs": [
    {
     "name": "stderr",
     "output_type": "stream",
     "text": [
      "  1%|          | 10/1597 [00:00<00:16, 97.44it/s]"
     ]
    },
    {
     "name": "stdout",
     "output_type": "stream",
     "text": [
      "validation_jan_2020/data_validation_5min_gap.csv (63880, 22)\n",
      "(47910, 22)\n"
     ]
    },
    {
     "name": "stderr",
     "output_type": "stream",
     "text": [
      "100%|██████████| 1597/1597 [00:16<00:00, 96.36it/s]\n"
     ]
    },
    {
     "name": "stdout",
     "output_type": "stream",
     "text": [
      "data_validation_5min.pickle\n"
     ]
    }
   ],
   "source": [
    "create_dataset(\"validation_jan_2020/data_validation_5min_gap.csv\", \"data_validation_5min.pickle\")"
   ]
  },
  {
   "cell_type": "code",
   "execution_count": 16,
   "metadata": {},
   "outputs": [
    {
     "name": "stderr",
     "output_type": "stream",
     "text": [
      "  1%|          | 11/1314 [00:00<00:12, 102.93it/s]"
     ]
    },
    {
     "name": "stdout",
     "output_type": "stream",
     "text": [
      "validation_jan_2020/data_validation_10min_gap.csv (59130, 22)\n",
      "(39420, 22)\n"
     ]
    },
    {
     "name": "stderr",
     "output_type": "stream",
     "text": [
      "100%|██████████| 1314/1314 [00:13<00:00, 100.57it/s]\n"
     ]
    },
    {
     "name": "stdout",
     "output_type": "stream",
     "text": [
      "data_validation_10min.pickle\n"
     ]
    }
   ],
   "source": [
    "create_dataset(\"validation_jan_2020/data_validation_10min_gap.csv\", \"data_validation_10min.pickle\")"
   ]
  },
  {
   "cell_type": "code",
   "execution_count": 17,
   "metadata": {},
   "outputs": [
    {
     "name": "stderr",
     "output_type": "stream",
     "text": [
      "  1%|          | 11/1097 [00:00<00:10, 105.52it/s]"
     ]
    },
    {
     "name": "stdout",
     "output_type": "stream",
     "text": [
      "validation_jan_2020/data_validation_15min_gap.csv (54850, 22)\n",
      "(32910, 22)\n"
     ]
    },
    {
     "name": "stderr",
     "output_type": "stream",
     "text": [
      "100%|██████████| 1097/1097 [00:10<00:00, 103.40it/s]\n"
     ]
    },
    {
     "name": "stdout",
     "output_type": "stream",
     "text": [
      "data_validation_15min.pickle\n"
     ]
    }
   ],
   "source": [
    "create_dataset(\"validation_jan_2020/data_validation_15min_gap.csv\", \"data_validation_15min.pickle\")"
   ]
  },
  {
   "cell_type": "code",
   "execution_count": null,
   "metadata": {},
   "outputs": [],
   "source": []
  }
 ],
 "metadata": {
  "kernelspec": {
   "display_name": "Python 3",
   "language": "python",
   "name": "python3"
  },
  "language_info": {
   "codemirror_mode": {
    "name": "ipython",
    "version": 3
   },
   "file_extension": ".py",
   "mimetype": "text/x-python",
   "name": "python",
   "nbconvert_exporter": "python",
   "pygments_lexer": "ipython3",
   "version": "3.7.6"
  }
 },
 "nbformat": 4,
 "nbformat_minor": 2
}
